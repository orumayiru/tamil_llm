{
 "cells": [
  {
   "cell_type": "code",
   "execution_count": 1,
   "id": "10177100",
   "metadata": {},
   "outputs": [],
   "source": [
    "from selenium import webdriver\n",
    "from selenium.webdriver.common.keys import Keys\n",
    "import time\n",
    "from selenium.webdriver.common.by import By\n",
    "from selenium.webdriver.support.ui import WebDriverWait\n",
    "from selenium.webdriver.support import expected_conditions as ec\n",
    "import random\n",
    "import urllib.parse\n",
    "from bs4 import BeautifulSoup\n",
    "import json"
   ]
  },
  {
   "cell_type": "code",
   "execution_count": 2,
   "id": "22a256f8",
   "metadata": {},
   "outputs": [
    {
     "name": "stdout",
     "output_type": "stream",
     "text": [
      "187\n",
      "143\n"
     ]
    }
   ],
   "source": [
    "with open('links.txt',encoding='utf-8') as f:\n",
    "    links_raw = f.readlines()\n",
    "print(len(links_raw))\n",
    "links = list(set(links_raw))\n",
    "print(len((links)))"
   ]
  },
  {
   "cell_type": "code",
   "execution_count": 3,
   "id": "9c5a1a39",
   "metadata": {},
   "outputs": [],
   "source": [
    "def scroll_to_bottom(driver):\n",
    "    last_height = driver.execute_script(\"return document.body.scrollHeight\")\n",
    "    count = 0\n",
    "    while True:\n",
    "        # Scroll down to bottom\n",
    "        driver.execute_script(\"window.scrollTo(0, document.body.scrollHeight);\")\n",
    "\n",
    "        # Wait for page to load\n",
    "        time.sleep(random.uniform(1.5, 2.5))\n",
    "\n",
    "        # Calculate new scroll height and compare with last scroll height\n",
    "        new_height = driver.execute_script(\"return document.body.scrollHeight\")\n",
    "        if new_height == last_height:\n",
    "            count += 1\n",
    "            if count == 50:\n",
    "                break\n",
    "        else:\n",
    "            last_height = new_height\n",
    "            count = 0\n",
    "\n",
    "        # Simulate human-like scrolling by scrolling in smaller increments\n",
    "        #for i in range(3):\n",
    "         #   driver.find_element_by_tag_name('body').send_keys(Keys.PAGE_DOWN)\n",
    "          #  time.sleep(random.uniform(0.5, 1))\n",
    "def extract_text(url,file_name):\n",
    "    print('starting******************wait until closing**********')\n",
    "    options = webdriver.ChromeOptions()\n",
    "    options.add_argument('--headless')\n",
    "    driver = webdriver.Chrome(options=options)    \n",
    "    driver.get(url)\n",
    "    scroll_to_bottom(driver)\n",
    "    print('scrolling completed')\n",
    "    # Find all clickable \"மேலும் காண்க\" elements\n",
    "    wait = WebDriverWait(driver, 10)\n",
    "    elements = wait.until(ec.presence_of_all_elements_located((By.XPATH, \"//*[contains(text(), 'மேலும் காண்க')]\")))\n",
    "    clickable_elements = []\n",
    "    for element in elements:\n",
    "        if element.is_displayed() and element.is_enabled():\n",
    "            clickable_elements.append(element)\n",
    "\n",
    "    # Click all the clickable \"மேலும் காண்க\" elements\n",
    "    for element in clickable_elements:\n",
    "        driver.execute_script(\"arguments[0].click();\", element)\n",
    "    print('clicking complete')\n",
    "    html = driver.page_source\n",
    "    soup = BeautifulSoup(html, 'html.parser')\n",
    "    # Find all elements with class 'qu-mb--tiny'\n",
    "    small_classes = soup.find_all(class_='qu-mb--tiny')\n",
    "    x = 0\n",
    "    # Loop over the small_classes and find the adjacent 'spacing_log_answer_content' class\n",
    "    for small_class in small_classes:\n",
    "        adjacent_class = small_class.find_next(class_='spacing_log_answer_content')\n",
    "        if adjacent_class:     \n",
    "            mydict = {}\n",
    "            question = small_class.text.strip()\n",
    "            answer = adjacent_class.text.strip()\n",
    "            if len(question)>30:\n",
    "                x = x+1\n",
    "                mydict[\"question\"] = question\n",
    "                mydict[\"answer\"] = answer\n",
    "                # Open the JSON file in append mode\n",
    "                with open(file_name, \"a\",encoding='utf-8') as f:\n",
    "                    f.write(str(mydict))\n",
    "                    f.write('\\n')\n",
    "    print('closing***********************************************')\n",
    "    driver.quit()    "
   ]
  },
  {
   "cell_type": "code",
   "execution_count": null,
   "id": "f2a25d90",
   "metadata": {},
   "outputs": [
    {
     "name": "stderr",
     "output_type": "stream",
     "text": [
      "\r",
      "  0%|                                                                                       | 0/143 [00:00<?, ?it/s]"
     ]
    },
    {
     "name": "stdout",
     "output_type": "stream",
     "text": [
      "starting******************wait until closing**********\n",
      "scrolling completed\n",
      "clicking complete\n",
      "closing***********************************************\n"
     ]
    },
    {
     "name": "stderr",
     "output_type": "stream",
     "text": [
      "\r",
      "  1%|▌                                                                           | 1/143 [02:24<5:41:47, 144.42s/it]"
     ]
    },
    {
     "name": "stdout",
     "output_type": "stream",
     "text": [
      "starting******************wait until closing**********\n",
      "scrolling completed\n",
      "clicking complete\n",
      "closing***********************************************\n"
     ]
    },
    {
     "name": "stderr",
     "output_type": "stream",
     "text": [
      "\r",
      "  1%|█                                                                           | 2/143 [04:53<5:45:58, 147.23s/it]"
     ]
    },
    {
     "name": "stdout",
     "output_type": "stream",
     "text": [
      "starting******************wait until closing**********\n",
      "scrolling completed\n",
      "clicking complete\n",
      "closing***********************************************\n"
     ]
    },
    {
     "name": "stderr",
     "output_type": "stream",
     "text": [
      "\r",
      "  2%|█▌                                                                          | 3/143 [07:15<5:37:42, 144.74s/it]"
     ]
    },
    {
     "name": "stdout",
     "output_type": "stream",
     "text": [
      "starting******************wait until closing**********\n",
      "scrolling completed\n",
      "clicking complete\n",
      "closing***********************************************\n"
     ]
    },
    {
     "name": "stderr",
     "output_type": "stream",
     "text": [
      "\r",
      "  3%|██▏                                                                         | 4/143 [09:34<5:29:52, 142.39s/it]"
     ]
    },
    {
     "name": "stdout",
     "output_type": "stream",
     "text": [
      "starting******************wait until closing**********\n",
      "scrolling completed\n",
      "clicking complete\n",
      "closing***********************************************\n"
     ]
    },
    {
     "name": "stderr",
     "output_type": "stream",
     "text": [
      "\r",
      "  3%|██▋                                                                         | 5/143 [11:55<5:26:43, 142.06s/it]"
     ]
    },
    {
     "name": "stdout",
     "output_type": "stream",
     "text": [
      "starting******************wait until closing**********\n",
      "scrolling completed\n",
      "clicking complete\n",
      "closing***********************************************\n"
     ]
    },
    {
     "name": "stderr",
     "output_type": "stream",
     "text": [
      "\r",
      "  4%|███▏                                                                        | 6/143 [14:11<5:19:52, 140.09s/it]"
     ]
    },
    {
     "name": "stdout",
     "output_type": "stream",
     "text": [
      "starting******************wait until closing**********\n",
      "scrolling completed\n",
      "clicking complete\n",
      "closing***********************************************\n"
     ]
    },
    {
     "name": "stderr",
     "output_type": "stream",
     "text": [
      "\r",
      "  5%|███▋                                                                        | 7/143 [16:39<5:23:02, 142.52s/it]"
     ]
    },
    {
     "name": "stdout",
     "output_type": "stream",
     "text": [
      "starting******************wait until closing**********\n",
      "scrolling completed\n",
      "clicking complete\n",
      "closing***********************************************\n"
     ]
    },
    {
     "name": "stderr",
     "output_type": "stream",
     "text": [
      "\r",
      "  6%|████▎                                                                       | 8/143 [19:07<5:24:33, 144.25s/it]"
     ]
    },
    {
     "name": "stdout",
     "output_type": "stream",
     "text": [
      "starting******************wait until closing**********\n",
      "scrolling completed\n",
      "clicking complete\n",
      "closing***********************************************\n"
     ]
    },
    {
     "name": "stderr",
     "output_type": "stream",
     "text": [
      "\r",
      "  6%|████▊                                                                       | 9/143 [21:28<5:20:04, 143.32s/it]"
     ]
    },
    {
     "name": "stdout",
     "output_type": "stream",
     "text": [
      "starting******************wait until closing**********\n",
      "scrolling completed\n",
      "clicking complete\n",
      "closing***********************************************\n"
     ]
    },
    {
     "name": "stderr",
     "output_type": "stream",
     "text": [
      "\r",
      "  7%|█████▏                                                                     | 10/143 [23:54<5:19:07, 143.97s/it]"
     ]
    },
    {
     "name": "stdout",
     "output_type": "stream",
     "text": [
      "starting******************wait until closing**********\n",
      "scrolling completed\n",
      "clicking complete\n",
      "closing***********************************************\n"
     ]
    },
    {
     "name": "stderr",
     "output_type": "stream",
     "text": [
      "\r",
      "  8%|█████▊                                                                     | 11/143 [26:19<5:17:37, 144.37s/it]"
     ]
    },
    {
     "name": "stdout",
     "output_type": "stream",
     "text": [
      "starting******************wait until closing**********\n",
      "scrolling completed\n",
      "clicking complete\n",
      "closing***********************************************\n"
     ]
    },
    {
     "name": "stderr",
     "output_type": "stream",
     "text": [
      "\r",
      "  8%|██████▎                                                                    | 12/143 [28:42<5:14:08, 143.88s/it]"
     ]
    },
    {
     "name": "stdout",
     "output_type": "stream",
     "text": [
      "starting******************wait until closing**********\n",
      "scrolling completed\n",
      "clicking complete\n",
      "closing***********************************************\n"
     ]
    },
    {
     "name": "stderr",
     "output_type": "stream",
     "text": [
      "\r",
      "  9%|██████▊                                                                    | 13/143 [31:03<5:09:56, 143.05s/it]"
     ]
    },
    {
     "name": "stdout",
     "output_type": "stream",
     "text": [
      "starting******************wait until closing**********\n",
      "scrolling completed\n",
      "clicking complete\n",
      "closing***********************************************\n"
     ]
    },
    {
     "name": "stderr",
     "output_type": "stream",
     "text": [
      "\r",
      " 10%|███████▎                                                                   | 14/143 [33:27<5:08:30, 143.49s/it]"
     ]
    },
    {
     "name": "stdout",
     "output_type": "stream",
     "text": [
      "starting******************wait until closing**********\n",
      "scrolling completed\n",
      "clicking complete\n",
      "closing***********************************************\n"
     ]
    },
    {
     "name": "stderr",
     "output_type": "stream",
     "text": [
      "\r",
      " 10%|███████▊                                                                   | 15/143 [35:54<5:08:21, 144.54s/it]"
     ]
    },
    {
     "name": "stdout",
     "output_type": "stream",
     "text": [
      "starting******************wait until closing**********\n"
     ]
    },
    {
     "name": "stderr",
     "output_type": "stream",
     "text": [
      "\r",
      " 11%|████████▍                                                                  | 16/143 [36:53<4:11:17, 118.72s/it]"
     ]
    },
    {
     "name": "stdout",
     "output_type": "stream",
     "text": [
      "starting******************wait until closing**********\n"
     ]
    }
   ],
   "source": [
    "from tqdm import tqdm\n",
    "n=0\n",
    "for i in tqdm(links):\n",
    "    n+=1\n",
    "    try:\n",
    "        file_name = 'link_{:04d}.txt'.format(n)\n",
    "        extract_text(i,file_name)\n",
    "    except:\n",
    "        pass   "
   ]
  },
  {
   "cell_type": "markdown",
   "id": "c4008ada",
   "metadata": {},
   "source": [
    "from selenium import webdriver\n",
    "from selenium.webdriver.common.keys import Keys\n",
    "import time\n",
    "from selenium.webdriver.common.by import By\n",
    "from selenium.webdriver.support.ui import WebDriverWait\n",
    "from selenium.webdriver.support import expected_conditions as ec\n",
    "import random\n",
    "import urllib.parse\n",
    "\n",
    "url_raw = 'https://ta.quora.com/topic/%E0%AE%85%E0%AE%B1%E0%AE%BF%E0%AE%B5%E0%AE%BF%E0%AE%AF%E0%AE%B2%E0%AF%8D'\n",
    "url = urllib.parse.unquote(url_raw)\n",
    "# Load the web page\n",
    "#options = webdriver.ChromeOptions()\n",
    "#options.add_argument('--headless')\n",
    "#driver = webdriver.Chrome(options=options)\n",
    "driver = webdriver.Chrome()\n",
    "driver.get(url)\n",
    "scroll_to_bottom(driver)\n",
    "print('scrolling completed')\n",
    "# Find all clickable \"மேலும் காண்க\" elements\n",
    "wait = WebDriverWait(driver, 10)\n",
    "elements = wait.until(ec.presence_of_all_elements_located((By.XPATH, \"//*[contains(text(), 'மேலும் காண்க')]\")))\n",
    "clickable_elements = []\n",
    "for element in elements:\n",
    "    if element.is_displayed() and element.is_enabled():\n",
    "        clickable_elements.append(element)\n",
    "\n",
    "# Click all the clickable \"மேலும் காண்க\" elements\n",
    "for element in clickable_elements:\n",
    "    driver.execute_script(\"arguments[0].click();\", element)\n",
    "print('clicking complete')"
   ]
  },
  {
   "cell_type": "markdown",
   "id": "cee1af57",
   "metadata": {},
   "source": [
    "html = driver.page_source"
   ]
  },
  {
   "cell_type": "markdown",
   "id": "268908e6",
   "metadata": {},
   "source": [
    "from bs4 import BeautifulSoup\n",
    "import json\n",
    "soup = BeautifulSoup(html, 'html.parser')\n",
    "\n",
    "soup = BeautifulSoup(html, 'html.parser')\n",
    "\n",
    "# Find all elements with class 'qu-mb--tiny'\n",
    "small_classes = soup.find_all(class_='qu-mb--tiny')\n",
    "x = 0\n",
    "# Loop over the small_classes and find the adjacent 'spacing_log_answer_content' class\n",
    "for small_class in small_classes:\n",
    "    adjacent_class = small_class.find_next(class_='spacing_log_answer_content')\n",
    "    if adjacent_class:     \n",
    "        mydict = {}\n",
    "        question = small_class.text.strip()\n",
    "        answer = adjacent_class.text.strip()\n",
    "        if len(question)>30:\n",
    "            x = x+1\n",
    "            mydict[\"question\"] = question\n",
    "            mydict[\"answer\"] = answer\n",
    "            # Open the JSON file in append mode\n",
    "            with open(\"qna_quora.txt\", \"a\",encoding='utf-8') as f:\n",
    "                f.write(str(mydict))          "
   ]
  },
  {
   "cell_type": "markdown",
   "id": "67211f7b",
   "metadata": {},
   "source": [
    "#finding next sibling\n",
    "from bs4 import BeautifulSoup\n",
    "# Create a BeautifulSoup object\n",
    "soup = BeautifulSoup(html, 'html.parser')\n",
    "question_elements = soup.find_all(class_='qu-mb--tiny')\n",
    "# Find all 'qu-mb--tiny' elements and iterate over each of them\n",
    "count = 0\n",
    "for question in question_elements:\n",
    "    # Find the next sibling element with class 'spacing_log_answer_content'\n",
    "    #answer = question.find_next_sibling(class_='spacing_log_answer_content')  \n",
    "    # Extract the text from both elements\n",
    "    if question:\n",
    "        #question_text = question.text(strip=True)\n",
    "        #answer_text = answer.text(strip=True)\n",
    "        # Print the question and answer\n",
    "        count+=1\n",
    "        print(count)\n",
    "        print(question.get_text().strip())\n",
    "        #print('Answer:', answer_text)\n",
    "        print('------------------------')\n"
   ]
  }
 ],
 "metadata": {
  "kernelspec": {
   "display_name": "Python 3 (ipykernel)",
   "language": "python",
   "name": "python3"
  },
  "language_info": {
   "codemirror_mode": {
    "name": "ipython",
    "version": 3
   },
   "file_extension": ".py",
   "mimetype": "text/x-python",
   "name": "python",
   "nbconvert_exporter": "python",
   "pygments_lexer": "ipython3",
   "version": "3.9.12"
  }
 },
 "nbformat": 4,
 "nbformat_minor": 5
}
