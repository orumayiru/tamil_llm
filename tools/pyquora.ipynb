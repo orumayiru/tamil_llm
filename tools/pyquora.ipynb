{
 "cells": [
  {
   "cell_type": "code",
   "execution_count": 1,
   "id": "9c5a1a39",
   "metadata": {},
   "outputs": [],
   "source": [
    "def scroll_to_bottom(driver):\n",
    "    last_height = driver.execute_script(\"return document.body.scrollHeight\")\n",
    "    count = 0\n",
    "    while True:\n",
    "        # Scroll down to bottom\n",
    "        driver.execute_script(\"window.scrollTo(0, document.body.scrollHeight);\")\n",
    "\n",
    "        # Wait for page to load\n",
    "        time.sleep(random.uniform(1.5, 2.5))\n",
    "\n",
    "        # Calculate new scroll height and compare with last scroll height\n",
    "        new_height = driver.execute_script(\"return document.body.scrollHeight\")\n",
    "        if new_height == last_height:\n",
    "            count += 1\n",
    "            if count == 5:\n",
    "                break\n",
    "        else:\n",
    "            last_height = new_height\n",
    "            count = 0\n",
    "\n",
    "        # Simulate human-like scrolling by scrolling in smaller increments\n",
    "        #for i in range(3):\n",
    "         #   driver.find_element_by_tag_name('body').send_keys(Keys.PAGE_DOWN)\n",
    "          #  time.sleep(random.uniform(0.5, 1))"
   ]
  },
  {
   "cell_type": "code",
   "execution_count": 2,
   "id": "aa87b914",
   "metadata": {},
   "outputs": [
    {
     "name": "stdout",
     "output_type": "stream",
     "text": [
      "scrolling completed\n",
      "clicking complete\n"
     ]
    }
   ],
   "source": [
    "from selenium import webdriver\n",
    "from selenium.webdriver.common.keys import Keys\n",
    "import time\n",
    "from selenium.webdriver.common.by import By\n",
    "from selenium.webdriver.support.ui import WebDriverWait\n",
    "from selenium.webdriver.support import expected_conditions as ec\n",
    "import random\n",
    "url = 'https://ta.quora.com/topic/%E0%AE%87%E0%AE%AF%E0%AE%B1%E0%AF%8D%E0%AE%AA%E0%AE%BF%E0%AE%AF%E0%AE%B2%E0%AF%8D'\n",
    "\n",
    "# Load the web page\n",
    "#options = webdriver.ChromeOptions()\n",
    "#options.add_argument('--headless')\n",
    "#driver = webdriver.Chrome(options=options)\n",
    "driver = webdriver.Chrome()\n",
    "driver.get(url)\n",
    "scroll_to_bottom(driver)\n",
    "print('scrolling completed')\n",
    "# Find all clickable \"மேலும் காண்க\" elements\n",
    "wait = WebDriverWait(driver, 10)\n",
    "elements = wait.until(ec.presence_of_all_elements_located((By.XPATH, \"//*[contains(text(), 'மேலும் காண்க')]\")))\n",
    "clickable_elements = []\n",
    "for element in elements:\n",
    "    if element.is_displayed() and element.is_enabled():\n",
    "        clickable_elements.append(element)\n",
    "\n",
    "# Click all the clickable \"மேலும் காண்க\" elements\n",
    "for element in clickable_elements:\n",
    "    driver.execute_script(\"arguments[0].click();\", element)\n",
    "print('clicking complete')"
   ]
  },
  {
   "cell_type": "code",
   "execution_count": 3,
   "id": "3dff0b68",
   "metadata": {},
   "outputs": [],
   "source": [
    "html = driver.page_source\n"
   ]
  },
  {
   "cell_type": "code",
   "execution_count": 18,
   "id": "96347308",
   "metadata": {},
   "outputs": [],
   "source": [
    "from bs4 import BeautifulSoup\n",
    "import json\n",
    "soup = BeautifulSoup(html, 'html.parser')\n",
    "\n",
    "soup = BeautifulSoup(html, 'html.parser')\n",
    "\n",
    "# Find all elements with class 'qu-mb--tiny'\n",
    "small_classes = soup.find_all(class_='qu-mb--tiny')\n",
    "x = 0\n",
    "# Loop over the small_classes and find the adjacent 'spacing_log_answer_content' class\n",
    "for small_class in small_classes:\n",
    "    adjacent_class = small_class.find_next(class_='spacing_log_answer_content')\n",
    "    if adjacent_class:     \n",
    "        mydict = {}\n",
    "        question = small_class.text.strip()\n",
    "        answer = adjacent_class.text.strip()\n",
    "        if len(question)>30:\n",
    "            x = x+1\n",
    "            mydict[\"question\"] = question\n",
    "            mydict[\"answer\"] = answer\n",
    "            # Open the JSON file in append mode\n",
    "            with open(\"qna_quora.txt\", \"a\",encoding='utf-8') as f:\n",
    "                f.write(mydict)          "
   ]
  },
  {
   "cell_type": "code",
   "execution_count": null,
   "id": "22a256f8",
   "metadata": {},
   "outputs": [],
   "source": []
  },
  {
   "cell_type": "markdown",
   "id": "67211f7b",
   "metadata": {},
   "source": [
    "#finding next sibling\n",
    "from bs4 import BeautifulSoup\n",
    "# Create a BeautifulSoup object\n",
    "soup = BeautifulSoup(html, 'html.parser')\n",
    "question_elements = soup.find_all(class_='qu-mb--tiny')\n",
    "# Find all 'qu-mb--tiny' elements and iterate over each of them\n",
    "count = 0\n",
    "for question in question_elements:\n",
    "    # Find the next sibling element with class 'spacing_log_answer_content'\n",
    "    #answer = question.find_next_sibling(class_='spacing_log_answer_content')  \n",
    "    # Extract the text from both elements\n",
    "    if question:\n",
    "        #question_text = question.text(strip=True)\n",
    "        #answer_text = answer.text(strip=True)\n",
    "        # Print the question and answer\n",
    "        count+=1\n",
    "        print(count)\n",
    "        print(question.get_text().strip())\n",
    "        #print('Answer:', answer_text)\n",
    "        print('------------------------')\n"
   ]
  }
 ],
 "metadata": {
  "kernelspec": {
   "display_name": "Python 3 (ipykernel)",
   "language": "python",
   "name": "python3"
  },
  "language_info": {
   "codemirror_mode": {
    "name": "ipython",
    "version": 3
   },
   "file_extension": ".py",
   "mimetype": "text/x-python",
   "name": "python",
   "nbconvert_exporter": "python",
   "pygments_lexer": "ipython3",
   "version": "3.9.15"
  }
 },
 "nbformat": 4,
 "nbformat_minor": 5
}
