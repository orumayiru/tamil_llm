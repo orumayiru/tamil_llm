{
 "cells": [
  {
   "cell_type": "code",
   "execution_count": 1,
   "id": "10177100",
   "metadata": {},
   "outputs": [],
   "source": [
    "from selenium import webdriver\n",
    "from selenium.webdriver.common.keys import Keys\n",
    "import time\n",
    "from selenium.webdriver.common.by import By\n",
    "from selenium.webdriver.support.ui import WebDriverWait\n",
    "from selenium.webdriver.support import expected_conditions as ec\n",
    "import random\n",
    "import urllib.parse\n",
    "from bs4 import BeautifulSoup\n",
    "import json\n",
    "import urllib.parse"
   ]
  },
  {
   "cell_type": "code",
   "execution_count": 2,
   "id": "22a256f8",
   "metadata": {},
   "outputs": [
    {
     "name": "stdout",
     "output_type": "stream",
     "text": [
      "187\n",
      "143\n"
     ]
    }
   ],
   "source": [
    "with open('links.txt',encoding='utf-8') as f:\n",
    "    links_raw = f.readlines()\n",
    "print(len(links_raw))\n",
    "links = list(set(links_raw))\n",
    "print(len((links)))"
   ]
  },
  {
   "cell_type": "code",
   "execution_count": 3,
   "id": "9c5a1a39",
   "metadata": {},
   "outputs": [],
   "source": [
    "def scroll_to_bottom(driver):\n",
    "    last_height = driver.execute_script(\"return document.body.scrollHeight\")\n",
    "    count = 0\n",
    "    while True:\n",
    "        # Scroll down to bottom\n",
    "        driver.execute_script(\"window.scrollTo(0, document.body.scrollHeight);\")\n",
    "\n",
    "        # Wait for page to load\n",
    "        time.sleep(random.uniform(1.5, 2.5))\n",
    "\n",
    "        # Calculate new scroll height and compare with last scroll height\n",
    "        new_height = driver.execute_script(\"return document.body.scrollHeight\")\n",
    "        if new_height == last_height:\n",
    "            count += 1\n",
    "            if count == 50:\n",
    "                break\n",
    "        else:\n",
    "            last_height = new_height\n",
    "            count = 0\n",
    "\n",
    "        # Simulate human-like scrolling by scrolling in smaller increments\n",
    "        #for i in range(3):\n",
    "         #   driver.find_element_by_tag_name('body').send_keys(Keys.PAGE_DOWN)\n",
    "          #  time.sleep(random.uniform(0.5, 1))\n",
    "def extract_text(url,file_name):\n",
    "    print('starting******************wait until closing**********')\n",
    "    options = webdriver.ChromeOptions()\n",
    "    options.add_argument('--headless')\n",
    "    driver = webdriver.Chrome(options=options)    \n",
    "    driver.get(url)\n",
    "    scroll_to_bottom(driver)\n",
    "    print('scrolling completed')\n",
    "    # Find all clickable \"மேலும் காண்க\" elements\n",
    "    wait = WebDriverWait(driver, 10)\n",
    "    elements = wait.until(ec.presence_of_all_elements_located((By.XPATH, \"//*[contains(text(), 'மேலும் காண்க')]\")))\n",
    "    clickable_elements = []\n",
    "    for element in elements:\n",
    "        if element.is_displayed() and element.is_enabled():\n",
    "            clickable_elements.append(element)\n",
    "\n",
    "    # Click all the clickable \"மேலும் காண்க\" elements\n",
    "    for element in clickable_elements:\n",
    "        driver.execute_script(\"arguments[0].click();\", element)\n",
    "    print('clicking complete')\n",
    "    html = driver.page_source\n",
    "    soup = BeautifulSoup(html, 'html.parser')\n",
    "    # Find all elements with class 'qu-mb--tiny'\n",
    "    small_classes = soup.find_all(class_='qu-mb--tiny')\n",
    "    x = 0\n",
    "    # Loop over the small_classes and find the adjacent 'spacing_log_answer_content' class\n",
    "    for small_class in small_classes:\n",
    "        adjacent_class = small_class.find_next(class_='spacing_log_answer_content')\n",
    "        if adjacent_class:     \n",
    "            mydict = {}\n",
    "            question = small_class.text.strip()\n",
    "            answer = adjacent_class.text.strip()\n",
    "            if len(question)>30:\n",
    "                x = x+1\n",
    "                mydict[\"question\"] = question\n",
    "                mydict[\"answer\"] = answer\n",
    "                # Open the JSON file in append mode\n",
    "                with open(file_name, \"a\",encoding='utf-8') as f:\n",
    "                    f.write(str(mydict))\n",
    "                    f.write('\\n')\n",
    "    print('closing***********************************************')\n",
    "    driver.quit()    "
   ]
  },
  {
   "cell_type": "code",
   "execution_count": 4,
   "id": "f2a25d90",
   "metadata": {},
   "outputs": [
    {
     "name": "stderr",
     "output_type": "stream",
     "text": [
      "\r",
      "  0%|                                                   | 0/143 [00:00<?, ?it/s]"
     ]
    },
    {
     "name": "stdout",
     "output_type": "stream",
     "text": [
      "தினசரி-வாழ்க்கையின்-இயற்பியல்\n",
      "\n",
      "starting******************wait until closing**********\n",
      "scrolling completed\n",
      "clicking complete\n"
     ]
    },
    {
     "name": "stderr",
     "output_type": "stream",
     "text": [
      "\r",
      "  1%|▎                                       | 1/143 [02:48<6:38:12, 168.26s/it]"
     ]
    },
    {
     "name": "stdout",
     "output_type": "stream",
     "text": [
      "closing***********************************************\n",
      "ஆலோசனை\n",
      "\n",
      "starting******************wait until closing**********\n",
      "scrolling completed\n",
      "clicking complete\n"
     ]
    },
    {
     "name": "stderr",
     "output_type": "stream",
     "text": [
      "\r",
      "  1%|▌                                       | 2/143 [05:14<6:04:36, 155.15s/it]"
     ]
    },
    {
     "name": "stdout",
     "output_type": "stream",
     "text": [
      "closing***********************************************\n",
      "இந்திய-தேசிய-காங்கிரசு\n",
      "\n",
      "starting******************wait until closing**********\n",
      "scrolling completed\n",
      "clicking complete\n"
     ]
    },
    {
     "name": "stderr",
     "output_type": "stream",
     "text": [
      "\r",
      "  2%|▊                                       | 3/143 [07:28<5:39:20, 145.44s/it]"
     ]
    },
    {
     "name": "stdout",
     "output_type": "stream",
     "text": [
      "closing***********************************************\n",
      "தேர்தல்கள்\n",
      "\n",
      "starting******************wait until closing**********\n",
      "scrolling completed\n",
      "clicking complete\n"
     ]
    },
    {
     "name": "stderr",
     "output_type": "stream",
     "text": [
      "\r",
      "  3%|█                                       | 4/143 [10:02<5:45:28, 149.12s/it]"
     ]
    },
    {
     "name": "stdout",
     "output_type": "stream",
     "text": [
      "closing***********************************************\n",
      "வரலாற்று-இந்தியா\n",
      "\n",
      "starting******************wait until closing**********\n",
      "scrolling completed\n",
      "clicking complete\n"
     ]
    },
    {
     "name": "stderr",
     "output_type": "stream",
     "text": [
      "\r",
      "  3%|█▍                                      | 5/143 [12:31<5:42:18, 148.83s/it]"
     ]
    },
    {
     "name": "stdout",
     "output_type": "stream",
     "text": [
      "closing***********************************************\n",
      "சுற்றுலா\n",
      "\n",
      "starting******************wait until closing**********\n",
      "scrolling completed\n",
      "clicking complete\n"
     ]
    },
    {
     "name": "stderr",
     "output_type": "stream",
     "text": [
      "\r",
      "  4%|█▋                                      | 6/143 [15:17<5:53:07, 154.65s/it]"
     ]
    },
    {
     "name": "stdout",
     "output_type": "stream",
     "text": [
      "closing***********************************************\n",
      "வாசித்தல்\n",
      "\n",
      "starting******************wait until closing**********\n",
      "scrolling completed\n",
      "clicking complete\n"
     ]
    },
    {
     "name": "stderr",
     "output_type": "stream",
     "text": [
      "\r",
      "  5%|█▉                                      | 7/143 [17:58<5:55:28, 156.82s/it]"
     ]
    },
    {
     "name": "stdout",
     "output_type": "stream",
     "text": [
      "closing***********************************************\n",
      "கல்லூரி-அறிவுரை\n",
      "\n",
      "starting******************wait until closing**********\n",
      "scrolling completed\n",
      "clicking complete\n"
     ]
    },
    {
     "name": "stderr",
     "output_type": "stream",
     "text": [
      "\r",
      "  6%|██▏                                     | 8/143 [20:53<6:05:43, 162.54s/it]"
     ]
    },
    {
     "name": "stdout",
     "output_type": "stream",
     "text": [
      "closing***********************************************\n",
      "பார்-கோள்\n",
      "\n",
      "starting******************wait until closing**********\n",
      "scrolling completed\n",
      "clicking complete\n"
     ]
    },
    {
     "name": "stderr",
     "output_type": "stream",
     "text": [
      "\r",
      "  6%|██▌                                     | 9/143 [23:19<5:51:58, 157.60s/it]"
     ]
    },
    {
     "name": "stdout",
     "output_type": "stream",
     "text": [
      "closing***********************************************\n",
      "உளவியல்\n",
      "\n",
      "starting******************wait until closing**********\n",
      "scrolling completed\n",
      "clicking complete\n"
     ]
    },
    {
     "name": "stderr",
     "output_type": "stream",
     "text": [
      "\r",
      "  7%|██▋                                    | 10/143 [25:57<5:49:23, 157.62s/it]"
     ]
    },
    {
     "name": "stdout",
     "output_type": "stream",
     "text": [
      "closing***********************************************\n",
      "திரைப்பட-பரிந்துரைகள்\n",
      "\n",
      "starting******************wait until closing**********\n",
      "scrolling completed\n",
      "clicking complete\n"
     ]
    },
    {
     "name": "stderr",
     "output_type": "stream",
     "text": [
      "\r",
      "  8%|███                                    | 11/143 [28:26<5:40:45, 154.89s/it]"
     ]
    },
    {
     "name": "stdout",
     "output_type": "stream",
     "text": [
      "closing***********************************************\n",
      "மதம்\n",
      "\n",
      "starting******************wait until closing**********\n",
      "scrolling completed\n",
      "clicking complete\n"
     ]
    },
    {
     "name": "stderr",
     "output_type": "stream",
     "text": [
      "\r",
      "  8%|███▎                                   | 12/143 [31:05<5:41:15, 156.30s/it]"
     ]
    },
    {
     "name": "stdout",
     "output_type": "stream",
     "text": [
      "closing***********************************************\n",
      "கற்றல்\n",
      "\n",
      "starting******************wait until closing**********\n",
      "scrolling completed\n",
      "clicking complete\n"
     ]
    },
    {
     "name": "stderr",
     "output_type": "stream",
     "text": [
      "\r",
      "  9%|███▌                                   | 13/143 [33:44<5:39:54, 156.88s/it]"
     ]
    },
    {
     "name": "stdout",
     "output_type": "stream",
     "text": [
      "closing***********************************************\n",
      "இந்தியாவிற்கு-வருகை-மற்றும்-பயணம்\n",
      "\n",
      "starting******************wait until closing**********\n",
      "scrolling completed\n",
      "clicking complete\n"
     ]
    },
    {
     "name": "stderr",
     "output_type": "stream",
     "text": [
      "\r",
      " 10%|███▊                                   | 14/143 [36:15<5:33:35, 155.16s/it]"
     ]
    },
    {
     "name": "stdout",
     "output_type": "stream",
     "text": [
      "closing***********************************************\n",
      "இந்தியாவில்-கல்வி\n",
      "\n",
      "starting******************wait until closing**********\n",
      "scrolling completed\n",
      "clicking complete\n"
     ]
    },
    {
     "name": "stderr",
     "output_type": "stream",
     "text": [
      "\r",
      " 10%|████                                   | 15/143 [38:54<5:33:48, 156.48s/it]"
     ]
    },
    {
     "name": "stdout",
     "output_type": "stream",
     "text": [
      "closing***********************************************\n",
      "சுற்றுலாக்கள்-பயணம்\n",
      "\n",
      "starting******************wait until closing**********\n",
      "scrolling completed\n",
      "clicking complete\n"
     ]
    },
    {
     "name": "stderr",
     "output_type": "stream",
     "text": [
      "\r",
      " 11%|████▎                                  | 16/143 [41:29<5:29:48, 155.81s/it]"
     ]
    },
    {
     "name": "stdout",
     "output_type": "stream",
     "text": [
      "closing***********************************************\n",
      "இந்திய-அரசியல்வாதிகளும்-அரசாங்க-அதிகாரிகளும்\n",
      "\n",
      "starting******************wait until closing**********\n",
      "scrolling completed\n",
      "clicking complete\n"
     ]
    },
    {
     "name": "stderr",
     "output_type": "stream",
     "text": [
      "\r",
      " 12%|████▋                                  | 17/143 [43:56<5:22:14, 153.44s/it]"
     ]
    },
    {
     "name": "stdout",
     "output_type": "stream",
     "text": [
      "closing***********************************************\n",
      "உயிரியல்\n",
      "\n",
      "starting******************wait until closing**********\n",
      "scrolling completed\n",
      "clicking complete\n"
     ]
    },
    {
     "name": "stderr",
     "output_type": "stream",
     "text": [
      "\r",
      " 13%|████▉                                  | 18/143 [46:43<5:27:48, 157.35s/it]"
     ]
    },
    {
     "name": "stdout",
     "output_type": "stream",
     "text": [
      "closing***********************************************\n",
      "புத்தகங்கள்-படித்தல்\n",
      "\n",
      "starting******************wait until closing**********\n",
      "scrolling completed\n",
      "clicking complete\n"
     ]
    },
    {
     "name": "stderr",
     "output_type": "stream",
     "text": [
      "\r",
      " 13%|█████▏                                 | 19/143 [49:05<5:15:52, 152.84s/it]"
     ]
    },
    {
     "name": "stdout",
     "output_type": "stream",
     "text": [
      "closing***********************************************\n",
      "கண்டுபிடிப்பும்-கண்டுபிடிப்புகளும்\n",
      "\n",
      "starting******************wait until closing**********\n",
      "scrolling completed\n",
      "clicking complete\n"
     ]
    },
    {
     "name": "stderr",
     "output_type": "stream",
     "text": [
      "\r",
      " 14%|█████▍                                 | 20/143 [51:45<5:17:41, 154.97s/it]"
     ]
    },
    {
     "name": "stdout",
     "output_type": "stream",
     "text": [
      "closing***********************************************\n",
      "வேதியியல்\n",
      "\n",
      "starting******************wait until closing**********\n",
      "scrolling completed\n",
      "clicking complete\n"
     ]
    },
    {
     "name": "stderr",
     "output_type": "stream",
     "text": [
      "\r",
      " 15%|█████▋                                 | 21/143 [54:30<5:20:53, 157.81s/it]"
     ]
    },
    {
     "name": "stdout",
     "output_type": "stream",
     "text": [
      "closing***********************************************\n",
      "கல்வி\n",
      "\n",
      "starting******************wait until closing**********\n",
      "scrolling completed\n",
      "clicking complete\n"
     ]
    },
    {
     "name": "stderr",
     "output_type": "stream",
     "text": [
      "\r",
      " 15%|██████                                 | 22/143 [57:19<5:25:06, 161.21s/it]"
     ]
    },
    {
     "name": "stdout",
     "output_type": "stream",
     "text": [
      "closing***********************************************\n",
      "புத்தகங்கள்\n",
      "\n",
      "starting******************wait until closing**********\n",
      "scrolling completed\n",
      "clicking complete\n"
     ]
    },
    {
     "name": "stderr",
     "output_type": "stream",
     "text": [
      "\r",
      " 16%|█████▉                               | 23/143 [1:00:01<5:22:47, 161.39s/it]"
     ]
    },
    {
     "name": "stdout",
     "output_type": "stream",
     "text": [
      "closing***********************************************\n",
      "அரசியல்-பிரச்சாரங்கள்\n",
      "\n",
      "starting******************wait until closing**********\n",
      "scrolling completed\n",
      "clicking complete\n"
     ]
    },
    {
     "name": "stderr",
     "output_type": "stream",
     "text": [
      "\r",
      " 17%|██████▏                              | 24/143 [1:02:36<5:16:16, 159.46s/it]"
     ]
    },
    {
     "name": "stdout",
     "output_type": "stream",
     "text": [
      "closing***********************************************\n",
      "புத்தக-வெளியீடு\n",
      "\n",
      "starting******************wait until closing**********\n",
      "scrolling completed\n",
      "clicking complete\n"
     ]
    },
    {
     "name": "stderr",
     "output_type": "stream",
     "text": [
      "\r",
      " 17%|██████▍                              | 25/143 [1:04:53<5:00:21, 152.72s/it]"
     ]
    },
    {
     "name": "stdout",
     "output_type": "stream",
     "text": [
      "closing***********************************************\n",
      "திரைப்பட-பட்டியல்கள்\n",
      "\n",
      "starting******************wait until closing**********\n",
      "scrolling completed\n",
      "clicking complete\n"
     ]
    },
    {
     "name": "stderr",
     "output_type": "stream",
     "text": [
      "\r",
      " 18%|██████▋                              | 26/143 [1:07:21<4:55:18, 151.44s/it]"
     ]
    },
    {
     "name": "stdout",
     "output_type": "stream",
     "text": [
      "closing***********************************************\n",
      "தொழில்-ஆலோசனை\n",
      "\n",
      "starting******************wait until closing**********\n",
      "scrolling completed\n",
      "clicking complete\n"
     ]
    },
    {
     "name": "stderr",
     "output_type": "stream",
     "text": [
      "\r",
      " 19%|██████▉                              | 27/143 [1:10:02<4:58:11, 154.24s/it]"
     ]
    },
    {
     "name": "stdout",
     "output_type": "stream",
     "text": [
      "closing***********************************************\n",
      "இந்தியாவின்-பிரதம-மந்திரி\n",
      "\n",
      "starting******************wait until closing**********\n",
      "scrolling completed\n",
      "clicking complete\n"
     ]
    },
    {
     "name": "stderr",
     "output_type": "stream",
     "text": [
      "\r",
      " 20%|███████▏                             | 28/143 [1:12:47<5:01:59, 157.56s/it]"
     ]
    },
    {
     "name": "stdout",
     "output_type": "stream",
     "text": [
      "closing***********************************************\n",
      "வரலாறு-பற்றி-கற்றல்\n",
      "\n",
      "starting******************wait until closing**********\n",
      "scrolling completed\n",
      "clicking complete\n"
     ]
    },
    {
     "name": "stderr",
     "output_type": "stream",
     "text": [
      "\r",
      " 20%|███████▌                             | 29/143 [1:15:29<5:01:41, 158.79s/it]"
     ]
    },
    {
     "name": "stdout",
     "output_type": "stream",
     "text": [
      "closing***********************************************\n",
      "அன்றாட-வாழ்க்கையின்-அறிவியல்\n",
      "\n",
      "starting******************wait until closing**********\n",
      "scrolling completed\n",
      "clicking complete\n"
     ]
    },
    {
     "name": "stderr",
     "output_type": "stream",
     "text": [
      "\r",
      " 21%|███████▊                             | 30/143 [1:18:16<5:03:58, 161.41s/it]"
     ]
    },
    {
     "name": "stdout",
     "output_type": "stream",
     "text": [
      "closing***********************************************\n",
      "இசை\n",
      "\n",
      "starting******************wait until closing**********\n",
      "scrolling completed\n",
      "clicking complete\n"
     ]
    },
    {
     "name": "stderr",
     "output_type": "stream",
     "text": [
      "\r",
      " 22%|████████                             | 31/143 [1:21:02<5:03:32, 162.62s/it]"
     ]
    },
    {
     "name": "stdout",
     "output_type": "stream",
     "text": [
      "closing***********************************************\n",
      "கல்வித்துறை\n",
      "\n",
      "starting******************wait until closing**********\n",
      "scrolling completed\n",
      "clicking complete\n"
     ]
    },
    {
     "name": "stderr",
     "output_type": "stream",
     "text": [
      "\r",
      " 22%|████████▎                            | 32/143 [1:23:40<4:58:35, 161.40s/it]"
     ]
    },
    {
     "name": "stdout",
     "output_type": "stream",
     "text": [
      "closing***********************************************\n",
      "சட்டம்\n",
      "\n",
      "starting******************wait until closing**********\n",
      "scrolling completed\n",
      "clicking complete\n"
     ]
    },
    {
     "name": "stderr",
     "output_type": "stream",
     "text": [
      "\r",
      " 23%|████████▌                            | 33/143 [1:26:20<4:55:03, 160.94s/it]"
     ]
    },
    {
     "name": "stdout",
     "output_type": "stream",
     "text": [
      "closing***********************************************\n",
      "தமிழ்-வரலாறு\n",
      "\n",
      "starting******************wait until closing**********\n",
      "scrolling completed\n",
      "clicking complete\n"
     ]
    },
    {
     "name": "stderr",
     "output_type": "stream",
     "text": [
      "\r",
      " 24%|████████▊                            | 34/143 [1:29:08<4:56:08, 163.01s/it]"
     ]
    },
    {
     "name": "stdout",
     "output_type": "stream",
     "text": [
      "closing***********************************************\n",
      "அரசியல்-கட்சிகள்\n",
      "\n",
      "starting******************wait until closing**********\n",
      "scrolling completed\n",
      "clicking complete\n"
     ]
    },
    {
     "name": "stderr",
     "output_type": "stream",
     "text": [
      "\r",
      " 24%|█████████                            | 35/143 [1:31:54<4:54:56, 163.86s/it]"
     ]
    },
    {
     "name": "stdout",
     "output_type": "stream",
     "text": [
      "closing***********************************************\n",
      "தமிழர்கள்\n",
      "\n",
      "starting******************wait until closing**********\n",
      "scrolling completed\n",
      "clicking complete\n"
     ]
    },
    {
     "name": "stderr",
     "output_type": "stream",
     "text": [
      "\r",
      " 25%|█████████▎                           | 36/143 [1:34:38<4:52:26, 163.99s/it]"
     ]
    },
    {
     "name": "stdout",
     "output_type": "stream",
     "text": [
      "closing***********************************************\n",
      "விண்வெளி\n",
      "\n",
      "starting******************wait until closing**********\n",
      "scrolling completed\n",
      "clicking complete\n"
     ]
    },
    {
     "name": "stderr",
     "output_type": "stream",
     "text": [
      "\r",
      " 26%|█████████▌                           | 37/143 [1:37:01<4:38:43, 157.77s/it]"
     ]
    },
    {
     "name": "stdout",
     "output_type": "stream",
     "text": [
      "closing***********************************************\n",
      "இந்தியாவின்-பொருளாதாரம்\n",
      "\n",
      "starting******************wait until closing**********\n",
      "scrolling completed\n",
      "clicking complete\n"
     ]
    },
    {
     "name": "stderr",
     "output_type": "stream",
     "text": [
      "\r",
      " 27%|█████████▊                           | 38/143 [1:39:46<4:39:56, 159.97s/it]"
     ]
    },
    {
     "name": "stdout",
     "output_type": "stream",
     "text": [
      "closing***********************************************\n",
      "தமிழ்ப்-பண்பாடு\n",
      "\n",
      "starting******************wait until closing**********\n",
      "scrolling completed\n",
      "clicking complete\n"
     ]
    },
    {
     "name": "stderr",
     "output_type": "stream",
     "text": [
      "\r",
      " 27%|██████████                           | 39/143 [1:42:22<4:35:12, 158.78s/it]"
     ]
    },
    {
     "name": "stdout",
     "output_type": "stream",
     "text": [
      "closing***********************************************\n",
      "தகவல்\n",
      "\n",
      "starting******************wait until closing**********\n",
      "scrolling completed\n",
      "clicking complete\n"
     ]
    },
    {
     "name": "stderr",
     "output_type": "stream",
     "text": [
      "\r",
      " 28%|██████████▎                          | 40/143 [1:45:02<4:33:04, 159.07s/it]"
     ]
    },
    {
     "name": "stdout",
     "output_type": "stream",
     "text": [
      "closing***********************************************\n",
      "தமிழ்-புத்தகங்கள்\n",
      "\n",
      "starting******************wait until closing**********\n",
      "scrolling completed\n",
      "clicking complete\n"
     ]
    },
    {
     "name": "stderr",
     "output_type": "stream",
     "text": [
      "\r",
      " 29%|██████████▌                          | 41/143 [1:47:47<4:33:34, 160.93s/it]"
     ]
    },
    {
     "name": "stdout",
     "output_type": "stream",
     "text": [
      "closing***********************************************\n",
      "இராணுவ-வரலாறும்-போர்களும்\n",
      "\n",
      "starting******************wait until closing**********\n",
      "scrolling completed\n",
      "clicking complete\n"
     ]
    },
    {
     "name": "stderr",
     "output_type": "stream",
     "text": [
      "\r",
      " 29%|██████████▊                          | 42/143 [1:50:59<4:46:21, 170.11s/it]"
     ]
    },
    {
     "name": "stdout",
     "output_type": "stream",
     "text": [
      "closing***********************************************\n",
      "பாலிவுட்-நடிகர்களும்-நடிகைகளும்\n",
      "\n",
      "starting******************wait until closing**********\n",
      "scrolling completed\n",
      "clicking complete\n"
     ]
    },
    {
     "name": "stderr",
     "output_type": "stream",
     "text": [
      "\r",
      " 30%|███████████▏                         | 43/143 [1:53:48<4:42:44, 169.64s/it]"
     ]
    },
    {
     "name": "stdout",
     "output_type": "stream",
     "text": [
      "closing***********************************************\n",
      "வானியல்\n",
      "\n",
      "starting******************wait until closing**********\n",
      "scrolling completed\n",
      "clicking complete\n"
     ]
    },
    {
     "name": "stderr",
     "output_type": "stream",
     "text": [
      "\r",
      " 31%|███████████▍                         | 44/143 [1:56:23<4:32:41, 165.27s/it]"
     ]
    },
    {
     "name": "stdout",
     "output_type": "stream",
     "text": [
      "closing***********************************************\n",
      "பண்டைய-நாகரிகங்கள்\n",
      "\n",
      "starting******************wait until closing**********\n",
      "scrolling completed\n",
      "clicking complete\n"
     ]
    },
    {
     "name": "stderr",
     "output_type": "stream",
     "text": [
      "\r",
      " 31%|███████████▋                         | 45/143 [1:59:16<4:33:50, 167.66s/it]"
     ]
    },
    {
     "name": "stdout",
     "output_type": "stream",
     "text": [
      "closing***********************************************\n",
      "வாழ்க்கை-அனுபவங்கள்\n",
      "\n",
      "starting******************wait until closing**********\n",
      "scrolling completed\n",
      "clicking complete\n"
     ]
    },
    {
     "name": "stderr",
     "output_type": "stream",
     "text": [
      "\r",
      " 32%|███████████▉                         | 46/143 [2:01:39<4:19:23, 160.44s/it]"
     ]
    },
    {
     "name": "stdout",
     "output_type": "stream",
     "text": [
      "closing***********************************************\n",
      "தமிழர்-இனமும்-மக்களும்\n",
      "\n",
      "starting******************wait until closing**********\n",
      "scrolling completed\n",
      "clicking complete\n"
     ]
    },
    {
     "name": "stderr",
     "output_type": "stream",
     "text": [
      "\r",
      " 33%|████████████▏                        | 47/143 [2:04:02<4:08:17, 155.18s/it]"
     ]
    },
    {
     "name": "stdout",
     "output_type": "stream",
     "text": [
      "closing***********************************************\n",
      "எழுத்தாளர்கள்-1\n",
      "\n",
      "starting******************wait until closing**********\n",
      "scrolling completed\n",
      "clicking complete\n"
     ]
    },
    {
     "name": "stderr",
     "output_type": "stream",
     "text": [
      "\r",
      " 34%|████████████▍                        | 48/143 [2:06:46<4:09:36, 157.65s/it]"
     ]
    },
    {
     "name": "stdout",
     "output_type": "stream",
     "text": [
      "closing***********************************************\n",
      "தகவல்கள்\n",
      "\n",
      "starting******************wait until closing**********\n",
      "scrolling completed\n",
      "clicking complete\n"
     ]
    },
    {
     "name": "stderr",
     "output_type": "stream",
     "text": [
      "\r",
      " 34%|████████████▋                        | 49/143 [2:09:31<4:10:27, 159.86s/it]"
     ]
    },
    {
     "name": "stdout",
     "output_type": "stream",
     "text": [
      "closing***********************************************\n",
      "பண்டைய-வரலாறு\n",
      "\n",
      "starting******************wait until closing**********\n",
      "scrolling completed\n",
      "clicking complete\n"
     ]
    },
    {
     "name": "stderr",
     "output_type": "stream",
     "text": [
      "\r",
      " 35%|████████████▉                        | 50/143 [2:11:59<4:02:16, 156.31s/it]"
     ]
    },
    {
     "name": "stdout",
     "output_type": "stream",
     "text": [
      "closing***********************************************\n",
      "பாரதிய-ஜனதா-கட்சி\n",
      "\n",
      "starting******************wait until closing**********\n",
      "scrolling completed\n",
      "clicking complete\n"
     ]
    },
    {
     "name": "stderr",
     "output_type": "stream",
     "text": [
      "\r",
      " 36%|█████████████▏                       | 51/143 [2:14:35<3:59:24, 156.14s/it]"
     ]
    },
    {
     "name": "stdout",
     "output_type": "stream",
     "text": [
      "closing***********************************************\n",
      "பயணமும்-சுற்றுலாவும்\n",
      "\n",
      "starting******************wait until closing**********\n",
      "scrolling completed\n",
      "clicking complete\n"
     ]
    },
    {
     "name": "stderr",
     "output_type": "stream",
     "text": [
      "\r",
      " 36%|█████████████▍                       | 52/143 [2:17:15<3:58:33, 157.29s/it]"
     ]
    },
    {
     "name": "stdout",
     "output_type": "stream",
     "text": [
      "closing***********************************************\n",
      "தனிப்பட்ட-அனுபவங்கள்\n",
      "\n",
      "starting******************wait until closing**********\n",
      "scrolling completed\n",
      "clicking complete\n"
     ]
    },
    {
     "name": "stderr",
     "output_type": "stream",
     "text": [
      "\r",
      " 37%|█████████████▋                       | 53/143 [2:19:53<3:56:21, 157.57s/it]"
     ]
    },
    {
     "name": "stdout",
     "output_type": "stream",
     "text": [
      "closing***********************************************\n",
      "பயணம்\n",
      "\n",
      "starting******************wait until closing**********\n",
      "scrolling completed\n",
      "clicking complete\n"
     ]
    },
    {
     "name": "stderr",
     "output_type": "stream",
     "text": [
      "\r",
      " 38%|█████████████▉                       | 54/143 [2:22:23<3:50:31, 155.41s/it]"
     ]
    },
    {
     "name": "stdout",
     "output_type": "stream",
     "text": [
      "closing***********************************************\n",
      "இந்தியாவின்-வரலாறு\n",
      "\n",
      "starting******************wait until closing**********\n",
      "scrolling completed\n",
      "clicking complete\n"
     ]
    },
    {
     "name": "stderr",
     "output_type": "stream",
     "text": [
      "\r",
      " 38%|██████████████▏                      | 55/143 [2:25:00<3:48:33, 155.84s/it]"
     ]
    },
    {
     "name": "stdout",
     "output_type": "stream",
     "text": [
      "closing***********************************************\n",
      "கல்லூரி-மற்றும்-பல்கலைக்கழக-அனுபவம்\n",
      "\n",
      "starting******************wait until closing**********\n",
      "scrolling completed\n",
      "clicking complete\n"
     ]
    },
    {
     "name": "stderr",
     "output_type": "stream",
     "text": [
      "\r",
      " 39%|██████████████▍                      | 56/143 [2:27:35<3:45:41, 155.65s/it]"
     ]
    },
    {
     "name": "stdout",
     "output_type": "stream",
     "text": [
      "closing***********************************************\n",
      "இந்திய-அரசாங்கம்\n",
      "\n",
      "starting******************wait until closing**********\n",
      "scrolling completed\n",
      "clicking complete\n"
     ]
    },
    {
     "name": "stderr",
     "output_type": "stream",
     "text": [
      "\r",
      " 40%|██████████████▋                      | 57/143 [2:30:23<3:48:21, 159.32s/it]"
     ]
    },
    {
     "name": "stdout",
     "output_type": "stream",
     "text": [
      "closing***********************************************\n",
      "பொது-அறிவு\n",
      "\n",
      "starting******************wait until closing**********\n",
      "scrolling completed\n",
      "clicking complete\n"
     ]
    },
    {
     "name": "stderr",
     "output_type": "stream",
     "text": [
      "\r",
      " 41%|███████████████                      | 58/143 [2:32:50<3:40:26, 155.60s/it]"
     ]
    },
    {
     "name": "stdout",
     "output_type": "stream",
     "text": [
      "closing***********************************************\n",
      "பாலிவுட்\n",
      "\n",
      "starting******************wait until closing**********\n",
      "scrolling completed\n",
      "clicking complete\n"
     ]
    },
    {
     "name": "stderr",
     "output_type": "stream",
     "text": [
      "\r",
      " 41%|███████████████▎                     | 59/143 [2:35:34<3:41:27, 158.18s/it]"
     ]
    },
    {
     "name": "stdout",
     "output_type": "stream",
     "text": [
      "closing***********************************************\n",
      "திரைப்பட-விமர்சனங்கள்\n",
      "\n",
      "starting******************wait until closing**********\n",
      "scrolling completed\n",
      "clicking complete\n"
     ]
    },
    {
     "name": "stderr",
     "output_type": "stream",
     "text": [
      "\r",
      " 42%|███████████████▌                     | 60/143 [2:38:21<3:42:23, 160.76s/it]"
     ]
    },
    {
     "name": "stdout",
     "output_type": "stream",
     "text": [
      "closing***********************************************\n",
      "திரைப்பட-வணிகமும்-தொழில்துறையும்\n",
      "\n",
      "starting******************wait until closing**********\n",
      "scrolling completed\n",
      "clicking complete\n"
     ]
    },
    {
     "name": "stderr",
     "output_type": "stream",
     "text": [
      "\r",
      " 43%|███████████████▊                     | 61/143 [2:41:08<3:42:17, 162.66s/it]"
     ]
    },
    {
     "name": "stdout",
     "output_type": "stream",
     "text": [
      "closing***********************************************\n",
      "ஆசிரியர்கள்\n",
      "\n",
      "starting******************wait until closing**********\n",
      "scrolling completed\n",
      "clicking complete\n"
     ]
    },
    {
     "name": "stderr",
     "output_type": "stream",
     "text": [
      "\r",
      " 43%|████████████████                     | 62/143 [2:43:32<3:32:10, 157.16s/it]"
     ]
    },
    {
     "name": "stdout",
     "output_type": "stream",
     "text": [
      "closing***********************************************\n",
      "தமிழ்-திரைப்படங்கள்\n",
      "\n",
      "starting******************wait until closing**********\n",
      "scrolling completed\n",
      "clicking complete\n"
     ]
    },
    {
     "name": "stderr",
     "output_type": "stream",
     "text": [
      "\r",
      " 44%|████████████████▎                    | 63/143 [2:45:43<3:18:58, 149.23s/it]"
     ]
    },
    {
     "name": "stdout",
     "output_type": "stream",
     "text": [
      "closing***********************************************\n",
      "திரைப்பட-இயக்குநர்கள்\n",
      "\n",
      "starting******************wait until closing**********\n",
      "scrolling completed\n",
      "clicking complete\n"
     ]
    },
    {
     "name": "stderr",
     "output_type": "stream",
     "text": [
      "\r",
      " 45%|████████████████▌                    | 64/143 [2:48:26<3:22:00, 153.42s/it]"
     ]
    },
    {
     "name": "stdout",
     "output_type": "stream",
     "text": [
      "closing***********************************************\n",
      "கண்டுபிடிப்புகள்\n",
      "\n",
      "starting******************wait until closing**********\n",
      "scrolling completed\n",
      "clicking complete\n"
     ]
    },
    {
     "name": "stderr",
     "output_type": "stream",
     "text": [
      "\r",
      " 45%|████████████████▊                    | 65/143 [2:51:05<3:21:36, 155.08s/it]"
     ]
    },
    {
     "name": "stdout",
     "output_type": "stream",
     "text": [
      "closing***********************************************\n",
      "சென்னை\n",
      "\n",
      "starting******************wait until closing**********\n",
      "scrolling completed\n",
      "clicking complete\n"
     ]
    },
    {
     "name": "stderr",
     "output_type": "stream",
     "text": [
      "\r",
      " 46%|█████████████████                    | 66/143 [2:53:43<3:19:56, 155.79s/it]"
     ]
    },
    {
     "name": "stdout",
     "output_type": "stream",
     "text": [
      "closing***********************************************\n",
      "தமிழ்-இலக்கியம்\n",
      "starting******************wait until closing**********\n",
      "scrolling completed\n",
      "clicking complete\n"
     ]
    },
    {
     "name": "stderr",
     "output_type": "stream",
     "text": [
      "\r",
      " 47%|█████████████████▎                   | 67/143 [2:56:33<3:22:39, 159.99s/it]"
     ]
    },
    {
     "name": "stdout",
     "output_type": "stream",
     "text": [
      "closing***********************************************\n",
      "வேலைகளும்-வாழ்க்கைத்-தொழில்களும்\n",
      "\n",
      "starting******************wait until closing**********\n",
      "scrolling completed\n",
      "clicking complete\n"
     ]
    },
    {
     "name": "stderr",
     "output_type": "stream",
     "text": [
      "\r",
      " 48%|█████████████████▌                   | 68/143 [2:59:11<3:19:36, 159.69s/it]"
     ]
    },
    {
     "name": "stdout",
     "output_type": "stream",
     "text": [
      "closing***********************************************\n",
      "தமிழ்நாடு-அரசு\n",
      "\n",
      "starting******************wait until closing**********\n",
      "scrolling completed\n",
      "clicking complete\n"
     ]
    },
    {
     "name": "stderr",
     "output_type": "stream",
     "text": [
      "\r",
      " 48%|█████████████████▊                   | 69/143 [3:01:50<3:16:37, 159.43s/it]"
     ]
    },
    {
     "name": "stdout",
     "output_type": "stream",
     "text": [
      "closing***********************************************\n",
      "இந்திய-நடிகர்கள்-மற்றும்-நடிகைகள்\n",
      "\n",
      "starting******************wait until closing**********\n",
      "scrolling completed\n",
      "clicking complete\n"
     ]
    },
    {
     "name": "stderr",
     "output_type": "stream",
     "text": [
      "\r",
      " 49%|██████████████████                   | 70/143 [3:04:16<3:08:48, 155.18s/it]"
     ]
    },
    {
     "name": "stdout",
     "output_type": "stream",
     "text": [
      "closing***********************************************\n",
      "எழுதுதல்\n",
      "\n",
      "starting******************wait until closing**********\n",
      "scrolling completed\n",
      "clicking complete\n"
     ]
    },
    {
     "name": "stderr",
     "output_type": "stream",
     "text": [
      "\r",
      " 50%|██████████████████▎                  | 71/143 [3:07:01<3:09:44, 158.12s/it]"
     ]
    },
    {
     "name": "stdout",
     "output_type": "stream",
     "text": [
      "closing***********************************************\n",
      "பாரதிய-ஜனதா-கட்சி-BJP\n",
      "\n",
      "starting******************wait until closing**********\n",
      "scrolling completed\n",
      "clicking complete\n"
     ]
    },
    {
     "name": "stderr",
     "output_type": "stream",
     "text": [
      "\r",
      " 50%|██████████████████▋                  | 72/143 [3:09:52<3:11:50, 162.12s/it]"
     ]
    },
    {
     "name": "stdout",
     "output_type": "stream",
     "text": [
      "closing***********************************************\n",
      "நினைவுகள்\n",
      "\n",
      "starting******************wait until closing**********\n",
      "scrolling completed\n",
      "clicking complete\n"
     ]
    },
    {
     "name": "stderr",
     "output_type": "stream",
     "text": [
      "\r",
      " 51%|██████████████████▉                  | 73/143 [3:12:33<3:08:34, 161.64s/it]"
     ]
    },
    {
     "name": "stdout",
     "output_type": "stream",
     "text": [
      "closing***********************************************\n",
      "பொதுவான-கேள்விகள்\n",
      "\n",
      "starting******************wait until closing**********\n",
      "scrolling completed\n",
      "clicking complete\n"
     ]
    },
    {
     "name": "stderr",
     "output_type": "stream",
     "text": [
      "\r",
      " 52%|███████████████████▏                 | 74/143 [3:15:18<3:07:08, 162.73s/it]"
     ]
    },
    {
     "name": "stdout",
     "output_type": "stream",
     "text": [
      "closing***********************************************\n",
      "ஹாலிவுட்\n",
      "\n",
      "starting******************wait until closing**********\n",
      "scrolling completed\n",
      "clicking complete\n"
     ]
    },
    {
     "name": "stderr",
     "output_type": "stream",
     "text": [
      "\r",
      " 52%|███████████████████▍                 | 75/143 [3:17:57<3:03:19, 161.75s/it]"
     ]
    },
    {
     "name": "stdout",
     "output_type": "stream",
     "text": [
      "closing***********************************************\n",
      "மனித-உடல்\n",
      "\n",
      "starting******************wait until closing**********\n",
      "scrolling completed\n",
      "clicking complete\n"
     ]
    },
    {
     "name": "stderr",
     "output_type": "stream",
     "text": [
      "\r",
      " 53%|███████████████████▋                 | 76/143 [3:20:38<3:00:08, 161.33s/it]"
     ]
    },
    {
     "name": "stdout",
     "output_type": "stream",
     "text": [
      "closing***********************************************\n",
      "தொழில்நுட்பம்-13\n",
      "\n",
      "starting******************wait until closing**********\n",
      "scrolling completed\n",
      "clicking complete\n"
     ]
    },
    {
     "name": "stderr",
     "output_type": "stream",
     "text": [
      "\r",
      " 54%|███████████████████▉                 | 77/143 [3:23:09<2:54:14, 158.40s/it]"
     ]
    },
    {
     "name": "stdout",
     "output_type": "stream",
     "text": [
      "closing***********************************************\n",
      "பொதுவான-கேள்வி\n",
      "\n",
      "starting******************wait until closing**********\n",
      "scrolling completed\n",
      "clicking complete\n"
     ]
    },
    {
     "name": "stderr",
     "output_type": "stream",
     "text": [
      "\r",
      " 55%|████████████████████▏                | 78/143 [3:25:36<2:47:44, 154.83s/it]"
     ]
    },
    {
     "name": "stdout",
     "output_type": "stream",
     "text": [
      "closing***********************************************\n",
      "தேர்வுகளும்-சோதனைகளும்\n",
      "\n",
      "starting******************wait until closing**********\n",
      "scrolling completed\n",
      "clicking complete\n"
     ]
    },
    {
     "name": "stderr",
     "output_type": "stream",
     "text": [
      "\r",
      " 55%|████████████████████▍                | 79/143 [3:28:19<2:47:49, 157.33s/it]"
     ]
    },
    {
     "name": "stdout",
     "output_type": "stream",
     "text": [
      "closing***********************************************\n",
      "திரைப்படங்கள்-பார்த்தல்\n",
      "\n",
      "starting******************wait until closing**********\n",
      "scrolling completed\n",
      "clicking complete\n"
     ]
    },
    {
     "name": "stderr",
     "output_type": "stream",
     "text": [
      "\r",
      " 56%|████████████████████▋                | 80/143 [3:30:57<2:45:31, 157.64s/it]"
     ]
    },
    {
     "name": "stdout",
     "output_type": "stream",
     "text": [
      "closing***********************************************\n",
      "அறிவியல்\n",
      "\n",
      "starting******************wait until closing**********\n",
      "scrolling completed\n",
      "clicking complete\n"
     ]
    },
    {
     "name": "stderr",
     "output_type": "stream",
     "text": [
      "\r",
      " 57%|████████████████████▉                | 81/143 [3:33:48<2:47:00, 161.62s/it]"
     ]
    },
    {
     "name": "stdout",
     "output_type": "stream",
     "text": [
      "closing***********************************************\n",
      "புதினங்கள்-நாவல்கள்\n",
      "\n",
      "starting******************wait until closing**********\n",
      "scrolling completed\n",
      "clicking complete\n"
     ]
    },
    {
     "name": "stderr",
     "output_type": "stream",
     "text": [
      "\r",
      " 57%|█████████████████████▏               | 82/143 [3:36:34<2:45:31, 162.81s/it]"
     ]
    },
    {
     "name": "stdout",
     "output_type": "stream",
     "text": [
      "closing***********************************************\n",
      "அரசியல்-அறிவியல்\n",
      "\n",
      "starting******************wait until closing**********\n",
      "scrolling completed\n",
      "clicking complete\n"
     ]
    },
    {
     "name": "stderr",
     "output_type": "stream",
     "text": [
      "\r",
      " 58%|█████████████████████▍               | 83/143 [3:39:09<2:40:36, 160.61s/it]"
     ]
    },
    {
     "name": "stdout",
     "output_type": "stream",
     "text": [
      "closing***********************************************\n",
      "சாலை-வழிப்-பயணங்கள்\n",
      "\n",
      "starting******************wait until closing**********\n",
      "scrolling completed\n",
      "clicking complete\n"
     ]
    },
    {
     "name": "stderr",
     "output_type": "stream",
     "text": [
      "\r",
      " 59%|█████████████████████▋               | 84/143 [3:41:35<2:33:26, 156.04s/it]"
     ]
    },
    {
     "name": "stdout",
     "output_type": "stream",
     "text": [
      "closing***********************************************\n",
      "திராவிட-முன்னேற்றக்-கழகம்-திமுக-இந்திய-அரசியல்-கட்சி\n",
      "\n",
      "starting******************wait until closing**********\n",
      "scrolling completed\n",
      "clicking complete\n"
     ]
    },
    {
     "name": "stderr",
     "output_type": "stream",
     "text": [
      "\r",
      " 59%|█████████████████████▉               | 85/143 [3:44:16<2:32:17, 157.54s/it]"
     ]
    },
    {
     "name": "stdout",
     "output_type": "stream",
     "text": [
      "closing***********************************************\n",
      "இந்தியாவில்-சட்டங்கள்\n",
      "\n",
      "starting******************wait until closing**********\n",
      "scrolling completed\n",
      "clicking complete\n"
     ]
    },
    {
     "name": "stderr",
     "output_type": "stream",
     "text": [
      "\r",
      " 60%|██████████████████████▎              | 86/143 [3:46:54<2:29:59, 157.88s/it]"
     ]
    },
    {
     "name": "stdout",
     "output_type": "stream",
     "text": [
      "closing***********************************************\n",
      "திரை-விமர்சனம்\n",
      "\n",
      "starting******************wait until closing**********\n",
      "scrolling completed\n",
      "clicking complete\n"
     ]
    },
    {
     "name": "stderr",
     "output_type": "stream",
     "text": [
      "\r",
      " 61%|██████████████████████▌              | 87/143 [3:49:38<2:28:58, 159.62s/it]"
     ]
    },
    {
     "name": "stdout",
     "output_type": "stream",
     "text": [
      "closing***********************************************\n",
      "திரைப்படக்-கதையும்-கதை-கருப்பொருள்களும்\n",
      "\n",
      "starting******************wait until closing**********\n",
      "scrolling completed\n",
      "clicking complete\n"
     ]
    },
    {
     "name": "stderr",
     "output_type": "stream",
     "text": [
      "\r",
      " 62%|██████████████████████▊              | 88/143 [3:52:06<2:23:08, 156.16s/it]"
     ]
    },
    {
     "name": "stdout",
     "output_type": "stream",
     "text": [
      "closing***********************************************\n",
      "தமிழ்-மொழி\n",
      "\n",
      "starting******************wait until closing**********\n",
      "scrolling completed\n",
      "clicking complete\n"
     ]
    },
    {
     "name": "stderr",
     "output_type": "stream",
     "text": [
      "\r",
      " 62%|███████████████████████              | 89/143 [3:54:49<2:22:30, 158.35s/it]"
     ]
    },
    {
     "name": "stdout",
     "output_type": "stream",
     "text": [
      "closing***********************************************\n",
      "தமிழ்-நூல்கள்\n",
      "\n",
      "starting******************wait until closing**********\n",
      "scrolling completed\n",
      "clicking complete\n"
     ]
    },
    {
     "name": "stderr",
     "output_type": "stream",
     "text": [
      "\r",
      " 63%|███████████████████████▎             | 90/143 [3:57:12<2:15:35, 153.49s/it]"
     ]
    },
    {
     "name": "stdout",
     "output_type": "stream",
     "text": [
      "closing***********************************************\n",
      "கல்லூரிகளும்-பல்கலைக்கழகங்களும்\n",
      "\n",
      "starting******************wait until closing**********\n",
      "scrolling completed\n",
      "clicking complete\n"
     ]
    },
    {
     "name": "stderr",
     "output_type": "stream",
     "text": [
      "\r",
      " 64%|███████████████████████▌             | 91/143 [4:00:01<2:17:02, 158.13s/it]"
     ]
    },
    {
     "name": "stdout",
     "output_type": "stream",
     "text": [
      "closing***********************************************\n",
      "திரைப்படக்-காட்சிகள்\n",
      "\n",
      "starting******************wait until closing**********\n",
      "scrolling completed\n",
      "clicking complete\n"
     ]
    },
    {
     "name": "stderr",
     "output_type": "stream",
     "text": [
      "\r",
      " 64%|███████████████████████▊             | 92/143 [4:02:42<2:15:10, 159.03s/it]"
     ]
    },
    {
     "name": "stdout",
     "output_type": "stream",
     "text": [
      "closing***********************************************\n",
      "சுற்றுலா-பரிந்துரைப்புகள்\n",
      "\n",
      "starting******************wait until closing**********\n",
      "scrolling completed\n",
      "clicking complete\n"
     ]
    },
    {
     "name": "stderr",
     "output_type": "stream",
     "text": [
      "\r",
      " 65%|████████████████████████             | 93/143 [4:05:19<2:12:01, 158.42s/it]"
     ]
    },
    {
     "name": "stdout",
     "output_type": "stream",
     "text": [
      "closing***********************************************\n",
      "தமிழ்-சினிமா-கோலிவுட்\n",
      "\n",
      "starting******************wait until closing**********\n",
      "scrolling completed\n",
      "clicking complete\n"
     ]
    },
    {
     "name": "stderr",
     "output_type": "stream",
     "text": [
      "\r",
      " 66%|████████████████████████▎            | 94/143 [4:08:01<2:10:25, 159.70s/it]"
     ]
    },
    {
     "name": "stdout",
     "output_type": "stream",
     "text": [
      "closing***********************************************\n",
      "இந்தியாவின்-அரசியல்\n",
      "\n",
      "starting******************wait until closing**********\n",
      "scrolling completed\n",
      "clicking complete\n"
     ]
    },
    {
     "name": "stderr",
     "output_type": "stream",
     "text": [
      "\r",
      " 66%|████████████████████████▌            | 95/143 [4:10:44<2:08:26, 160.55s/it]"
     ]
    },
    {
     "name": "stdout",
     "output_type": "stream",
     "text": [
      "closing***********************************************\n",
      "தமிழ்-நடிகர்கள்\n",
      "\n",
      "starting******************wait until closing**********\n",
      "scrolling completed\n",
      "clicking complete\n"
     ]
    },
    {
     "name": "stderr",
     "output_type": "stream",
     "text": [
      "\r",
      " 67%|████████████████████████▊            | 96/143 [4:13:17<2:03:56, 158.23s/it]"
     ]
    },
    {
     "name": "stdout",
     "output_type": "stream",
     "text": [
      "closing***********************************************\n",
      "தமிழ்-இலக்கியம்\n",
      "\n",
      "starting******************wait until closing**********\n",
      "scrolling completed\n",
      "clicking complete\n"
     ]
    },
    {
     "name": "stderr",
     "output_type": "stream",
     "text": [
      "\r",
      " 68%|█████████████████████████            | 97/143 [4:16:02<2:03:01, 160.47s/it]"
     ]
    },
    {
     "name": "stdout",
     "output_type": "stream",
     "text": [
      "closing***********************************************\n",
      "உலக-நாடுகள்\n",
      "\n",
      "starting******************wait until closing**********\n",
      "scrolling completed\n",
      "clicking complete\n"
     ]
    },
    {
     "name": "stderr",
     "output_type": "stream",
     "text": [
      "\r",
      " 69%|█████████████████████████▎           | 98/143 [4:18:52<2:02:19, 163.10s/it]"
     ]
    },
    {
     "name": "stdout",
     "output_type": "stream",
     "text": [
      "closing***********************************************\n",
      "சுற்றுலாப்-பயணிகள்\n",
      "\n",
      "starting******************wait until closing**********\n",
      "scrolling completed\n",
      "clicking complete\n"
     ]
    },
    {
     "name": "stderr",
     "output_type": "stream",
     "text": [
      "\r",
      " 69%|█████████████████████████▌           | 99/143 [4:21:39<2:00:35, 164.44s/it]"
     ]
    },
    {
     "name": "stdout",
     "output_type": "stream",
     "text": [
      "closing***********************************************\n",
      "பாலிவுட்-திரைப்படங்கள்\n",
      "\n",
      "starting******************wait until closing**********\n",
      "scrolling completed\n",
      "clicking complete\n"
     ]
    },
    {
     "name": "stderr",
     "output_type": "stream",
     "text": [
      "\r",
      " 70%|█████████████████████████▏          | 100/143 [4:24:08<1:54:25, 159.67s/it]"
     ]
    },
    {
     "name": "stdout",
     "output_type": "stream",
     "text": [
      "closing***********************************************\n",
      "உயர்நிலை-பள்ளி-அனுபவம்\n",
      "\n",
      "starting******************wait until closing**********\n",
      "scrolling completed\n",
      "clicking complete\n"
     ]
    },
    {
     "name": "stderr",
     "output_type": "stream",
     "text": [
      "\r",
      " 71%|█████████████████████████▍          | 101/143 [4:26:47<1:51:37, 159.47s/it]"
     ]
    },
    {
     "name": "stdout",
     "output_type": "stream",
     "text": [
      "closing***********************************************\n",
      "கதைகள்\n",
      "\n",
      "starting******************wait until closing**********\n",
      "scrolling completed\n",
      "clicking complete\n"
     ]
    },
    {
     "name": "stderr",
     "output_type": "stream",
     "text": [
      "\r",
      " 71%|█████████████████████████▋          | 102/143 [4:29:32<1:50:10, 161.22s/it]"
     ]
    },
    {
     "name": "stdout",
     "output_type": "stream",
     "text": [
      "closing***********************************************\n",
      "அரசியல்\n",
      "\n",
      "starting******************wait until closing**********\n",
      "scrolling completed\n",
      "clicking complete\n"
     ]
    },
    {
     "name": "stderr",
     "output_type": "stream",
     "text": [
      "\r",
      " 72%|█████████████████████████▉          | 103/143 [4:32:12<1:47:12, 160.82s/it]"
     ]
    },
    {
     "name": "stdout",
     "output_type": "stream",
     "text": [
      "closing***********************************************\n",
      "அறிவியல்-ஆராய்ச்சி\n",
      "\n",
      "starting******************wait until closing**********\n",
      "scrolling completed\n",
      "clicking complete\n"
     ]
    },
    {
     "name": "stderr",
     "output_type": "stream",
     "text": [
      "\r",
      " 73%|██████████████████████████▏         | 104/143 [4:34:45<1:42:57, 158.39s/it]"
     ]
    },
    {
     "name": "stdout",
     "output_type": "stream",
     "text": [
      "closing***********************************************\n",
      "புத்தகம்\n",
      "\n",
      "starting******************wait until closing**********\n",
      "scrolling completed\n",
      "clicking complete\n"
     ]
    },
    {
     "name": "stderr",
     "output_type": "stream",
     "text": [
      "\r",
      " 73%|██████████████████████████▍         | 105/143 [4:37:24<1:40:30, 158.69s/it]"
     ]
    },
    {
     "name": "stdout",
     "output_type": "stream",
     "text": [
      "closing***********************************************\n",
      "வரலாறு\n",
      "\n",
      "starting******************wait until closing**********\n",
      "scrolling completed\n",
      "clicking complete\n"
     ]
    },
    {
     "name": "stderr",
     "output_type": "stream",
     "text": [
      "\r",
      " 74%|██████████████████████████▋         | 106/143 [4:40:15<1:40:07, 162.37s/it]"
     ]
    },
    {
     "name": "stdout",
     "output_type": "stream",
     "text": [
      "closing***********************************************\n",
      "பயணிகள்\n",
      "\n",
      "starting******************wait until closing**********\n",
      "scrolling completed\n",
      "clicking complete\n"
     ]
    },
    {
     "name": "stderr",
     "output_type": "stream",
     "text": [
      "\r",
      " 75%|██████████████████████████▉         | 107/143 [4:42:30<1:32:31, 154.22s/it]"
     ]
    },
    {
     "name": "stdout",
     "output_type": "stream",
     "text": [
      "closing***********************************************\n",
      "இந்தியா\n",
      "\n",
      "starting******************wait until closing**********\n",
      "scrolling completed\n",
      "clicking complete\n"
     ]
    },
    {
     "name": "stderr",
     "output_type": "stream",
     "text": [
      "\r",
      " 76%|███████████████████████████▏        | 108/143 [4:45:13<1:31:31, 156.89s/it]"
     ]
    },
    {
     "name": "stdout",
     "output_type": "stream",
     "text": [
      "closing***********************************************\n",
      "புவி-அறிவியல்\n",
      "\n",
      "starting******************wait until closing**********\n",
      "scrolling completed\n",
      "clicking complete\n"
     ]
    },
    {
     "name": "stderr",
     "output_type": "stream",
     "text": [
      "\r",
      " 76%|███████████████████████████▍        | 109/143 [4:48:01<1:30:44, 160.14s/it]"
     ]
    },
    {
     "name": "stdout",
     "output_type": "stream",
     "text": [
      "closing***********************************************\n",
      "நூல்-பரிந்துரைகள்\n",
      "\n",
      "starting******************wait until closing**********\n",
      "scrolling completed\n",
      "clicking complete\n"
     ]
    },
    {
     "name": "stderr",
     "output_type": "stream",
     "text": [
      "\r",
      " 77%|███████████████████████████▋        | 110/143 [4:50:38<1:27:31, 159.15s/it]"
     ]
    },
    {
     "name": "stdout",
     "output_type": "stream",
     "text": [
      "closing***********************************************\n",
      "மத்திய-அரசு\n",
      "\n",
      "starting******************wait until closing**********\n",
      "scrolling completed\n",
      "clicking complete\n"
     ]
    },
    {
     "name": "stderr",
     "output_type": "stream",
     "text": [
      "\r",
      " 78%|███████████████████████████▉        | 111/143 [4:53:16<1:24:38, 158.72s/it]"
     ]
    },
    {
     "name": "stdout",
     "output_type": "stream",
     "text": [
      "closing***********************************************\n",
      "உயர்-கல்வி\n",
      "\n",
      "starting******************wait until closing**********\n",
      "scrolling completed\n",
      "clicking complete\n"
     ]
    },
    {
     "name": "stderr",
     "output_type": "stream",
     "text": [
      "\r",
      " 78%|████████████████████████████▏       | 112/143 [4:55:36<1:19:11, 153.29s/it]"
     ]
    },
    {
     "name": "stdout",
     "output_type": "stream",
     "text": [
      "closing***********************************************\n",
      "சர்வதேசப்-பயணம்\n",
      "\n",
      "starting******************wait until closing**********\n",
      "scrolling completed\n",
      "clicking complete\n"
     ]
    },
    {
     "name": "stderr",
     "output_type": "stream",
     "text": [
      "\r",
      " 79%|████████████████████████████▍       | 113/143 [4:58:17<1:17:47, 155.58s/it]"
     ]
    },
    {
     "name": "stdout",
     "output_type": "stream",
     "text": [
      "closing***********************************************\n",
      "திரைப்படங்கள்\n",
      "\n",
      "starting******************wait until closing**********\n",
      "scrolling completed\n",
      "clicking complete\n"
     ]
    },
    {
     "name": "stderr",
     "output_type": "stream",
     "text": [
      "\r",
      " 80%|████████████████████████████▋       | 114/143 [5:00:49<1:14:39, 154.46s/it]"
     ]
    },
    {
     "name": "stdout",
     "output_type": "stream",
     "text": [
      "closing***********************************************\n",
      "பாடல்கள்\n",
      "\n",
      "starting******************wait until closing**********\n",
      "scrolling completed\n",
      "clicking complete\n"
     ]
    },
    {
     "name": "stderr",
     "output_type": "stream",
     "text": [
      "\r",
      " 80%|████████████████████████████▉       | 115/143 [5:03:24<1:12:10, 154.68s/it]"
     ]
    },
    {
     "name": "stdout",
     "output_type": "stream",
     "text": [
      "closing***********************************************\n",
      "அரசு\n",
      "\n",
      "starting******************wait until closing**********\n",
      "scrolling completed\n",
      "clicking complete\n"
     ]
    },
    {
     "name": "stderr",
     "output_type": "stream",
     "text": [
      "\r",
      " 81%|█████████████████████████████▏      | 116/143 [5:06:08<1:10:53, 157.54s/it]"
     ]
    },
    {
     "name": "stdout",
     "output_type": "stream",
     "text": [
      "closing***********************************************\n",
      "வானியற்பியல்\n",
      "\n",
      "starting******************wait until closing**********\n",
      "scrolling completed\n",
      "clicking complete\n"
     ]
    },
    {
     "name": "stderr",
     "output_type": "stream",
     "text": [
      "\r",
      " 82%|█████████████████████████████▍      | 117/143 [5:08:50<1:08:43, 158.60s/it]"
     ]
    },
    {
     "name": "stdout",
     "output_type": "stream",
     "text": [
      "closing***********************************************\n",
      "எழுத்தாளர்களும்-நூலாசிரியர்களும்\n",
      "\n",
      "starting******************wait until closing**********\n",
      "scrolling completed\n",
      "clicking complete\n"
     ]
    },
    {
     "name": "stderr",
     "output_type": "stream",
     "text": [
      "\r",
      " 83%|█████████████████████████████▋      | 118/143 [5:11:25<1:05:45, 157.80s/it]"
     ]
    },
    {
     "name": "stdout",
     "output_type": "stream",
     "text": [
      "closing***********************************************\n",
      "தமிழ்நாட்டின்-அரசியல்-தென்-இந்தியா\n",
      "\n",
      "starting******************wait until closing**********\n",
      "scrolling completed\n",
      "clicking complete\n"
     ]
    },
    {
     "name": "stderr",
     "output_type": "stream",
     "text": [
      "\r",
      " 83%|█████████████████████████████▉      | 119/143 [5:13:54<1:01:57, 154.90s/it]"
     ]
    },
    {
     "name": "stdout",
     "output_type": "stream",
     "text": [
      "closing***********************************************\n",
      "பாஜக\n",
      "\n",
      "starting******************wait until closing**********\n",
      "scrolling completed\n",
      "clicking complete\n"
     ]
    },
    {
     "name": "stderr",
     "output_type": "stream",
     "text": [
      "\r",
      " 84%|██████████████████████████████▏     | 120/143 [5:16:38<1:00:28, 157.76s/it]"
     ]
    },
    {
     "name": "stdout",
     "output_type": "stream",
     "text": [
      "closing***********************************************\n",
      "மனித-உயிரியல்\n",
      "\n",
      "starting******************wait until closing**********\n",
      "scrolling completed\n",
      "clicking complete\n"
     ]
    },
    {
     "name": "stderr",
     "output_type": "stream",
     "text": [
      "\r",
      " 85%|████████████████████████████████▏     | 121/143 [5:19:11<57:17, 156.23s/it]"
     ]
    },
    {
     "name": "stdout",
     "output_type": "stream",
     "text": [
      "closing***********************************************\n",
      "நடிகர்கள்-மற்றும்-நடிகைகள்\n",
      "\n",
      "starting******************wait until closing**********\n",
      "scrolling completed\n",
      "clicking complete\n"
     ]
    },
    {
     "name": "stderr",
     "output_type": "stream",
     "text": [
      "\r",
      " 85%|████████████████████████████████▍     | 122/143 [5:21:46<54:34, 155.92s/it]"
     ]
    },
    {
     "name": "stdout",
     "output_type": "stream",
     "text": [
      "closing***********************************************\n",
      "அறிவியல்-தத்துவம்\n",
      "\n",
      "starting******************wait until closing**********\n",
      "scrolling completed\n",
      "clicking complete\n"
     ]
    },
    {
     "name": "stderr",
     "output_type": "stream",
     "text": [
      "\r",
      " 86%|████████████████████████████████▋     | 123/143 [5:24:28<52:36, 157.81s/it]"
     ]
    },
    {
     "name": "stdout",
     "output_type": "stream",
     "text": [
      "closing***********************************************\n",
      "இந்தியாவின்-அரசியல்வாதிகள்\n",
      "\n",
      "starting******************wait until closing**********\n",
      "scrolling completed\n",
      "clicking complete\n"
     ]
    },
    {
     "name": "stderr",
     "output_type": "stream",
     "text": [
      "\r",
      " 87%|████████████████████████████████▉     | 124/143 [5:27:49<54:03, 170.71s/it]"
     ]
    },
    {
     "name": "stdout",
     "output_type": "stream",
     "text": [
      "closing***********************************************\n",
      "இந்திய-இனம்-மற்றும்-மக்கள்\n",
      "\n",
      "starting******************wait until closing**********\n",
      "scrolling completed\n",
      "clicking complete\n"
     ]
    },
    {
     "name": "stderr",
     "output_type": "stream",
     "text": [
      "\r",
      " 87%|█████████████████████████████████▏    | 125/143 [5:30:14<48:55, 163.11s/it]"
     ]
    },
    {
     "name": "stdout",
     "output_type": "stream",
     "text": [
      "closing***********************************************\n",
      "உலக-வரலாறு\n",
      "\n",
      "starting******************wait until closing**********\n",
      "scrolling completed\n",
      "clicking complete\n"
     ]
    },
    {
     "name": "stderr",
     "output_type": "stream",
     "text": [
      "\r",
      " 88%|█████████████████████████████████▍    | 126/143 [5:32:50<45:33, 160.78s/it]"
     ]
    },
    {
     "name": "stdout",
     "output_type": "stream",
     "text": [
      "closing***********************************************\n",
      "சுவாரசியமான-விசயங்கள்\n",
      "\n",
      "starting******************wait until closing**********\n",
      "scrolling completed\n",
      "clicking complete\n"
     ]
    },
    {
     "name": "stderr",
     "output_type": "stream",
     "text": [
      "\r",
      " 89%|█████████████████████████████████▋    | 127/143 [5:35:36<43:18, 162.43s/it]"
     ]
    },
    {
     "name": "stdout",
     "output_type": "stream",
     "text": [
      "closing***********************************************\n",
      "மாணவர்கள்\n",
      "\n",
      "starting******************wait until closing**********\n",
      "scrolling completed\n",
      "clicking complete\n"
     ]
    },
    {
     "name": "stderr",
     "output_type": "stream",
     "text": [
      "\r",
      " 90%|██████████████████████████████████    | 128/143 [5:38:04<39:31, 158.13s/it]"
     ]
    },
    {
     "name": "stdout",
     "output_type": "stream",
     "text": [
      "closing***********************************************\n",
      "பொது-அறிவு-3\n",
      "\n",
      "starting******************wait until closing**********\n",
      "scrolling completed\n",
      "clicking complete\n"
     ]
    },
    {
     "name": "stderr",
     "output_type": "stream",
     "text": [
      "\r",
      " 90%|██████████████████████████████████▎   | 129/143 [5:40:47<37:15, 159.71s/it]"
     ]
    },
    {
     "name": "stdout",
     "output_type": "stream",
     "text": [
      "closing***********************************************\n",
      "இந்து-மதம்\n",
      "\n",
      "starting******************wait until closing**********\n",
      "scrolling completed\n",
      "clicking complete\n"
     ]
    },
    {
     "name": "stderr",
     "output_type": "stream",
     "text": [
      "\r",
      " 91%|██████████████████████████████████▌   | 130/143 [5:44:04<37:01, 170.88s/it]"
     ]
    },
    {
     "name": "stdout",
     "output_type": "stream",
     "text": [
      "closing***********************************************\n",
      "இயற்கை\n",
      "\n",
      "starting******************wait until closing**********\n",
      "scrolling completed\n",
      "clicking complete\n"
     ]
    },
    {
     "name": "stderr",
     "output_type": "stream",
     "text": [
      "\r",
      " 92%|██████████████████████████████████▊   | 131/143 [5:46:50<33:51, 169.31s/it]"
     ]
    },
    {
     "name": "stdout",
     "output_type": "stream",
     "text": [
      "closing***********************************************\n",
      "புத்தகப்-பரிந்துரைகள்\n",
      "\n",
      "starting******************wait until closing**********\n",
      "scrolling completed\n",
      "clicking complete\n"
     ]
    },
    {
     "name": "stderr",
     "output_type": "stream",
     "text": [
      "\r",
      " 92%|███████████████████████████████████   | 132/143 [5:49:37<30:55, 168.69s/it]"
     ]
    },
    {
     "name": "stdout",
     "output_type": "stream",
     "text": [
      "closing***********************************************\n",
      "இந்திய-சினிமா\n",
      "\n",
      "starting******************wait until closing**********\n",
      "scrolling completed\n",
      "clicking complete\n"
     ]
    },
    {
     "name": "stderr",
     "output_type": "stream",
     "text": [
      "\r",
      " 93%|███████████████████████████████████▎  | 133/143 [5:52:07<27:11, 163.11s/it]"
     ]
    },
    {
     "name": "stdout",
     "output_type": "stream",
     "text": [
      "closing***********************************************\n",
      "நரேந்திர-மோடி\n",
      "\n",
      "starting******************wait until closing**********\n",
      "scrolling completed\n",
      "clicking complete\n"
     ]
    },
    {
     "name": "stderr",
     "output_type": "stream",
     "text": [
      "\r",
      " 94%|███████████████████████████████████▌  | 134/143 [5:54:50<24:27, 163.02s/it]"
     ]
    },
    {
     "name": "stdout",
     "output_type": "stream",
     "text": [
      "closing***********************************************\n",
      "திரைப்படத்-தயாரிப்பு\n",
      "\n",
      "starting******************wait until closing**********\n",
      "scrolling completed\n",
      "clicking complete\n"
     ]
    },
    {
     "name": "stderr",
     "output_type": "stream",
     "text": [
      "\r",
      " 94%|███████████████████████████████████▊  | 135/143 [5:57:17<21:06, 158.26s/it]"
     ]
    },
    {
     "name": "stdout",
     "output_type": "stream",
     "text": [
      "closing***********************************************\n",
      "பிரபஞ்சம்\n",
      "\n",
      "starting******************wait until closing**********\n",
      "scrolling completed\n",
      "clicking complete\n"
     ]
    },
    {
     "name": "stderr",
     "output_type": "stream",
     "text": [
      "\r",
      " 95%|████████████████████████████████████▏ | 136/143 [6:00:00<18:37, 159.62s/it]"
     ]
    },
    {
     "name": "stdout",
     "output_type": "stream",
     "text": [
      "closing***********************************************\n",
      "தமிழ்நாடு-இந்தியா\n",
      "\n",
      "starting******************wait until closing**********\n",
      "scrolling completed\n",
      "clicking complete\n"
     ]
    },
    {
     "name": "stderr",
     "output_type": "stream",
     "text": [
      "\r",
      " 96%|████████████████████████████████████▍ | 137/143 [6:02:39<15:56, 159.39s/it]"
     ]
    },
    {
     "name": "stdout",
     "output_type": "stream",
     "text": [
      "closing***********************************************\n",
      "விஞ்ஞானிகள்\n",
      "\n",
      "starting******************wait until closing**********\n",
      "scrolling completed\n",
      "clicking complete\n"
     ]
    },
    {
     "name": "stderr",
     "output_type": "stream",
     "text": [
      "\r",
      " 97%|████████████████████████████████████▋ | 138/143 [6:05:06<12:58, 155.66s/it]"
     ]
    },
    {
     "name": "stdout",
     "output_type": "stream",
     "text": [
      "closing***********************************************\n",
      "வாழ்க்கை-அனுபவம்\n",
      "\n",
      "starting******************wait until closing**********\n",
      "scrolling completed\n",
      "clicking complete\n"
     ]
    },
    {
     "name": "stderr",
     "output_type": "stream",
     "text": [
      "\r",
      " 97%|████████████████████████████████████▉ | 139/143 [6:07:49<10:32, 158.02s/it]"
     ]
    },
    {
     "name": "stdout",
     "output_type": "stream",
     "text": [
      "closing***********************************************\n",
      "இலக்கியம்\n",
      "\n",
      "starting******************wait until closing**********\n",
      "scrolling completed\n",
      "clicking complete\n"
     ]
    },
    {
     "name": "stderr",
     "output_type": "stream",
     "text": [
      "\r",
      " 98%|█████████████████████████████████████▏| 140/143 [6:10:29<07:55, 158.57s/it]"
     ]
    },
    {
     "name": "stdout",
     "output_type": "stream",
     "text": [
      "closing***********************************************\n",
      "இயற்பியல்\n",
      "\n",
      "starting******************wait until closing**********\n",
      "scrolling completed\n",
      "clicking complete\n"
     ]
    },
    {
     "name": "stderr",
     "output_type": "stream",
     "text": [
      "\r",
      " 99%|█████████████████████████████████████▍| 141/143 [6:13:27<05:28, 164.40s/it]"
     ]
    },
    {
     "name": "stdout",
     "output_type": "stream",
     "text": [
      "closing***********************************************\n",
      "விமானப்-பயணம்\n",
      "\n",
      "starting******************wait until closing**********\n",
      "scrolling completed\n",
      "clicking complete\n"
     ]
    },
    {
     "name": "stderr",
     "output_type": "stream",
     "text": [
      "\r",
      " 99%|█████████████████████████████████████▋| 142/143 [6:16:07<02:42, 162.91s/it]"
     ]
    },
    {
     "name": "stdout",
     "output_type": "stream",
     "text": [
      "closing***********************************************\n",
      "பள்ளிகள்\n",
      "\n",
      "starting******************wait until closing**********\n",
      "scrolling completed\n",
      "clicking complete\n"
     ]
    },
    {
     "name": "stderr",
     "output_type": "stream",
     "text": [
      "100%|██████████████████████████████████████| 143/143 [6:18:47<00:00, 158.93s/it]"
     ]
    },
    {
     "name": "stdout",
     "output_type": "stream",
     "text": [
      "closing***********************************************\n"
     ]
    },
    {
     "name": "stderr",
     "output_type": "stream",
     "text": [
      "\n"
     ]
    }
   ],
   "source": [
    "from tqdm import tqdm\n",
    "n=0\n",
    "for i in tqdm(links):\n",
    "    n+=1\n",
    "    encoded_text = i.split('/')[-1]\n",
    "    decoded_text = urllib.parse.unquote(encoded_text)\n",
    "    print(decoded_text)\n",
    "    try:\n",
    "        file_name = '/home/aki/GPT/tamil_llm/output/{}_{:04d}.txt'.format(decoded_text,n)\n",
    "        extract_text(i,file_name)\n",
    "    except:\n",
    "        pass   "
   ]
  },
  {
   "cell_type": "markdown",
   "id": "c4008ada",
   "metadata": {},
   "source": [
    "from selenium import webdriver\n",
    "from selenium.webdriver.common.keys import Keys\n",
    "import time\n",
    "from selenium.webdriver.common.by import By\n",
    "from selenium.webdriver.support.ui import WebDriverWait\n",
    "from selenium.webdriver.support import expected_conditions as ec\n",
    "import random\n",
    "import urllib.parse\n",
    "\n",
    "url_raw = 'https://ta.quora.com/topic/%E0%AE%85%E0%AE%B1%E0%AE%BF%E0%AE%B5%E0%AE%BF%E0%AE%AF%E0%AE%B2%E0%AF%8D'\n",
    "url = urllib.parse.unquote(url_raw)\n",
    "# Load the web page\n",
    "#options = webdriver.ChromeOptions()\n",
    "#options.add_argument('--headless')\n",
    "#driver = webdriver.Chrome(options=options)\n",
    "driver = webdriver.Chrome()\n",
    "driver.get(url)\n",
    "scroll_to_bottom(driver)\n",
    "print('scrolling completed')\n",
    "# Find all clickable \"மேலும் காண்க\" elements\n",
    "wait = WebDriverWait(driver, 10)\n",
    "elements = wait.until(ec.presence_of_all_elements_located((By.XPATH, \"//*[contains(text(), 'மேலும் காண்க')]\")))\n",
    "clickable_elements = []\n",
    "for element in elements:\n",
    "    if element.is_displayed() and element.is_enabled():\n",
    "        clickable_elements.append(element)\n",
    "\n",
    "# Click all the clickable \"மேலும் காண்க\" elements\n",
    "for element in clickable_elements:\n",
    "    driver.execute_script(\"arguments[0].click();\", element)\n",
    "print('clicking complete')"
   ]
  },
  {
   "cell_type": "markdown",
   "id": "cee1af57",
   "metadata": {},
   "source": [
    "html = driver.page_source"
   ]
  },
  {
   "cell_type": "markdown",
   "id": "268908e6",
   "metadata": {},
   "source": [
    "from bs4 import BeautifulSoup\n",
    "import json\n",
    "soup = BeautifulSoup(html, 'html.parser')\n",
    "\n",
    "soup = BeautifulSoup(html, 'html.parser')\n",
    "\n",
    "# Find all elements with class 'qu-mb--tiny'\n",
    "small_classes = soup.find_all(class_='qu-mb--tiny')\n",
    "x = 0\n",
    "# Loop over the small_classes and find the adjacent 'spacing_log_answer_content' class\n",
    "for small_class in small_classes:\n",
    "    adjacent_class = small_class.find_next(class_='spacing_log_answer_content')\n",
    "    if adjacent_class:     \n",
    "        mydict = {}\n",
    "        question = small_class.text.strip()\n",
    "        answer = adjacent_class.text.strip()\n",
    "        if len(question)>30:\n",
    "            x = x+1\n",
    "            mydict[\"question\"] = question\n",
    "            mydict[\"answer\"] = answer\n",
    "            # Open the JSON file in append mode\n",
    "            with open(\"qna_quora.txt\", \"a\",encoding='utf-8') as f:\n",
    "                f.write(str(mydict))          "
   ]
  },
  {
   "cell_type": "markdown",
   "id": "67211f7b",
   "metadata": {},
   "source": [
    "#finding next sibling\n",
    "from bs4 import BeautifulSoup\n",
    "# Create a BeautifulSoup object\n",
    "soup = BeautifulSoup(html, 'html.parser')\n",
    "question_elements = soup.find_all(class_='qu-mb--tiny')\n",
    "# Find all 'qu-mb--tiny' elements and iterate over each of them\n",
    "count = 0\n",
    "for question in question_elements:\n",
    "    # Find the next sibling element with class 'spacing_log_answer_content'\n",
    "    #answer = question.find_next_sibling(class_='spacing_log_answer_content')  \n",
    "    # Extract the text from both elements\n",
    "    if question:\n",
    "        #question_text = question.text(strip=True)\n",
    "        #answer_text = answer.text(strip=True)\n",
    "        # Print the question and answer\n",
    "        count+=1\n",
    "        print(count)\n",
    "        print(question.get_text().strip())\n",
    "        #print('Answer:', answer_text)\n",
    "        print('------------------------')\n"
   ]
  }
 ],
 "metadata": {
  "kernelspec": {
   "display_name": "Python 3 (ipykernel)",
   "language": "python",
   "name": "python3"
  },
  "language_info": {
   "codemirror_mode": {
    "name": "ipython",
    "version": 3
   },
   "file_extension": ".py",
   "mimetype": "text/x-python",
   "name": "python",
   "nbconvert_exporter": "python",
   "pygments_lexer": "ipython3",
   "version": "3.10.8"
  }
 },
 "nbformat": 4,
 "nbformat_minor": 5
}
