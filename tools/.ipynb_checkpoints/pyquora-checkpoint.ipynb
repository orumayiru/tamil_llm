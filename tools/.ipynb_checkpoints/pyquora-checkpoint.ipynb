{
 "cells": [
  {
   "cell_type": "code",
   "execution_count": 1,
   "id": "aa87b914",
   "metadata": {},
   "outputs": [
    {
     "name": "stdout",
     "output_type": "stream",
     "text": [
      "scrolling completed\n",
      "clicking complete\n"
     ]
    }
   ],
   "source": [
    "from selenium import webdriver\n",
    "from selenium.webdriver.common.keys import Keys\n",
    "import time\n",
    "from selenium.webdriver.common.by import By\n",
    "from selenium.webdriver.support.ui import WebDriverWait\n",
    "from selenium.webdriver.support import expected_conditions as ec\n",
    "url = 'https://ta.quora.com/topic/%E0%AE%85%E0%AE%B1%E0%AE%BF%E0%AE%B5%E0%AE%BF%E0%AE%AF%E0%AE%B2%E0%AF%8D'\n",
    "\n",
    "# Load the web page\n",
    "driver = webdriver.Chrome()\n",
    "driver.get(url)\n",
    "\n",
    "no_of_pages_toscroll = 1\n",
    "for i in range(no_of_pages_toscroll):\n",
    "    # Scroll down to the bottom of the page\n",
    "    driver.execute_script(\"window.scrollTo(0, document.body.scrollHeight);\")\n",
    "\n",
    "    # Wait for the page to load\n",
    "    time.sleep(2)\n",
    "print('scrolling completed')\n",
    "# Find all clickable \"மேலும் காண்க\" elements\n",
    "wait = WebDriverWait(driver, 10)\n",
    "elements = wait.until(ec.presence_of_all_elements_located((By.XPATH, \"//*[contains(text(), 'மேலும் காண்க')]\")))\n",
    "clickable_elements = []\n",
    "for element in elements:\n",
    "    if element.is_displayed() and element.is_enabled():\n",
    "        clickable_elements.append(element)\n",
    "\n",
    "# Click all the clickable \"மேலும் காண்க\" elements\n",
    "for element in clickable_elements:\n",
    "    driver.execute_script(\"arguments[0].click();\", element)\n",
    "print('clicking complete')"
   ]
  },
  {
   "cell_type": "code",
   "execution_count": 3,
   "id": "3dff0b68",
   "metadata": {},
   "outputs": [],
   "source": [
    "html = driver.page_source\n",
    "#html"
   ]
  },
  {
   "cell_type": "code",
   "execution_count": 4,
   "id": "c9fd3416",
   "metadata": {},
   "outputs": [],
   "source": [
    "#finding next sibling\n",
    "from bs4 import BeautifulSoup\n",
    "# Create a BeautifulSoup object\n",
    "soup = BeautifulSoup(html, 'html.parser')\n",
    "question_elements = soup.find_all(class_='qu-mb--tiny')\n",
    "# Find all 'qu-mb--tiny' elements and iterate over each of them\n",
    "for question in question_elements:\n",
    "    # Find the next sibling element with class 'spacing_log_answer_content'\n",
    "    answer = question.find_next_sibling(class_='spacing_log_answer_content')  \n",
    "    # Extract the text from both elements\n",
    "    if question and answer:\n",
    "        question_text = question.text(strip=True)\n",
    "        answer_text = answer.text(strip=True)\n",
    "        # Print the question and answer\n",
    "        print('Question:', question_text)\n",
    "        print('Answer:', answer_text)\n",
    "        print('------------------------')\n"
   ]
  },
  {
   "cell_type": "code",
   "execution_count": 5,
   "id": "96347308",
   "metadata": {},
   "outputs": [
    {
     "data": {
      "text/plain": [
       "'அறிவியல்'"
      ]
     },
     "execution_count": 5,
     "metadata": {},
     "output_type": "execute_result"
    }
   ],
   "source": [
    "question_elements[0].text"
   ]
  },
  {
   "cell_type": "code",
   "execution_count": null,
   "id": "22a256f8",
   "metadata": {},
   "outputs": [],
   "source": []
  }
 ],
 "metadata": {
  "kernelspec": {
   "display_name": "Python 3 (ipykernel)",
   "language": "python",
   "name": "python3"
  },
  "language_info": {
   "codemirror_mode": {
    "name": "ipython",
    "version": 3
   },
   "file_extension": ".py",
   "mimetype": "text/x-python",
   "name": "python",
   "nbconvert_exporter": "python",
   "pygments_lexer": "ipython3",
   "version": "3.9.15"
  }
 },
 "nbformat": 4,
 "nbformat_minor": 5
}
