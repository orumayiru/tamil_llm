{
 "cells": [
  {
   "cell_type": "code",
   "execution_count": 1,
   "id": "10177100",
   "metadata": {},
   "outputs": [],
   "source": [
    "from selenium import webdriver\n",
    "from selenium.webdriver.common.keys import Keys\n",
    "import time\n",
    "from selenium.webdriver.common.by import By\n",
    "from selenium.webdriver.support.ui import WebDriverWait\n",
    "from selenium.webdriver.support import expected_conditions as ec\n",
    "import random\n",
    "import urllib.parse\n",
    "from bs4 import BeautifulSoup\n",
    "import json\n",
    "import urllib.parse\n",
    "from selenium.common.exceptions import ElementNotInteractableException, StaleElementReferenceException,ElementClickInterceptedException\n"
   ]
  },
  {
   "cell_type": "code",
   "execution_count": 2,
   "id": "22a256f8",
   "metadata": {},
   "outputs": [
    {
     "name": "stdout",
     "output_type": "stream",
     "text": [
      "424\n",
      "394\n"
     ]
    }
   ],
   "source": [
    "with open('wiki_main_topics_links.txt',encoding='utf-8') as f:\n",
    "    links_raw = f.readlines()\n",
    "print(len(links_raw))\n",
    "links = list(set(links_raw))\n",
    "print(len((links)))"
   ]
  },
  {
   "cell_type": "code",
   "execution_count": 3,
   "id": "9c5a1a39",
   "metadata": {},
   "outputs": [],
   "source": [
    "def scroll_to_bottom(driver):\n",
    "    last_height = driver.execute_script(\"return document.body.scrollHeight\")\n",
    "    count = 0\n",
    "    while True:\n",
    "        # Scroll down to bottom\n",
    "        driver.execute_script(\"window.scrollTo(0, document.body.scrollHeight);\")\n",
    "\n",
    "        # Wait for page to load\n",
    "        time.sleep(random.uniform(1.5, 2.5))\n",
    "\n",
    "        # Calculate new scroll height and compare with last scroll height\n",
    "        new_height = driver.execute_script(\"return document.body.scrollHeight\")\n",
    "        if new_height == last_height:\n",
    "            count += 1\n",
    "            if count == 30:\n",
    "                break\n",
    "        else:\n",
    "            last_height = new_height\n",
    "            count = 0\n",
    "\n",
    "        # Simulate human-like scrolling by scrolling in smaller increments\n",
    "        #for i in range(3):\n",
    "         #   driver.find_element_by_tag_name('body').send_keys(Keys.PAGE_DOWN)\n",
    "          #  time.sleep(random.uniform(0.5, 1))\n",
    "def extract_text(url,file_name):\n",
    "    print('starting******************wait until closing**********')\n",
    "    options = webdriver.ChromeOptions()\n",
    "    options.add_argument('--headless')\n",
    "    driver = webdriver.Chrome(options=options)    \n",
    "    driver.get(url)\n",
    "    scroll_to_bottom(driver)\n",
    "    print('scrolling completed')\n",
    "    # Find all clickable \"மேலும் காண்க\" elements\n",
    "    wait = WebDriverWait(driver, 10)\n",
    "    elements = wait.until(ec.presence_of_all_elements_located((By.XPATH, \"//*[contains(text(), 'மேலும் காண்க' or 'more')]\")))\n",
    "    clickable_elements = []\n",
    "    for element in elements:\n",
    "        if element.is_displayed() and element.is_enabled():\n",
    "            clickable_elements.append(element)\n",
    "\n",
    "    # Click all the clickable \"மேலும் காண்க\" elements\n",
    "    for element in clickable_elements:\n",
    "        driver.execute_script(\"arguments[0].click();\", element)\n",
    "    print('clicking complete')\n",
    "    html = driver.page_source\n",
    "    soup = BeautifulSoup(html, 'html.parser')\n",
    "    # Find all elements with class 'qu-mb--tiny'\n",
    "    small_classes = soup.find_all(class_='qu-mb--tiny')\n",
    "    x = 0\n",
    "    # Loop over the small_classes and find the adjacent 'spacing_log_answer_content' class\n",
    "    for small_class in small_classes:\n",
    "        adjacent_class = small_class.find_next(class_='spacing_log_answer_content')\n",
    "        if adjacent_class:     \n",
    "            mydict = {}\n",
    "            question = small_class.text.strip()\n",
    "            answer = adjacent_class.text.strip()\n",
    "            if len(question)>30:\n",
    "                x = x+1\n",
    "                mydict[\"question\"] = question\n",
    "                mydict[\"answer\"] = answer\n",
    "                # Open the JSON file in append mode\n",
    "                with open(file_name, \"a\",encoding='utf-8') as f:\n",
    "                    f.write(str(mydict))\n",
    "                    f.write('\\n')\n",
    "    print('closing***********************************************')\n",
    "    driver.quit()    "
   ]
  },
  {
   "cell_type": "markdown",
   "id": "2d2947d7",
   "metadata": {},
   "source": [
    "# for quora topics"
   ]
  },
  {
   "cell_type": "code",
   "execution_count": null,
   "id": "f2a25d90",
   "metadata": {},
   "outputs": [
    {
     "name": "stderr",
     "output_type": "stream",
     "text": [
      "\r",
      "  0%|                                                   | 0/394 [00:00<?, ?it/s]"
     ]
    },
    {
     "name": "stdout",
     "output_type": "stream",
     "text": [
      "தமிழ்\n",
      "\n",
      "starting******************wait until closing**********\n",
      "scrolling completed\n",
      "clicking complete\n"
     ]
    },
    {
     "name": "stderr",
     "output_type": "stream",
     "text": [
      "\r",
      "  0%|                                       | 1/394 [04:55<32:18:41, 295.98s/it]"
     ]
    },
    {
     "name": "stdout",
     "output_type": "stream",
     "text": [
      "closing***********************************************\n",
      "புவியியல்_தொடர்பான_குறுங்கட்டுரைகள்\n",
      "\n",
      "starting******************wait until closing**********\n"
     ]
    }
   ],
   "source": [
    "from tqdm import tqdm\n",
    "n=0\n",
    "for i in tqdm(links):\n",
    "    n+=1\n",
    "    encoded_text = i.split('/')[-1]\n",
    "    decoded_text = urllib.parse.unquote(encoded_text)[9:].replace(' ','_')\n",
    "    print(decoded_text)\n",
    "    try:\n",
    "        file_name = '/home/aki/GPT/tamil_llm/output_topics/{}_{:04d}.txt'.format(decoded_text,n)\n",
    "        extract_text(i,file_name)\n",
    "    except:\n",
    "        pass   "
   ]
  },
  {
   "cell_type": "markdown",
   "id": "5f222473",
   "metadata": {},
   "source": [
    "from selenium import webdriver\n",
    "from selenium.webdriver.common.keys import Keys\n",
    "import time\n",
    "from selenium.webdriver.common.by import By\n",
    "from selenium.webdriver.support.ui import WebDriverWait\n",
    "from selenium.webdriver.support import expected_conditions as ec\n",
    "import random\n",
    "import urllib.parse\n",
    "\n",
    "url_raw = \"https://ta.quora.com/search?q=தமிழ் இலக்கணம்\"\n",
    "url = urllib.parse.unquote(url_raw)\n",
    "# Load the web page\n",
    "#options = webdriver.ChromeOptions()\n",
    "#options.add_argument('--headless')\n",
    "#driver = webdriver.Chrome(options=options)\n",
    "driver = webdriver.Chrome()\n",
    "driver.get(url)\n",
    "scroll_to_bottom(driver)\n",
    "print('scrolling completed')\n",
    "# Find all clickable \"மேலும் காண்க\" elements\n",
    "wait = WebDriverWait(driver, 10)\n",
    "elements = wait.until(ec.presence_of_all_elements_located((By.XPATH, \"//*[contains(text(), '(மேலும் காண்க)' or '(more)')]\")))\n",
    "clickable_elements = []\n",
    "for element in elements:\n",
    "    if element.is_displayed() and element.is_enabled():\n",
    "        clickable_elements.append(element)\n",
    "\n",
    "# Click all the clickable \"மேலும் காண்க\" elements\n",
    "for element in clickable_elements:\n",
    "    driver.execute_script(\"arguments[0].click();\", element)\n",
    "print('clicking complete')"
   ]
  },
  {
   "cell_type": "markdown",
   "id": "e8c5527c",
   "metadata": {},
   "source": [
    "html = driver.page_source"
   ]
  },
  {
   "cell_type": "markdown",
   "id": "72100525",
   "metadata": {},
   "source": [
    "from bs4 import BeautifulSoup\n",
    "import json\n",
    "soup = BeautifulSoup(html, 'html.parser')\n",
    "\n",
    "soup = BeautifulSoup(html, 'html.parser')\n",
    "\n",
    "# Find all elements with class 'qu-mb--tiny'\n",
    "small_classes = soup.find_all(class_='qu-mb--tiny')\n",
    "x = 0\n",
    "# Loop over the small_classes and find the adjacent 'spacing_log_answer_content' class\n",
    "for small_class in small_classes:\n",
    "    adjacent_class = small_class.find_next(class_='spacing_log_answer_content')\n",
    "    if adjacent_class:     \n",
    "        mydict = {}\n",
    "        question = small_class.text.strip()\n",
    "        answer = adjacent_class.text.strip()\n",
    "        if len(question)>30:\n",
    "            x = x+1\n",
    "            mydict[\"question\"] = question\n",
    "            mydict[\"answer\"] = answer\n",
    "            # Open the JSON file in append mode\n",
    "            with open(\"qna_quora.txt\", \"a\",encoding='utf-8') as f:\n",
    "                f.write(str(mydict))          "
   ]
  },
  {
   "cell_type": "markdown",
   "id": "53c959f3",
   "metadata": {},
   "source": [
    "#finding next sibling\n",
    "from bs4 import BeautifulSoup\n",
    "# Create a BeautifulSoup object\n",
    "soup = BeautifulSoup(html, 'html.parser')\n",
    "question_elements = soup.find_all(class_='qu-mb--tiny')\n",
    "# Find all 'qu-mb--tiny' elements and iterate over each of them\n",
    "count = 0\n",
    "for question in question_elements:\n",
    "    # Find the next sibling element with class 'spacing_log_answer_content'\n",
    "    #answer = question.find_next_sibling(class_='spacing_log_answer_content')  \n",
    "    # Extract the text from both elements\n",
    "    if question:\n",
    "        #question_text = question.text(strip=True)\n",
    "        #answer_text = answer.text(strip=True)\n",
    "        # Print the question and answer\n",
    "        count+=1\n",
    "        print(count)\n",
    "        print(question.get_text().strip())\n",
    "        #print('Answer:', answer_text)\n",
    "        print('------------------------')\n"
   ]
  },
  {
   "cell_type": "markdown",
   "id": "06a1d518",
   "metadata": {},
   "source": [
    "# for quora search and extract"
   ]
  },
  {
   "cell_type": "code",
   "execution_count": 4,
   "id": "ee747a47",
   "metadata": {},
   "outputs": [],
   "source": [
    "def extract_text_search_query(url,filename):\n",
    "    ls = []\n",
    "    print(\"starting scraping of {}***************************\".format(url))\n",
    "    options = webdriver.ChromeOptions()\n",
    "    options.add_argument('--headless')\n",
    "    driver = webdriver.Chrome(options=options)    \n",
    "    driver.get(url)\n",
    "    print('started scrolling********************')\n",
    "    scroll_to_bottom(driver)\n",
    "    print('Completed scrolling********************')\n",
    "    print('Started clicking********************')\n",
    "    click_element = driver.find_elements(By.CSS_SELECTOR,\".qt_read_more\")\n",
    "    for element in click_element:        \n",
    "        driver.execute_script(\"arguments[0].click();\", element)\n",
    "    print('Finished clicking********************')\n",
    "    question_element = driver.find_elements(By.CSS_SELECTOR,\".qu-pb--tiny\")\n",
    "    print('extracting text **************************************')\n",
    "    for element in question_element:\n",
    "        q = element.find_elements(By.CSS_SELECTOR,\".puppeteer_test_question_title\")\n",
    "        a = element.find_elements(By.CSS_SELECTOR,\".puppeteer_test_answer_content\")\n",
    "        q_text = ''\n",
    "        a_text = ''\n",
    "        for i in q:\n",
    "            q_text = q_text + i.text\n",
    "        for j in a:\n",
    "            a_text = a_text + j.text\n",
    "        if a_text:     \n",
    "            mydict = {}\n",
    "            if len(q_text)>20:                \n",
    "                    mydict[\"question\"] = q_text\n",
    "                    mydict[\"answer\"] = a_text\n",
    "                    # Open the JSON file in append mode\n",
    "                    ls.append(mydict)\n",
    "                    print('Finished extracting text***********************')\n",
    "    with open(filename, 'w',encoding='utf-8') as f:\n",
    "        json.dump(ls, f, ensure_ascii=False, indent=4)\n",
    "    \n",
    "    "
   ]
  },
  {
   "cell_type": "code",
   "execution_count": 5,
   "id": "90b8d126",
   "metadata": {},
   "outputs": [
    {
     "name": "stderr",
     "output_type": "stream",
     "text": [
      "\r",
      "  0%|                                                   | 0/394 [00:00<?, ?it/s]"
     ]
    },
    {
     "name": "stdout",
     "output_type": "stream",
     "text": [
      "தமிழ்_தொன்மவியல்\n",
      "\n",
      "starting scraping of https://ta.quora.com/search?q=தமிழ் தொன்மவியல்\n",
      "***************************\n",
      "started scrolling********************\n",
      "Completed scrolling********************\n",
      "Started clicking********************\n",
      "Finished clicking********************\n",
      "extracting text **************************************\n"
     ]
    },
    {
     "name": "stderr",
     "output_type": "stream",
     "text": [
      "\r",
      "  0%|                                         | 1/394 [01:09<7:38:21, 69.98s/it]"
     ]
    },
    {
     "name": "stdout",
     "output_type": "stream",
     "text": [
      "Finished extracting text***********************\n",
      "தமிழியல்\n",
      "\n",
      "starting scraping of https://ta.quora.com/search?q=தமிழியல்\n",
      "***************************\n",
      "started scrolling********************\n",
      "Completed scrolling********************\n",
      "Started clicking********************\n",
      "Finished clicking********************\n",
      "extracting text **************************************\n"
     ]
    },
    {
     "name": "stderr",
     "output_type": "stream",
     "text": [
      "\r",
      "  1%|▏                                      | 2/394 [04:08<14:34:35, 133.87s/it]"
     ]
    },
    {
     "name": "stdout",
     "output_type": "stream",
     "text": [
      "Finished extracting text***********************\n",
      "தொலைத்தொடர்பு\n",
      "\n",
      "starting scraping of https://ta.quora.com/search?q=தொலைத்தொடர்பு\n",
      "***************************\n",
      "started scrolling********************\n",
      "Completed scrolling********************\n",
      "Started clicking********************\n",
      "Finished clicking********************\n",
      "extracting text **************************************\n"
     ]
    },
    {
     "name": "stderr",
     "output_type": "stream",
     "text": [
      "\r",
      "  1%|▎                                      | 3/394 [06:10<13:56:55, 128.43s/it]"
     ]
    },
    {
     "name": "stdout",
     "output_type": "stream",
     "text": [
      "Finished extracting text***********************\n",
      "திருக்குறள்_மொழிபெயர்ப்பாளர்கள்\n",
      "\n",
      "starting scraping of https://ta.quora.com/search?q=திருக்குறள் மொழிபெயர்ப்பாளர்கள்\n",
      "***************************\n",
      "started scrolling********************\n",
      "Completed scrolling********************\n",
      "Started clicking********************\n",
      "Finished clicking********************\n",
      "extracting text **************************************\n"
     ]
    },
    {
     "name": "stderr",
     "output_type": "stream",
     "text": [
      "\r",
      "  1%|▍                                      | 4/394 [07:18<11:18:38, 104.41s/it]"
     ]
    },
    {
     "name": "stdout",
     "output_type": "stream",
     "text": [
      "Finished extracting text***********************\n",
      "மத்திய_கிழக்கின்_வரலாறு\n",
      "\n",
      "starting scraping of https://ta.quora.com/search?q=மத்திய கிழக்கின் வரலாறு\n",
      "***************************\n",
      "started scrolling********************\n",
      "Completed scrolling********************\n",
      "Started clicking********************\n",
      "Finished clicking********************\n",
      "extracting text **************************************\n"
     ]
    },
    {
     "name": "stderr",
     "output_type": "stream",
     "text": [
      "\r",
      "  1%|▌                                       | 5/394 [08:31<10:05:11, 93.34s/it]"
     ]
    },
    {
     "name": "stdout",
     "output_type": "stream",
     "text": [
      "Finished extracting text***********************\n",
      "உறையுள்\n",
      "\n",
      "starting scraping of https://ta.quora.com/search?q=உறையுள்\n",
      "***************************\n",
      "started scrolling********************\n",
      "Completed scrolling********************\n",
      "Started clicking********************\n",
      "Finished clicking********************\n",
      "extracting text **************************************\n"
     ]
    },
    {
     "name": "stderr",
     "output_type": "stream",
     "text": [
      "\r",
      "  2%|▌                                       | 6/394 [10:19<10:35:50, 98.33s/it]"
     ]
    },
    {
     "name": "stdout",
     "output_type": "stream",
     "text": [
      "Finished extracting text***********************\n",
      "காலநிலை\n",
      "\n",
      "starting scraping of https://ta.quora.com/search?q=காலநிலை\n",
      "***************************\n",
      "started scrolling********************\n",
      "Completed scrolling********************\n",
      "Started clicking********************\n",
      "Finished clicking********************\n",
      "extracting text **************************************\n"
     ]
    },
    {
     "name": "stderr",
     "output_type": "stream",
     "text": [
      "\r",
      "  2%|▋                                      | 7/394 [13:23<13:34:38, 126.30s/it]"
     ]
    },
    {
     "name": "stdout",
     "output_type": "stream",
     "text": [
      "Finished extracting text***********************\n",
      "அராபியப்_பண்பாடு\n",
      "\n",
      "starting scraping of https://ta.quora.com/search?q=அராபியப் பண்பாடு\n",
      "***************************\n",
      "started scrolling********************\n"
     ]
    },
    {
     "name": "stderr",
     "output_type": "stream",
     "text": [
      "\r",
      "  2%|▊                                      | 8/394 [14:27<11:24:33, 106.41s/it]"
     ]
    },
    {
     "name": "stdout",
     "output_type": "stream",
     "text": [
      "Completed scrolling********************\n",
      "Started clicking********************\n",
      "Finished clicking********************\n",
      "extracting text **************************************\n",
      "Finished extracting text***********************\n",
      "கண்டுபிடிப்புகள்\n",
      "\n",
      "starting scraping of https://ta.quora.com/search?q=கண்டுபிடிப்புகள்\n",
      "***************************\n",
      "started scrolling********************\n",
      "Completed scrolling********************\n",
      "Started clicking********************\n",
      "Finished clicking********************\n",
      "extracting text **************************************\n"
     ]
    },
    {
     "name": "stderr",
     "output_type": "stream",
     "text": [
      "\r",
      "  2%|▉                                      | 9/394 [17:20<13:35:38, 127.11s/it]"
     ]
    },
    {
     "name": "stdout",
     "output_type": "stream",
     "text": [
      "Finished extracting text***********************\n",
      "தமிழ்_மொழித்_துறையினர்\n",
      "\n",
      "starting scraping of https://ta.quora.com/search?q=தமிழ் மொழித் துறையினர்\n",
      "***************************\n",
      "started scrolling********************\n",
      "Completed scrolling********************\n",
      "Started clicking********************\n",
      "Finished clicking********************\n",
      "extracting text **************************************\n"
     ]
    },
    {
     "name": "stderr",
     "output_type": "stream",
     "text": [
      "\r",
      "  3%|▉                                     | 10/394 [18:23<11:27:21, 107.40s/it]"
     ]
    },
    {
     "name": "stdout",
     "output_type": "stream",
     "text": [
      "Finished extracting text***********************\n",
      "பாலைவனங்கள்\n",
      "\n",
      "starting scraping of https://ta.quora.com/search?q=பாலைவனங்கள்\n",
      "***************************\n",
      "started scrolling********************\n",
      "Completed scrolling********************\n",
      "Started clicking********************\n",
      "Finished clicking********************\n",
      "extracting text **************************************\n"
     ]
    },
    {
     "name": "stderr",
     "output_type": "stream",
     "text": [
      "\r",
      "  3%|█                                     | 11/394 [19:57<11:00:09, 103.42s/it]"
     ]
    },
    {
     "name": "stdout",
     "output_type": "stream",
     "text": [
      "Finished extracting text***********************\n",
      "செய்திகள்\n",
      "\n",
      "starting scraping of https://ta.quora.com/search?q=செய்திகள்\n",
      "***************************\n",
      "started scrolling********************\n",
      "Completed scrolling********************\n",
      "Started clicking********************\n",
      "Finished clicking********************\n",
      "extracting text **************************************\n"
     ]
    },
    {
     "name": "stderr",
     "output_type": "stream",
     "text": [
      "\r",
      "  3%|█▏                                    | 12/394 [24:25<16:17:02, 153.46s/it]"
     ]
    },
    {
     "name": "stdout",
     "output_type": "stream",
     "text": [
      "Finished extracting text***********************\n",
      "இடங்கள்\n",
      "\n",
      "starting scraping of https://ta.quora.com/search?q=இடங்கள்\n",
      "***************************\n",
      "started scrolling********************\n",
      "Completed scrolling********************\n",
      "Started clicking********************\n",
      "Finished clicking********************\n",
      "extracting text **************************************\n"
     ]
    },
    {
     "name": "stderr",
     "output_type": "stream",
     "text": [
      "\r",
      "  3%|█▎                                    | 13/394 [31:36<25:07:45, 237.44s/it]"
     ]
    },
    {
     "name": "stdout",
     "output_type": "stream",
     "text": [
      "Finished extracting text***********************\n",
      "ஆடைகள்\n",
      "\n",
      "starting scraping of https://ta.quora.com/search?q=ஆடைகள்\n",
      "***************************\n",
      "started scrolling********************\n",
      "Completed scrolling********************\n",
      "Started clicking********************\n",
      "Finished clicking********************\n",
      "extracting text **************************************\n"
     ]
    },
    {
     "name": "stderr",
     "output_type": "stream",
     "text": [
      "\r",
      "  4%|█▎                                    | 14/394 [33:46<21:37:40, 204.90s/it]"
     ]
    },
    {
     "name": "stdout",
     "output_type": "stream",
     "text": [
      "Finished extracting text***********************\n",
      "பெருங்கடல்_ஆய்வியல்\n",
      "\n",
      "starting scraping of https://ta.quora.com/search?q=பெருங்கடல் ஆய்வியல்\n",
      "***************************\n",
      "started scrolling********************\n"
     ]
    },
    {
     "name": "stderr",
     "output_type": "stream",
     "text": [
      "\r",
      "  4%|█▍                                    | 15/394 [34:53<17:11:34, 163.31s/it]"
     ]
    },
    {
     "name": "stdout",
     "output_type": "stream",
     "text": [
      "Completed scrolling********************\n",
      "Started clicking********************\n",
      "Finished clicking********************\n",
      "extracting text **************************************\n",
      "Finished extracting text***********************\n",
      "கலைகளுடன்_தொடர்புடையவர்கள்\n",
      "\n",
      "starting scraping of https://ta.quora.com/search?q=கலைகளுடன் தொடர்புடையவர்கள்\n",
      "***************************\n",
      "started scrolling********************\n"
     ]
    },
    {
     "name": "stderr",
     "output_type": "stream",
     "text": [
      "\r",
      "  4%|█▌                                    | 16/394 [35:55<13:57:44, 132.98s/it]"
     ]
    },
    {
     "name": "stdout",
     "output_type": "stream",
     "text": [
      "Completed scrolling********************\n",
      "Started clicking********************\n",
      "Finished clicking********************\n",
      "extracting text **************************************\n",
      "Finished extracting text***********************\n",
      "சமயங்கள்_வாரியாக_அமைப்புகள்\n",
      "\n",
      "starting scraping of https://ta.quora.com/search?q=சமயங்கள் வாரியாக அமைப்புகள்\n",
      "***************************\n",
      "started scrolling********************\n"
     ]
    },
    {
     "name": "stderr",
     "output_type": "stream",
     "text": [
      "\r",
      "  4%|█▋                                    | 17/394 [37:00<11:46:38, 112.46s/it]"
     ]
    },
    {
     "name": "stdout",
     "output_type": "stream",
     "text": [
      "Completed scrolling********************\n",
      "Started clicking********************\n",
      "Finished clicking********************\n",
      "extracting text **************************************\n",
      "Finished extracting text***********************\n",
      "வெடிபொருள்கள்\n",
      "\n",
      "starting scraping of https://ta.quora.com/search?q=வெடிபொருள்கள்\n",
      "***************************\n",
      "started scrolling********************\n",
      "Completed scrolling********************\n",
      "Started clicking********************\n",
      "Finished clicking********************\n",
      "extracting text **************************************\n"
     ]
    },
    {
     "name": "stderr",
     "output_type": "stream",
     "text": [
      "\r",
      "  5%|█▊                                     | 18/394 [38:04<10:13:28, 97.89s/it]"
     ]
    },
    {
     "name": "stdout",
     "output_type": "stream",
     "text": [
      "Finished extracting text***********************\n",
      "கோட்டைகள்\n",
      "\n",
      "starting scraping of https://ta.quora.com/search?q=கோட்டைகள்\n",
      "***************************\n",
      "started scrolling********************\n",
      "Completed scrolling********************\n",
      "Started clicking********************\n",
      "Finished clicking********************\n",
      "extracting text **************************************\n"
     ]
    },
    {
     "name": "stderr",
     "output_type": "stream",
     "text": [
      "\r",
      "  5%|█▊                                    | 19/394 [40:40<12:01:00, 115.36s/it]"
     ]
    },
    {
     "name": "stdout",
     "output_type": "stream",
     "text": [
      "Finished extracting text***********************\n",
      "கிரியோல்_பண்பாடு\n",
      "\n",
      "starting scraping of https://ta.quora.com/search?q=கிரியோல் பண்பாடு\n",
      "***************************\n",
      "started scrolling********************\n"
     ]
    },
    {
     "name": "stderr",
     "output_type": "stream",
     "text": [
      "\r",
      "  5%|█▉                                    | 20/394 [41:45<10:24:55, 100.26s/it]"
     ]
    },
    {
     "name": "stdout",
     "output_type": "stream",
     "text": [
      "Completed scrolling********************\n",
      "Started clicking********************\n",
      "Finished clicking********************\n",
      "extracting text **************************************\n",
      "Finished extracting text***********************\n",
      "தொழில்நுட்பங்கள்\n",
      "\n",
      "starting scraping of https://ta.quora.com/search?q=தொழில்நுட்பங்கள்\n",
      "***************************\n",
      "started scrolling********************\n",
      "Completed scrolling********************\n",
      "Started clicking********************\n",
      "Finished clicking********************\n",
      "extracting text **************************************\n"
     ]
    },
    {
     "name": "stderr",
     "output_type": "stream",
     "text": [
      "\r",
      "  5%|██                                    | 21/394 [43:59<11:25:32, 110.27s/it]"
     ]
    },
    {
     "name": "stdout",
     "output_type": "stream",
     "text": [
      "Finished extracting text***********************\n",
      "தமிழ்ப்_பாடல்கள்\n",
      "\n",
      "starting scraping of https://ta.quora.com/search?q=தமிழ்ப் பாடல்கள்\n",
      "***************************\n",
      "started scrolling********************\n"
     ]
    },
    {
     "name": "stderr",
     "output_type": "stream",
     "text": [
      "\r",
      "  6%|██▏                                    | 22/394 [45:05<10:02:20, 97.15s/it]"
     ]
    },
    {
     "name": "stdout",
     "output_type": "stream",
     "text": [
      "Completed scrolling********************\n",
      "Started clicking********************\n",
      "Finished clicking********************\n",
      "extracting text **************************************\n",
      "Finished extracting text***********************\n",
      "புவியியல்_பாடத்தின்_அடிப்படையில்_வரலாற்றாளர்கள்\n",
      "\n",
      "starting scraping of https://ta.quora.com/search?q=புவியியல் பாடத்தின் அடிப்படையில் வரலாற்றாளர்கள்\n",
      "***************************\n",
      "started scrolling********************\n"
     ]
    },
    {
     "name": "stderr",
     "output_type": "stream",
     "text": [
      "\r",
      "  6%|██▎                                     | 23/394 [46:10<9:01:07, 87.51s/it]"
     ]
    },
    {
     "name": "stdout",
     "output_type": "stream",
     "text": [
      "Completed scrolling********************\n",
      "Started clicking********************\n",
      "Finished clicking********************\n",
      "extracting text **************************************\n",
      "Finished extracting text***********************\n",
      "செயற்கை_பொருட்கள்\n",
      "\n",
      "starting scraping of https://ta.quora.com/search?q=செயற்கை பொருட்கள்\n",
      "***************************\n",
      "started scrolling********************\n",
      "Completed scrolling********************\n",
      "Started clicking********************\n",
      "Finished clicking********************\n",
      "extracting text **************************************\n"
     ]
    },
    {
     "name": "stderr",
     "output_type": "stream",
     "text": [
      "\r",
      "  6%|██▎                                   | 24/394 [49:55<13:13:23, 128.66s/it]"
     ]
    },
    {
     "name": "stdout",
     "output_type": "stream",
     "text": [
      "Finished extracting text***********************\n",
      "தமிழ்\n",
      "\n",
      "starting scraping of https://ta.quora.com/search?q=தமிழ்\n",
      "***************************\n",
      "started scrolling********************\n"
     ]
    },
    {
     "name": "stderr",
     "output_type": "stream",
     "text": [
      "\r",
      "  6%|██▍                                   | 25/394 [54:25<17:32:47, 171.19s/it]"
     ]
    },
    {
     "name": "stdout",
     "output_type": "stream",
     "text": [
      "Completed scrolling********************\n",
      "Started clicking********************\n",
      "Finished clicking********************\n",
      "extracting text **************************************\n",
      "Finished extracting text***********************\n",
      "இனங்கள்\n",
      "\n",
      "starting scraping of https://ta.quora.com/search?q=இனங்கள்\n",
      "***************************\n",
      "started scrolling********************\n"
     ]
    },
    {
     "name": "stderr",
     "output_type": "stream",
     "text": [
      "\r",
      "  7%|██▌                                   | 26/394 [55:52<14:54:04, 145.77s/it]"
     ]
    },
    {
     "name": "stdout",
     "output_type": "stream",
     "text": [
      "Completed scrolling********************\n",
      "Started clicking********************\n",
      "Finished clicking********************\n",
      "extracting text **************************************\n",
      "Finished extracting text***********************\n",
      "தமிழர்_கணக்கியல்\n",
      "\n",
      "starting scraping of https://ta.quora.com/search?q=தமிழர் கணக்கியல்\n",
      "***************************\n",
      "started scrolling********************\n"
     ]
    },
    {
     "name": "stderr",
     "output_type": "stream",
     "text": [
      "\r",
      "  7%|██▌                                   | 27/394 [56:56<12:21:55, 121.30s/it]"
     ]
    },
    {
     "name": "stdout",
     "output_type": "stream",
     "text": [
      "Completed scrolling********************\n",
      "Started clicking********************\n",
      "Finished clicking********************\n",
      "extracting text **************************************\n",
      "Finished extracting text***********************\n",
      "தமிழ்_நூலகவியல்\n",
      "\n",
      "starting scraping of https://ta.quora.com/search?q=தமிழ் நூலகவியல்\n",
      "***************************\n",
      "started scrolling********************\n"
     ]
    },
    {
     "name": "stderr",
     "output_type": "stream",
     "text": [
      "\r",
      "  7%|██▋                                   | 28/394 [57:59<10:33:02, 103.78s/it]"
     ]
    },
    {
     "name": "stdout",
     "output_type": "stream",
     "text": [
      "Completed scrolling********************\n",
      "Started clicking********************\n",
      "Finished clicking********************\n",
      "extracting text **************************************\n",
      "Finished extracting text***********************\n",
      "தொழில்துறைகள்\n",
      "\n",
      "starting scraping of https://ta.quora.com/search?q=தொழில்துறைகள்\n",
      "***************************\n",
      "started scrolling********************\n",
      "Completed scrolling********************\n",
      "Started clicking********************\n",
      "Finished clicking********************\n",
      "extracting text **************************************\n"
     ]
    },
    {
     "name": "stderr",
     "output_type": "stream",
     "text": [
      "\r",
      "  7%|██▉                                     | 29/394 [59:06<9:25:28, 92.95s/it]"
     ]
    },
    {
     "name": "stdout",
     "output_type": "stream",
     "text": [
      "Finished extracting text***********************\n",
      "கல்வி\n",
      "\n",
      "starting scraping of https://ta.quora.com/search?q=கல்வி\n",
      "***************************\n",
      "started scrolling********************\n"
     ]
    },
    {
     "name": "stderr",
     "output_type": "stream",
     "text": [
      "\r",
      "  8%|██▉                                   | 30/394 [1:00:37<9:19:34, 92.24s/it]"
     ]
    },
    {
     "name": "stdout",
     "output_type": "stream",
     "text": [
      "Completed scrolling********************\n",
      "Started clicking********************\n",
      "Finished clicking********************\n",
      "extracting text **************************************\n",
      "Finished extracting text***********************\n",
      "பண்பாட்டுப்_பொருளாதாரம்\n",
      "\n",
      "starting scraping of https://ta.quora.com/search?q=பண்பாட்டுப் பொருளாதாரம்\n",
      "***************************\n",
      "started scrolling********************\n"
     ]
    },
    {
     "name": "stderr",
     "output_type": "stream",
     "text": [
      "\r",
      "  8%|██▉                                   | 31/394 [1:01:42<8:29:23, 84.20s/it]"
     ]
    },
    {
     "name": "stdout",
     "output_type": "stream",
     "text": [
      "Completed scrolling********************\n",
      "Started clicking********************\n",
      "Finished clicking********************\n",
      "extracting text **************************************\n",
      "Finished extracting text***********************\n",
      "சூழலியல்\n",
      "\n",
      "starting scraping of https://ta.quora.com/search?q=சூழலியல்\n",
      "***************************\n",
      "started scrolling********************\n"
     ]
    },
    {
     "name": "stderr",
     "output_type": "stream",
     "text": [
      "\r",
      "  8%|███                                   | 32/394 [1:02:56<8:08:24, 80.95s/it]"
     ]
    },
    {
     "name": "stdout",
     "output_type": "stream",
     "text": [
      "Completed scrolling********************\n",
      "Started clicking********************\n",
      "Finished clicking********************\n",
      "extracting text **************************************\n",
      "Finished extracting text***********************\n",
      "நகரப்_புவியியல்\n",
      "\n",
      "starting scraping of https://ta.quora.com/search?q=நகரப் புவியியல்\n",
      "***************************\n",
      "started scrolling********************\n",
      "Completed scrolling********************\n",
      "Started clicking********************\n",
      "Finished clicking********************\n",
      "extracting text **************************************\n"
     ]
    },
    {
     "name": "stderr",
     "output_type": "stream",
     "text": [
      "\r",
      "  8%|███▏                                  | 33/394 [1:04:03<7:41:40, 76.73s/it]"
     ]
    },
    {
     "name": "stdout",
     "output_type": "stream",
     "text": [
      "Finished extracting text***********************\n",
      "பேரரசுகள்\n",
      "\n",
      "starting scraping of https://ta.quora.com/search?q=பேரரசுகள்\n",
      "***************************\n",
      "started scrolling********************\n",
      "Completed scrolling********************\n",
      "Started clicking********************\n",
      "Finished clicking********************\n",
      "extracting text **************************************\n"
     ]
    },
    {
     "name": "stderr",
     "output_type": "stream",
     "text": [
      "\r",
      "  9%|███▎                                  | 34/394 [1:05:58<8:50:25, 88.40s/it]"
     ]
    },
    {
     "name": "stdout",
     "output_type": "stream",
     "text": [
      "Finished extracting text***********************\n",
      "வரலாற்றில்_பெண்கள்\n",
      "\n",
      "starting scraping of https://ta.quora.com/search?q=வரலாற்றில் பெண்கள்\n",
      "***************************\n",
      "started scrolling********************\n",
      "Completed scrolling********************\n",
      "Started clicking********************\n",
      "Finished clicking********************\n",
      "extracting text **************************************\n"
     ]
    },
    {
     "name": "stderr",
     "output_type": "stream",
     "text": [
      "\r",
      "  9%|███▏                                | 35/394 [1:08:42<11:03:53, 110.96s/it]"
     ]
    },
    {
     "name": "stdout",
     "output_type": "stream",
     "text": [
      "Finished extracting text***********************\n",
      "பண்டைய_ஐரோப்பிய_சமயங்கள்\n",
      "\n",
      "starting scraping of https://ta.quora.com/search?q=பண்டைய ஐரோப்பிய சமயங்கள்\n",
      "***************************\n",
      "started scrolling********************\n",
      "Completed scrolling********************\n",
      "Started clicking********************\n",
      "Finished clicking********************\n",
      "extracting text **************************************\n"
     ]
    },
    {
     "name": "stderr",
     "output_type": "stream",
     "text": [
      "\r",
      "  9%|███▍                                  | 36/394 [1:09:47<9:40:03, 97.22s/it]"
     ]
    },
    {
     "name": "stdout",
     "output_type": "stream",
     "text": [
      "Finished extracting text***********************\n",
      "கணித_மாதிரியியல்\n",
      "\n",
      "starting scraping of https://ta.quora.com/search?q=கணித மாதிரியியல்\n",
      "***************************\n",
      "started scrolling********************\n"
     ]
    },
    {
     "name": "stderr",
     "output_type": "stream",
     "text": [
      "\r",
      "  9%|███▌                                  | 37/394 [1:10:51<8:39:43, 87.35s/it]"
     ]
    },
    {
     "name": "stdout",
     "output_type": "stream",
     "text": [
      "Completed scrolling********************\n",
      "Started clicking********************\n",
      "Finished clicking********************\n",
      "extracting text **************************************\n",
      "Finished extracting text***********************\n",
      "மனிதர்கள்\n",
      "\n",
      "starting scraping of https://ta.quora.com/search?q=மனிதர்கள்\n",
      "***************************\n",
      "started scrolling********************\n"
     ]
    },
    {
     "name": "stderr",
     "output_type": "stream",
     "text": [
      "\r",
      " 10%|███▍                                | 38/394 [1:16:43<16:29:27, 166.76s/it]"
     ]
    },
    {
     "name": "stdout",
     "output_type": "stream",
     "text": [
      "Completed scrolling********************\n",
      "Started clicking********************\n",
      "Finished clicking********************\n",
      "extracting text **************************************\n",
      "Finished extracting text***********************\n",
      "இசை\n",
      "\n",
      "starting scraping of https://ta.quora.com/search?q=இசை\n",
      "***************************\n",
      "started scrolling********************\n"
     ]
    },
    {
     "name": "stderr",
     "output_type": "stream",
     "text": [
      "\r",
      " 10%|███▌                                | 39/394 [1:18:20<14:22:35, 145.79s/it]"
     ]
    },
    {
     "name": "stdout",
     "output_type": "stream",
     "text": [
      "Completed scrolling********************\n",
      "Started clicking********************\n",
      "Finished clicking********************\n",
      "extracting text **************************************\n",
      "Finished extracting text***********************\n",
      "வரைகலை\n",
      "\n",
      "starting scraping of https://ta.quora.com/search?q=வரைகலை\n",
      "***************************\n",
      "started scrolling********************\n"
     ]
    },
    {
     "name": "stderr",
     "output_type": "stream",
     "text": [
      "\r",
      " 10%|███▋                                | 40/394 [1:19:40<12:22:33, 125.86s/it]"
     ]
    },
    {
     "name": "stdout",
     "output_type": "stream",
     "text": [
      "Completed scrolling********************\n",
      "Started clicking********************\n",
      "Finished clicking********************\n",
      "extracting text **************************************\n",
      "Finished extracting text***********************\n",
      "கலை_வார்ப்புருக்கள்\n",
      "\n",
      "starting scraping of https://ta.quora.com/search?q=கலை வார்ப்புருக்கள்\n",
      "***************************\n",
      "started scrolling********************\n"
     ]
    },
    {
     "name": "stderr",
     "output_type": "stream",
     "text": [
      "\r",
      " 10%|███▋                                | 41/394 [1:20:46<10:34:39, 107.87s/it]"
     ]
    },
    {
     "name": "stdout",
     "output_type": "stream",
     "text": [
      "Completed scrolling********************\n",
      "Started clicking********************\n",
      "Finished clicking********************\n",
      "extracting text **************************************\n",
      "Finished extracting text***********************\n",
      "காவல்துறை\n",
      "\n",
      "starting scraping of https://ta.quora.com/search?q=காவல்துறை\n",
      "***************************\n",
      "started scrolling********************\n",
      "Completed scrolling********************\n",
      "Started clicking********************\n",
      "Finished clicking********************\n",
      "extracting text **************************************\n"
     ]
    },
    {
     "name": "stderr",
     "output_type": "stream",
     "text": [
      "\r",
      " 11%|███▊                                | 42/394 [1:24:10<13:22:33, 136.80s/it]"
     ]
    },
    {
     "name": "stdout",
     "output_type": "stream",
     "text": [
      "Finished extracting text***********************\n",
      "நகைச்சுவை\n",
      "\n",
      "starting scraping of https://ta.quora.com/search?q=நகைச்சுவை\n",
      "***************************\n",
      "started scrolling********************\n",
      "Completed scrolling********************\n",
      "Started clicking********************\n",
      "Finished clicking********************\n",
      "extracting text **************************************\n"
     ]
    },
    {
     "name": "stderr",
     "output_type": "stream",
     "text": [
      "\r",
      " 11%|███▉                                | 43/394 [1:28:44<17:22:04, 178.13s/it]"
     ]
    },
    {
     "name": "stdout",
     "output_type": "stream",
     "text": [
      "Finished extracting text***********************\n",
      "பண்டைய_கிரேக்க_அறிவியல்\n",
      "\n",
      "starting scraping of https://ta.quora.com/search?q=பண்டைய கிரேக்க அறிவியல்\n",
      "***************************\n",
      "started scrolling********************\n",
      "Completed scrolling********************\n",
      "Started clicking********************\n",
      "Finished clicking********************\n",
      "extracting text **************************************\n"
     ]
    },
    {
     "name": "stderr",
     "output_type": "stream",
     "text": [
      "\r",
      " 11%|████                                | 44/394 [1:30:40<15:29:22, 159.32s/it]"
     ]
    },
    {
     "name": "stdout",
     "output_type": "stream",
     "text": [
      "Finished extracting text***********************\n",
      "செப்பேடுகள்\n",
      "\n",
      "starting scraping of https://ta.quora.com/search?q=செப்பேடுகள்\n",
      "***************************\n",
      "started scrolling********************\n",
      "Completed scrolling********************\n",
      "Started clicking********************\n",
      "Finished clicking********************\n",
      "extracting text **************************************\n"
     ]
    },
    {
     "name": "stderr",
     "output_type": "stream",
     "text": [
      "\r",
      " 11%|████                                | 45/394 [1:32:41<14:20:11, 147.88s/it]"
     ]
    },
    {
     "name": "stdout",
     "output_type": "stream",
     "text": [
      "Finished extracting text***********************\n",
      "ஆய்வுக்கூடங்கள்\n",
      "\n",
      "starting scraping of https://ta.quora.com/search?q=ஆய்வுக்கூடங்கள்\n",
      "***************************\n",
      "started scrolling********************\n",
      "Completed scrolling********************\n",
      "Started clicking********************\n",
      "Finished clicking********************\n",
      "extracting text **************************************\n"
     ]
    },
    {
     "name": "stderr",
     "output_type": "stream",
     "text": [
      "\r",
      " 12%|████▏                               | 46/394 [1:33:48<11:57:22, 123.68s/it]"
     ]
    },
    {
     "name": "stdout",
     "output_type": "stream",
     "text": [
      "Finished extracting text***********************\n",
      "அரசியல்_வரலாறு\n",
      "\n",
      "starting scraping of https://ta.quora.com/search?q=அரசியல் வரலாறு\n",
      "***************************\n",
      "started scrolling********************\n"
     ]
    },
    {
     "name": "stderr",
     "output_type": "stream",
     "text": [
      "\r",
      " 12%|████▎                               | 47/394 [1:35:25<11:08:05, 115.52s/it]"
     ]
    },
    {
     "name": "stdout",
     "output_type": "stream",
     "text": [
      "Completed scrolling********************\n",
      "Started clicking********************\n",
      "Finished clicking********************\n",
      "extracting text **************************************\n",
      "Finished extracting text***********************\n",
      "தமிழ்_நாடகம்\n",
      "\n",
      "starting scraping of https://ta.quora.com/search?q=தமிழ் நாடகம்\n",
      "***************************\n",
      "started scrolling********************\n",
      "Completed scrolling********************\n",
      "Started clicking********************\n",
      "Finished clicking********************\n",
      "extracting text **************************************\n"
     ]
    },
    {
     "name": "stderr",
     "output_type": "stream",
     "text": [
      "\r",
      " 12%|████▍                               | 48/394 [1:38:12<12:34:49, 130.90s/it]"
     ]
    },
    {
     "name": "stdout",
     "output_type": "stream",
     "text": [
      "Finished extracting text***********************\n",
      "பாதுகாக்கப்பட்ட_பகுதிகள்\n",
      "\n",
      "starting scraping of https://ta.quora.com/search?q=பாதுகாக்கப்பட்ட பகுதிகள்\n",
      "***************************\n",
      "started scrolling********************\n",
      "Completed scrolling********************\n",
      "Started clicking********************\n",
      "Finished clicking********************\n",
      "extracting text **************************************\n"
     ]
    },
    {
     "name": "stderr",
     "output_type": "stream",
     "text": [
      "\r",
      " 12%|████▍                               | 49/394 [1:39:50<11:36:12, 121.08s/it]"
     ]
    },
    {
     "name": "stdout",
     "output_type": "stream",
     "text": [
      "Finished extracting text***********************\n",
      "அறிவியல்_நிறுவனங்கள்\n",
      "\n",
      "starting scraping of https://ta.quora.com/search?q=அறிவியல் நிறுவனங்கள்\n",
      "***************************\n",
      "started scrolling********************\n"
     ]
    },
    {
     "name": "stderr",
     "output_type": "stream",
     "text": [
      "\r",
      " 13%|████▌                               | 50/394 [1:41:02<10:09:26, 106.30s/it]"
     ]
    },
    {
     "name": "stdout",
     "output_type": "stream",
     "text": [
      "Completed scrolling********************\n",
      "Started clicking********************\n",
      "Finished clicking********************\n",
      "extracting text **************************************\n",
      "Finished extracting text***********************\n",
      "இருப்பிடம்_வாரியாக_பண்பாடு\n",
      "\n",
      "starting scraping of https://ta.quora.com/search?q=இருப்பிடம் வாரியாக பண்பாடு\n",
      "***************************\n",
      "started scrolling********************\n"
     ]
    },
    {
     "name": "stderr",
     "output_type": "stream",
     "text": [
      "\r",
      " 13%|████▉                                 | 51/394 [1:42:05<8:54:27, 93.49s/it]"
     ]
    },
    {
     "name": "stdout",
     "output_type": "stream",
     "text": [
      "Completed scrolling********************\n",
      "Started clicking********************\n",
      "Finished clicking********************\n",
      "extracting text **************************************\n",
      "Finished extracting text***********************\n",
      "சுற்றுச்சூழலியல்\n",
      "\n",
      "starting scraping of https://ta.quora.com/search?q=சுற்றுச்சூழலியல்\n",
      "***************************\n",
      "started scrolling********************\n",
      "Completed scrolling********************\n",
      "Started clicking********************\n",
      "Finished clicking********************\n",
      "extracting text **************************************\n"
     ]
    },
    {
     "name": "stderr",
     "output_type": "stream",
     "text": [
      "\r",
      " 13%|█████                                 | 52/394 [1:43:14<8:10:46, 86.10s/it]"
     ]
    },
    {
     "name": "stdout",
     "output_type": "stream",
     "text": [
      "Finished extracting text***********************\n",
      "வரலாற்றுச்_சான்றுகள்\n",
      "\n",
      "starting scraping of https://ta.quora.com/search?q=வரலாற்றுச் சான்றுகள்\n",
      "***************************\n",
      "started scrolling********************\n",
      "Completed scrolling********************\n",
      "Started clicking********************\n",
      "Finished clicking********************\n",
      "extracting text **************************************\n"
     ]
    },
    {
     "name": "stderr",
     "output_type": "stream",
     "text": [
      "\r",
      " 13%|█████                                 | 53/394 [1:45:19<9:16:08, 97.86s/it]"
     ]
    },
    {
     "name": "stdout",
     "output_type": "stream",
     "text": [
      "Finished extracting text***********************\n",
      "தமிழர்_சட்டங்கள்\n",
      "\n",
      "starting scraping of https://ta.quora.com/search?q=தமிழர் சட்டங்கள்\n",
      "***************************\n",
      "started scrolling********************\n",
      "Completed scrolling********************\n",
      "Started clicking********************\n",
      "Finished clicking********************\n",
      "extracting text **************************************\n"
     ]
    },
    {
     "name": "stderr",
     "output_type": "stream",
     "text": [
      "\r",
      " 14%|█████                                | 54/394 [1:47:13<9:41:12, 102.57s/it]"
     ]
    },
    {
     "name": "stdout",
     "output_type": "stream",
     "text": [
      "Finished extracting text***********************\n",
      "சமவெளிகள்\n",
      "\n",
      "starting scraping of https://ta.quora.com/search?q=சமவெளிகள்\n",
      "***************************\n",
      "started scrolling********************\n",
      "Completed scrolling********************\n",
      "Started clicking********************\n",
      "Finished clicking********************\n",
      "extracting text **************************************\n"
     ]
    },
    {
     "name": "stderr",
     "output_type": "stream",
     "text": [
      "\r",
      " 14%|█████▎                                | 55/394 [1:48:43<9:18:49, 98.91s/it]"
     ]
    },
    {
     "name": "stdout",
     "output_type": "stream",
     "text": [
      "Finished extracting text***********************\n",
      "தமிழ்_மொழி_விருதுகள்\n",
      "\n",
      "starting scraping of https://ta.quora.com/search?q=தமிழ் மொழி விருதுகள்\n",
      "***************************\n",
      "started scrolling********************\n",
      "Completed scrolling********************\n",
      "Started clicking********************\n",
      "Finished clicking********************\n",
      "extracting text **************************************\n"
     ]
    },
    {
     "name": "stderr",
     "output_type": "stream",
     "text": [
      "\r",
      " 14%|█████▎                               | 56/394 [1:50:29<9:28:02, 100.83s/it]"
     ]
    },
    {
     "name": "stdout",
     "output_type": "stream",
     "text": [
      "Finished extracting text***********************\n",
      "கலவரங்கள்\n",
      "\n",
      "starting scraping of https://ta.quora.com/search?q=கலவரங்கள்\n",
      "***************************\n",
      "started scrolling********************\n",
      "Completed scrolling********************\n",
      "Started clicking********************\n",
      "Finished clicking********************\n",
      "extracting text **************************************\n"
     ]
    },
    {
     "name": "stderr",
     "output_type": "stream",
     "text": [
      "\r",
      " 14%|█████▏                              | 57/394 [1:52:31<10:02:00, 107.18s/it]"
     ]
    },
    {
     "name": "stdout",
     "output_type": "stream",
     "text": [
      "Finished extracting text***********************\n",
      "கோட்பாடுகள்\n",
      "\n",
      "starting scraping of https://ta.quora.com/search?q=கோட்பாடுகள்\n",
      "***************************\n",
      "started scrolling********************\n",
      "Completed scrolling********************\n",
      "Started clicking********************\n",
      "Finished clicking********************\n",
      "extracting text **************************************\n"
     ]
    },
    {
     "name": "stderr",
     "output_type": "stream",
     "text": [
      "\r",
      " 15%|█████▎                              | 58/394 [1:54:58<11:07:44, 119.24s/it]"
     ]
    },
    {
     "name": "stdout",
     "output_type": "stream",
     "text": [
      "Finished extracting text***********************\n",
      "விண்வெளிப்_பயணம்\n",
      "\n",
      "starting scraping of https://ta.quora.com/search?q=விண்வெளிப் பயணம்\n",
      "***************************\n",
      "started scrolling********************\n",
      "Completed scrolling********************\n",
      "Started clicking********************\n",
      "Finished clicking********************\n",
      "extracting text **************************************\n"
     ]
    },
    {
     "name": "stderr",
     "output_type": "stream",
     "text": [
      "\r",
      " 15%|█████▍                              | 59/394 [1:56:38<10:32:56, 113.36s/it]"
     ]
    },
    {
     "name": "stdout",
     "output_type": "stream",
     "text": [
      "Finished extracting text***********************\n",
      "நாடு_வாரியாக_புவியியல்\n",
      "\n",
      "starting scraping of https://ta.quora.com/search?q=நாடு வாரியாக புவியியல்\n",
      "***************************\n",
      "started scrolling********************\n",
      "Completed scrolling********************\n",
      "Started clicking********************\n"
     ]
    },
    {
     "name": "stderr",
     "output_type": "stream",
     "text": [
      "\r",
      " 15%|█████▊                                | 60/394 [1:57:42<9:09:11, 98.66s/it]"
     ]
    },
    {
     "name": "stdout",
     "output_type": "stream",
     "text": [
      "Finished clicking********************\n",
      "extracting text **************************************\n",
      "Finished extracting text***********************\n",
      "அணிகலன்கள்\n",
      "\n",
      "starting scraping of https://ta.quora.com/search?q=அணிகலன்கள்\n",
      "***************************\n",
      "started scrolling********************\n",
      "Completed scrolling********************\n",
      "Started clicking********************\n",
      "Finished clicking********************\n",
      "extracting text **************************************\n"
     ]
    },
    {
     "name": "stderr",
     "output_type": "stream",
     "text": [
      "\r",
      " 15%|█████▌                              | 61/394 [2:01:10<12:10:22, 131.60s/it]"
     ]
    },
    {
     "name": "stdout",
     "output_type": "stream",
     "text": [
      "Finished extracting text***********************\n",
      "உலகம்\n",
      "\n",
      "starting scraping of https://ta.quora.com/search?q=உலகம்\n",
      "***************************\n",
      "started scrolling********************\n",
      "Completed scrolling********************\n",
      "Started clicking********************\n",
      "Finished clicking********************\n",
      "extracting text **************************************\n"
     ]
    },
    {
     "name": "stderr",
     "output_type": "stream",
     "text": [
      "\r",
      " 16%|█████▋                              | 62/394 [2:11:50<26:11:43, 284.05s/it]"
     ]
    },
    {
     "name": "stdout",
     "output_type": "stream",
     "text": [
      "Finished extracting text***********************\n",
      "சமையல்\n",
      "\n",
      "starting scraping of https://ta.quora.com/search?q=சமையல்\n",
      "***************************\n",
      "started scrolling********************\n",
      "Completed scrolling********************\n",
      "Started clicking********************\n",
      "Finished clicking********************\n",
      "extracting text **************************************\n"
     ]
    },
    {
     "name": "stderr",
     "output_type": "stream",
     "text": [
      "\r",
      " 16%|█████▊                              | 63/394 [2:17:20<27:23:36, 297.94s/it]"
     ]
    },
    {
     "name": "stdout",
     "output_type": "stream",
     "text": [
      "Finished extracting text***********************\n",
      "கிறிஸ்தவம்\n",
      "\n",
      "starting scraping of https://ta.quora.com/search?q=கிறிஸ்தவம்\n",
      "***************************\n",
      "started scrolling********************\n",
      "Completed scrolling********************\n",
      "Started clicking********************\n",
      "Finished clicking********************\n",
      "extracting text **************************************\n"
     ]
    },
    {
     "name": "stderr",
     "output_type": "stream",
     "text": [
      "\r",
      " 16%|█████▊                              | 64/394 [2:19:04<21:57:25, 239.53s/it]"
     ]
    },
    {
     "name": "stdout",
     "output_type": "stream",
     "text": [
      "Finished extracting text***********************\n",
      "வெப்ப_மண்டலங்கள்\n",
      "\n",
      "starting scraping of https://ta.quora.com/search?q=வெப்ப மண்டலங்கள்\n",
      "***************************\n",
      "started scrolling********************\n",
      "Completed scrolling********************\n",
      "Started clicking********************\n",
      "Finished clicking********************\n",
      "extracting text **************************************\n"
     ]
    },
    {
     "name": "stderr",
     "output_type": "stream",
     "text": [
      "\r",
      " 16%|█████▉                              | 65/394 [2:20:15<17:16:26, 189.02s/it]"
     ]
    },
    {
     "name": "stdout",
     "output_type": "stream",
     "text": [
      "Finished extracting text***********************\n",
      "காலக்கோடுகள்\n",
      "\n",
      "starting scraping of https://ta.quora.com/search?q=காலக்கோடுகள்\n",
      "***************************\n",
      "started scrolling********************\n"
     ]
    },
    {
     "name": "stderr",
     "output_type": "stream",
     "text": [
      "\r",
      " 17%|██████                              | 66/394 [2:21:21<13:52:05, 152.21s/it]"
     ]
    },
    {
     "name": "stdout",
     "output_type": "stream",
     "text": [
      "Completed scrolling********************\n",
      "Started clicking********************\n",
      "Finished clicking********************\n",
      "extracting text **************************************\n",
      "Finished extracting text***********************\n",
      "பாலியல்\n",
      "\n",
      "starting scraping of https://ta.quora.com/search?q=பாலியல்\n",
      "***************************\n",
      "started scrolling********************\n",
      "Completed scrolling********************\n",
      "Started clicking********************\n",
      "Finished clicking********************\n",
      "extracting text **************************************\n"
     ]
    },
    {
     "name": "stderr",
     "output_type": "stream",
     "text": [
      "\r",
      " 17%|██████                              | 67/394 [2:22:43<11:54:13, 131.05s/it]"
     ]
    },
    {
     "name": "stdout",
     "output_type": "stream",
     "text": [
      "Finished extracting text***********************\n",
      "தமிழ்_இலக்கியம்\n",
      "\n",
      "starting scraping of https://ta.quora.com/search?q=தமிழ் இலக்கியம்\n",
      "***************************\n",
      "started scrolling********************\n",
      "Completed scrolling********************\n",
      "Started clicking********************\n",
      "Finished clicking********************\n",
      "extracting text **************************************\n"
     ]
    },
    {
     "name": "stderr",
     "output_type": "stream",
     "text": [
      "\r",
      " 17%|██████▏                             | 68/394 [2:24:37<11:24:00, 125.89s/it]"
     ]
    },
    {
     "name": "stdout",
     "output_type": "stream",
     "text": [
      "Finished extracting text***********************\n",
      "மறுமலர்ச்சி_காலம்\n",
      "\n",
      "starting scraping of https://ta.quora.com/search?q=மறுமலர்ச்சி காலம்\n",
      "***************************\n",
      "started scrolling********************\n",
      "Completed scrolling********************\n",
      "Started clicking********************\n",
      "Finished clicking********************\n",
      "extracting text **************************************\n"
     ]
    },
    {
     "name": "stderr",
     "output_type": "stream",
     "text": [
      "\r",
      " 18%|██████▎                             | 69/394 [2:26:34<11:08:10, 123.36s/it]"
     ]
    },
    {
     "name": "stdout",
     "output_type": "stream",
     "text": [
      "Finished extracting text***********************\n",
      "தமிழ்வழிக்_கல்வி\n",
      "\n",
      "starting scraping of https://ta.quora.com/search?q=தமிழ்வழிக் கல்வி\n",
      "***************************\n",
      "started scrolling********************\n",
      "Completed scrolling********************\n",
      "Started clicking********************\n",
      "Finished clicking********************\n",
      "extracting text **************************************\n"
     ]
    },
    {
     "name": "stderr",
     "output_type": "stream",
     "text": [
      "\r",
      " 18%|██████▍                             | 70/394 [2:28:03<10:10:23, 113.03s/it]"
     ]
    },
    {
     "name": "stdout",
     "output_type": "stream",
     "text": [
      "Finished extracting text***********************\n",
      "புலம்பெயர்_தமிழர்\n",
      "\n",
      "starting scraping of https://ta.quora.com/search?q=புலம்பெயர் தமிழர்\n",
      "***************************\n",
      "started scrolling********************\n",
      "Completed scrolling********************\n",
      "Started clicking********************\n",
      "Finished clicking********************\n",
      "extracting text **************************************\n"
     ]
    },
    {
     "name": "stderr",
     "output_type": "stream",
     "text": [
      "\r",
      " 18%|██████▍                             | 71/394 [2:29:56<10:08:28, 113.03s/it]"
     ]
    },
    {
     "name": "stdout",
     "output_type": "stream",
     "text": [
      "Finished extracting text***********************\n",
      "தமிழ்ச்_சமூகத்தில்_மனித_உரிமைகள்\n",
      "\n",
      "starting scraping of https://ta.quora.com/search?q=தமிழ்ச் சமூகத்தில் மனித உரிமைகள்\n",
      "***************************\n",
      "started scrolling********************\n",
      "Completed scrolling********************\n",
      "Started clicking********************\n",
      "Finished clicking********************\n",
      "extracting text **************************************\n"
     ]
    },
    {
     "name": "stderr",
     "output_type": "stream",
     "text": [
      "\r",
      " 18%|██████▉                               | 72/394 [2:31:01<8:49:19, 98.63s/it]"
     ]
    },
    {
     "name": "stdout",
     "output_type": "stream",
     "text": [
      "Finished extracting text***********************\n",
      "உலோகவியல்\n",
      "\n",
      "starting scraping of https://ta.quora.com/search?q=உலோகவியல்\n",
      "***************************\n",
      "started scrolling********************\n",
      "Completed scrolling********************\n",
      "Started clicking********************\n",
      "Finished clicking********************\n",
      "extracting text **************************************\n"
     ]
    },
    {
     "name": "stderr",
     "output_type": "stream",
     "text": [
      "\r",
      " 19%|███████                               | 73/394 [2:32:18<8:13:06, 92.17s/it]"
     ]
    },
    {
     "name": "stdout",
     "output_type": "stream",
     "text": [
      "Finished extracting text***********************\n",
      "குடைவரைகள்\n",
      "\n",
      "starting scraping of https://ta.quora.com/search?q=குடைவரைகள்\n",
      "***************************\n",
      "started scrolling********************\n",
      "Completed scrolling********************\n",
      "Started clicking********************\n",
      "Finished clicking********************\n",
      "extracting text **************************************\n"
     ]
    },
    {
     "name": "stderr",
     "output_type": "stream",
     "text": [
      "\r",
      " 19%|███████▏                              | 74/394 [2:33:29<7:36:35, 85.61s/it]"
     ]
    },
    {
     "name": "stdout",
     "output_type": "stream",
     "text": [
      "Finished extracting text***********************\n",
      "சரத்துஸ்திரம்\n",
      "\n",
      "starting scraping of https://ta.quora.com/search?q=சரத்துஸ்திரம்\n",
      "***************************\n",
      "started scrolling********************\n"
     ]
    },
    {
     "name": "stderr",
     "output_type": "stream",
     "text": [
      "\r",
      " 19%|███████▏                              | 75/394 [2:34:33<7:02:00, 79.37s/it]"
     ]
    },
    {
     "name": "stdout",
     "output_type": "stream",
     "text": [
      "Completed scrolling********************\n",
      "Started clicking********************\n",
      "Finished clicking********************\n",
      "extracting text **************************************\n",
      "Finished extracting text***********************\n",
      "சமூக_சேவை\n",
      "\n",
      "starting scraping of https://ta.quora.com/search?q=சமூக சேவை\n",
      "***************************\n",
      "started scrolling********************\n",
      "Completed scrolling********************\n",
      "Started clicking********************\n",
      "Finished clicking********************\n",
      "extracting text **************************************\n"
     ]
    },
    {
     "name": "stderr",
     "output_type": "stream",
     "text": [
      "\r",
      " 19%|███████▎                              | 76/394 [2:36:26<7:52:55, 89.23s/it]"
     ]
    },
    {
     "name": "stdout",
     "output_type": "stream",
     "text": [
      "Finished extracting text***********************\n",
      "தீவுகள்\n",
      "\n",
      "starting scraping of https://ta.quora.com/search?q=தீவுகள்\n",
      "***************************\n",
      "started scrolling********************\n",
      "Completed scrolling********************\n",
      "Started clicking********************\n",
      "Finished clicking********************\n",
      "extracting text **************************************\n"
     ]
    },
    {
     "name": "stderr",
     "output_type": "stream",
     "text": [
      "\r",
      " 20%|███████▍                              | 77/394 [2:38:16<8:25:42, 95.72s/it]"
     ]
    },
    {
     "name": "stdout",
     "output_type": "stream",
     "text": [
      "Finished extracting text***********************\n",
      "தொழில்நுட்ப_மெய்யியல்\n",
      "\n",
      "starting scraping of https://ta.quora.com/search?q=தொழில்நுட்ப மெய்யியல்\n",
      "***************************\n",
      "started scrolling********************\n",
      "Completed scrolling********************\n",
      "Started clicking********************\n",
      "Finished clicking********************\n",
      "extracting text **************************************\n"
     ]
    },
    {
     "name": "stderr",
     "output_type": "stream",
     "text": [
      "\r",
      " 20%|███████▌                              | 78/394 [2:39:23<7:38:26, 87.05s/it]"
     ]
    },
    {
     "name": "stdout",
     "output_type": "stream",
     "text": [
      "Finished extracting text***********************\n",
      "மொழிகள்\n",
      "\n",
      "starting scraping of https://ta.quora.com/search?q=மொழிகள்\n",
      "***************************\n",
      "started scrolling********************\n"
     ]
    },
    {
     "name": "stderr",
     "output_type": "stream",
     "text": [
      "\r",
      " 20%|███████▌                              | 79/394 [2:41:05<7:59:31, 91.34s/it]"
     ]
    },
    {
     "name": "stdout",
     "output_type": "stream",
     "text": [
      "Completed scrolling********************\n",
      "Started clicking********************\n",
      "Finished clicking********************\n",
      "extracting text **************************************\n",
      "Finished extracting text***********************\n",
      "உறவுமுறை\n",
      "\n",
      "starting scraping of https://ta.quora.com/search?q=உறவுமுறை\n",
      "***************************\n",
      "started scrolling********************\n"
     ]
    },
    {
     "name": "stderr",
     "output_type": "stream",
     "text": [
      "\r",
      " 20%|███████▋                              | 80/394 [2:42:15<7:24:54, 85.01s/it]"
     ]
    },
    {
     "name": "stdout",
     "output_type": "stream",
     "text": [
      "Completed scrolling********************\n",
      "Started clicking********************\n",
      "Finished clicking********************\n",
      "extracting text **************************************\n",
      "Finished extracting text***********************\n",
      "இசுலாமியப்_பண்பாடு\n",
      "\n",
      "starting scraping of https://ta.quora.com/search?q=இசுலாமியப் பண்பாடு\n",
      "***************************\n",
      "started scrolling********************\n"
     ]
    },
    {
     "name": "stderr",
     "output_type": "stream",
     "text": [
      "\r",
      " 21%|███████▊                              | 81/394 [2:43:21<6:54:24, 79.44s/it]"
     ]
    },
    {
     "name": "stdout",
     "output_type": "stream",
     "text": [
      "Completed scrolling********************\n",
      "Started clicking********************\n",
      "Finished clicking********************\n",
      "extracting text **************************************\n",
      "Finished extracting text***********************\n",
      "சிற்பக்கலை\n",
      "\n",
      "starting scraping of https://ta.quora.com/search?q=சிற்பக்கலை\n",
      "***************************\n",
      "started scrolling********************\n",
      "Completed scrolling********************\n",
      "Started clicking********************\n",
      "Finished clicking********************\n",
      "extracting text **************************************\n"
     ]
    },
    {
     "name": "stderr",
     "output_type": "stream",
     "text": [
      "\r",
      " 21%|███████▉                              | 82/394 [2:45:33<8:14:36, 95.12s/it]"
     ]
    },
    {
     "name": "stdout",
     "output_type": "stream",
     "text": [
      "Finished extracting text***********************\n",
      "தமிழர்_சமூக_அறிவியல்\n",
      "\n",
      "starting scraping of https://ta.quora.com/search?q=தமிழர் சமூக அறிவியல்\n",
      "***************************\n",
      "started scrolling********************\n",
      "Completed scrolling********************\n",
      "Started clicking********************\n",
      "Finished clicking********************\n",
      "extracting text **************************************\n"
     ]
    },
    {
     "name": "stderr",
     "output_type": "stream",
     "text": [
      "\r",
      " 21%|███████▊                             | 83/394 [2:47:26<8:40:29, 100.42s/it]"
     ]
    },
    {
     "name": "stdout",
     "output_type": "stream",
     "text": [
      "Finished extracting text***********************\n",
      "தொழில்நுட்பமும்_சமூகமும்\n",
      "\n",
      "starting scraping of https://ta.quora.com/search?q=தொழில்நுட்பமும் சமூகமும்\n",
      "***************************\n",
      "started scrolling********************\n"
     ]
    },
    {
     "name": "stderr",
     "output_type": "stream",
     "text": [
      "\r",
      " 21%|████████                              | 84/394 [2:48:31<7:44:50, 89.97s/it]"
     ]
    },
    {
     "name": "stdout",
     "output_type": "stream",
     "text": [
      "Completed scrolling********************\n",
      "Started clicking********************\n",
      "Finished clicking********************\n",
      "extracting text **************************************\n",
      "Finished extracting text***********************\n",
      "சமய_வரலாறு\n",
      "\n",
      "starting scraping of https://ta.quora.com/search?q=சமய வரலாறு\n",
      "***************************\n",
      "started scrolling********************\n"
     ]
    },
    {
     "name": "stderr",
     "output_type": "stream",
     "text": [
      "\r",
      " 22%|████████▏                             | 85/394 [2:49:44<7:16:56, 84.84s/it]"
     ]
    },
    {
     "name": "stdout",
     "output_type": "stream",
     "text": [
      "Completed scrolling********************\n",
      "Started clicking********************\n",
      "Finished clicking********************\n",
      "extracting text **************************************\n",
      "Finished extracting text***********************\n",
      "பண்பாட்டு_ஊடகங்கள்\n",
      "\n",
      "starting scraping of https://ta.quora.com/search?q=பண்பாட்டு ஊடகங்கள்\n",
      "***************************\n",
      "started scrolling********************\n",
      "Completed scrolling********************\n",
      "Started clicking********************\n",
      "Finished clicking********************\n",
      "extracting text **************************************\n"
     ]
    },
    {
     "name": "stderr",
     "output_type": "stream",
     "text": [
      "\r",
      " 22%|████████▎                             | 86/394 [2:51:05<7:08:37, 83.50s/it]"
     ]
    },
    {
     "name": "stdout",
     "output_type": "stream",
     "text": [
      "Finished extracting text***********************\n",
      "தோட்டக்கலை\n",
      "\n",
      "starting scraping of https://ta.quora.com/search?q=தோட்டக்கலை\n",
      "***************************\n",
      "started scrolling********************\n",
      "Completed scrolling********************\n",
      "Started clicking********************\n",
      "Finished clicking********************\n",
      "extracting text **************************************\n"
     ]
    },
    {
     "name": "stderr",
     "output_type": "stream",
     "text": [
      "\r",
      " 22%|████████▏                            | 87/394 [2:53:33<8:47:25, 103.08s/it]"
     ]
    },
    {
     "name": "stdout",
     "output_type": "stream",
     "text": [
      "Finished extracting text***********************\n",
      "ஊடகவியல்\n",
      "\n",
      "starting scraping of https://ta.quora.com/search?q=ஊடகவியல்\n",
      "***************************\n",
      "started scrolling********************\n",
      "Completed scrolling********************\n",
      "Started clicking********************\n",
      "Finished clicking********************\n",
      "extracting text **************************************\n"
     ]
    },
    {
     "name": "stderr",
     "output_type": "stream",
     "text": [
      "\r",
      " 22%|████████▍                             | 88/394 [2:54:51<8:07:18, 95.55s/it]"
     ]
    },
    {
     "name": "stdout",
     "output_type": "stream",
     "text": [
      "Finished extracting text***********************\n",
      "வானொலித்_தொழில்நுட்பம்\n",
      "\n",
      "starting scraping of https://ta.quora.com/search?q=வானொலித் தொழில்நுட்பம்\n",
      "***************************\n",
      "started scrolling********************\n",
      "Completed scrolling********************\n",
      "Started clicking********************\n",
      "Finished clicking********************\n",
      "extracting text **************************************\n"
     ]
    },
    {
     "name": "stderr",
     "output_type": "stream",
     "text": [
      "\r",
      " 23%|████████▌                             | 89/394 [2:55:56<7:19:07, 86.39s/it]"
     ]
    },
    {
     "name": "stdout",
     "output_type": "stream",
     "text": [
      "Finished extracting text***********************\n",
      "அறிவியல்_ஆய்விதழ்கள்\n",
      "\n",
      "starting scraping of https://ta.quora.com/search?q=அறிவியல் ஆய்விதழ்கள்\n",
      "***************************\n",
      "started scrolling********************\n",
      "Completed scrolling********************\n",
      "Started clicking********************\n",
      "Finished clicking********************\n",
      "extracting text **************************************\n"
     ]
    },
    {
     "name": "stderr",
     "output_type": "stream",
     "text": [
      "\r",
      " 23%|████████▋                             | 90/394 [2:57:00<6:43:43, 79.68s/it]"
     ]
    },
    {
     "name": "stdout",
     "output_type": "stream",
     "text": [
      "Finished extracting text***********************\n",
      "மனித_உரிமைகள்\n",
      "\n",
      "starting scraping of https://ta.quora.com/search?q=மனித உரிமைகள்\n",
      "***************************\n",
      "started scrolling********************\n",
      "Completed scrolling********************\n",
      "Started clicking********************\n",
      "Finished clicking********************\n",
      "extracting text **************************************\n"
     ]
    },
    {
     "name": "stderr",
     "output_type": "stream",
     "text": [
      "\r",
      " 23%|████████▊                             | 91/394 [2:58:59<7:40:54, 91.27s/it]"
     ]
    },
    {
     "name": "stdout",
     "output_type": "stream",
     "text": [
      "Finished extracting text***********************\n",
      "இராணுவத்_தொழினுட்பம்\n",
      "\n",
      "starting scraping of https://ta.quora.com/search?q=இராணுவத் தொழினுட்பம்\n",
      "***************************\n",
      "started scrolling********************\n"
     ]
    },
    {
     "name": "stderr",
     "output_type": "stream",
     "text": [
      "\r",
      " 23%|████████▊                             | 92/394 [3:00:03<6:58:30, 83.15s/it]"
     ]
    },
    {
     "name": "stdout",
     "output_type": "stream",
     "text": [
      "Completed scrolling********************\n",
      "Started clicking********************\n",
      "Finished clicking********************\n",
      "extracting text **************************************\n",
      "Finished extracting text***********************\n",
      "ஈடுபாடுகள்\n",
      "\n",
      "starting scraping of https://ta.quora.com/search?q=ஈடுபாடுகள்\n",
      "***************************\n",
      "started scrolling********************\n",
      "Completed scrolling********************\n",
      "Started clicking********************\n",
      "Finished clicking********************\n",
      "extracting text **************************************\n"
     ]
    },
    {
     "name": "stderr",
     "output_type": "stream",
     "text": [
      "\r",
      " 24%|████████▉                             | 93/394 [3:01:26<6:56:19, 82.99s/it]"
     ]
    },
    {
     "name": "stdout",
     "output_type": "stream",
     "text": [
      "Finished extracting text***********************\n",
      "சமூகம்\n",
      "\n",
      "starting scraping of https://ta.quora.com/search?q=சமூகம்\n",
      "***************************\n",
      "started scrolling********************\n",
      "Completed scrolling********************\n",
      "Started clicking********************\n",
      "Finished clicking********************\n",
      "extracting text **************************************\n"
     ]
    },
    {
     "name": "stderr",
     "output_type": "stream",
     "text": [
      "\r",
      " 24%|████████▌                           | 94/394 [3:06:06<11:51:03, 142.21s/it]"
     ]
    },
    {
     "name": "stdout",
     "output_type": "stream",
     "text": [
      "Finished extracting text***********************\n",
      "ஆவணப்படுத்தல்\n",
      "\n",
      "starting scraping of https://ta.quora.com/search?q=ஆவணப்படுத்தல்\n",
      "***************************\n",
      "started scrolling********************\n",
      "Completed scrolling********************\n",
      "Started clicking********************\n",
      "Finished clicking********************\n",
      "extracting text **************************************\n"
     ]
    },
    {
     "name": "stderr",
     "output_type": "stream",
     "text": [
      "\r",
      " 24%|████████▋                           | 95/394 [3:07:22<10:09:03, 122.22s/it]"
     ]
    },
    {
     "name": "stdout",
     "output_type": "stream",
     "text": [
      "Finished extracting text***********************\n",
      "முரண்பாட்டியல்\n",
      "\n",
      "starting scraping of https://ta.quora.com/search?q=முரண்பாட்டியல்\n",
      "***************************\n",
      "started scrolling********************\n"
     ]
    },
    {
     "name": "stderr",
     "output_type": "stream",
     "text": [
      "\r",
      " 24%|█████████                            | 96/394 [3:08:24<8:38:21, 104.37s/it]"
     ]
    },
    {
     "name": "stdout",
     "output_type": "stream",
     "text": [
      "Completed scrolling********************\n",
      "Started clicking********************\n",
      "Finished clicking********************\n",
      "extracting text **************************************\n",
      "Finished extracting text***********************\n",
      "சமயம்_பற்றிய_விமர்சனங்கள்\n",
      "\n",
      "starting scraping of https://ta.quora.com/search?q=சமயம் பற்றிய விமர்சனங்கள்\n",
      "***************************\n",
      "started scrolling********************\n",
      "Completed scrolling********************\n",
      "Started clicking********************\n",
      "Finished clicking********************\n",
      "extracting text **************************************\n"
     ]
    },
    {
     "name": "stderr",
     "output_type": "stream",
     "text": [
      "\r",
      " 25%|█████████▎                            | 97/394 [3:09:43<7:58:21, 96.64s/it]"
     ]
    },
    {
     "name": "stdout",
     "output_type": "stream",
     "text": [
      "Finished extracting text***********************\n",
      "புத்தாக்கம்\n",
      "\n",
      "starting scraping of https://ta.quora.com/search?q=புத்தாக்கம்\n",
      "***************************\n",
      "started scrolling********************\n",
      "Completed scrolling********************\n",
      "Started clicking********************\n",
      "Finished clicking********************\n",
      "extracting text **************************************\n"
     ]
    },
    {
     "name": "stderr",
     "output_type": "stream",
     "text": [
      "\r",
      " 25%|█████████▏                           | 98/394 [3:12:19<9:24:41, 114.47s/it]"
     ]
    },
    {
     "name": "stdout",
     "output_type": "stream",
     "text": [
      "Finished extracting text***********************\n",
      "வளர்ந்து_வரும்_தொழினுட்பங்கள்\n",
      "\n",
      "starting scraping of https://ta.quora.com/search?q=வளர்ந்து வரும் தொழினுட்பங்கள்\n",
      "***************************\n",
      "started scrolling********************\n"
     ]
    },
    {
     "name": "stderr",
     "output_type": "stream",
     "text": [
      "\r",
      " 25%|█████████▌                            | 99/394 [3:13:21<8:04:50, 98.61s/it]"
     ]
    },
    {
     "name": "stdout",
     "output_type": "stream",
     "text": [
      "Completed scrolling********************\n",
      "Started clicking********************\n",
      "Finished clicking********************\n",
      "extracting text **************************************\n",
      "Finished extracting text***********************\n",
      "தொடர்பியல்\n",
      "\n",
      "starting scraping of https://ta.quora.com/search?q=தொடர்பியல்\n",
      "***************************\n",
      "started scrolling********************\n",
      "Completed scrolling********************\n",
      "Started clicking********************\n",
      "Finished clicking********************\n",
      "extracting text **************************************\n"
     ]
    },
    {
     "name": "stderr",
     "output_type": "stream",
     "text": [
      "\r",
      " 25%|█████████▍                           | 100/394 [3:14:41<7:36:20, 93.13s/it]"
     ]
    },
    {
     "name": "stdout",
     "output_type": "stream",
     "text": [
      "Finished extracting text***********************\n",
      "குறிகைச்_செயலாக்கம்\n",
      "\n",
      "starting scraping of https://ta.quora.com/search?q=குறிகைச் செயலாக்கம்\n",
      "***************************\n",
      "started scrolling********************\n"
     ]
    },
    {
     "name": "stderr",
     "output_type": "stream",
     "text": [
      "\r",
      " 26%|█████████▍                           | 101/394 [3:15:45<6:52:54, 84.55s/it]"
     ]
    },
    {
     "name": "stdout",
     "output_type": "stream",
     "text": [
      "Completed scrolling********************\n",
      "Started clicking********************\n",
      "Finished clicking********************\n",
      "extracting text **************************************\n",
      "Finished extracting text***********************\n",
      "பொருளியல்\n",
      "\n",
      "starting scraping of https://ta.quora.com/search?q=பொருளியல்\n",
      "***************************\n",
      "started scrolling********************\n",
      "Completed scrolling********************\n",
      "Started clicking********************\n",
      "Finished clicking********************\n",
      "extracting text **************************************\n"
     ]
    },
    {
     "name": "stderr",
     "output_type": "stream",
     "text": [
      "\r",
      " 26%|█████████▎                          | 102/394 [3:18:15<8:26:53, 104.16s/it]"
     ]
    },
    {
     "name": "stdout",
     "output_type": "stream",
     "text": [
      "Finished extracting text***********************\n",
      "அச்சுக்கலை\n",
      "\n",
      "starting scraping of https://ta.quora.com/search?q=அச்சுக்கலை\n",
      "***************************\n",
      "started scrolling********************\n",
      "Completed scrolling********************\n",
      "Started clicking********************\n",
      "Finished clicking********************\n",
      "extracting text **************************************\n"
     ]
    },
    {
     "name": "stderr",
     "output_type": "stream",
     "text": [
      "\r",
      " 26%|█████████▋                           | 103/394 [3:19:31<7:44:24, 95.75s/it]"
     ]
    },
    {
     "name": "stdout",
     "output_type": "stream",
     "text": [
      "Finished extracting text***********************\n",
      "இசுலாம்\n",
      "\n",
      "starting scraping of https://ta.quora.com/search?q=இசுலாம்\n",
      "***************************\n",
      "started scrolling********************\n",
      "Completed scrolling********************\n",
      "Started clicking********************\n",
      "Finished clicking********************\n",
      "extracting text **************************************\n"
     ]
    },
    {
     "name": "stderr",
     "output_type": "stream",
     "text": [
      "\r",
      " 26%|█████████▌                          | 104/394 [3:22:05<9:06:45, 113.12s/it]"
     ]
    },
    {
     "name": "stdout",
     "output_type": "stream",
     "text": [
      "Finished extracting text***********************\n",
      "தமிழர்_பண்பாடு\n",
      "\n",
      "starting scraping of https://ta.quora.com/search?q=தமிழர் பண்பாடு\n",
      "***************************\n",
      "started scrolling********************\n",
      "Completed scrolling********************\n",
      "Started clicking********************\n",
      "Finished clicking********************\n",
      "extracting text **************************************\n"
     ]
    },
    {
     "name": "stderr",
     "output_type": "stream",
     "text": [
      "\r",
      " 27%|█████████▌                          | 105/394 [3:24:01<9:09:01, 113.98s/it]"
     ]
    },
    {
     "name": "stdout",
     "output_type": "stream",
     "text": [
      "Finished extracting text***********************\n",
      "உடைகள்\n",
      "\n",
      "starting scraping of https://ta.quora.com/search?q=உடைகள்\n",
      "***************************\n",
      "started scrolling********************\n",
      "Completed scrolling********************\n",
      "Started clicking********************\n",
      "Finished clicking********************\n",
      "extracting text **************************************\n"
     ]
    },
    {
     "name": "stderr",
     "output_type": "stream",
     "text": [
      "\r",
      " 27%|█████████▋                          | 106/394 [3:26:19<9:40:56, 121.03s/it]"
     ]
    },
    {
     "name": "stdout",
     "output_type": "stream",
     "text": [
      "Finished extracting text***********************\n",
      "கட்டிட_கட்டுமானவியல்\n",
      "\n",
      "starting scraping of https://ta.quora.com/search?q=கட்டிட கட்டுமானவியல்\n",
      "***************************\n",
      "started scrolling********************\n",
      "Completed scrolling********************\n",
      "Started clicking********************\n",
      "Finished clicking********************\n",
      "extracting text **************************************\n"
     ]
    },
    {
     "name": "stderr",
     "output_type": "stream",
     "text": [
      "\r",
      " 27%|█████████▊                          | 107/394 [3:27:22<8:15:48, 103.65s/it]"
     ]
    },
    {
     "name": "stdout",
     "output_type": "stream",
     "text": [
      "Finished extracting text***********************\n",
      "ஆப்பிரிக்காவில்_சமயம்\n",
      "\n",
      "starting scraping of https://ta.quora.com/search?q=ஆப்பிரிக்காவில் சமயம்\n",
      "***************************\n",
      "started scrolling********************\n",
      "Completed scrolling********************\n",
      "Started clicking********************\n",
      "Finished clicking********************\n",
      "extracting text **************************************\n"
     ]
    },
    {
     "name": "stderr",
     "output_type": "stream",
     "text": [
      "\r",
      " 27%|█████████▊                          | 108/394 [3:28:59<8:04:30, 101.65s/it]"
     ]
    },
    {
     "name": "stdout",
     "output_type": "stream",
     "text": [
      "Finished extracting text***********************\n",
      "நிலப்படங்கள்\n",
      "\n",
      "starting scraping of https://ta.quora.com/search?q=நிலப்படங்கள்\n",
      "***************************\n",
      "started scrolling********************\n",
      "Completed scrolling********************\n",
      "Started clicking********************\n",
      "Finished clicking********************\n",
      "extracting text **************************************\n"
     ]
    },
    {
     "name": "stderr",
     "output_type": "stream",
     "text": [
      "\r",
      " 28%|██████████▏                          | 109/394 [3:30:04<7:11:31, 90.85s/it]"
     ]
    },
    {
     "name": "stdout",
     "output_type": "stream",
     "text": [
      "Finished extracting text***********************\n",
      "ஒளிப்படவியல்\n",
      "\n",
      "starting scraping of https://ta.quora.com/search?q=ஒளிப்படவியல்\n",
      "***************************\n",
      "started scrolling********************\n",
      "Completed scrolling********************\n",
      "Started clicking********************\n",
      "Finished clicking********************\n",
      "extracting text **************************************\n"
     ]
    },
    {
     "name": "stderr",
     "output_type": "stream",
     "text": [
      "\r",
      " 28%|██████████▎                          | 110/394 [3:31:16<6:43:14, 85.19s/it]"
     ]
    },
    {
     "name": "stdout",
     "output_type": "stream",
     "text": [
      "Finished extracting text***********************\n",
      "மட்பாண்டக்கலை\n",
      "\n",
      "starting scraping of https://ta.quora.com/search?q=மட்பாண்டக்கலை\n",
      "***************************\n",
      "started scrolling********************\n",
      "Completed scrolling********************\n",
      "Started clicking********************\n",
      "Finished clicking********************\n",
      "extracting text **************************************\n"
     ]
    },
    {
     "name": "stderr",
     "output_type": "stream",
     "text": [
      "\r",
      " 28%|██████████▍                          | 111/394 [3:32:21<6:12:56, 79.07s/it]"
     ]
    },
    {
     "name": "stdout",
     "output_type": "stream",
     "text": [
      "Finished extracting text***********************\n",
      "தமிழர்_விளையாட்டுகள்\n",
      "\n",
      "starting scraping of https://ta.quora.com/search?q=தமிழர் விளையாட்டுகள்\n",
      "***************************\n",
      "started scrolling********************\n",
      "Completed scrolling********************\n",
      "Started clicking********************\n",
      "Finished clicking********************\n",
      "extracting text **************************************\n"
     ]
    },
    {
     "name": "stderr",
     "output_type": "stream",
     "text": [
      "\r",
      " 28%|██████████▌                          | 112/394 [3:33:48<6:23:11, 81.53s/it]"
     ]
    },
    {
     "name": "stdout",
     "output_type": "stream",
     "text": [
      "Finished extracting text***********************\n",
      "சமயத்துக்குரிய_மெய்யியல்\n",
      "\n",
      "starting scraping of https://ta.quora.com/search?q=சமயத்துக்குரிய மெய்யியல்\n",
      "***************************\n",
      "started scrolling********************\n"
     ]
    },
    {
     "name": "stderr",
     "output_type": "stream",
     "text": [
      "\r",
      " 29%|██████████▌                          | 113/394 [3:34:52<5:56:21, 76.09s/it]"
     ]
    },
    {
     "name": "stdout",
     "output_type": "stream",
     "text": [
      "Completed scrolling********************\n",
      "Started clicking********************\n",
      "Finished clicking********************\n",
      "extracting text **************************************\n",
      "Finished extracting text***********************\n",
      "பொருள்_அறிவியல்\n",
      "\n",
      "starting scraping of https://ta.quora.com/search?q=பொருள் அறிவியல்\n",
      "***************************\n",
      "started scrolling********************\n"
     ]
    },
    {
     "name": "stderr",
     "output_type": "stream",
     "text": [
      "\r",
      " 29%|██████████▋                          | 114/394 [3:36:15<6:05:14, 78.27s/it]"
     ]
    },
    {
     "name": "stdout",
     "output_type": "stream",
     "text": [
      "Completed scrolling********************\n",
      "Started clicking********************\n",
      "Finished clicking********************\n",
      "extracting text **************************************\n",
      "Finished extracting text***********************\n",
      "காலவரிசை\n",
      "\n",
      "starting scraping of https://ta.quora.com/search?q=காலவரிசை\n",
      "***************************\n",
      "started scrolling********************\n",
      "Completed scrolling********************\n",
      "Started clicking********************\n",
      "Finished clicking********************\n",
      "extracting text **************************************\n"
     ]
    },
    {
     "name": "stderr",
     "output_type": "stream",
     "text": [
      "\r",
      " 29%|██████████▊                          | 115/394 [3:38:04<6:46:18, 87.38s/it]"
     ]
    },
    {
     "name": "stdout",
     "output_type": "stream",
     "text": [
      "Finished extracting text***********************\n",
      "உற்பத்தி\n",
      "\n",
      "starting scraping of https://ta.quora.com/search?q=உற்பத்தி\n",
      "***************************\n",
      "started scrolling********************\n",
      "Completed scrolling********************\n",
      "Started clicking********************\n",
      "Finished clicking********************\n",
      "extracting text **************************************\n"
     ]
    },
    {
     "name": "stderr",
     "output_type": "stream",
     "text": [
      "\r",
      " 29%|██████████▎                        | 116/394 [3:43:54<12:50:32, 166.30s/it]"
     ]
    },
    {
     "name": "stdout",
     "output_type": "stream",
     "text": [
      "Finished extracting text***********************\n",
      "அறிவியல்_எழுத்தாளர்கள்\n",
      "\n",
      "starting scraping of https://ta.quora.com/search?q=அறிவியல் எழுத்தாளர்கள்\n",
      "***************************\n",
      "started scrolling********************\n",
      "Completed scrolling********************\n",
      "Started clicking********************\n",
      "Finished clicking********************\n",
      "extracting text **************************************\n"
     ]
    },
    {
     "name": "stderr",
     "output_type": "stream",
     "text": [
      "\r",
      " 30%|██████████▍                        | 117/394 [3:46:21<12:21:16, 160.56s/it]"
     ]
    },
    {
     "name": "stdout",
     "output_type": "stream",
     "text": [
      "Finished extracting text***********************\n",
      "தானுந்து_தொழில்நுட்பம்\n",
      "\n",
      "starting scraping of https://ta.quora.com/search?q=தானுந்து தொழில்நுட்பம்\n",
      "***************************\n",
      "started scrolling********************\n"
     ]
    },
    {
     "name": "stderr",
     "output_type": "stream",
     "text": [
      "\r",
      " 30%|██████████▍                        | 118/394 [3:47:28<10:09:32, 132.51s/it]"
     ]
    },
    {
     "name": "stdout",
     "output_type": "stream",
     "text": [
      "Completed scrolling********************\n",
      "Started clicking********************\n",
      "Finished clicking********************\n",
      "extracting text **************************************\n",
      "Finished extracting text***********************\n",
      "கலை_வகைகள்\n",
      "\n",
      "starting scraping of https://ta.quora.com/search?q=கலை வகைகள்\n",
      "***************************\n",
      "started scrolling********************\n",
      "Completed scrolling********************\n",
      "Started clicking********************\n",
      "Finished clicking********************\n",
      "extracting text **************************************\n"
     ]
    },
    {
     "name": "stderr",
     "output_type": "stream",
     "text": [
      "\r",
      " 30%|██████████▌                        | 119/394 [3:49:59<10:32:25, 137.98s/it]"
     ]
    },
    {
     "name": "stdout",
     "output_type": "stream",
     "text": [
      "Finished extracting text***********************\n",
      "மக்கள்_தொகையியல்\n",
      "\n",
      "starting scraping of https://ta.quora.com/search?q=மக்கள் தொகையியல்\n",
      "***************************\n",
      "started scrolling********************\n",
      "Completed scrolling********************\n",
      "Started clicking********************\n",
      "Finished clicking********************\n",
      "extracting text **************************************\n"
     ]
    },
    {
     "name": "stderr",
     "output_type": "stream",
     "text": [
      "\r",
      " 30%|██████████▉                         | 120/394 [3:51:05<8:50:48, 116.24s/it]"
     ]
    },
    {
     "name": "stdout",
     "output_type": "stream",
     "text": [
      "Finished extracting text***********************\n",
      "ஓவியம்\n",
      "\n",
      "starting scraping of https://ta.quora.com/search?q=ஓவியம்\n",
      "***************************\n",
      "started scrolling********************\n",
      "Completed scrolling********************\n",
      "Started clicking********************\n",
      "Finished clicking********************\n",
      "extracting text **************************************\n"
     ]
    },
    {
     "name": "stderr",
     "output_type": "stream",
     "text": [
      "\r",
      " 31%|███████████                         | 121/394 [3:53:09<9:00:16, 118.74s/it]"
     ]
    },
    {
     "name": "stdout",
     "output_type": "stream",
     "text": [
      "Finished extracting text***********************\n",
      "புவி_அறிவியல்கள்\n",
      "\n",
      "starting scraping of https://ta.quora.com/search?q=புவி அறிவியல்கள்\n",
      "***************************\n",
      "started scrolling********************\n",
      "Completed scrolling********************\n",
      "Started clicking********************\n",
      "Finished clicking********************\n",
      "extracting text **************************************\n"
     ]
    },
    {
     "name": "stderr",
     "output_type": "stream",
     "text": [
      "\r",
      " 31%|███████████▏                        | 122/394 [3:54:16<7:47:13, 103.07s/it]"
     ]
    },
    {
     "name": "stdout",
     "output_type": "stream",
     "text": [
      "Finished extracting text***********************\n",
      "மலைகள்\n",
      "\n",
      "starting scraping of https://ta.quora.com/search?q=மலைகள்\n",
      "***************************\n",
      "started scrolling********************\n",
      "Completed scrolling********************\n",
      "Started clicking********************\n",
      "Finished clicking********************\n",
      "extracting text **************************************\n"
     ]
    },
    {
     "name": "stderr",
     "output_type": "stream",
     "text": [
      "\r",
      " 31%|███████████▏                        | 123/394 [3:56:46<8:49:04, 117.14s/it]"
     ]
    },
    {
     "name": "stdout",
     "output_type": "stream",
     "text": [
      "Finished extracting text***********************\n",
      "புவியியலாளர்கள்\n",
      "\n",
      "starting scraping of https://ta.quora.com/search?q=புவியியலாளர்கள்\n",
      "***************************\n",
      "started scrolling********************\n",
      "Completed scrolling********************\n",
      "Started clicking********************\n",
      "Finished clicking********************\n",
      "extracting text **************************************\n"
     ]
    },
    {
     "name": "stderr",
     "output_type": "stream",
     "text": [
      "\r",
      " 31%|███████████▎                        | 124/394 [3:58:19<8:14:18, 109.85s/it]"
     ]
    },
    {
     "name": "stdout",
     "output_type": "stream",
     "text": [
      "Finished extracting text***********************\n",
      "சமன்பாடுகள்\n",
      "\n",
      "starting scraping of https://ta.quora.com/search?q=சமன்பாடுகள்\n",
      "***************************\n",
      "started scrolling********************\n",
      "Completed scrolling********************\n",
      "Started clicking********************\n",
      "Finished clicking********************\n",
      "extracting text **************************************\n"
     ]
    },
    {
     "name": "stderr",
     "output_type": "stream",
     "text": [
      "\r",
      " 32%|███████████▍                        | 125/394 [3:59:51<7:48:49, 104.57s/it]"
     ]
    },
    {
     "name": "stdout",
     "output_type": "stream",
     "text": [
      "Finished extracting text***********************\n",
      "கண்டங்கள்_வாரியாக_வரலாறு\n",
      "\n",
      "starting scraping of https://ta.quora.com/search?q=கண்டங்கள் வாரியாக வரலாறு\n",
      "***************************\n",
      "started scrolling********************\n",
      "Completed scrolling********************\n",
      "Started clicking********************\n",
      "Finished clicking********************\n",
      "extracting text **************************************\n"
     ]
    },
    {
     "name": "stderr",
     "output_type": "stream",
     "text": [
      "\r",
      " 32%|███████████▊                         | 126/394 [4:00:57<6:55:00, 92.91s/it]"
     ]
    },
    {
     "name": "stdout",
     "output_type": "stream",
     "text": [
      "Finished extracting text***********************\n",
      "மற்போர்க்_கலைகள்\n",
      "\n",
      "starting scraping of https://ta.quora.com/search?q=மற்போர்க் கலைகள்\n",
      "***************************\n",
      "started scrolling********************\n"
     ]
    },
    {
     "name": "stderr",
     "output_type": "stream",
     "text": [
      "\r",
      " 32%|███████████▉                         | 127/394 [4:02:01<6:15:30, 84.38s/it]"
     ]
    },
    {
     "name": "stdout",
     "output_type": "stream",
     "text": [
      "Completed scrolling********************\n",
      "Started clicking********************\n",
      "Finished clicking********************\n",
      "extracting text **************************************\n",
      "Finished extracting text***********************\n",
      "ஒருங்கியவியல்\n",
      "\n",
      "starting scraping of https://ta.quora.com/search?q=ஒருங்கியவியல்\n",
      "***************************\n",
      "started scrolling********************\n"
     ]
    },
    {
     "name": "stderr",
     "output_type": "stream",
     "text": [
      "\r",
      " 32%|████████████                         | 128/394 [4:03:05<5:47:13, 78.32s/it]"
     ]
    },
    {
     "name": "stdout",
     "output_type": "stream",
     "text": [
      "Completed scrolling********************\n",
      "Started clicking********************\n",
      "Finished clicking********************\n",
      "extracting text **************************************\n",
      "Finished extracting text***********************\n",
      "திசையன்கள்\n",
      "\n",
      "starting scraping of https://ta.quora.com/search?q=திசையன்கள்\n",
      "***************************\n",
      "started scrolling********************\n",
      "Completed scrolling********************\n",
      "Started clicking********************\n",
      "Finished clicking********************\n",
      "extracting text **************************************\n"
     ]
    },
    {
     "name": "stderr",
     "output_type": "stream",
     "text": [
      "\r",
      " 33%|████████████                         | 129/394 [4:04:18<5:38:58, 76.75s/it]"
     ]
    },
    {
     "name": "stdout",
     "output_type": "stream",
     "text": [
      "Finished extracting text***********************\n",
      "நாடுகள்_வாரியாக_அறிவியலும்_தொழினுட்பமும்\n",
      "\n",
      "starting scraping of https://ta.quora.com/search?q=நாடுகள் வாரியாக அறிவியலும் தொழினுட்பமும்\n",
      "***************************\n",
      "started scrolling********************\n"
     ]
    },
    {
     "name": "stderr",
     "output_type": "stream",
     "text": [
      "\r",
      " 33%|████████████▏                        | 130/394 [4:05:25<5:23:53, 73.61s/it]"
     ]
    },
    {
     "name": "stdout",
     "output_type": "stream",
     "text": [
      "Completed scrolling********************\n",
      "Started clicking********************\n",
      "Finished clicking********************\n",
      "extracting text **************************************\n",
      "Finished extracting text***********************\n",
      "எதிர்காலவியல்\n",
      "\n",
      "starting scraping of https://ta.quora.com/search?q=எதிர்காலவியல்\n",
      "***************************\n",
      "started scrolling********************\n",
      "Completed scrolling********************\n",
      "Started clicking********************\n",
      "Finished clicking********************\n",
      "extracting text **************************************\n",
      "Finished extracting text***********************\n"
     ]
    },
    {
     "name": "stderr",
     "output_type": "stream",
     "text": [
      "\r",
      " 33%|████████████▎                        | 131/394 [4:06:26<5:06:59, 70.04s/it]"
     ]
    },
    {
     "name": "stdout",
     "output_type": "stream",
     "text": [
      "வானியல்\n",
      "\n",
      "starting scraping of https://ta.quora.com/search?q=வானியல்\n",
      "***************************\n",
      "started scrolling********************\n",
      "Completed scrolling********************\n",
      "Started clicking********************\n",
      "Finished clicking********************\n",
      "extracting text **************************************\n"
     ]
    },
    {
     "name": "stderr",
     "output_type": "stream",
     "text": [
      "\r",
      " 34%|████████████▍                        | 132/394 [4:08:30<6:16:31, 86.23s/it]"
     ]
    },
    {
     "name": "stdout",
     "output_type": "stream",
     "text": [
      "Finished extracting text***********************\n",
      "வேளாண்மை_வரலாறு\n",
      "\n",
      "starting scraping of https://ta.quora.com/search?q=வேளாண்மை வரலாறு\n",
      "***************************\n",
      "started scrolling********************\n",
      "Completed scrolling********************\n",
      "Started clicking********************\n",
      "Finished clicking********************\n",
      "extracting text **************************************\n"
     ]
    },
    {
     "name": "stderr",
     "output_type": "stream",
     "text": [
      "\r",
      " 34%|████████████▍                        | 133/394 [4:10:29<6:57:34, 95.99s/it]"
     ]
    },
    {
     "name": "stdout",
     "output_type": "stream",
     "text": [
      "Finished extracting text***********************\n",
      "கலை_வரலாறு\n",
      "\n",
      "starting scraping of https://ta.quora.com/search?q=கலை வரலாறு\n",
      "***************************\n",
      "started scrolling********************\n",
      "Completed scrolling********************\n",
      "Started clicking********************\n",
      "Finished clicking********************\n",
      "extracting text **************************************\n"
     ]
    },
    {
     "name": "stderr",
     "output_type": "stream",
     "text": [
      "\r",
      " 34%|███████████▉                       | 134/394 [4:15:44<11:40:51, 161.74s/it]"
     ]
    },
    {
     "name": "stdout",
     "output_type": "stream",
     "text": [
      "Finished extracting text***********************\n",
      "தொன்_மொழிகள்\n",
      "\n",
      "starting scraping of https://ta.quora.com/search?q=தொன் மொழிகள்\n",
      "***************************\n",
      "started scrolling********************\n"
     ]
    },
    {
     "name": "stderr",
     "output_type": "stream",
     "text": [
      "\r",
      " 34%|████████████▎                       | 135/394 [4:16:49<9:33:08, 132.77s/it]"
     ]
    },
    {
     "name": "stdout",
     "output_type": "stream",
     "text": [
      "Completed scrolling********************\n",
      "Started clicking********************\n",
      "Finished clicking********************\n",
      "extracting text **************************************\n",
      "Finished extracting text***********************\n",
      "சமூக_அமைப்புகள்\n",
      "\n",
      "starting scraping of https://ta.quora.com/search?q=சமூக அமைப்புகள்\n",
      "***************************\n",
      "started scrolling********************\n",
      "Completed scrolling********************\n",
      "Started clicking********************\n",
      "Finished clicking********************\n",
      "extracting text **************************************\n"
     ]
    },
    {
     "name": "stderr",
     "output_type": "stream",
     "text": [
      "\r",
      " 35%|████████████                       | 136/394 [4:22:48<14:21:44, 200.41s/it]"
     ]
    },
    {
     "name": "stdout",
     "output_type": "stream",
     "text": [
      "Finished extracting text***********************\n",
      "அறிவியல்_இதழ்கள்\n",
      "\n",
      "starting scraping of https://ta.quora.com/search?q=அறிவியல் இதழ்கள்\n",
      "***************************\n",
      "started scrolling********************\n",
      "Completed scrolling********************\n",
      "Started clicking********************\n",
      "Finished clicking********************\n",
      "extracting text **************************************\n"
     ]
    },
    {
     "name": "stderr",
     "output_type": "stream",
     "text": [
      "\r",
      " 35%|████████████▏                      | 137/394 [4:24:40<12:25:33, 174.06s/it]"
     ]
    },
    {
     "name": "stdout",
     "output_type": "stream",
     "text": [
      "Finished extracting text***********************\n",
      "கண்டங்கள்\n",
      "\n",
      "starting scraping of https://ta.quora.com/search?q=கண்டங்கள்\n",
      "***************************\n",
      "started scrolling********************\n",
      "Completed scrolling********************\n",
      "Started clicking********************\n",
      "Finished clicking********************\n",
      "extracting text **************************************\n"
     ]
    },
    {
     "name": "stderr",
     "output_type": "stream",
     "text": [
      "\r",
      " 35%|████████████▎                      | 138/394 [4:27:17<12:00:30, 168.87s/it]"
     ]
    },
    {
     "name": "stdout",
     "output_type": "stream",
     "text": [
      "Finished extracting text***********************\n",
      "மாநிலங்கள்\n",
      "\n",
      "starting scraping of https://ta.quora.com/search?q=மாநிலங்கள்\n",
      "***************************\n",
      "started scrolling********************\n",
      "Completed scrolling********************\n",
      "Started clicking********************\n",
      "Finished clicking********************\n",
      "extracting text **************************************\n"
     ]
    },
    {
     "name": "stderr",
     "output_type": "stream",
     "text": [
      "\r",
      " 35%|████████████▎                      | 139/394 [4:30:00<11:50:34, 167.20s/it]"
     ]
    },
    {
     "name": "stdout",
     "output_type": "stream",
     "text": [
      "Finished extracting text***********************\n",
      "அறிவியல்_பற்றிய_படைப்புகள்\n",
      "\n",
      "starting scraping of https://ta.quora.com/search?q=அறிவியல் பற்றிய படைப்புகள்\n",
      "***************************\n",
      "started scrolling********************\n",
      "Completed scrolling********************\n",
      "Started clicking********************\n",
      "Finished clicking********************\n",
      "extracting text **************************************\n"
     ]
    },
    {
     "name": "stderr",
     "output_type": "stream",
     "text": [
      "\r",
      " 36%|████████████▍                      | 140/394 [4:31:47<10:31:07, 149.08s/it]"
     ]
    },
    {
     "name": "stdout",
     "output_type": "stream",
     "text": [
      "Finished extracting text***********************\n",
      "தமிழர்_விழாக்கள்\n",
      "\n",
      "starting scraping of https://ta.quora.com/search?q=தமிழர் விழாக்கள்\n",
      "***************************\n",
      "started scrolling********************\n",
      "Completed scrolling********************\n",
      "Started clicking********************\n",
      "Finished clicking********************\n",
      "extracting text **************************************\n"
     ]
    },
    {
     "name": "stderr",
     "output_type": "stream",
     "text": [
      "\r",
      " 36%|████████████▉                       | 141/394 [4:33:19<9:16:18, 131.93s/it]"
     ]
    },
    {
     "name": "stdout",
     "output_type": "stream",
     "text": [
      "Finished extracting text***********************\n",
      "அறிவியல்_விருதுகள்\n",
      "\n",
      "starting scraping of https://ta.quora.com/search?q=அறிவியல் விருதுகள்\n",
      "***************************\n",
      "started scrolling********************\n",
      "Completed scrolling********************\n",
      "Started clicking********************\n",
      "Finished clicking********************\n",
      "extracting text **************************************\n"
     ]
    },
    {
     "name": "stderr",
     "output_type": "stream",
     "text": [
      "\r",
      " 36%|████████████▉                       | 142/394 [4:35:02<8:38:16, 123.40s/it]"
     ]
    },
    {
     "name": "stdout",
     "output_type": "stream",
     "text": [
      "Finished extracting text***********************\n",
      "தமிழ்க்_கலைக்களஞ்சியங்கள்\n",
      "\n",
      "starting scraping of https://ta.quora.com/search?q=தமிழ்க் கலைக்களஞ்சியங்கள்\n",
      "***************************\n",
      "started scrolling********************\n",
      "Completed scrolling********************\n",
      "Started clicking********************\n"
     ]
    },
    {
     "name": "stderr",
     "output_type": "stream",
     "text": [
      "\r",
      " 36%|█████████████                       | 143/394 [4:36:07<7:22:44, 105.83s/it]"
     ]
    },
    {
     "name": "stdout",
     "output_type": "stream",
     "text": [
      "Finished clicking********************\n",
      "extracting text **************************************\n",
      "Finished extracting text***********************\n",
      "நாடகம்\n",
      "\n",
      "starting scraping of https://ta.quora.com/search?q=நாடகம்\n",
      "***************************\n",
      "started scrolling********************\n",
      "Completed scrolling********************\n",
      "Started clicking********************\n",
      "Finished clicking********************\n",
      "extracting text **************************************\n"
     ]
    },
    {
     "name": "stderr",
     "output_type": "stream",
     "text": [
      "\r",
      " 37%|█████████████▏                      | 144/394 [4:38:51<8:32:52, 123.09s/it]"
     ]
    },
    {
     "name": "stdout",
     "output_type": "stream",
     "text": [
      "Finished extracting text***********************\n",
      "வன்முறை\n",
      "\n",
      "starting scraping of https://ta.quora.com/search?q=வன்முறை\n",
      "***************************\n",
      "started scrolling********************\n",
      "Completed scrolling********************\n",
      "Started clicking********************\n",
      "Finished clicking********************\n",
      "extracting text **************************************\n"
     ]
    },
    {
     "name": "stderr",
     "output_type": "stream",
     "text": [
      "\r",
      " 37%|█████████████▏                      | 145/394 [4:40:35<8:07:20, 117.43s/it]"
     ]
    },
    {
     "name": "stdout",
     "output_type": "stream",
     "text": [
      "Finished extracting text***********************\n",
      "சோதிடம்\n",
      "\n",
      "starting scraping of https://ta.quora.com/search?q=சோதிடம்\n",
      "***************************\n",
      "started scrolling********************\n",
      "Completed scrolling********************\n",
      "Started clicking********************\n",
      "Finished clicking********************\n",
      "extracting text **************************************\n"
     ]
    },
    {
     "name": "stderr",
     "output_type": "stream",
     "text": [
      "\r",
      " 37%|█████████████▎                      | 146/394 [4:42:32<8:04:32, 117.23s/it]"
     ]
    },
    {
     "name": "stdout",
     "output_type": "stream",
     "text": [
      "Finished extracting text***********************\n",
      "உலக_நாடுகளில்_தமிழர்\n",
      "\n",
      "starting scraping of https://ta.quora.com/search?q=உலக நாடுகளில் தமிழர்\n",
      "***************************\n",
      "started scrolling********************\n",
      "Completed scrolling********************\n",
      "Started clicking********************\n",
      "Finished clicking********************\n",
      "extracting text **************************************\n"
     ]
    },
    {
     "name": "stderr",
     "output_type": "stream",
     "text": [
      "\r",
      " 37%|█████████████▍                      | 147/394 [4:44:43<8:19:29, 121.33s/it]"
     ]
    },
    {
     "name": "stdout",
     "output_type": "stream",
     "text": [
      "Finished extracting text***********************\n",
      "அறிவியல்_பரிசோதனைகள்\n",
      "\n",
      "starting scraping of https://ta.quora.com/search?q=அறிவியல் பரிசோதனைகள்\n",
      "***************************\n",
      "started scrolling********************\n",
      "Completed scrolling********************\n",
      "Started clicking********************\n",
      "Finished clicking********************\n",
      "extracting text **************************************\n"
     ]
    },
    {
     "name": "stderr",
     "output_type": "stream",
     "text": [
      "\r",
      " 38%|█████████████▌                      | 148/394 [4:46:29<7:59:47, 117.02s/it]"
     ]
    },
    {
     "name": "stdout",
     "output_type": "stream",
     "text": [
      "Finished extracting text***********************\n",
      "தமிழிசை\n",
      "\n",
      "starting scraping of https://ta.quora.com/search?q=தமிழிசை\n",
      "***************************\n",
      "started scrolling********************\n",
      "Completed scrolling********************\n",
      "Started clicking********************\n",
      "Finished clicking********************\n",
      "extracting text **************************************\n"
     ]
    },
    {
     "name": "stderr",
     "output_type": "stream",
     "text": [
      "\r",
      " 38%|█████████████▌                      | 149/394 [4:48:05<7:31:01, 110.46s/it]"
     ]
    },
    {
     "name": "stdout",
     "output_type": "stream",
     "text": [
      "Finished extracting text***********************\n",
      "நிலப்படவரைவியல்\n",
      "\n",
      "starting scraping of https://ta.quora.com/search?q=நிலப்படவரைவியல்\n",
      "***************************\n",
      "started scrolling********************\n"
     ]
    },
    {
     "name": "stderr",
     "output_type": "stream",
     "text": [
      "\r",
      " 38%|██████████████                       | 150/394 [4:49:10<6:34:34, 97.03s/it]"
     ]
    },
    {
     "name": "stdout",
     "output_type": "stream",
     "text": [
      "Completed scrolling********************\n",
      "Started clicking********************\n",
      "Finished clicking********************\n",
      "extracting text **************************************\n",
      "Finished extracting text***********************\n",
      "தமிழர்_சமயங்கள்\n",
      "\n",
      "starting scraping of https://ta.quora.com/search?q=தமிழர் சமயங்கள்\n",
      "***************************\n",
      "started scrolling********************\n",
      "Completed scrolling********************\n",
      "Started clicking********************\n",
      "Finished clicking********************\n",
      "extracting text **************************************\n"
     ]
    },
    {
     "name": "stderr",
     "output_type": "stream",
     "text": [
      "\r",
      " 38%|█████████████▊                      | 151/394 [4:51:04<6:52:48, 101.93s/it]"
     ]
    },
    {
     "name": "stdout",
     "output_type": "stream",
     "text": [
      "Finished extracting text***********************\n",
      "தமிழர்_நிகழ்வுகள்\n",
      "\n",
      "starting scraping of https://ta.quora.com/search?q=தமிழர் நிகழ்வுகள்\n",
      "***************************\n",
      "started scrolling********************\n",
      "Completed scrolling********************\n",
      "Started clicking********************\n",
      "Finished clicking********************\n",
      "extracting text **************************************\n"
     ]
    },
    {
     "name": "stderr",
     "output_type": "stream",
     "text": [
      "\r",
      " 39%|█████████████▉                      | 152/394 [4:53:21<7:33:45, 112.50s/it]"
     ]
    },
    {
     "name": "stdout",
     "output_type": "stream",
     "text": [
      "Finished extracting text***********************\n",
      "அறிவியற்_குமுகாயங்கள்\n",
      "\n",
      "starting scraping of https://ta.quora.com/search?q=அறிவியற் குமுகாயங்கள்\n",
      "***************************\n",
      "started scrolling********************\n"
     ]
    },
    {
     "name": "stderr",
     "output_type": "stream",
     "text": [
      "\r",
      " 39%|██████████████▎                      | 153/394 [4:54:24<6:31:51, 97.56s/it]"
     ]
    },
    {
     "name": "stdout",
     "output_type": "stream",
     "text": [
      "Completed scrolling********************\n",
      "Started clicking********************\n",
      "Finished clicking********************\n",
      "extracting text **************************************\n",
      "Finished extracting text***********************\n",
      "தமிழர்_நிறுவனங்கள்\n",
      "\n",
      "starting scraping of https://ta.quora.com/search?q=தமிழர் நிறுவனங்கள்\n",
      "***************************\n",
      "started scrolling********************\n",
      "Completed scrolling********************\n",
      "Started clicking********************\n",
      "Finished clicking********************\n",
      "extracting text **************************************\n"
     ]
    },
    {
     "name": "stderr",
     "output_type": "stream",
     "text": [
      "\r",
      " 39%|██████████████                      | 154/394 [4:56:37<7:13:04, 108.27s/it]"
     ]
    },
    {
     "name": "stdout",
     "output_type": "stream",
     "text": [
      "Finished extracting text***********************\n",
      "எரிமலைகள்\n",
      "\n",
      "starting scraping of https://ta.quora.com/search?q=எரிமலைகள்\n",
      "***************************\n",
      "started scrolling********************\n",
      "Completed scrolling********************\n",
      "Started clicking********************\n",
      "Finished clicking********************\n",
      "extracting text **************************************\n"
     ]
    },
    {
     "name": "stderr",
     "output_type": "stream",
     "text": [
      "\r",
      " 39%|██████████████▏                     | 155/394 [4:58:32<7:19:26, 110.32s/it]"
     ]
    },
    {
     "name": "stdout",
     "output_type": "stream",
     "text": [
      "Finished extracting text***********************\n",
      "வளிமத்_தொழினுட்பம்\n",
      "\n",
      "starting scraping of https://ta.quora.com/search?q=வளிமத் தொழினுட்பம்\n",
      "***************************\n",
      "started scrolling********************\n"
     ]
    },
    {
     "name": "stderr",
     "output_type": "stream",
     "text": [
      "\r",
      " 40%|██████████████▋                      | 156/394 [4:59:38<6:24:48, 97.01s/it]"
     ]
    },
    {
     "name": "stdout",
     "output_type": "stream",
     "text": [
      "Completed scrolling********************\n",
      "Started clicking********************\n",
      "Finished clicking********************\n",
      "extracting text **************************************\n",
      "Finished extracting text***********************\n",
      "கல்வி_நுட்பவியல்\n",
      "\n",
      "starting scraping of https://ta.quora.com/search?q=கல்வி நுட்பவியல்\n",
      "***************************\n",
      "started scrolling********************\n",
      "Completed scrolling********************\n",
      "Started clicking********************\n",
      "Finished clicking********************\n",
      "extracting text **************************************\n"
     ]
    },
    {
     "name": "stderr",
     "output_type": "stream",
     "text": [
      "\r",
      " 40%|██████████████▋                      | 157/394 [5:00:56<6:00:31, 91.27s/it]"
     ]
    },
    {
     "name": "stdout",
     "output_type": "stream",
     "text": [
      "Finished extracting text***********************\n",
      "கலைகள்\n",
      "\n",
      "starting scraping of https://ta.quora.com/search?q=கலைகள்\n",
      "***************************\n",
      "started scrolling********************\n"
     ]
    },
    {
     "name": "stderr",
     "output_type": "stream",
     "text": [
      "\r",
      " 40%|██████████████▊                      | 158/394 [5:02:04<5:32:19, 84.49s/it]"
     ]
    },
    {
     "name": "stdout",
     "output_type": "stream",
     "text": [
      "Completed scrolling********************\n",
      "Started clicking********************\n",
      "Finished clicking********************\n",
      "extracting text **************************************\n",
      "Finished extracting text***********************\n",
      "மனிதநேயம்\n",
      "\n",
      "starting scraping of https://ta.quora.com/search?q=மனிதநேயம்\n",
      "***************************\n",
      "started scrolling********************\n",
      "Completed scrolling********************\n",
      "Started clicking********************\n",
      "Finished clicking********************\n",
      "extracting text **************************************\n"
     ]
    },
    {
     "name": "stderr",
     "output_type": "stream",
     "text": [
      "\r",
      " 40%|██████████████▉                      | 159/394 [5:03:57<6:03:49, 92.89s/it]"
     ]
    },
    {
     "name": "stdout",
     "output_type": "stream",
     "text": [
      "Finished extracting text***********************\n",
      "அமைப்புகள்\n",
      "\n",
      "starting scraping of https://ta.quora.com/search?q=அமைப்புகள்\n",
      "***************************\n",
      "started scrolling********************\n",
      "Completed scrolling********************\n",
      "Started clicking********************\n",
      "Finished clicking********************\n",
      "extracting text **************************************\n"
     ]
    },
    {
     "name": "stderr",
     "output_type": "stream",
     "text": [
      "\r",
      " 41%|██████████████▌                     | 160/394 [5:06:08<6:46:49, 104.32s/it]"
     ]
    },
    {
     "name": "stdout",
     "output_type": "stream",
     "text": [
      "Finished extracting text***********************\n",
      "பரப்புரை\n",
      "\n",
      "starting scraping of https://ta.quora.com/search?q=பரப்புரை\n",
      "***************************\n",
      "started scrolling********************\n",
      "Completed scrolling********************\n",
      "Started clicking********************\n",
      "Finished clicking********************\n",
      "extracting text **************************************\n"
     ]
    },
    {
     "name": "stderr",
     "output_type": "stream",
     "text": [
      "\r",
      " 41%|██████████████▋                     | 161/394 [5:08:37<7:37:03, 117.70s/it]"
     ]
    },
    {
     "name": "stdout",
     "output_type": "stream",
     "text": [
      "Finished extracting text***********************\n",
      "தீவுக்கூட்டங்கள்\n",
      "\n",
      "starting scraping of https://ta.quora.com/search?q=தீவுக்கூட்டங்கள்\n",
      "***************************\n",
      "started scrolling********************\n",
      "Completed scrolling********************\n",
      "Started clicking********************\n",
      "Finished clicking********************\n",
      "extracting text **************************************\n"
     ]
    },
    {
     "name": "stderr",
     "output_type": "stream",
     "text": [
      "\r",
      " 41%|██████████████▊                     | 162/394 [5:09:40<6:32:20, 101.47s/it]"
     ]
    },
    {
     "name": "stdout",
     "output_type": "stream",
     "text": [
      "Finished extracting text***********************\n",
      "இயற்கை_அழிவுகள்\n",
      "\n",
      "starting scraping of https://ta.quora.com/search?q=இயற்கை அழிவுகள்\n",
      "***************************\n",
      "started scrolling********************\n",
      "Completed scrolling********************\n",
      "Started clicking********************\n",
      "Finished clicking********************\n",
      "extracting text **************************************\n"
     ]
    },
    {
     "name": "stderr",
     "output_type": "stream",
     "text": [
      "\r",
      " 41%|███████████████▎                     | 163/394 [5:11:01<6:06:00, 95.07s/it]"
     ]
    },
    {
     "name": "stdout",
     "output_type": "stream",
     "text": [
      "Finished extracting text***********************\n",
      "தமிழ்_நூல்கள்\n",
      "\n",
      "starting scraping of https://ta.quora.com/search?q=தமிழ் நூல்கள்\n",
      "***************************\n",
      "started scrolling********************\n",
      "Completed scrolling********************\n",
      "Started clicking********************\n",
      "Finished clicking********************\n",
      "extracting text **************************************\n"
     ]
    },
    {
     "name": "stderr",
     "output_type": "stream",
     "text": [
      "\r",
      " 42%|███████████████▍                     | 164/394 [5:12:48<6:18:10, 98.65s/it]"
     ]
    },
    {
     "name": "stdout",
     "output_type": "stream",
     "text": [
      "Finished extracting text***********************\n",
      "தமிழ்_மொழி_வரலாறு\n",
      "\n",
      "starting scraping of https://ta.quora.com/search?q=தமிழ் மொழி வரலாறு\n",
      "***************************\n",
      "started scrolling********************\n",
      "Completed scrolling********************\n",
      "Started clicking********************\n",
      "Finished clicking********************\n",
      "extracting text **************************************\n"
     ]
    },
    {
     "name": "stderr",
     "output_type": "stream",
     "text": [
      "\r",
      " 42%|███████████████                     | 165/394 [5:16:05<8:09:50, 128.34s/it]"
     ]
    },
    {
     "name": "stdout",
     "output_type": "stream",
     "text": [
      "Finished extracting text***********************\n",
      "கருவிகள்\n",
      "\n",
      "starting scraping of https://ta.quora.com/search?q=கருவிகள்\n",
      "***************************\n",
      "started scrolling********************\n",
      "Completed scrolling********************\n",
      "Started clicking********************\n",
      "Finished clicking********************\n",
      "extracting text **************************************\n"
     ]
    },
    {
     "name": "stderr",
     "output_type": "stream",
     "text": [
      "\r",
      " 42%|███████████████▏                    | 166/394 [5:19:34<9:39:22, 152.47s/it]"
     ]
    },
    {
     "name": "stdout",
     "output_type": "stream",
     "text": [
      "Finished extracting text***********************\n",
      "இங்கிலாந்தின்_புவியியல்\n",
      "\n",
      "starting scraping of https://ta.quora.com/search?q=இங்கிலாந்தின் புவியியல்\n",
      "***************************\n",
      "started scrolling********************\n",
      "Completed scrolling********************\n",
      "Started clicking********************\n",
      "Finished clicking********************\n",
      "extracting text **************************************\n"
     ]
    },
    {
     "name": "stderr",
     "output_type": "stream",
     "text": [
      "\r",
      " 42%|███████████████▎                    | 167/394 [5:20:40<7:58:32, 126.49s/it]"
     ]
    },
    {
     "name": "stdout",
     "output_type": "stream",
     "text": [
      "Finished extracting text***********************\n",
      "இலக்கியம்\n",
      "\n",
      "starting scraping of https://ta.quora.com/search?q=இலக்கியம்\n",
      "***************************\n",
      "started scrolling********************\n",
      "Completed scrolling********************\n",
      "Started clicking********************\n",
      "Finished clicking********************\n",
      "extracting text **************************************\n"
     ]
    },
    {
     "name": "stderr",
     "output_type": "stream",
     "text": [
      "\r",
      " 43%|███████████████▎                    | 168/394 [5:22:58<8:09:40, 130.00s/it]"
     ]
    },
    {
     "name": "stdout",
     "output_type": "stream",
     "text": [
      "Finished extracting text***********************\n",
      "அறிவியல்_வழிமுறைகள்\n",
      "\n",
      "starting scraping of https://ta.quora.com/search?q=அறிவியல் வழிமுறைகள்\n",
      "***************************\n",
      "started scrolling********************\n",
      "Completed scrolling********************\n",
      "Started clicking********************\n",
      "Finished clicking********************\n",
      "extracting text **************************************\n"
     ]
    },
    {
     "name": "stderr",
     "output_type": "stream",
     "text": [
      "\r",
      " 43%|███████████████▍                    | 169/394 [5:25:08<8:07:44, 130.06s/it]"
     ]
    },
    {
     "name": "stdout",
     "output_type": "stream",
     "text": [
      "Finished extracting text***********************\n",
      "அறிவியலின்_மெய்யியல்\n",
      "\n",
      "starting scraping of https://ta.quora.com/search?q=அறிவியலின் மெய்யியல்\n",
      "***************************\n",
      "started scrolling********************\n",
      "Completed scrolling********************\n",
      "Started clicking********************\n",
      "Finished clicking********************\n",
      "extracting text **************************************\n"
     ]
    },
    {
     "name": "stderr",
     "output_type": "stream",
     "text": [
      "\r",
      " 43%|███████████████▌                    | 170/394 [5:26:18<6:58:05, 111.99s/it]"
     ]
    },
    {
     "name": "stdout",
     "output_type": "stream",
     "text": [
      "Finished extracting text***********************\n",
      "தமிழீழம்\n",
      "\n",
      "starting scraping of https://ta.quora.com/search?q=தமிழீழம்\n",
      "***************************\n",
      "started scrolling********************\n",
      "Completed scrolling********************\n",
      "Started clicking********************\n",
      "Finished clicking********************\n",
      "extracting text **************************************\n"
     ]
    },
    {
     "name": "stderr",
     "output_type": "stream",
     "text": [
      "\r",
      " 43%|███████████████▌                    | 171/394 [5:27:56<6:40:51, 107.86s/it]"
     ]
    },
    {
     "name": "stdout",
     "output_type": "stream",
     "text": [
      "Finished extracting text***********************\n",
      "சமய_எழுத்தாளர்கள்\n",
      "\n",
      "starting scraping of https://ta.quora.com/search?q=சமய எழுத்தாளர்கள்\n",
      "***************************\n",
      "started scrolling********************\n",
      "Completed scrolling********************\n",
      "Started clicking********************\n",
      "Finished clicking********************\n",
      "extracting text **************************************\n"
     ]
    },
    {
     "name": "stderr",
     "output_type": "stream",
     "text": [
      "\r",
      " 44%|████████████████▏                    | 172/394 [5:29:07<5:57:59, 96.75s/it]"
     ]
    },
    {
     "name": "stdout",
     "output_type": "stream",
     "text": [
      "Finished extracting text***********************\n",
      "அரசர்கள்\n",
      "\n",
      "starting scraping of https://ta.quora.com/search?q=அரசர்கள்\n",
      "***************************\n",
      "started scrolling********************\n",
      "Completed scrolling********************\n",
      "Started clicking********************\n",
      "Finished clicking********************\n",
      "extracting text **************************************\n"
     ]
    },
    {
     "name": "stderr",
     "output_type": "stream",
     "text": [
      "\r",
      " 44%|███████████████▊                    | 173/394 [5:31:28<6:45:12, 110.01s/it]"
     ]
    },
    {
     "name": "stdout",
     "output_type": "stream",
     "text": [
      "Finished extracting text***********************\n",
      "பண்பாட்டு_வரலாறு\n",
      "\n",
      "starting scraping of https://ta.quora.com/search?q=பண்பாட்டு வரலாறு\n",
      "***************************\n",
      "started scrolling********************\n",
      "Completed scrolling********************\n",
      "Started clicking********************\n",
      "Finished clicking********************\n",
      "extracting text **************************************\n"
     ]
    },
    {
     "name": "stderr",
     "output_type": "stream",
     "text": [
      "\r",
      " 44%|███████████████▉                    | 174/394 [5:34:15<7:46:25, 127.21s/it]"
     ]
    },
    {
     "name": "stdout",
     "output_type": "stream",
     "text": [
      "Finished extracting text***********************\n",
      "தமிழ்ச்_சொற்கள்\n",
      "\n",
      "starting scraping of https://ta.quora.com/search?q=தமிழ்ச் சொற்கள்\n",
      "***************************\n",
      "started scrolling********************\n",
      "Completed scrolling********************\n",
      "Started clicking********************\n",
      "Finished clicking********************\n",
      "extracting text **************************************\n"
     ]
    },
    {
     "name": "stderr",
     "output_type": "stream",
     "text": [
      "\r",
      " 44%|███████████████▉                    | 175/394 [5:36:45<8:08:44, 133.90s/it]"
     ]
    },
    {
     "name": "stdout",
     "output_type": "stream",
     "text": [
      "Finished extracting text***********************\n",
      "கணிதப்_பரிசுகளும்_விருதுகளும்\n",
      "\n",
      "starting scraping of https://ta.quora.com/search?q=கணிதப் பரிசுகளும் விருதுகளும்\n",
      "***************************\n",
      "started scrolling********************\n"
     ]
    },
    {
     "name": "stderr",
     "output_type": "stream",
     "text": [
      "\r",
      " 45%|████████████████                    | 176/394 [5:37:47<6:48:28, 112.42s/it]"
     ]
    },
    {
     "name": "stdout",
     "output_type": "stream",
     "text": [
      "Completed scrolling********************\n",
      "Started clicking********************\n",
      "Finished clicking********************\n",
      "extracting text **************************************\n",
      "Finished extracting text***********************\n",
      "அறிவியல்_துறைச்சொற்கள்\n",
      "\n",
      "starting scraping of https://ta.quora.com/search?q=அறிவியல் துறைச்சொற்கள்\n",
      "***************************\n",
      "started scrolling********************\n"
     ]
    },
    {
     "name": "stderr",
     "output_type": "stream",
     "text": [
      "\r",
      " 45%|████████████████▌                    | 177/394 [5:38:50<5:52:43, 97.53s/it]"
     ]
    },
    {
     "name": "stdout",
     "output_type": "stream",
     "text": [
      "Completed scrolling********************\n",
      "Started clicking********************\n",
      "Finished clicking********************\n",
      "extracting text **************************************\n",
      "Finished extracting text***********************\n",
      "ஆன்மிகம்\n",
      "\n",
      "starting scraping of https://ta.quora.com/search?q=ஆன்மிகம்\n",
      "***************************\n",
      "started scrolling********************\n",
      "Completed scrolling********************\n",
      "Started clicking********************\n",
      "Finished clicking********************\n",
      "extracting text **************************************\n"
     ]
    },
    {
     "name": "stderr",
     "output_type": "stream",
     "text": [
      "\r",
      " 45%|████████████████▎                   | 178/394 [5:40:47<6:12:04, 103.35s/it]"
     ]
    },
    {
     "name": "stdout",
     "output_type": "stream",
     "text": [
      "Finished extracting text***********************\n",
      "புவியியல்_நூல்கள்\n",
      "\n",
      "starting scraping of https://ta.quora.com/search?q=புவியியல் நூல்கள்\n",
      "***************************\n",
      "started scrolling********************\n",
      "Completed scrolling********************\n",
      "Started clicking********************\n",
      "Finished clicking********************\n",
      "extracting text **************************************\n"
     ]
    },
    {
     "name": "stderr",
     "output_type": "stream",
     "text": [
      "\r",
      " 45%|████████████████▎                   | 179/394 [5:42:39<6:19:19, 105.86s/it]"
     ]
    },
    {
     "name": "stdout",
     "output_type": "stream",
     "text": [
      "Finished extracting text***********************\n",
      "மனித_வரலாறு\n",
      "\n",
      "starting scraping of https://ta.quora.com/search?q=மனித வரலாறு\n",
      "***************************\n",
      "started scrolling********************\n",
      "Completed scrolling********************\n",
      "Started clicking********************\n",
      "Finished clicking********************\n",
      "extracting text **************************************\n"
     ]
    },
    {
     "name": "stderr",
     "output_type": "stream",
     "text": [
      "\r",
      " 46%|███████████████▉                   | 180/394 [5:51:31<13:53:48, 233.78s/it]"
     ]
    },
    {
     "name": "stdout",
     "output_type": "stream",
     "text": [
      "Finished extracting text***********************\n",
      "தொழினுட்ப_வகைகள்\n",
      "\n",
      "starting scraping of https://ta.quora.com/search?q=தொழினுட்ப வகைகள்\n",
      "***************************\n",
      "started scrolling********************\n"
     ]
    },
    {
     "name": "stderr",
     "output_type": "stream",
     "text": [
      "\r",
      " 46%|████████████████                   | 181/394 [5:52:38<10:52:13, 183.73s/it]"
     ]
    },
    {
     "name": "stdout",
     "output_type": "stream",
     "text": [
      "Completed scrolling********************\n",
      "Started clicking********************\n",
      "Finished clicking********************\n",
      "extracting text **************************************\n",
      "Finished extracting text***********************\n",
      "தொழில்கள்\n",
      "\n",
      "starting scraping of https://ta.quora.com/search?q=தொழில்கள்\n",
      "***************************\n",
      "started scrolling********************\n",
      "Completed scrolling********************\n",
      "Started clicking********************\n",
      "Finished clicking********************\n",
      "extracting text **************************************\n"
     ]
    },
    {
     "name": "stderr",
     "output_type": "stream",
     "text": [
      "\r",
      " 46%|████████████████▏                  | 182/394 [5:55:54<11:02:44, 187.57s/it]"
     ]
    },
    {
     "name": "stdout",
     "output_type": "stream",
     "text": [
      "Finished extracting text***********************\n",
      "அறிவியல்_தோற்றப்பாடுகள்\n",
      "\n",
      "starting scraping of https://ta.quora.com/search?q=அறிவியல் தோற்றப்பாடுகள்\n",
      "***************************\n",
      "started scrolling********************\n",
      "Completed scrolling********************\n",
      "Started clicking********************\n",
      "Finished clicking********************\n",
      "extracting text **************************************\n"
     ]
    },
    {
     "name": "stderr",
     "output_type": "stream",
     "text": [
      "\r",
      " 46%|████████████████▋                   | 183/394 [5:57:00<8:50:53, 150.96s/it]"
     ]
    },
    {
     "name": "stdout",
     "output_type": "stream",
     "text": [
      "Finished extracting text***********************\n",
      "விழாக்கள்\n",
      "\n",
      "starting scraping of https://ta.quora.com/search?q=விழாக்கள்\n",
      "***************************\n",
      "started scrolling********************\n",
      "Completed scrolling********************\n",
      "Started clicking********************\n",
      "Finished clicking********************\n",
      "extracting text **************************************\n"
     ]
    },
    {
     "name": "stderr",
     "output_type": "stream",
     "text": [
      "\r",
      " 47%|████████████████▊                   | 184/394 [5:59:19<8:35:24, 147.26s/it]"
     ]
    },
    {
     "name": "stdout",
     "output_type": "stream",
     "text": [
      "Finished extracting text***********************\n",
      "கணவாய்கள்\n",
      "\n",
      "starting scraping of https://ta.quora.com/search?q=கணவாய்கள்\n",
      "***************************\n",
      "started scrolling********************\n",
      "Completed scrolling********************\n",
      "Started clicking********************\n",
      "Finished clicking********************\n",
      "extracting text **************************************\n"
     ]
    },
    {
     "name": "stderr",
     "output_type": "stream",
     "text": [
      "\r",
      " 47%|████████████████▉                   | 185/394 [6:00:37<7:20:51, 126.56s/it]"
     ]
    },
    {
     "name": "stdout",
     "output_type": "stream",
     "text": [
      "Finished extracting text***********************\n",
      "தமிழர்_அறிவியல்\n",
      "\n",
      "starting scraping of https://ta.quora.com/search?q=தமிழர் அறிவியல்\n",
      "***************************\n",
      "started scrolling********************\n",
      "Completed scrolling********************\n",
      "Started clicking********************\n",
      "Finished clicking********************\n",
      "extracting text **************************************\n"
     ]
    },
    {
     "name": "stderr",
     "output_type": "stream",
     "text": [
      "\r",
      " 47%|████████████████▉                   | 186/394 [6:03:16<7:53:07, 136.48s/it]"
     ]
    },
    {
     "name": "stdout",
     "output_type": "stream",
     "text": [
      "Finished extracting text***********************\n",
      "பண்பாடு_வாரியாக_கணிதம்\n",
      "\n",
      "starting scraping of https://ta.quora.com/search?q=பண்பாடு வாரியாக கணிதம்\n",
      "***************************\n",
      "started scrolling********************\n",
      "Completed scrolling********************\n",
      "Started clicking********************\n"
     ]
    },
    {
     "name": "stderr",
     "output_type": "stream",
     "text": [
      "\r",
      " 47%|█████████████████                   | 187/394 [6:04:18<6:32:52, 113.88s/it]"
     ]
    },
    {
     "name": "stdout",
     "output_type": "stream",
     "text": [
      "Finished clicking********************\n",
      "extracting text **************************************\n",
      "Finished extracting text***********************\n",
      "பண்பாட்டு_ஆய்வுகள்\n",
      "\n",
      "starting scraping of https://ta.quora.com/search?q=பண்பாட்டு ஆய்வுகள்\n",
      "***************************\n",
      "started scrolling********************\n",
      "Completed scrolling********************\n",
      "Started clicking********************\n",
      "Finished clicking********************\n",
      "extracting text **************************************\n"
     ]
    },
    {
     "name": "stderr",
     "output_type": "stream",
     "text": [
      "\r",
      " 48%|█████████████████▏                  | 188/394 [6:05:49<6:07:47, 107.13s/it]"
     ]
    },
    {
     "name": "stdout",
     "output_type": "stream",
     "text": [
      "Finished extracting text***********************\n",
      "சீக்கியம்\n",
      "\n",
      "starting scraping of https://ta.quora.com/search?q=சீக்கியம்\n",
      "***************************\n",
      "started scrolling********************\n",
      "Completed scrolling********************\n",
      "Started clicking********************\n",
      "Finished clicking********************\n",
      "extracting text **************************************\n"
     ]
    },
    {
     "name": "stderr",
     "output_type": "stream",
     "text": [
      "\r",
      " 48%|█████████████████▎                  | 189/394 [6:07:13<5:42:11, 100.15s/it]"
     ]
    },
    {
     "name": "stdout",
     "output_type": "stream",
     "text": [
      "Finished extracting text***********************\n",
      "தமிழ்_அகராதியியல்\n",
      "\n",
      "starting scraping of https://ta.quora.com/search?q=தமிழ் அகராதியியல்\n",
      "***************************\n",
      "started scrolling********************\n",
      "Completed scrolling********************\n",
      "Started clicking********************\n",
      "Finished clicking********************\n",
      "extracting text **************************************\n",
      "Finished extracting text***********************\n"
     ]
    },
    {
     "name": "stderr",
     "output_type": "stream",
     "text": [
      "\r",
      " 48%|█████████████████▊                   | 190/394 [6:08:20<5:07:13, 90.36s/it]"
     ]
    },
    {
     "name": "stdout",
     "output_type": "stream",
     "text": [
      "அறிவியல்_ஆய்வுகள்\n",
      "\n",
      "starting scraping of https://ta.quora.com/search?q=அறிவியல் ஆய்வுகள்\n",
      "***************************\n",
      "started scrolling********************\n",
      "Completed scrolling********************\n",
      "Started clicking********************\n",
      "Finished clicking********************\n",
      "extracting text **************************************\n"
     ]
    },
    {
     "name": "stderr",
     "output_type": "stream",
     "text": [
      "\r",
      " 48%|█████████████████▍                  | 191/394 [6:10:29<5:44:53, 101.94s/it]"
     ]
    },
    {
     "name": "stdout",
     "output_type": "stream",
     "text": [
      "Finished extracting text***********************\n",
      "சமூக_வரலாறு\n",
      "\n",
      "starting scraping of https://ta.quora.com/search?q=சமூக வரலாறு\n",
      "***************************\n",
      "started scrolling********************\n",
      "Completed scrolling********************\n",
      "Started clicking********************\n",
      "Finished clicking********************\n",
      "extracting text **************************************\n"
     ]
    },
    {
     "name": "stderr",
     "output_type": "stream",
     "text": [
      "\r",
      " 49%|█████████████████                  | 192/394 [6:16:46<10:20:18, 184.25s/it]"
     ]
    },
    {
     "name": "stdout",
     "output_type": "stream",
     "text": [
      "Finished extracting text***********************\n",
      "வாழ்முறைகள்\n",
      "\n",
      "starting scraping of https://ta.quora.com/search?q=வாழ்முறைகள்\n",
      "***************************\n",
      "started scrolling********************\n",
      "Completed scrolling********************\n",
      "Started clicking********************\n",
      "Finished clicking********************\n",
      "extracting text **************************************\n"
     ]
    },
    {
     "name": "stderr",
     "output_type": "stream",
     "text": [
      "\r",
      " 49%|█████████████████▋                  | 193/394 [6:17:54<8:20:42, 149.47s/it]"
     ]
    },
    {
     "name": "stdout",
     "output_type": "stream",
     "text": [
      "Finished extracting text***********************\n",
      "இந்திய_சமயங்கள்\n",
      "\n",
      "starting scraping of https://ta.quora.com/search?q=இந்திய சமயங்கள்\n",
      "***************************\n",
      "started scrolling********************\n",
      "Completed scrolling********************\n",
      "Started clicking********************\n",
      "Finished clicking********************\n",
      "extracting text **************************************\n"
     ]
    },
    {
     "name": "stderr",
     "output_type": "stream",
     "text": [
      "\r",
      " 49%|█████████████████▋                  | 194/394 [6:19:48<7:42:28, 138.74s/it]"
     ]
    },
    {
     "name": "stdout",
     "output_type": "stream",
     "text": [
      "Finished extracting text***********************\n",
      "தொழிற்சாலை\n",
      "\n",
      "starting scraping of https://ta.quora.com/search?q=தொழிற்சாலை\n",
      "***************************\n",
      "started scrolling********************\n",
      "Completed scrolling********************\n",
      "Started clicking********************\n",
      "Finished clicking********************\n",
      "extracting text **************************************\n"
     ]
    },
    {
     "name": "stderr",
     "output_type": "stream",
     "text": [
      "\r",
      " 49%|█████████████████▊                  | 195/394 [6:22:04<7:37:38, 137.98s/it]"
     ]
    },
    {
     "name": "stdout",
     "output_type": "stream",
     "text": [
      "Finished extracting text***********************\n",
      "கடற்கரைகள்\n",
      "\n",
      "starting scraping of https://ta.quora.com/search?q=கடற்கரைகள்\n",
      "***************************\n",
      "started scrolling********************\n",
      "Completed scrolling********************\n",
      "Started clicking********************\n",
      "Finished clicking********************\n",
      "extracting text **************************************\n"
     ]
    },
    {
     "name": "stderr",
     "output_type": "stream",
     "text": [
      "\r",
      " 50%|█████████████████▉                  | 196/394 [6:25:03<8:15:55, 150.28s/it]"
     ]
    },
    {
     "name": "stdout",
     "output_type": "stream",
     "text": [
      "Finished extracting text***********************\n",
      "தமிழ்_இலக்கணம்\n",
      "\n",
      "starting scraping of https://ta.quora.com/search?q=தமிழ் இலக்கணம்\n",
      "***************************\n",
      "started scrolling********************\n",
      "Completed scrolling********************\n",
      "Started clicking********************\n",
      "Finished clicking********************\n",
      "extracting text **************************************\n"
     ]
    },
    {
     "name": "stderr",
     "output_type": "stream",
     "text": [
      "\r",
      " 50%|██████████████████                  | 197/394 [6:28:08<8:47:36, 160.69s/it]"
     ]
    },
    {
     "name": "stdout",
     "output_type": "stream",
     "text": [
      "Finished extracting text***********************\n",
      "கலை_தொடர்பான_பட்டியல்கள்\n",
      "\n",
      "starting scraping of https://ta.quora.com/search?q=கலை தொடர்பான பட்டியல்கள்\n",
      "***************************\n",
      "started scrolling********************\n",
      "Completed scrolling********************\n",
      "Started clicking********************\n"
     ]
    },
    {
     "name": "stderr",
     "output_type": "stream",
     "text": [
      "\r",
      " 50%|██████████████████                  | 198/394 [6:29:12<7:10:13, 131.70s/it]"
     ]
    },
    {
     "name": "stdout",
     "output_type": "stream",
     "text": [
      "Finished clicking********************\n",
      "extracting text **************************************\n",
      "Finished extracting text***********************\n",
      "இனங்கள்_வாரியாக_வரலாறு\n",
      "\n",
      "starting scraping of https://ta.quora.com/search?q=இனங்கள் வாரியாக வரலாறு\n",
      "***************************\n",
      "started scrolling********************\n",
      "Completed scrolling********************\n",
      "Started clicking********************\n",
      "Finished clicking********************\n",
      "extracting text **************************************\n",
      "Finished extracting text***********************\n"
     ]
    },
    {
     "name": "stderr",
     "output_type": "stream",
     "text": [
      "\r",
      " 51%|██████████████████▏                 | 199/394 [6:30:20<6:05:58, 112.61s/it]"
     ]
    },
    {
     "name": "stdout",
     "output_type": "stream",
     "text": [
      "சமய_நம்பிக்கையும்_போதனையும்\n",
      "\n",
      "starting scraping of https://ta.quora.com/search?q=சமய நம்பிக்கையும் போதனையும்\n",
      "***************************\n",
      "started scrolling********************\n"
     ]
    },
    {
     "name": "stderr",
     "output_type": "stream",
     "text": [
      "\r",
      " 51%|██████████████████▊                  | 200/394 [6:31:22<5:14:45, 97.35s/it]"
     ]
    },
    {
     "name": "stdout",
     "output_type": "stream",
     "text": [
      "Completed scrolling********************\n",
      "Started clicking********************\n",
      "Finished clicking********************\n",
      "extracting text **************************************\n",
      "Finished extracting text***********************\n",
      "கணிதக்_குறிமானங்கள்\n",
      "\n",
      "starting scraping of https://ta.quora.com/search?q=கணிதக் குறிமானங்கள்\n",
      "***************************\n",
      "started scrolling********************\n"
     ]
    },
    {
     "name": "stderr",
     "output_type": "stream",
     "text": [
      "\r",
      " 51%|██████████████████▉                  | 201/394 [6:32:26<4:41:04, 87.38s/it]"
     ]
    },
    {
     "name": "stdout",
     "output_type": "stream",
     "text": [
      "Completed scrolling********************\n",
      "Started clicking********************\n",
      "Finished clicking********************\n",
      "extracting text **************************************\n",
      "Finished extracting text***********************\n",
      "பண்பாட்டு_மானிடவியல்\n",
      "\n",
      "starting scraping of https://ta.quora.com/search?q=பண்பாட்டு மானிடவியல்\n",
      "***************************\n",
      "started scrolling********************\n",
      "Completed scrolling********************\n",
      "Started clicking********************\n",
      "Finished clicking********************\n",
      "extracting text **************************************\n"
     ]
    },
    {
     "name": "stderr",
     "output_type": "stream",
     "text": [
      "\r",
      " 51%|██████████████████▉                  | 202/394 [6:33:36<4:23:17, 82.28s/it]"
     ]
    },
    {
     "name": "stdout",
     "output_type": "stream",
     "text": [
      "Finished extracting text***********************\n",
      "கணிதக்_கருவிகள்\n",
      "\n",
      "starting scraping of https://ta.quora.com/search?q=கணிதக் கருவிகள்\n",
      "***************************\n",
      "started scrolling********************\n",
      "Completed scrolling********************\n",
      "Started clicking********************\n",
      "Finished clicking********************\n",
      "extracting text **************************************\n"
     ]
    },
    {
     "name": "stderr",
     "output_type": "stream",
     "text": [
      "\r",
      " 52%|███████████████████                  | 203/394 [6:34:39<4:03:30, 76.50s/it]"
     ]
    },
    {
     "name": "stdout",
     "output_type": "stream",
     "text": [
      "Finished extracting text***********************\n",
      "நம்பிக்கைகள்\n",
      "\n",
      "starting scraping of https://ta.quora.com/search?q=நம்பிக்கைகள்\n",
      "***************************\n",
      "started scrolling********************\n",
      "Completed scrolling********************\n",
      "Started clicking********************\n",
      "Finished clicking********************\n",
      "extracting text **************************************\n"
     ]
    },
    {
     "name": "stderr",
     "output_type": "stream",
     "text": [
      "\r",
      " 52%|███████████████████▏                 | 204/394 [6:36:56<4:59:48, 94.68s/it]"
     ]
    },
    {
     "name": "stdout",
     "output_type": "stream",
     "text": [
      "Finished extracting text***********************\n",
      "தமிழர்_வரலாறு\n",
      "\n",
      "starting scraping of https://ta.quora.com/search?q=தமிழர் வரலாறு\n",
      "***************************\n",
      "started scrolling********************\n",
      "Completed scrolling********************\n",
      "Started clicking********************\n",
      "Finished clicking********************\n",
      "extracting text **************************************\n"
     ]
    },
    {
     "name": "stderr",
     "output_type": "stream",
     "text": [
      "\r",
      " 52%|██████████████████▋                 | 205/394 [6:38:51<5:17:01, 100.65s/it]"
     ]
    },
    {
     "name": "stdout",
     "output_type": "stream",
     "text": [
      "Finished extracting text***********************\n",
      "உலக_நாடுகளின்_வரலாறு\n",
      "\n",
      "starting scraping of https://ta.quora.com/search?q=உலக நாடுகளின் வரலாறு\n",
      "***************************\n",
      "started scrolling********************\n",
      "Completed scrolling********************\n",
      "Started clicking********************\n",
      "Finished clicking********************\n",
      "extracting text **************************************\n"
     ]
    },
    {
     "name": "stderr",
     "output_type": "stream",
     "text": [
      "\r",
      " 52%|██████████████████▊                 | 206/394 [6:41:19<6:00:04, 114.91s/it]"
     ]
    },
    {
     "name": "stdout",
     "output_type": "stream",
     "text": [
      "Finished extracting text***********************\n",
      "தொன்மவியல்\n",
      "\n",
      "starting scraping of https://ta.quora.com/search?q=தொன்மவியல்\n",
      "***************************\n",
      "started scrolling********************\n",
      "Completed scrolling********************\n",
      "Started clicking********************\n",
      "Finished clicking********************\n",
      "extracting text **************************************\n"
     ]
    },
    {
     "name": "stderr",
     "output_type": "stream",
     "text": [
      "\r",
      " 53%|██████████████████▉                 | 207/394 [6:42:43<5:29:04, 105.59s/it]"
     ]
    },
    {
     "name": "stdout",
     "output_type": "stream",
     "text": [
      "Finished extracting text***********************\n",
      "நிலவியல்\n",
      "\n",
      "starting scraping of https://ta.quora.com/search?q=நிலவியல்\n",
      "***************************\n",
      "started scrolling********************\n",
      "Completed scrolling********************\n",
      "Started clicking********************\n",
      "Finished clicking********************\n",
      "extracting text **************************************\n"
     ]
    },
    {
     "name": "stderr",
     "output_type": "stream",
     "text": [
      "\r",
      " 53%|███████████████████                 | 208/394 [6:44:44<5:41:47, 110.25s/it]"
     ]
    },
    {
     "name": "stdout",
     "output_type": "stream",
     "text": [
      "Finished extracting text***********************\n",
      "சுற்றுலா\n",
      "\n",
      "starting scraping of https://ta.quora.com/search?q=சுற்றுலா\n",
      "***************************\n",
      "started scrolling********************\n",
      "Completed scrolling********************\n",
      "Started clicking********************\n",
      "Finished clicking********************\n",
      "extracting text **************************************\n"
     ]
    },
    {
     "name": "stderr",
     "output_type": "stream",
     "text": [
      "\r",
      " 53%|██████████████████▌                | 209/394 [6:51:54<10:35:22, 206.07s/it]"
     ]
    },
    {
     "name": "stdout",
     "output_type": "stream",
     "text": [
      "Finished extracting text***********************\n",
      "ஒழுங்கின்மைக்_கோட்பாடு\n",
      "\n",
      "starting scraping of https://ta.quora.com/search?q=ஒழுங்கின்மைக் கோட்பாடு\n",
      "***************************\n",
      "started scrolling********************\n",
      "Completed scrolling********************\n",
      "Started clicking********************\n",
      "Finished clicking********************\n",
      "extracting text **************************************\n"
     ]
    },
    {
     "name": "stderr",
     "output_type": "stream",
     "text": [
      "\r",
      " 53%|███████████████████▏                | 210/394 [6:52:58<8:21:52, 163.65s/it]"
     ]
    },
    {
     "name": "stdout",
     "output_type": "stream",
     "text": [
      "Finished extracting text***********************\n",
      "நாடுகள்_வாரியாக_சமூகங்கள்\n",
      "\n",
      "starting scraping of https://ta.quora.com/search?q=நாடுகள் வாரியாக சமூகங்கள்\n",
      "***************************\n",
      "started scrolling********************\n"
     ]
    },
    {
     "name": "stderr",
     "output_type": "stream",
     "text": [
      "\r",
      " 54%|███████████████████▎                | 211/394 [6:54:02<6:48:01, 133.78s/it]"
     ]
    },
    {
     "name": "stdout",
     "output_type": "stream",
     "text": [
      "Completed scrolling********************\n",
      "Started clicking********************\n",
      "Finished clicking********************\n",
      "extracting text **************************************\n",
      "Finished extracting text***********************\n",
      "தமிழர்_போரியல்\n",
      "\n",
      "starting scraping of https://ta.quora.com/search?q=தமிழர் போரியல்\n",
      "***************************\n",
      "started scrolling********************\n",
      "Completed scrolling********************\n",
      "Started clicking********************\n",
      "Finished clicking********************\n",
      "extracting text **************************************\n"
     ]
    },
    {
     "name": "stderr",
     "output_type": "stream",
     "text": [
      "\r",
      " 54%|███████████████████▎                | 212/394 [6:55:19<5:53:54, 116.67s/it]"
     ]
    },
    {
     "name": "stdout",
     "output_type": "stream",
     "text": [
      "Finished extracting text***********************\n",
      "ஆக்கப்பூர்வ_படைப்புகள்\n",
      "\n",
      "starting scraping of https://ta.quora.com/search?q=ஆக்கப்பூர்வ படைப்புகள்\n",
      "***************************\n",
      "started scrolling********************\n"
     ]
    },
    {
     "name": "stderr",
     "output_type": "stream",
     "text": [
      "\r",
      " 54%|███████████████████▍                | 213/394 [6:56:21<5:02:41, 100.34s/it]"
     ]
    },
    {
     "name": "stdout",
     "output_type": "stream",
     "text": [
      "Completed scrolling********************\n",
      "Started clicking********************\n",
      "Finished clicking********************\n",
      "extracting text **************************************\n",
      "Finished extracting text***********************\n",
      "காட்சிக்_கலைகள்\n",
      "\n",
      "starting scraping of https://ta.quora.com/search?q=காட்சிக் கலைகள்\n",
      "***************************\n",
      "started scrolling********************\n",
      "Completed scrolling********************\n",
      "Started clicking********************\n"
     ]
    },
    {
     "name": "stderr",
     "output_type": "stream",
     "text": [
      "\r",
      " 54%|████████████████████                 | 214/394 [6:57:27<4:29:26, 89.82s/it]"
     ]
    },
    {
     "name": "stdout",
     "output_type": "stream",
     "text": [
      "Finished clicking********************\n",
      "extracting text **************************************\n",
      "Finished extracting text***********************\n",
      "தமிழர்_பொருளாதாரம்\n",
      "\n",
      "starting scraping of https://ta.quora.com/search?q=தமிழர் பொருளாதாரம்\n",
      "***************************\n",
      "started scrolling********************\n",
      "Completed scrolling********************\n",
      "Started clicking********************\n",
      "Finished clicking********************\n",
      "extracting text **************************************\n"
     ]
    },
    {
     "name": "stderr",
     "output_type": "stream",
     "text": [
      "\r",
      " 55%|███████████████████▋                | 215/394 [7:00:07<5:30:52, 110.91s/it]"
     ]
    },
    {
     "name": "stdout",
     "output_type": "stream",
     "text": [
      "Finished extracting text***********************\n",
      "தொடர்\n",
      "\n",
      "starting scraping of https://ta.quora.com/search?q=தொடர்\n",
      "***************************\n",
      "started scrolling********************\n",
      "Completed scrolling********************\n",
      "Started clicking********************\n",
      "Finished clicking********************\n",
      "extracting text **************************************\n"
     ]
    },
    {
     "name": "stderr",
     "output_type": "stream",
     "text": [
      "\r",
      " 55%|███████████████████▋                | 216/394 [7:03:51<7:10:11, 145.01s/it]"
     ]
    },
    {
     "name": "stdout",
     "output_type": "stream",
     "text": [
      "Finished extracting text***********************\n",
      "தமிழர்_கல்வி\n",
      "\n",
      "starting scraping of https://ta.quora.com/search?q=தமிழர் கல்வி\n",
      "***************************\n",
      "started scrolling********************\n",
      "Completed scrolling********************\n",
      "Started clicking********************\n",
      "Finished clicking********************\n",
      "extracting text **************************************\n"
     ]
    },
    {
     "name": "stderr",
     "output_type": "stream",
     "text": [
      "\r",
      " 55%|███████████████████▊                | 217/394 [7:06:59<7:45:35, 157.83s/it]"
     ]
    },
    {
     "name": "stdout",
     "output_type": "stream",
     "text": [
      "Finished extracting text***********************\n",
      "தமிழர்_கலைகள்\n",
      "\n",
      "starting scraping of https://ta.quora.com/search?q=தமிழர் கலைகள்\n",
      "***************************\n",
      "started scrolling********************\n",
      "Completed scrolling********************\n",
      "Started clicking********************\n",
      "Finished clicking********************\n",
      "extracting text **************************************\n"
     ]
    },
    {
     "name": "stderr",
     "output_type": "stream",
     "text": [
      "\r",
      " 55%|███████████████████▉                | 218/394 [7:09:04<7:13:41, 147.85s/it]"
     ]
    },
    {
     "name": "stdout",
     "output_type": "stream",
     "text": [
      "Finished extracting text***********************\n",
      "தொழிற்புரட்சிகள்\n",
      "\n",
      "starting scraping of https://ta.quora.com/search?q=தொழிற்புரட்சிகள்\n",
      "***************************\n",
      "started scrolling********************\n"
     ]
    },
    {
     "name": "stderr",
     "output_type": "stream",
     "text": [
      "\r",
      " 56%|████████████████████                | 219/394 [7:10:07<5:57:14, 122.48s/it]"
     ]
    },
    {
     "name": "stdout",
     "output_type": "stream",
     "text": [
      "Completed scrolling********************\n",
      "Started clicking********************\n",
      "Finished clicking********************\n",
      "extracting text **************************************\n",
      "Finished extracting text***********************\n",
      "தமிழ்_கல்வி\n",
      "\n",
      "starting scraping of https://ta.quora.com/search?q=தமிழ் கல்வி\n",
      "***************************\n",
      "started scrolling********************\n",
      "Completed scrolling********************\n",
      "Started clicking********************\n",
      "Finished clicking********************\n",
      "extracting text **************************************\n"
     ]
    },
    {
     "name": "stderr",
     "output_type": "stream",
     "text": [
      "\r",
      " 56%|████████████████████                | 220/394 [7:13:13<6:50:40, 141.61s/it]"
     ]
    },
    {
     "name": "stdout",
     "output_type": "stream",
     "text": [
      "Finished extracting text***********************\n",
      "சமூக_மாற்றம்\n",
      "\n",
      "starting scraping of https://ta.quora.com/search?q=சமூக மாற்றம்\n",
      "***************************\n",
      "started scrolling********************\n",
      "Completed scrolling********************\n",
      "Started clicking********************\n",
      "Finished clicking********************\n",
      "extracting text **************************************\n"
     ]
    },
    {
     "name": "stderr",
     "output_type": "stream",
     "text": [
      "\r",
      " 56%|████████████████████▏               | 221/394 [7:16:29<7:35:21, 157.93s/it]"
     ]
    },
    {
     "name": "stdout",
     "output_type": "stream",
     "text": [
      "Finished extracting text***********************\n",
      "மூவலந்தீவுகள்\n",
      "\n",
      "starting scraping of https://ta.quora.com/search?q=மூவலந்தீவுகள்\n",
      "***************************\n",
      "started scrolling********************\n"
     ]
    },
    {
     "name": "stderr",
     "output_type": "stream",
     "text": [
      "\r",
      " 56%|████████████████████▎               | 222/394 [7:17:32<6:10:36, 129.28s/it]"
     ]
    },
    {
     "name": "stdout",
     "output_type": "stream",
     "text": [
      "Completed scrolling********************\n",
      "Started clicking********************\n",
      "Finished clicking********************\n",
      "extracting text **************************************\n",
      "Finished extracting text***********************\n",
      "செயல்முறைகள்\n",
      "\n",
      "starting scraping of https://ta.quora.com/search?q=செயல்முறைகள்\n",
      "***************************\n",
      "started scrolling********************\n",
      "Completed scrolling********************\n",
      "Started clicking********************\n",
      "Finished clicking********************\n",
      "extracting text **************************************\n"
     ]
    },
    {
     "name": "stderr",
     "output_type": "stream",
     "text": [
      "\r",
      " 57%|████████████████████▍               | 223/394 [7:19:54<6:19:56, 133.31s/it]"
     ]
    },
    {
     "name": "stdout",
     "output_type": "stream",
     "text": [
      "Finished extracting text***********************\n",
      "கணிதத்தின்_மெய்யியல்\n",
      "\n",
      "starting scraping of https://ta.quora.com/search?q=கணிதத்தின் மெய்யியல்\n",
      "***************************\n",
      "started scrolling********************\n",
      "Completed scrolling********************\n",
      "Started clicking********************\n",
      "Finished clicking********************\n"
     ]
    },
    {
     "name": "stderr",
     "output_type": "stream",
     "text": [
      "\r",
      " 57%|████████████████████▍               | 224/394 [7:21:01<5:21:16, 113.39s/it]"
     ]
    },
    {
     "name": "stdout",
     "output_type": "stream",
     "text": [
      "extracting text **************************************\n",
      "Finished extracting text***********************\n",
      "தமிழ்_மாநாடுகள்\n",
      "\n",
      "starting scraping of https://ta.quora.com/search?q=தமிழ் மாநாடுகள்\n",
      "***************************\n",
      "started scrolling********************\n",
      "Completed scrolling********************\n",
      "Started clicking********************\n",
      "Finished clicking********************\n",
      "extracting text **************************************\n"
     ]
    },
    {
     "name": "stderr",
     "output_type": "stream",
     "text": [
      "\r",
      " 57%|████████████████████▌               | 225/394 [7:22:28<4:57:01, 105.45s/it]"
     ]
    },
    {
     "name": "stdout",
     "output_type": "stream",
     "text": [
      "Finished extracting text***********************\n",
      "சமூக_நலத்_திட்டங்கள்\n",
      "\n",
      "starting scraping of https://ta.quora.com/search?q=சமூக நலத் திட்டங்கள்\n",
      "***************************\n",
      "started scrolling********************\n",
      "Completed scrolling********************\n",
      "Started clicking********************\n",
      "Finished clicking********************\n",
      "extracting text **************************************\n"
     ]
    },
    {
     "name": "stderr",
     "output_type": "stream",
     "text": [
      "\r",
      " 57%|█████████████████████▏               | 226/394 [7:23:52<4:37:00, 98.93s/it]"
     ]
    },
    {
     "name": "stdout",
     "output_type": "stream",
     "text": [
      "Finished extracting text***********************\n",
      "கேரளக்_கலைகள்\n",
      "\n",
      "starting scraping of https://ta.quora.com/search?q=கேரளக் கலைகள்\n",
      "***************************\n",
      "started scrolling********************\n"
     ]
    },
    {
     "name": "stderr",
     "output_type": "stream",
     "text": [
      "\r",
      " 58%|█████████████████████▎               | 227/394 [7:24:55<4:05:22, 88.16s/it]"
     ]
    },
    {
     "name": "stdout",
     "output_type": "stream",
     "text": [
      "Completed scrolling********************\n",
      "Started clicking********************\n",
      "Finished clicking********************\n",
      "extracting text **************************************\n",
      "Finished extracting text***********************\n",
      "திட்டங்கள்\n",
      "\n",
      "starting scraping of https://ta.quora.com/search?q=திட்டங்கள்\n",
      "***************************\n",
      "started scrolling********************\n"
     ]
    },
    {
     "name": "stderr",
     "output_type": "stream",
     "text": [
      "\r",
      " 58%|████████████████████▊               | 228/394 [7:27:11<4:43:36, 102.51s/it]"
     ]
    },
    {
     "name": "stdout",
     "output_type": "stream",
     "text": [
      "Completed scrolling********************\n",
      "Started clicking********************\n",
      "Finished clicking********************\n",
      "extracting text **************************************\n",
      "Finished extracting text***********************\n",
      "சமயச்_சின்னங்கள்\n",
      "\n",
      "starting scraping of https://ta.quora.com/search?q=சமயச் சின்னங்கள்\n",
      "***************************\n",
      "started scrolling********************\n",
      "Completed scrolling********************\n",
      "Started clicking********************\n",
      "Finished clicking********************\n",
      "extracting text **************************************\n"
     ]
    },
    {
     "name": "stderr",
     "output_type": "stream",
     "text": [
      "\r",
      " 58%|█████████████████████▌               | 229/394 [7:28:35<4:26:35, 96.94s/it]"
     ]
    },
    {
     "name": "stdout",
     "output_type": "stream",
     "text": [
      "Finished extracting text***********************\n",
      "முடிச்சியல்\n",
      "\n",
      "starting scraping of https://ta.quora.com/search?q=முடிச்சியல்\n",
      "***************************\n",
      "started scrolling********************\n"
     ]
    },
    {
     "name": "stderr",
     "output_type": "stream",
     "text": [
      "\r",
      " 58%|█████████████████████▌               | 230/394 [7:29:41<3:59:24, 87.59s/it]"
     ]
    },
    {
     "name": "stdout",
     "output_type": "stream",
     "text": [
      "Completed scrolling********************\n",
      "Started clicking********************\n",
      "Finished clicking********************\n",
      "extracting text **************************************\n",
      "Finished extracting text***********************\n",
      "தகவல்_தொழில்நுட்பம்\n",
      "\n",
      "starting scraping of https://ta.quora.com/search?q=தகவல் தொழில்நுட்பம்\n",
      "***************************\n",
      "started scrolling********************\n",
      "Completed scrolling********************\n",
      "Started clicking********************\n",
      "Finished clicking********************\n",
      "extracting text **************************************\n"
     ]
    },
    {
     "name": "stderr",
     "output_type": "stream",
     "text": [
      "\r",
      " 59%|█████████████████████               | 231/394 [7:32:06<4:45:15, 105.00s/it]"
     ]
    },
    {
     "name": "stdout",
     "output_type": "stream",
     "text": [
      "Finished extracting text***********************\n",
      "சமூகப்_பிரச்சனைகள்\n",
      "\n",
      "starting scraping of https://ta.quora.com/search?q=சமூகப் பிரச்சனைகள்\n",
      "***************************\n",
      "started scrolling********************\n",
      "Completed scrolling********************\n",
      "Started clicking********************\n",
      "Finished clicking********************\n",
      "extracting text **************************************\n"
     ]
    },
    {
     "name": "stderr",
     "output_type": "stream",
     "text": [
      "\r",
      " 59%|█████████████████████▏              | 232/394 [7:33:48<4:40:34, 103.91s/it]"
     ]
    },
    {
     "name": "stdout",
     "output_type": "stream",
     "text": [
      "Finished extracting text***********************\n",
      "கணிதத்_தேற்றங்கள்\n",
      "\n",
      "starting scraping of https://ta.quora.com/search?q=கணிதத் தேற்றங்கள்\n",
      "***************************\n",
      "started scrolling********************\n",
      "Completed scrolling********************\n",
      "Started clicking********************\n",
      "Finished clicking********************\n",
      "extracting text **************************************\n"
     ]
    },
    {
     "name": "stderr",
     "output_type": "stream",
     "text": [
      "\r",
      " 59%|█████████████████████▉               | 233/394 [7:34:54<4:08:22, 92.56s/it]"
     ]
    },
    {
     "name": "stdout",
     "output_type": "stream",
     "text": [
      "Finished extracting text***********************\n",
      "ஆசியப்_புவியியல்\n",
      "\n",
      "starting scraping of https://ta.quora.com/search?q=ஆசியப் புவியியல்\n",
      "***************************\n",
      "started scrolling********************\n"
     ]
    },
    {
     "name": "stderr",
     "output_type": "stream",
     "text": [
      "\r",
      " 59%|█████████████████████▉               | 234/394 [7:35:56<3:42:39, 83.49s/it]"
     ]
    },
    {
     "name": "stdout",
     "output_type": "stream",
     "text": [
      "Completed scrolling********************\n",
      "Started clicking********************\n",
      "Finished clicking********************\n",
      "extracting text **************************************\n",
      "Finished extracting text***********************\n",
      "பொறியியல்\n",
      "\n",
      "starting scraping of https://ta.quora.com/search?q=பொறியியல்\n",
      "***************************\n",
      "started scrolling********************\n",
      "Completed scrolling********************\n",
      "Started clicking********************\n",
      "Finished clicking********************\n",
      "extracting text **************************************\n"
     ]
    },
    {
     "name": "stderr",
     "output_type": "stream",
     "text": [
      "\r",
      " 60%|█████████████████████▍              | 235/394 [7:41:20<6:52:43, 155.74s/it]"
     ]
    },
    {
     "name": "stdout",
     "output_type": "stream",
     "text": [
      "Finished extracting text***********************\n",
      "வட்டாரங்கள்\n",
      "\n",
      "starting scraping of https://ta.quora.com/search?q=வட்டாரங்கள்\n",
      "***************************\n",
      "started scrolling********************\n",
      "Completed scrolling********************\n",
      "Started clicking********************\n",
      "Finished clicking********************\n",
      "extracting text **************************************\n"
     ]
    },
    {
     "name": "stderr",
     "output_type": "stream",
     "text": [
      "\r",
      " 60%|█████████████████████▌              | 236/394 [7:44:14<7:04:03, 161.03s/it]"
     ]
    },
    {
     "name": "stdout",
     "output_type": "stream",
     "text": [
      "Finished extracting text***********************\n",
      "உயிரித்_தொழில்நுட்பம்\n",
      "\n",
      "starting scraping of https://ta.quora.com/search?q=உயிரித் தொழில்நுட்பம்\n",
      "***************************\n",
      "started scrolling********************\n",
      "Completed scrolling********************\n",
      "Started clicking********************\n",
      "Finished clicking********************\n",
      "extracting text **************************************\n"
     ]
    },
    {
     "name": "stderr",
     "output_type": "stream",
     "text": [
      "\r",
      " 60%|█████████████████████▋              | 237/394 [7:45:21<5:47:51, 132.94s/it]"
     ]
    },
    {
     "name": "stdout",
     "output_type": "stream",
     "text": [
      "Finished extracting text***********************\n",
      "விசைப்பொறிகள்\n",
      "\n",
      "starting scraping of https://ta.quora.com/search?q=விசைப்பொறிகள்\n",
      "***************************\n",
      "started scrolling********************\n",
      "Completed scrolling********************\n",
      "Started clicking********************\n",
      "Finished clicking********************\n",
      "extracting text **************************************\n"
     ]
    },
    {
     "name": "stderr",
     "output_type": "stream",
     "text": [
      "\r",
      " 60%|█████████████████████▋              | 238/394 [7:46:28<4:54:13, 113.17s/it]"
     ]
    },
    {
     "name": "stdout",
     "output_type": "stream",
     "text": [
      "Finished extracting text***********************\n",
      "கலைத்_தொழில்கள்\n",
      "\n",
      "starting scraping of https://ta.quora.com/search?q=கலைத் தொழில்கள்\n",
      "***************************\n",
      "started scrolling********************\n",
      "Completed scrolling********************\n",
      "Started clicking********************\n",
      "Finished clicking********************\n",
      "extracting text **************************************\n"
     ]
    },
    {
     "name": "stderr",
     "output_type": "stream",
     "text": [
      "\r",
      " 61%|██████████████████████▍              | 239/394 [7:47:34<4:15:19, 98.84s/it]"
     ]
    },
    {
     "name": "stdout",
     "output_type": "stream",
     "text": [
      "Finished extracting text***********************\n",
      "வரலாற்றின்_புலங்கள்\n",
      "\n",
      "starting scraping of https://ta.quora.com/search?q=வரலாற்றின் புலங்கள்\n",
      "***************************\n",
      "started scrolling********************\n",
      "Completed scrolling********************\n",
      "Started clicking********************\n",
      "Finished clicking********************\n",
      "extracting text **************************************\n"
     ]
    },
    {
     "name": "stderr",
     "output_type": "stream",
     "text": [
      "\r",
      " 61%|██████████████████████▌              | 240/394 [7:48:42<3:50:04, 89.64s/it]"
     ]
    },
    {
     "name": "stdout",
     "output_type": "stream",
     "text": [
      "Finished extracting text***********************\n",
      "சமூகம்_பற்றிய_படைப்புகள்\n",
      "\n",
      "starting scraping of https://ta.quora.com/search?q=சமூகம் பற்றிய படைப்புகள்\n",
      "***************************\n",
      "started scrolling********************\n",
      "Completed scrolling********************\n",
      "Started clicking********************\n",
      "Finished clicking********************\n",
      "extracting text **************************************\n"
     ]
    },
    {
     "name": "stderr",
     "output_type": "stream",
     "text": [
      "\r",
      " 61%|██████████████████████▋              | 241/394 [7:50:19<3:54:39, 92.02s/it]"
     ]
    },
    {
     "name": "stdout",
     "output_type": "stream",
     "text": [
      "Finished extracting text***********************\n",
      "கட்டிடக்கலை\n",
      "\n",
      "starting scraping of https://ta.quora.com/search?q=கட்டிடக்கலை\n",
      "***************************\n",
      "started scrolling********************\n",
      "Completed scrolling********************\n",
      "Started clicking********************\n",
      "Finished clicking********************\n",
      "extracting text **************************************\n"
     ]
    },
    {
     "name": "stderr",
     "output_type": "stream",
     "text": [
      "\r",
      " 61%|██████████████████████▋              | 242/394 [7:51:56<3:56:49, 93.49s/it]"
     ]
    },
    {
     "name": "stdout",
     "output_type": "stream",
     "text": [
      "Finished extracting text***********************\n",
      "பொதுமங்கள்\n",
      "\n",
      "starting scraping of https://ta.quora.com/search?q=பொதுமங்கள்\n",
      "***************************\n",
      "started scrolling********************\n",
      "Completed scrolling********************\n",
      "Started clicking********************\n",
      "Finished clicking********************\n",
      "extracting text **************************************\n"
     ]
    },
    {
     "name": "stderr",
     "output_type": "stream",
     "text": [
      "\r",
      " 62%|██████████████████████▊              | 243/394 [7:53:05<3:36:20, 85.96s/it]"
     ]
    },
    {
     "name": "stdout",
     "output_type": "stream",
     "text": [
      "Finished extracting text***********************\n",
      "வட_அமெரிக்காவின்_கலைகள்\n",
      "\n",
      "starting scraping of https://ta.quora.com/search?q=வட அமெரிக்காவின் கலைகள்\n",
      "***************************\n",
      "started scrolling********************\n"
     ]
    },
    {
     "name": "stderr",
     "output_type": "stream",
     "text": [
      "\r",
      " 62%|██████████████████████▉              | 244/394 [7:54:07<3:17:11, 78.87s/it]"
     ]
    },
    {
     "name": "stdout",
     "output_type": "stream",
     "text": [
      "Completed scrolling********************\n",
      "Started clicking********************\n",
      "Finished clicking********************\n",
      "extracting text **************************************\n",
      "Finished extracting text***********************\n",
      "சிக்கல்_தீர்வு\n",
      "\n",
      "starting scraping of https://ta.quora.com/search?q=சிக்கல் தீர்வு\n",
      "***************************\n",
      "started scrolling********************\n",
      "Completed scrolling********************\n",
      "Started clicking********************\n",
      "Finished clicking********************\n",
      "extracting text **************************************\n"
     ]
    },
    {
     "name": "stderr",
     "output_type": "stream",
     "text": [
      "\r",
      " 62%|██████████████████████▍             | 245/394 [7:56:59<4:25:00, 106.72s/it]"
     ]
    },
    {
     "name": "stdout",
     "output_type": "stream",
     "text": [
      "Finished extracting text***********************\n",
      "மந்திரங்கள்\n",
      "\n",
      "starting scraping of https://ta.quora.com/search?q=மந்திரங்கள்\n",
      "***************************\n",
      "started scrolling********************\n",
      "Completed scrolling********************\n",
      "Started clicking********************\n",
      "Finished clicking********************\n",
      "extracting text **************************************\n"
     ]
    },
    {
     "name": "stderr",
     "output_type": "stream",
     "text": [
      "\r",
      " 62%|██████████████████████▍             | 246/394 [7:58:42<4:20:33, 105.63s/it]"
     ]
    },
    {
     "name": "stdout",
     "output_type": "stream",
     "text": [
      "Finished extracting text***********************\n",
      "தமிழ்க்_கணிதம்\n",
      "\n",
      "starting scraping of https://ta.quora.com/search?q=தமிழ்க் கணிதம்\n",
      "***************************\n",
      "started scrolling********************\n",
      "Completed scrolling********************\n",
      "Started clicking********************\n",
      "Finished clicking********************\n",
      "extracting text **************************************\n"
     ]
    },
    {
     "name": "stderr",
     "output_type": "stream",
     "text": [
      "\r",
      " 63%|███████████████████████▏             | 247/394 [7:59:50<3:51:12, 94.37s/it]"
     ]
    },
    {
     "name": "stdout",
     "output_type": "stream",
     "text": [
      "Finished extracting text***********************\n",
      "சமூக_அறிவியல்கள்\n",
      "\n",
      "starting scraping of https://ta.quora.com/search?q=சமூக அறிவியல்கள்\n",
      "***************************\n",
      "started scrolling********************\n",
      "Completed scrolling********************\n",
      "Started clicking********************\n",
      "Finished clicking********************\n",
      "extracting text **************************************\n"
     ]
    },
    {
     "name": "stderr",
     "output_type": "stream",
     "text": [
      "\r",
      " 63%|███████████████████████▎             | 248/394 [8:00:57<3:29:37, 86.15s/it]"
     ]
    },
    {
     "name": "stdout",
     "output_type": "stream",
     "text": [
      "Finished extracting text***********************\n",
      "சமூகவியல்\n",
      "\n",
      "starting scraping of https://ta.quora.com/search?q=சமூகவியல்\n",
      "***************************\n",
      "started scrolling********************\n",
      "Completed scrolling********************\n",
      "Started clicking********************\n",
      "Finished clicking********************\n",
      "extracting text **************************************\n"
     ]
    },
    {
     "name": "stderr",
     "output_type": "stream",
     "text": [
      "\r",
      " 63%|███████████████████████▍             | 249/394 [8:02:43<3:42:51, 92.22s/it]"
     ]
    },
    {
     "name": "stdout",
     "output_type": "stream",
     "text": [
      "Finished extracting text***********************\n",
      "நாடுகள்\n",
      "\n",
      "starting scraping of https://ta.quora.com/search?q=நாடுகள்\n",
      "***************************\n",
      "started scrolling********************\n",
      "Completed scrolling********************\n",
      "Started clicking********************\n",
      "Finished clicking********************\n",
      "extracting text **************************************\n"
     ]
    },
    {
     "name": "stderr",
     "output_type": "stream",
     "text": [
      "\r",
      " 63%|██████████████████████▏            | 250/394 [8:14:55<11:21:35, 283.99s/it]"
     ]
    },
    {
     "name": "stdout",
     "output_type": "stream",
     "text": [
      "Finished extracting text***********************\n",
      "குகைகள்\n",
      "\n",
      "starting scraping of https://ta.quora.com/search?q=குகைகள்\n",
      "***************************\n",
      "started scrolling********************\n",
      "Completed scrolling********************\n",
      "Started clicking********************\n",
      "Finished clicking********************\n",
      "extracting text **************************************\n"
     ]
    },
    {
     "name": "stderr",
     "output_type": "stream",
     "text": [
      "\r",
      " 64%|██████████████████████▉             | 251/394 [8:17:01<9:23:49, 236.57s/it]"
     ]
    },
    {
     "name": "stdout",
     "output_type": "stream",
     "text": [
      "Finished extracting text***********************\n",
      "நில_அளவியல்\n",
      "\n",
      "starting scraping of https://ta.quora.com/search?q=நில அளவியல்\n",
      "***************************\n",
      "started scrolling********************\n",
      "Completed scrolling********************\n",
      "Started clicking********************\n",
      "Finished clicking********************\n",
      "extracting text **************************************\n"
     ]
    },
    {
     "name": "stderr",
     "output_type": "stream",
     "text": [
      "\r",
      " 64%|███████████████████████             | 252/394 [8:18:09<7:20:29, 186.12s/it]"
     ]
    },
    {
     "name": "stdout",
     "output_type": "stream",
     "text": [
      "Finished extracting text***********************\n",
      "நெசவு\n",
      "\n",
      "starting scraping of https://ta.quora.com/search?q=நெசவு\n",
      "***************************\n",
      "started scrolling********************\n",
      "Completed scrolling********************\n",
      "Started clicking********************\n",
      "Finished clicking********************\n",
      "extracting text **************************************\n"
     ]
    },
    {
     "name": "stderr",
     "output_type": "stream",
     "text": [
      "\r",
      " 64%|███████████████████████             | 253/394 [8:21:16<7:17:54, 186.34s/it]"
     ]
    },
    {
     "name": "stdout",
     "output_type": "stream",
     "text": [
      "Finished extracting text***********************\n",
      "அறிவியலும்_சமூகமும்\n",
      "\n",
      "starting scraping of https://ta.quora.com/search?q=அறிவியலும் சமூகமும்\n",
      "***************************\n",
      "started scrolling********************\n",
      "Completed scrolling********************\n",
      "Started clicking********************\n",
      "Finished clicking********************\n",
      "extracting text **************************************\n"
     ]
    },
    {
     "name": "stderr",
     "output_type": "stream",
     "text": [
      "\r",
      " 64%|███████████████████████▏            | 254/394 [8:22:24<5:51:47, 150.77s/it]"
     ]
    },
    {
     "name": "stdout",
     "output_type": "stream",
     "text": [
      "Finished extracting text***********************\n",
      "அறிவியல்_கோட்பாடுகள்\n",
      "\n",
      "starting scraping of https://ta.quora.com/search?q=அறிவியல் கோட்பாடுகள்\n",
      "***************************\n",
      "started scrolling********************\n",
      "Completed scrolling********************\n",
      "Started clicking********************\n",
      "Finished clicking********************\n",
      "extracting text **************************************\n"
     ]
    },
    {
     "name": "stderr",
     "output_type": "stream",
     "text": [
      "\r",
      " 65%|███████████████████████▎            | 255/394 [8:25:45<6:24:16, 165.88s/it]"
     ]
    },
    {
     "name": "stdout",
     "output_type": "stream",
     "text": [
      "Finished extracting text***********************\n",
      "பழக்க_வழக்கங்கள்\n",
      "\n",
      "starting scraping of https://ta.quora.com/search?q=பழக்க வழக்கங்கள்\n",
      "***************************\n",
      "started scrolling********************\n",
      "Completed scrolling********************\n",
      "Started clicking********************\n",
      "Finished clicking********************\n",
      "extracting text **************************************\n"
     ]
    },
    {
     "name": "stderr",
     "output_type": "stream",
     "text": [
      "\r",
      " 65%|███████████████████████▍            | 256/394 [8:27:26<5:37:04, 146.55s/it]"
     ]
    },
    {
     "name": "stdout",
     "output_type": "stream",
     "text": [
      "Finished extracting text***********************\n",
      "நவீனத்துவம்\n",
      "\n",
      "starting scraping of https://ta.quora.com/search?q=நவீனத்துவம்\n",
      "***************************\n",
      "started scrolling********************\n",
      "Completed scrolling********************\n",
      "Started clicking********************\n",
      "Finished clicking********************\n",
      "extracting text **************************************\n"
     ]
    },
    {
     "name": "stderr",
     "output_type": "stream",
     "text": [
      "\r",
      " 65%|███████████████████████▍            | 257/394 [8:29:01<4:59:26, 131.14s/it]"
     ]
    },
    {
     "name": "stdout",
     "output_type": "stream",
     "text": [
      "Finished extracting text***********************\n",
      "தமிழ்_ஊடகவியல்\n",
      "\n",
      "starting scraping of https://ta.quora.com/search?q=தமிழ் ஊடகவியல்\n",
      "***************************\n",
      "started scrolling********************\n",
      "Completed scrolling********************\n",
      "Started clicking********************\n",
      "Finished clicking********************\n",
      "extracting text **************************************\n"
     ]
    },
    {
     "name": "stderr",
     "output_type": "stream",
     "text": [
      "\r",
      " 65%|███████████████████████▌            | 258/394 [8:30:09<4:14:11, 112.14s/it]"
     ]
    },
    {
     "name": "stdout",
     "output_type": "stream",
     "text": [
      "Finished extracting text***********************\n",
      "தொழில்நுட்பத்_துறையினர்\n",
      "\n",
      "starting scraping of https://ta.quora.com/search?q=தொழில்நுட்பத் துறையினர்\n",
      "***************************\n",
      "started scrolling********************\n"
     ]
    },
    {
     "name": "stderr",
     "output_type": "stream",
     "text": [
      "\r",
      " 66%|████████████████████████▎            | 259/394 [8:31:11<3:38:34, 97.15s/it]"
     ]
    },
    {
     "name": "stdout",
     "output_type": "stream",
     "text": [
      "Completed scrolling********************\n",
      "Started clicking********************\n",
      "Finished clicking********************\n",
      "extracting text **************************************\n",
      "Finished extracting text***********************\n",
      "கட்டற்றவை\n",
      "\n",
      "starting scraping of https://ta.quora.com/search?q=கட்டற்றவை\n",
      "***************************\n",
      "started scrolling********************\n"
     ]
    },
    {
     "name": "stderr",
     "output_type": "stream",
     "text": [
      "\r",
      " 66%|████████████████████████▍            | 260/394 [8:32:16<3:15:16, 87.44s/it]"
     ]
    },
    {
     "name": "stdout",
     "output_type": "stream",
     "text": [
      "Completed scrolling********************\n",
      "Started clicking********************\n",
      "Finished clicking********************\n",
      "extracting text **************************************\n",
      "Finished extracting text***********************\n",
      "சமயங்கள்_வாரியாக_நபர்கள்\n",
      "\n",
      "starting scraping of https://ta.quora.com/search?q=சமயங்கள் வாரியாக நபர்கள்\n",
      "***************************\n",
      "started scrolling********************\n"
     ]
    },
    {
     "name": "stderr",
     "output_type": "stream",
     "text": [
      "\r",
      " 66%|████████████████████████▌            | 261/394 [8:33:23<3:00:00, 81.21s/it]"
     ]
    },
    {
     "name": "stdout",
     "output_type": "stream",
     "text": [
      "Completed scrolling********************\n",
      "Started clicking********************\n",
      "Finished clicking********************\n",
      "extracting text **************************************\n",
      "Finished extracting text***********************\n",
      "சமய_வார்ப்புருக்கள்\n",
      "\n",
      "starting scraping of https://ta.quora.com/search?q=சமய வார்ப்புருக்கள்\n",
      "***************************\n",
      "started scrolling********************\n"
     ]
    },
    {
     "name": "stderr",
     "output_type": "stream",
     "text": [
      "\r",
      " 66%|████████████████████████▌            | 262/394 [8:34:26<2:46:39, 75.75s/it]"
     ]
    },
    {
     "name": "stdout",
     "output_type": "stream",
     "text": [
      "Completed scrolling********************\n",
      "Started clicking********************\n",
      "Finished clicking********************\n",
      "extracting text **************************************\n",
      "Finished extracting text***********************\n",
      "தமிழர்_நாட்டுப்புறவியல்\n",
      "\n",
      "starting scraping of https://ta.quora.com/search?q=தமிழர் நாட்டுப்புறவியல்\n",
      "***************************\n",
      "started scrolling********************\n",
      "Completed scrolling********************\n",
      "Started clicking********************\n",
      "Finished clicking********************\n",
      "extracting text **************************************\n"
     ]
    },
    {
     "name": "stderr",
     "output_type": "stream",
     "text": [
      "\r",
      " 67%|████████████████████████▋            | 263/394 [8:35:30<2:37:50, 72.30s/it]"
     ]
    },
    {
     "name": "stdout",
     "output_type": "stream",
     "text": [
      "Finished extracting text***********************\n",
      "சமயமின்மை\n",
      "\n",
      "starting scraping of https://ta.quora.com/search?q=சமயமின்மை\n",
      "***************************\n",
      "started scrolling********************\n",
      "Completed scrolling********************\n",
      "Started clicking********************\n",
      "Finished clicking********************\n",
      "extracting text **************************************\n"
     ]
    },
    {
     "name": "stderr",
     "output_type": "stream",
     "text": [
      "\r",
      " 67%|████████████████████████▊            | 264/394 [8:36:38<2:33:30, 70.85s/it]"
     ]
    },
    {
     "name": "stdout",
     "output_type": "stream",
     "text": [
      "Finished extracting text***********************\n",
      "நிகழ்வுகள்\n",
      "\n",
      "starting scraping of https://ta.quora.com/search?q=நிகழ்வுகள்\n",
      "***************************\n",
      "started scrolling********************\n",
      "Completed scrolling********************\n",
      "Started clicking********************\n",
      "Finished clicking********************\n",
      "extracting text **************************************\n"
     ]
    },
    {
     "name": "stderr",
     "output_type": "stream",
     "text": [
      "\r",
      " 67%|████████████████████████▏           | 265/394 [8:40:24<4:12:58, 117.67s/it]"
     ]
    },
    {
     "name": "stdout",
     "output_type": "stream",
     "text": [
      "Finished extracting text***********************\n",
      "தொல்லியல்\n",
      "\n",
      "starting scraping of https://ta.quora.com/search?q=தொல்லியல்\n",
      "***************************\n",
      "started scrolling********************\n",
      "Completed scrolling********************\n",
      "Started clicking********************\n",
      "Finished clicking********************\n",
      "extracting text **************************************\n"
     ]
    },
    {
     "name": "stderr",
     "output_type": "stream",
     "text": [
      "\r",
      " 68%|████████████████████████▎           | 266/394 [8:42:12<4:04:14, 114.49s/it]"
     ]
    },
    {
     "name": "stdout",
     "output_type": "stream",
     "text": [
      "Finished extracting text***********************\n",
      "தமிழ்க்_கணிமை\n",
      "\n",
      "starting scraping of https://ta.quora.com/search?q=தமிழ்க் கணிமை\n",
      "***************************\n",
      "started scrolling********************\n"
     ]
    },
    {
     "name": "stderr",
     "output_type": "stream",
     "text": [
      "\r",
      " 68%|█████████████████████████            | 267/394 [8:43:18<3:31:37, 99.98s/it]"
     ]
    },
    {
     "name": "stdout",
     "output_type": "stream",
     "text": [
      "Completed scrolling********************\n",
      "Started clicking********************\n",
      "Finished clicking********************\n",
      "extracting text **************************************\n",
      "Finished extracting text***********************\n",
      "தமிழ்_ஆவணவியல்\n",
      "\n",
      "starting scraping of https://ta.quora.com/search?q=தமிழ் ஆவணவியல்\n",
      "***************************\n",
      "started scrolling********************\n"
     ]
    },
    {
     "name": "stderr",
     "output_type": "stream",
     "text": [
      "\r",
      " 68%|█████████████████████████▏           | 268/394 [8:44:21<3:06:46, 88.94s/it]"
     ]
    },
    {
     "name": "stdout",
     "output_type": "stream",
     "text": [
      "Completed scrolling********************\n",
      "Started clicking********************\n",
      "Finished clicking********************\n",
      "extracting text **************************************\n",
      "Finished extracting text***********************\n",
      "பெயர்கள்\n",
      "\n",
      "starting scraping of https://ta.quora.com/search?q=பெயர்கள்\n",
      "***************************\n",
      "started scrolling********************\n"
     ]
    },
    {
     "name": "stderr",
     "output_type": "stream",
     "text": [
      "\r",
      " 68%|█████████████████████████▎           | 269/394 [8:46:11<3:18:22, 95.22s/it]"
     ]
    },
    {
     "name": "stdout",
     "output_type": "stream",
     "text": [
      "Completed scrolling********************\n",
      "Started clicking********************\n",
      "Finished clicking********************\n",
      "extracting text **************************************\n",
      "Finished extracting text***********************\n",
      "அறிவியல்_மற்றும்_தொழில்நுட்பம்\n",
      "\n",
      "starting scraping of https://ta.quora.com/search?q=அறிவியல் மற்றும் தொழில்நுட்பம்\n",
      "***************************\n",
      "started scrolling********************\n",
      "Completed scrolling********************\n",
      "Started clicking********************\n",
      "Finished clicking********************\n",
      "extracting text **************************************\n"
     ]
    },
    {
     "name": "stderr",
     "output_type": "stream",
     "text": [
      "\r",
      " 69%|████████████████████████▋           | 270/394 [8:49:06<4:06:36, 119.33s/it]"
     ]
    },
    {
     "name": "stdout",
     "output_type": "stream",
     "text": [
      "Finished extracting text***********************\n",
      "தொழிலகம்\n",
      "\n",
      "starting scraping of https://ta.quora.com/search?q=தொழிலகம்\n",
      "***************************\n",
      "started scrolling********************\n",
      "Completed scrolling********************\n",
      "Started clicking********************\n",
      "Finished clicking********************\n",
      "extracting text **************************************\n"
     ]
    },
    {
     "name": "stderr",
     "output_type": "stream",
     "text": [
      "\r",
      " 69%|████████████████████████▊           | 271/394 [8:50:36<3:46:31, 110.50s/it]"
     ]
    },
    {
     "name": "stdout",
     "output_type": "stream",
     "text": [
      "Finished extracting text***********************\n",
      "பண்பாடுகள்\n",
      "\n",
      "starting scraping of https://ta.quora.com/search?q=பண்பாடுகள்\n",
      "***************************\n",
      "started scrolling********************\n",
      "Completed scrolling********************\n",
      "Started clicking********************\n",
      "Finished clicking********************\n",
      "extracting text **************************************\n"
     ]
    },
    {
     "name": "stderr",
     "output_type": "stream",
     "text": [
      "\r",
      " 69%|████████████████████████▊           | 272/394 [8:58:12<7:15:17, 214.07s/it]"
     ]
    },
    {
     "name": "stdout",
     "output_type": "stream",
     "text": [
      "Finished extracting text***********************\n",
      "தமிழ்_மகளிரியல்\n",
      "\n",
      "starting scraping of https://ta.quora.com/search?q=தமிழ் மகளிரியல்\n",
      "***************************\n",
      "started scrolling********************\n"
     ]
    },
    {
     "name": "stderr",
     "output_type": "stream",
     "text": [
      "\r",
      " 69%|████████████████████████▉           | 273/394 [8:59:15<5:40:19, 168.76s/it]"
     ]
    },
    {
     "name": "stdout",
     "output_type": "stream",
     "text": [
      "Completed scrolling********************\n",
      "Started clicking********************\n",
      "Finished clicking********************\n",
      "extracting text **************************************\n",
      "Finished extracting text***********************\n",
      "சமய_சடங்குகள்\n",
      "\n",
      "starting scraping of https://ta.quora.com/search?q=சமய சடங்குகள்\n",
      "***************************\n",
      "started scrolling********************\n",
      "Completed scrolling********************\n",
      "Started clicking********************\n",
      "Finished clicking********************\n",
      "extracting text **************************************\n"
     ]
    },
    {
     "name": "stderr",
     "output_type": "stream",
     "text": [
      "\r",
      " 70%|█████████████████████████           | 274/394 [9:00:48<4:52:00, 146.01s/it]"
     ]
    },
    {
     "name": "stdout",
     "output_type": "stream",
     "text": [
      "Finished extracting text***********************\n",
      "இடம்_வாரியாக_கலைகள்\n",
      "\n",
      "starting scraping of https://ta.quora.com/search?q=இடம் வாரியாக கலைகள்\n",
      "***************************\n",
      "started scrolling********************\n",
      "Completed scrolling********************\n",
      "Started clicking********************\n"
     ]
    },
    {
     "name": "stderr",
     "output_type": "stream",
     "text": [
      "\r",
      " 70%|█████████████████████████▏          | 275/394 [9:01:50<3:59:29, 120.75s/it]"
     ]
    },
    {
     "name": "stdout",
     "output_type": "stream",
     "text": [
      "Finished clicking********************\n",
      "extracting text **************************************\n",
      "Finished extracting text***********************\n",
      "தமிழர்\n",
      "\n",
      "starting scraping of https://ta.quora.com/search?q=தமிழர்\n",
      "***************************\n",
      "started scrolling********************\n",
      "Completed scrolling********************\n",
      "Started clicking********************\n",
      "Finished clicking********************\n",
      "extracting text **************************************\n"
     ]
    },
    {
     "name": "stderr",
     "output_type": "stream",
     "text": [
      "\r",
      " 70%|█████████████████████████▏          | 276/394 [9:12:26<9:01:44, 275.47s/it]"
     ]
    },
    {
     "name": "stdout",
     "output_type": "stream",
     "text": [
      "Finished extracting text***********************\n",
      "எதிர்ப்புப்_போராட்டங்கள்\n",
      "\n",
      "starting scraping of https://ta.quora.com/search?q=எதிர்ப்புப் போராட்டங்கள்\n",
      "***************************\n",
      "started scrolling********************\n"
     ]
    },
    {
     "name": "stderr",
     "output_type": "stream",
     "text": [
      "\r",
      " 70%|█████████████████████████▎          | 277/394 [9:13:31<6:53:42, 212.16s/it]"
     ]
    },
    {
     "name": "stdout",
     "output_type": "stream",
     "text": [
      "Completed scrolling********************\n",
      "Started clicking********************\n",
      "Finished clicking********************\n",
      "extracting text **************************************\n",
      "Finished extracting text***********************\n",
      "பள்ளத்தாக்குகள்\n",
      "\n",
      "starting scraping of https://ta.quora.com/search?q=பள்ளத்தாக்குகள்\n",
      "***************************\n",
      "started scrolling********************\n",
      "Completed scrolling********************\n",
      "Started clicking********************\n",
      "Finished clicking********************\n",
      "extracting text **************************************\n"
     ]
    },
    {
     "name": "stderr",
     "output_type": "stream",
     "text": [
      "\r",
      " 71%|█████████████████████████▍          | 278/394 [9:15:04<5:41:14, 176.50s/it]"
     ]
    },
    {
     "name": "stdout",
     "output_type": "stream",
     "text": [
      "Finished extracting text***********************\n",
      "இனங்கள்_வாரியாக_பண்பாடு\n",
      "\n",
      "starting scraping of https://ta.quora.com/search?q=இனங்கள் வாரியாக பண்பாடு\n",
      "***************************\n",
      "started scrolling********************\n",
      "Completed scrolling********************\n",
      "Started clicking********************\n"
     ]
    },
    {
     "name": "stderr",
     "output_type": "stream",
     "text": [
      "\r",
      " 71%|█████████████████████████▍          | 279/394 [9:16:10<4:34:50, 143.40s/it]"
     ]
    },
    {
     "name": "stdout",
     "output_type": "stream",
     "text": [
      "Finished clicking********************\n",
      "extracting text **************************************\n",
      "Finished extracting text***********************\n",
      "தமிழ்_நபர்கள்\n",
      "\n",
      "starting scraping of https://ta.quora.com/search?q=தமிழ் நபர்கள்\n",
      "***************************\n",
      "started scrolling********************\n",
      "Completed scrolling********************\n",
      "Started clicking********************\n",
      "Finished clicking********************\n",
      "extracting text **************************************\n"
     ]
    },
    {
     "name": "stderr",
     "output_type": "stream",
     "text": [
      "\r",
      " 71%|█████████████████████████▌          | 280/394 [9:18:05<4:16:31, 135.01s/it]"
     ]
    },
    {
     "name": "stdout",
     "output_type": "stream",
     "text": [
      "Finished extracting text***********************\n",
      "நாட்டுப்புறவியல்\n",
      "\n",
      "starting scraping of https://ta.quora.com/search?q=நாட்டுப்புறவியல்\n",
      "***************************\n",
      "started scrolling********************\n",
      "Completed scrolling********************\n",
      "Started clicking********************\n",
      "Finished clicking********************\n",
      "extracting text **************************************\n"
     ]
    },
    {
     "name": "stderr",
     "output_type": "stream",
     "text": [
      "\r",
      " 71%|█████████████████████████▋          | 281/394 [9:19:22<3:40:59, 117.34s/it]"
     ]
    },
    {
     "name": "stdout",
     "output_type": "stream",
     "text": [
      "Finished extracting text***********************\n",
      "பண்பாடு_போக்குகள்\n",
      "\n",
      "starting scraping of https://ta.quora.com/search?q=பண்பாடு போக்குகள்\n",
      "***************************\n",
      "started scrolling********************\n",
      "Completed scrolling********************\n",
      "Started clicking********************\n",
      "Finished clicking********************\n",
      "extracting text **************************************\n"
     ]
    },
    {
     "name": "stderr",
     "output_type": "stream",
     "text": [
      "\r",
      " 72%|█████████████████████████▊          | 282/394 [9:20:34<3:13:55, 103.89s/it]"
     ]
    },
    {
     "name": "stdout",
     "output_type": "stream",
     "text": [
      "Finished extracting text***********************\n",
      "சித்த_மருத்துவம்\n",
      "\n",
      "starting scraping of https://ta.quora.com/search?q=சித்த மருத்துவம்\n",
      "***************************\n",
      "started scrolling********************\n",
      "Completed scrolling********************\n",
      "Started clicking********************\n",
      "Finished clicking********************\n",
      "extracting text **************************************\n"
     ]
    },
    {
     "name": "stderr",
     "output_type": "stream",
     "text": [
      "\r",
      " 72%|█████████████████████████▊          | 283/394 [9:22:28<3:17:58, 107.01s/it]"
     ]
    },
    {
     "name": "stdout",
     "output_type": "stream",
     "text": [
      "Finished extracting text***********************\n",
      "சமூக_அமைப்பு\n",
      "\n",
      "starting scraping of https://ta.quora.com/search?q=சமூக அமைப்பு\n",
      "***************************\n",
      "started scrolling********************\n",
      "Completed scrolling********************\n",
      "Started clicking********************\n",
      "Finished clicking********************\n",
      "extracting text **************************************\n"
     ]
    },
    {
     "name": "stderr",
     "output_type": "stream",
     "text": [
      "\r",
      " 72%|█████████████████████████▉          | 284/394 [9:25:04<3:42:45, 121.50s/it]"
     ]
    },
    {
     "name": "stdout",
     "output_type": "stream",
     "text": [
      "Finished extracting text***********************\n",
      "மருத்துவ_வரலாறு\n",
      "\n",
      "starting scraping of https://ta.quora.com/search?q=மருத்துவ வரலாறு\n",
      "***************************\n",
      "started scrolling********************\n",
      "Completed scrolling********************\n",
      "Started clicking********************\n",
      "Finished clicking********************\n",
      "extracting text **************************************\n"
     ]
    },
    {
     "name": "stderr",
     "output_type": "stream",
     "text": [
      "\r",
      " 72%|██████████████████████████          | 285/394 [9:29:59<5:15:14, 173.53s/it]"
     ]
    },
    {
     "name": "stdout",
     "output_type": "stream",
     "text": [
      "Finished extracting text***********************\n",
      "அழகியல்\n",
      "\n",
      "starting scraping of https://ta.quora.com/search?q=அழகியல்\n",
      "***************************\n",
      "started scrolling********************\n"
     ]
    },
    {
     "name": "stderr",
     "output_type": "stream",
     "text": [
      "\r",
      " 73%|██████████████████████████▏         | 286/394 [9:31:03<4:13:39, 140.93s/it]"
     ]
    },
    {
     "name": "stdout",
     "output_type": "stream",
     "text": [
      "Completed scrolling********************\n",
      "Started clicking********************\n",
      "Finished clicking********************\n",
      "extracting text **************************************\n",
      "Finished extracting text***********************\n",
      "சமூகக்_கோட்பாடுகள்\n",
      "\n",
      "starting scraping of https://ta.quora.com/search?q=சமூகக் கோட்பாடுகள்\n",
      "***************************\n",
      "started scrolling********************\n",
      "Completed scrolling********************\n",
      "Started clicking********************\n",
      "Finished clicking********************\n",
      "extracting text **************************************\n"
     ]
    },
    {
     "name": "stderr",
     "output_type": "stream",
     "text": [
      "\r",
      " 73%|██████████████████████████▏         | 287/394 [9:32:19<3:36:33, 121.44s/it]"
     ]
    },
    {
     "name": "stdout",
     "output_type": "stream",
     "text": [
      "Finished extracting text***********************\n",
      "நாடுகள்_வாரியாக_பண்பாடு\n",
      "\n",
      "starting scraping of https://ta.quora.com/search?q=நாடுகள் வாரியாக பண்பாடு\n",
      "***************************\n",
      "started scrolling********************\n",
      "Completed scrolling********************\n",
      "Started clicking********************\n",
      "Finished clicking********************\n",
      "extracting text **************************************\n"
     ]
    },
    {
     "name": "stderr",
     "output_type": "stream",
     "text": [
      "\r",
      " 73%|██████████████████████████▎         | 288/394 [9:33:26<3:05:36, 105.06s/it]"
     ]
    },
    {
     "name": "stdout",
     "output_type": "stream",
     "text": [
      "Finished extracting text***********************\n",
      "வரலாற்று_சிறப்புமிக்க_இடங்கள்\n",
      "\n",
      "starting scraping of https://ta.quora.com/search?q=வரலாற்று சிறப்புமிக்க இடங்கள்\n",
      "***************************\n",
      "started scrolling********************\n",
      "Completed scrolling********************\n",
      "Started clicking********************\n",
      "Finished clicking********************\n",
      "extracting text **************************************\n"
     ]
    },
    {
     "name": "stderr",
     "output_type": "stream",
     "text": [
      "\r",
      " 73%|███████████████████████████▏         | 289/394 [9:34:45<2:49:46, 97.01s/it]"
     ]
    },
    {
     "name": "stdout",
     "output_type": "stream",
     "text": [
      "Finished extracting text***********************\n",
      "பண்டிகைகள்\n",
      "\n",
      "starting scraping of https://ta.quora.com/search?q=பண்டிகைகள்\n",
      "***************************\n",
      "started scrolling********************\n",
      "Completed scrolling********************\n",
      "Started clicking********************\n",
      "Finished clicking********************\n",
      "extracting text **************************************\n"
     ]
    },
    {
     "name": "stderr",
     "output_type": "stream",
     "text": [
      "\r",
      " 74%|███████████████████████████▏         | 290/394 [9:36:31<2:52:50, 99.72s/it]"
     ]
    },
    {
     "name": "stdout",
     "output_type": "stream",
     "text": [
      "Finished extracting text***********************\n",
      "பிஜியின்_புவியியல்\n",
      "\n",
      "starting scraping of https://ta.quora.com/search?q=பிஜியின் புவியியல்\n",
      "***************************\n",
      "started scrolling********************\n"
     ]
    },
    {
     "name": "stderr",
     "output_type": "stream",
     "text": [
      "\r",
      " 74%|███████████████████████████▎         | 291/394 [9:37:36<2:33:43, 89.55s/it]"
     ]
    },
    {
     "name": "stdout",
     "output_type": "stream",
     "text": [
      "Completed scrolling********************\n",
      "Started clicking********************\n",
      "Finished clicking********************\n",
      "extracting text **************************************\n",
      "Finished extracting text***********************\n",
      "ஆற்றல்\n",
      "\n",
      "starting scraping of https://ta.quora.com/search?q=ஆற்றல்\n",
      "***************************\n",
      "started scrolling********************\n"
     ]
    },
    {
     "name": "stderr",
     "output_type": "stream",
     "text": [
      "\r",
      " 74%|███████████████████████████▍         | 292/394 [9:39:29<2:44:08, 96.56s/it]"
     ]
    },
    {
     "name": "stdout",
     "output_type": "stream",
     "text": [
      "Completed scrolling********************\n",
      "Started clicking********************\n",
      "Finished clicking********************\n",
      "extracting text **************************************\n",
      "Finished extracting text***********************\n",
      "தற்காப்புக்_கலைகள்\n",
      "\n",
      "starting scraping of https://ta.quora.com/search?q=தற்காப்புக் கலைகள்\n",
      "***************************\n",
      "started scrolling********************\n",
      "Completed scrolling********************\n",
      "Started clicking********************\n",
      "Finished clicking********************\n",
      "extracting text **************************************\n"
     ]
    },
    {
     "name": "stderr",
     "output_type": "stream",
     "text": [
      "\r",
      " 74%|███████████████████████████▌         | 293/394 [9:40:54<2:36:33, 93.01s/it]"
     ]
    },
    {
     "name": "stdout",
     "output_type": "stream",
     "text": [
      "Finished extracting text***********************\n",
      "நாடுகள்_வாரியாக_சமயம்\n",
      "\n",
      "starting scraping of https://ta.quora.com/search?q=நாடுகள் வாரியாக சமயம்\n",
      "***************************\n",
      "started scrolling********************\n",
      "Completed scrolling********************\n",
      "Started clicking********************\n",
      "Finished clicking********************\n",
      "extracting text **************************************\n"
     ]
    },
    {
     "name": "stderr",
     "output_type": "stream",
     "text": [
      "\r",
      " 75%|███████████████████████████▌         | 294/394 [9:42:02<2:22:37, 85.58s/it]"
     ]
    },
    {
     "name": "stdout",
     "output_type": "stream",
     "text": [
      "Finished extracting text***********************\n",
      "போர்கள்\n",
      "\n",
      "starting scraping of https://ta.quora.com/search?q=போர்கள்\n",
      "***************************\n",
      "started scrolling********************\n",
      "Completed scrolling********************\n",
      "Started clicking********************\n",
      "Finished clicking********************\n",
      "extracting text **************************************\n"
     ]
    },
    {
     "name": "stderr",
     "output_type": "stream",
     "text": [
      "\r",
      " 75%|██████████████████████████▉         | 295/394 [9:44:18<2:46:16, 100.77s/it]"
     ]
    },
    {
     "name": "stdout",
     "output_type": "stream",
     "text": [
      "Finished extracting text***********************\n",
      "திரைப்படம்\n",
      "\n",
      "starting scraping of https://ta.quora.com/search?q=திரைப்படம்\n",
      "***************************\n",
      "started scrolling********************\n"
     ]
    },
    {
     "name": "stderr",
     "output_type": "stream",
     "text": [
      "\r",
      " 75%|███████████████████████████         | 296/394 [9:50:46<5:05:04, 186.78s/it]"
     ]
    },
    {
     "name": "stdout",
     "output_type": "stream",
     "text": [
      "Completed scrolling********************\n",
      "Started clicking********************\n",
      "Finished clicking********************\n",
      "extracting text **************************************\n",
      "Finished extracting text***********************\n",
      "உலகப்_பண்பாடுகள்\n",
      "\n",
      "starting scraping of https://ta.quora.com/search?q=உலகப் பண்பாடுகள்\n",
      "***************************\n",
      "started scrolling********************\n",
      "Completed scrolling********************\n",
      "Started clicking********************\n",
      "Finished clicking********************\n",
      "extracting text **************************************\n"
     ]
    },
    {
     "name": "stderr",
     "output_type": "stream",
     "text": [
      "\r",
      " 75%|███████████████████████████▏        | 297/394 [9:51:51<4:03:07, 150.38s/it]"
     ]
    },
    {
     "name": "stdout",
     "output_type": "stream",
     "text": [
      "Finished extracting text***********************\n",
      "இட_ஒதுக்கீடு\n",
      "\n",
      "starting scraping of https://ta.quora.com/search?q=இட ஒதுக்கீடு\n",
      "***************************\n",
      "started scrolling********************\n"
     ]
    },
    {
     "name": "stderr",
     "output_type": "stream",
     "text": [
      "\r",
      " 76%|███████████████████████████▏        | 298/394 [9:53:08<3:25:10, 128.23s/it]"
     ]
    },
    {
     "name": "stdout",
     "output_type": "stream",
     "text": [
      "Completed scrolling********************\n",
      "Started clicking********************\n",
      "Finished clicking********************\n",
      "extracting text **************************************\n",
      "Finished extracting text***********************\n",
      "நாட்டின்_துணைப்பிரிவுகள்\n",
      "\n",
      "starting scraping of https://ta.quora.com/search?q=நாட்டின் துணைப்பிரிவுகள்\n",
      "***************************\n",
      "started scrolling********************\n",
      "Completed scrolling********************\n",
      "Started clicking********************\n",
      "Finished clicking********************\n",
      "extracting text **************************************\n"
     ]
    },
    {
     "name": "stderr",
     "output_type": "stream",
     "text": [
      "\r",
      " 76%|███████████████████████████▎        | 299/394 [9:54:13<2:52:53, 109.19s/it]"
     ]
    },
    {
     "name": "stdout",
     "output_type": "stream",
     "text": [
      "Finished extracting text***********************\n",
      "இந்து_சமயம்\n",
      "\n",
      "starting scraping of https://ta.quora.com/search?q=இந்து சமயம்\n",
      "***************************\n",
      "started scrolling********************\n",
      "Completed scrolling********************\n",
      "Started clicking********************\n",
      "Finished clicking********************\n",
      "extracting text **************************************\n"
     ]
    },
    {
     "name": "stderr",
     "output_type": "stream",
     "text": [
      "\r",
      " 76%|███████████████████████████▍        | 300/394 [9:56:13<2:56:27, 112.63s/it]"
     ]
    },
    {
     "name": "stdout",
     "output_type": "stream",
     "text": [
      "Finished extracting text***********************\n",
      "ஆசியாவின்_கலைகள்\n",
      "\n",
      "starting scraping of https://ta.quora.com/search?q=ஆசியாவின் கலைகள்\n",
      "***************************\n",
      "started scrolling********************\n",
      "Completed scrolling********************\n",
      "Started clicking********************\n",
      "Finished clicking********************\n",
      "extracting text **************************************\n"
     ]
    },
    {
     "name": "stderr",
     "output_type": "stream",
     "text": [
      "\r",
      " 76%|████████████████████████████▎        | 301/394 [9:57:15<2:30:41, 97.22s/it]"
     ]
    },
    {
     "name": "stdout",
     "output_type": "stream",
     "text": [
      "Finished extracting text***********************\n",
      "இராச்சியங்கள்\n",
      "\n",
      "starting scraping of https://ta.quora.com/search?q=இராச்சியங்கள்\n",
      "***************************\n",
      "started scrolling********************\n",
      "Completed scrolling********************\n",
      "Started clicking********************\n",
      "Finished clicking********************\n",
      "extracting text **************************************\n"
     ]
    },
    {
     "name": "stderr",
     "output_type": "stream",
     "text": [
      "\r",
      " 77%|████████████████████████████▎        | 302/394 [9:58:40<2:23:43, 93.73s/it]"
     ]
    },
    {
     "name": "stdout",
     "output_type": "stream",
     "text": [
      "Finished extracting text***********************\n",
      "குமுகம்\n",
      "\n",
      "starting scraping of https://ta.quora.com/search?q=குமுகம்\n",
      "***************************\n",
      "started scrolling********************\n",
      "Completed scrolling********************\n",
      "Started clicking********************\n",
      "Finished clicking********************\n",
      "extracting text **************************************\n"
     ]
    },
    {
     "name": "stderr",
     "output_type": "stream",
     "text": [
      "\r",
      " 77%|████████████████████████████▍        | 303/394 [9:59:46<2:09:38, 85.48s/it]"
     ]
    },
    {
     "name": "stdout",
     "output_type": "stream",
     "text": [
      "Finished extracting text***********************\n",
      "வானிலையியல்\n",
      "\n",
      "starting scraping of https://ta.quora.com/search?q=வானிலையியல்\n",
      "***************************\n",
      "started scrolling********************\n",
      "Completed scrolling********************\n",
      "Started clicking********************\n",
      "Finished clicking********************\n",
      "extracting text **************************************\n"
     ]
    },
    {
     "name": "stderr",
     "output_type": "stream",
     "text": [
      "\r",
      " 77%|███████████████████████████▊        | 304/394 [10:00:57<2:01:31, 81.02s/it]"
     ]
    },
    {
     "name": "stdout",
     "output_type": "stream",
     "text": [
      "Finished extracting text***********************\n",
      "சாதனைகள்\n",
      "\n",
      "starting scraping of https://ta.quora.com/search?q=சாதனைகள்\n",
      "***************************\n",
      "started scrolling********************\n",
      "Completed scrolling********************\n",
      "Started clicking********************\n",
      "Finished clicking********************\n",
      "extracting text **************************************\n"
     ]
    },
    {
     "name": "stderr",
     "output_type": "stream",
     "text": [
      "\r",
      " 77%|███████████████████████████        | 305/394 [10:03:27<2:30:38, 101.55s/it]"
     ]
    },
    {
     "name": "stdout",
     "output_type": "stream",
     "text": [
      "Finished extracting text***********************\n",
      "நாகரிகங்கள்\n",
      "\n",
      "starting scraping of https://ta.quora.com/search?q=நாகரிகங்கள்\n",
      "***************************\n",
      "started scrolling********************\n",
      "Completed scrolling********************\n",
      "Started clicking********************\n",
      "Finished clicking********************\n",
      "extracting text **************************************\n"
     ]
    },
    {
     "name": "stderr",
     "output_type": "stream",
     "text": [
      "\r",
      " 78%|███████████████████████████▉        | 306/394 [10:04:52<2:21:52, 96.73s/it]"
     ]
    },
    {
     "name": "stdout",
     "output_type": "stream",
     "text": [
      "Finished extracting text***********************\n",
      "போரியல்\n",
      "\n",
      "starting scraping of https://ta.quora.com/search?q=போரியல்\n",
      "***************************\n",
      "started scrolling********************\n"
     ]
    },
    {
     "name": "stderr",
     "output_type": "stream",
     "text": [
      "\r",
      " 78%|████████████████████████████        | 307/394 [10:06:05<2:09:55, 89.60s/it]"
     ]
    },
    {
     "name": "stdout",
     "output_type": "stream",
     "text": [
      "Completed scrolling********************\n",
      "Started clicking********************\n",
      "Finished clicking********************\n",
      "extracting text **************************************\n",
      "Finished extracting text***********************\n",
      "நீர்நிலைகள்\n",
      "\n",
      "starting scraping of https://ta.quora.com/search?q=நீர்நிலைகள்\n",
      "***************************\n",
      "started scrolling********************\n",
      "Completed scrolling********************\n",
      "Started clicking********************\n",
      "Finished clicking********************\n",
      "extracting text **************************************\n"
     ]
    },
    {
     "name": "stderr",
     "output_type": "stream",
     "text": [
      "\r",
      " 78%|███████████████████████████▎       | 308/394 [10:09:45<3:04:32, 128.75s/it]"
     ]
    },
    {
     "name": "stdout",
     "output_type": "stream",
     "text": [
      "Finished extracting text***********************\n",
      "அருங்காட்சியகங்கள்\n",
      "\n",
      "starting scraping of https://ta.quora.com/search?q=அருங்காட்சியகங்கள்\n",
      "***************************\n",
      "started scrolling********************\n",
      "Completed scrolling********************\n",
      "Started clicking********************\n",
      "Finished clicking********************\n",
      "extracting text **************************************\n"
     ]
    },
    {
     "name": "stderr",
     "output_type": "stream",
     "text": [
      "\r",
      " 78%|███████████████████████████▍       | 309/394 [10:11:23<2:49:26, 119.60s/it]"
     ]
    },
    {
     "name": "stdout",
     "output_type": "stream",
     "text": [
      "Finished extracting text***********************\n",
      "தமிழ்_கலைச்சொல்லியல்\n",
      "\n",
      "starting scraping of https://ta.quora.com/search?q=தமிழ் கலைச்சொல்லியல்\n",
      "***************************\n",
      "started scrolling********************\n"
     ]
    },
    {
     "name": "stderr",
     "output_type": "stream",
     "text": [
      "\r",
      " 79%|███████████████████████████▌       | 310/394 [10:12:28<2:24:19, 103.09s/it]"
     ]
    },
    {
     "name": "stdout",
     "output_type": "stream",
     "text": [
      "Completed scrolling********************\n",
      "Started clicking********************\n",
      "Finished clicking********************\n",
      "extracting text **************************************\n",
      "Finished extracting text***********************\n",
      "சமய_நடத்தைகளும்_அனுபவங்களும்\n",
      "\n",
      "starting scraping of https://ta.quora.com/search?q=சமய நடத்தைகளும் அனுபவங்களும்\n",
      "***************************\n",
      "started scrolling********************\n"
     ]
    },
    {
     "name": "stderr",
     "output_type": "stream",
     "text": [
      "\r",
      " 79%|████████████████████████████▍       | 311/394 [10:13:33<2:06:39, 91.56s/it]"
     ]
    },
    {
     "name": "stdout",
     "output_type": "stream",
     "text": [
      "Completed scrolling********************\n",
      "Started clicking********************\n",
      "Finished clicking********************\n",
      "extracting text **************************************\n",
      "Finished extracting text***********************\n",
      "பண்டைக்காலம்\n",
      "\n",
      "starting scraping of https://ta.quora.com/search?q=பண்டைக்காலம்\n",
      "***************************\n",
      "started scrolling********************\n",
      "Completed scrolling********************\n",
      "Started clicking********************\n",
      "Finished clicking********************\n",
      "extracting text **************************************\n"
     ]
    },
    {
     "name": "stderr",
     "output_type": "stream",
     "text": [
      "\r",
      " 79%|████████████████████████████▌       | 312/394 [10:14:43<1:56:32, 85.27s/it]"
     ]
    },
    {
     "name": "stdout",
     "output_type": "stream",
     "text": [
      "Finished extracting text***********************\n",
      "அறிவியல்_துறைகள்\n",
      "\n",
      "starting scraping of https://ta.quora.com/search?q=அறிவியல் துறைகள்\n",
      "***************************\n",
      "started scrolling********************\n",
      "Completed scrolling********************\n",
      "Started clicking********************\n",
      "Finished clicking********************\n",
      "extracting text **************************************\n"
     ]
    },
    {
     "name": "stderr",
     "output_type": "stream",
     "text": [
      "\r",
      " 79%|████████████████████████████▌       | 313/394 [10:16:16<1:58:01, 87.43s/it]"
     ]
    },
    {
     "name": "stdout",
     "output_type": "stream",
     "text": [
      "Finished extracting text***********************\n",
      "ஆபத்துதவி\n",
      "\n",
      "starting scraping of https://ta.quora.com/search?q=ஆபத்துதவி\n",
      "***************************\n",
      "started scrolling********************\n",
      "Completed scrolling********************\n",
      "Started clicking********************\n",
      "Finished clicking********************\n",
      "extracting text **************************************\n"
     ]
    },
    {
     "name": "stderr",
     "output_type": "stream",
     "text": [
      "\r",
      " 80%|████████████████████████████▋       | 314/394 [10:17:27<1:50:00, 82.50s/it]"
     ]
    },
    {
     "name": "stdout",
     "output_type": "stream",
     "text": [
      "Finished extracting text***********************\n",
      "அறிவியலாளர்கள்\n",
      "\n",
      "starting scraping of https://ta.quora.com/search?q=அறிவியலாளர்கள்\n",
      "***************************\n",
      "started scrolling********************\n"
     ]
    },
    {
     "name": "stderr",
     "output_type": "stream",
     "text": [
      "\r",
      " 80%|████████████████████████████▊       | 315/394 [10:18:34<1:42:38, 77.96s/it]"
     ]
    },
    {
     "name": "stdout",
     "output_type": "stream",
     "text": [
      "Completed scrolling********************\n",
      "Started clicking********************\n",
      "Finished clicking********************\n",
      "extracting text **************************************\n",
      "Finished extracting text***********************\n",
      "தமிழர்_விருதுகள்\n",
      "\n",
      "starting scraping of https://ta.quora.com/search?q=தமிழர் விருதுகள்\n",
      "***************************\n",
      "started scrolling********************\n",
      "Completed scrolling********************\n",
      "Started clicking********************\n",
      "Finished clicking********************\n",
      "extracting text **************************************\n"
     ]
    },
    {
     "name": "stderr",
     "output_type": "stream",
     "text": [
      "\r",
      " 80%|████████████████████████████▊       | 316/394 [10:19:58<1:43:35, 79.68s/it]"
     ]
    },
    {
     "name": "stdout",
     "output_type": "stream",
     "text": [
      "Finished extracting text***********************\n",
      "அறிவியலின்_வரலாறு\n",
      "\n",
      "starting scraping of https://ta.quora.com/search?q=அறிவியலின் வரலாறு\n",
      "***************************\n",
      "started scrolling********************\n",
      "Completed scrolling********************\n",
      "Started clicking********************\n",
      "Finished clicking********************\n",
      "extracting text **************************************\n"
     ]
    },
    {
     "name": "stderr",
     "output_type": "stream",
     "text": [
      "\r",
      " 80%|████████████████████████████▉       | 317/394 [10:21:52<1:55:39, 90.12s/it]"
     ]
    },
    {
     "name": "stdout",
     "output_type": "stream",
     "text": [
      "Finished extracting text***********************\n",
      "சமய_நூல்கள்\n",
      "\n",
      "starting scraping of https://ta.quora.com/search?q=சமய நூல்கள்\n",
      "***************************\n",
      "started scrolling********************\n",
      "Completed scrolling********************\n",
      "Started clicking********************\n",
      "Finished clicking********************\n",
      "extracting text **************************************\n"
     ]
    },
    {
     "name": "stderr",
     "output_type": "stream",
     "text": [
      "\r",
      " 81%|████████████████████████████▏      | 318/394 [10:24:30<2:20:00, 110.53s/it]"
     ]
    },
    {
     "name": "stdout",
     "output_type": "stream",
     "text": [
      "Finished extracting text***********************\n",
      "கணித_வரலாறு\n",
      "\n",
      "starting scraping of https://ta.quora.com/search?q=கணித வரலாறு\n",
      "***************************\n",
      "started scrolling********************\n",
      "Completed scrolling********************\n",
      "Started clicking********************\n",
      "Finished clicking********************\n",
      "extracting text **************************************\n"
     ]
    },
    {
     "name": "stderr",
     "output_type": "stream",
     "text": [
      "\r",
      " 81%|████████████████████████████▎      | 319/394 [10:26:22<2:18:38, 110.91s/it]"
     ]
    },
    {
     "name": "stdout",
     "output_type": "stream",
     "text": [
      "Finished extracting text***********************\n",
      "மெய்யியல்\n",
      "\n",
      "starting scraping of https://ta.quora.com/search?q=மெய்யியல்\n",
      "***************************\n",
      "started scrolling********************\n",
      "Completed scrolling********************\n",
      "Started clicking********************\n",
      "Finished clicking********************\n",
      "extracting text **************************************\n"
     ]
    },
    {
     "name": "stderr",
     "output_type": "stream",
     "text": [
      "\r",
      " 81%|████████████████████████████▍      | 320/394 [10:28:42<2:27:33, 119.65s/it]"
     ]
    },
    {
     "name": "stdout",
     "output_type": "stream",
     "text": [
      "Finished extracting text***********************\n",
      "அறிவியல்_கருத்துப்படிமங்கள்\n",
      "\n",
      "starting scraping of https://ta.quora.com/search?q=அறிவியல் கருத்துப்படிமங்கள்\n",
      "***************************\n",
      "started scrolling********************\n"
     ]
    },
    {
     "name": "stderr",
     "output_type": "stream",
     "text": [
      "\r",
      " 81%|████████████████████████████▌      | 321/394 [10:29:46<2:05:21, 103.04s/it]"
     ]
    },
    {
     "name": "stdout",
     "output_type": "stream",
     "text": [
      "Completed scrolling********************\n",
      "Started clicking********************\n",
      "Finished clicking********************\n",
      "extracting text **************************************\n",
      "Finished extracting text***********************\n",
      "பொது_உடல்நலவியல்\n",
      "\n",
      "starting scraping of https://ta.quora.com/search?q=பொது உடல்நலவியல்\n",
      "***************************\n",
      "started scrolling********************\n"
     ]
    },
    {
     "name": "stderr",
     "output_type": "stream",
     "text": [
      "\r",
      " 82%|█████████████████████████████▍      | 322/394 [10:30:49<1:49:15, 91.04s/it]"
     ]
    },
    {
     "name": "stdout",
     "output_type": "stream",
     "text": [
      "Completed scrolling********************\n",
      "Started clicking********************\n",
      "Finished clicking********************\n",
      "extracting text **************************************\n",
      "Finished extracting text***********************\n",
      "கணினியியல்\n",
      "\n",
      "starting scraping of https://ta.quora.com/search?q=கணினியியல்\n",
      "***************************\n",
      "started scrolling********************\n",
      "Completed scrolling********************\n",
      "Started clicking********************\n",
      "Finished clicking********************\n",
      "extracting text **************************************\n"
     ]
    },
    {
     "name": "stderr",
     "output_type": "stream",
     "text": [
      "\r",
      " 82%|█████████████████████████████▌      | 323/394 [10:32:10<1:44:02, 87.93s/it]"
     ]
    },
    {
     "name": "stdout",
     "output_type": "stream",
     "text": [
      "Finished extracting text***********************\n",
      "தமிழ்ச்_சமூகம்\n",
      "\n",
      "starting scraping of https://ta.quora.com/search?q=தமிழ்ச் சமூகம்\n",
      "***************************\n",
      "started scrolling********************\n",
      "Completed scrolling********************\n",
      "Started clicking********************\n",
      "Finished clicking********************\n",
      "extracting text **************************************\n"
     ]
    },
    {
     "name": "stderr",
     "output_type": "stream",
     "text": [
      "\r",
      " 82%|████████████████████████████▊      | 324/394 [10:34:40<2:04:20, 106.58s/it]"
     ]
    },
    {
     "name": "stdout",
     "output_type": "stream",
     "text": [
      "Finished extracting text***********************\n",
      "இயற்பியல்\n",
      "\n",
      "starting scraping of https://ta.quora.com/search?q=இயற்பியல்\n",
      "***************************\n",
      "started scrolling********************\n",
      "Completed scrolling********************\n",
      "Started clicking********************\n",
      "Finished clicking********************\n",
      "extracting text **************************************\n"
     ]
    },
    {
     "name": "stderr",
     "output_type": "stream",
     "text": [
      "\r",
      " 82%|█████████████████████████████▋      | 325/394 [10:36:03<1:54:19, 99.41s/it]"
     ]
    },
    {
     "name": "stdout",
     "output_type": "stream",
     "text": [
      "Finished extracting text***********************\n",
      "யோகக்_கலை\n",
      "\n",
      "starting scraping of https://ta.quora.com/search?q=யோகக் கலை\n",
      "***************************\n",
      "started scrolling********************\n",
      "Completed scrolling********************\n",
      "Started clicking********************\n",
      "Finished clicking********************\n",
      "extracting text **************************************\n"
     ]
    },
    {
     "name": "stderr",
     "output_type": "stream",
     "text": [
      "\r",
      " 83%|█████████████████████████████▊      | 326/394 [10:37:21<1:45:17, 92.90s/it]"
     ]
    },
    {
     "name": "stdout",
     "output_type": "stream",
     "text": [
      "Finished extracting text***********************\n",
      "தமிழர்_அரசியல்\n",
      "\n",
      "starting scraping of https://ta.quora.com/search?q=தமிழர் அரசியல்\n",
      "***************************\n",
      "started scrolling********************\n",
      "Completed scrolling********************\n",
      "Started clicking********************\n",
      "Finished clicking********************\n",
      "extracting text **************************************\n"
     ]
    },
    {
     "name": "stderr",
     "output_type": "stream",
     "text": [
      "\r",
      " 83%|█████████████████████████████▉      | 327/394 [10:38:55<1:44:09, 93.27s/it]"
     ]
    },
    {
     "name": "stdout",
     "output_type": "stream",
     "text": [
      "Finished extracting text***********************\n",
      "நிலம்சூழ்_நாடுகள்\n",
      "\n",
      "starting scraping of https://ta.quora.com/search?q=நிலம்சூழ் நாடுகள்\n",
      "***************************\n",
      "started scrolling********************\n"
     ]
    },
    {
     "name": "stderr",
     "output_type": "stream",
     "text": [
      "\r",
      " 83%|█████████████████████████████▉      | 328/394 [10:39:58<1:32:32, 84.13s/it]"
     ]
    },
    {
     "name": "stdout",
     "output_type": "stream",
     "text": [
      "Completed scrolling********************\n",
      "Started clicking********************\n",
      "Finished clicking********************\n",
      "extracting text **************************************\n",
      "Finished extracting text***********************\n",
      "பரிசுகளும்_விருதுகளும்\n",
      "\n",
      "starting scraping of https://ta.quora.com/search?q=பரிசுகளும் விருதுகளும்\n",
      "***************************\n",
      "started scrolling********************\n",
      "Completed scrolling********************\n",
      "Started clicking********************\n",
      "Finished clicking********************\n",
      "extracting text **************************************\n"
     ]
    },
    {
     "name": "stderr",
     "output_type": "stream",
     "text": [
      "\r",
      " 84%|██████████████████████████████      | 329/394 [10:41:13<1:28:10, 81.39s/it]"
     ]
    },
    {
     "name": "stdout",
     "output_type": "stream",
     "text": [
      "Finished extracting text***********************\n",
      "கணித_உறவுகள்\n",
      "\n",
      "starting scraping of https://ta.quora.com/search?q=கணித உறவுகள்\n",
      "***************************\n",
      "started scrolling********************\n",
      "Completed scrolling********************\n",
      "Started clicking********************\n",
      "Finished clicking********************\n",
      "extracting text **************************************\n"
     ]
    },
    {
     "name": "stderr",
     "output_type": "stream",
     "text": [
      "\r",
      " 84%|██████████████████████████████▏     | 330/394 [10:42:27<1:24:32, 79.26s/it]"
     ]
    },
    {
     "name": "stdout",
     "output_type": "stream",
     "text": [
      "Finished extracting text***********************\n",
      "தமிழ்_உரைநடை\n",
      "\n",
      "starting scraping of https://ta.quora.com/search?q=தமிழ் உரைநடை\n",
      "***************************\n",
      "started scrolling********************\n",
      "Completed scrolling********************\n",
      "Started clicking********************\n",
      "Finished clicking********************\n",
      "extracting text **************************************\n"
     ]
    },
    {
     "name": "stderr",
     "output_type": "stream",
     "text": [
      "\r",
      " 84%|█████████████████████████████▍     | 331/394 [10:45:08<1:49:00, 103.81s/it]"
     ]
    },
    {
     "name": "stdout",
     "output_type": "stream",
     "text": [
      "Finished extracting text***********************\n",
      "சூழல்_நுட்பவியல்\n",
      "\n",
      "starting scraping of https://ta.quora.com/search?q=சூழல் நுட்பவியல்\n",
      "***************************\n",
      "started scrolling********************\n"
     ]
    },
    {
     "name": "stderr",
     "output_type": "stream",
     "text": [
      "\r",
      " 84%|██████████████████████████████▎     | 332/394 [10:46:13<1:35:22, 92.30s/it]"
     ]
    },
    {
     "name": "stdout",
     "output_type": "stream",
     "text": [
      "Completed scrolling********************\n",
      "Started clicking********************\n",
      "Finished clicking********************\n",
      "extracting text **************************************\n",
      "Finished extracting text***********************\n",
      "ஆப்பிரிக்கப்_பண்பாடு\n",
      "\n",
      "starting scraping of https://ta.quora.com/search?q=ஆப்பிரிக்கப் பண்பாடு\n",
      "***************************\n",
      "started scrolling********************\n"
     ]
    },
    {
     "name": "stderr",
     "output_type": "stream",
     "text": [
      "\r",
      " 85%|██████████████████████████████▍     | 333/394 [10:47:16<1:24:56, 83.55s/it]"
     ]
    },
    {
     "name": "stdout",
     "output_type": "stream",
     "text": [
      "Completed scrolling********************\n",
      "Started clicking********************\n",
      "Finished clicking********************\n",
      "extracting text **************************************\n",
      "Finished extracting text***********************\n",
      "கணிதத்_துறைகள்\n",
      "\n",
      "starting scraping of https://ta.quora.com/search?q=கணிதத் துறைகள்\n",
      "***************************\n",
      "started scrolling********************\n",
      "Completed scrolling********************\n",
      "Started clicking********************\n",
      "Finished clicking********************\n",
      "extracting text **************************************\n"
     ]
    },
    {
     "name": "stderr",
     "output_type": "stream",
     "text": [
      "\r",
      " 85%|██████████████████████████████▌     | 334/394 [10:48:22<1:18:09, 78.16s/it]"
     ]
    },
    {
     "name": "stdout",
     "output_type": "stream",
     "text": [
      "Finished extracting text***********************\n",
      "தமிழர்_அடையாளம்\n",
      "\n",
      "starting scraping of https://ta.quora.com/search?q=தமிழர் அடையாளம்\n",
      "***************************\n",
      "started scrolling********************\n",
      "Completed scrolling********************\n",
      "Started clicking********************\n",
      "Finished clicking********************\n",
      "extracting text **************************************\n"
     ]
    },
    {
     "name": "stderr",
     "output_type": "stream",
     "text": [
      "\r",
      " 85%|██████████████████████████████▌     | 335/394 [10:50:50<1:37:24, 99.06s/it]"
     ]
    },
    {
     "name": "stdout",
     "output_type": "stream",
     "text": [
      "Finished extracting text***********************\n",
      "வேளாண்மை\n",
      "\n",
      "starting scraping of https://ta.quora.com/search?q=வேளாண்மை\n",
      "***************************\n",
      "started scrolling********************\n",
      "Completed scrolling********************\n",
      "Started clicking********************\n",
      "Finished clicking********************\n",
      "extracting text **************************************\n"
     ]
    },
    {
     "name": "stderr",
     "output_type": "stream",
     "text": [
      "\r",
      " 85%|█████████████████████████████▊     | 336/394 [10:52:59<1:44:29, 108.10s/it]"
     ]
    },
    {
     "name": "stdout",
     "output_type": "stream",
     "text": [
      "Finished extracting text***********************\n",
      "சித்தரியல்\n",
      "\n",
      "starting scraping of https://ta.quora.com/search?q=சித்தரியல்\n",
      "***************************\n",
      "started scrolling********************\n",
      "Completed scrolling********************\n",
      "Started clicking********************\n",
      "Finished clicking********************\n",
      "extracting text **************************************\n"
     ]
    },
    {
     "name": "stderr",
     "output_type": "stream",
     "text": [
      "\r",
      " 86%|██████████████████████████████▊     | 337/394 [10:54:07<1:31:11, 95.98s/it]"
     ]
    },
    {
     "name": "stdout",
     "output_type": "stream",
     "text": [
      "Finished extracting text***********************\n",
      "தமிழ்_மொழி_அமைப்புகள்\n",
      "\n",
      "starting scraping of https://ta.quora.com/search?q=தமிழ் மொழி அமைப்புகள்\n",
      "***************************\n",
      "started scrolling********************\n",
      "Completed scrolling********************\n",
      "Started clicking********************\n",
      "Finished clicking********************\n",
      "extracting text **************************************\n"
     ]
    },
    {
     "name": "stderr",
     "output_type": "stream",
     "text": [
      "\r",
      " 86%|██████████████████████████████     | 338/394 [10:56:14<1:38:20, 105.37s/it]"
     ]
    },
    {
     "name": "stdout",
     "output_type": "stream",
     "text": [
      "Finished extracting text***********************\n",
      "இந்திய_வரலாற்றில்_நாணயங்கள்\n",
      "\n",
      "starting scraping of https://ta.quora.com/search?q=இந்திய வரலாற்றில் நாணயங்கள்\n",
      "***************************\n",
      "started scrolling********************\n",
      "Completed scrolling********************\n",
      "Started clicking********************\n",
      "Finished clicking********************\n",
      "extracting text **************************************\n"
     ]
    },
    {
     "name": "stderr",
     "output_type": "stream",
     "text": [
      "\r",
      " 86%|██████████████████████████████▉     | 339/394 [10:57:36<1:30:09, 98.36s/it]"
     ]
    },
    {
     "name": "stdout",
     "output_type": "stream",
     "text": [
      "Finished extracting text***********************\n",
      "பண்டைய_வரலாறு\n",
      "\n",
      "starting scraping of https://ta.quora.com/search?q=பண்டைய வரலாறு\n",
      "***************************\n",
      "started scrolling********************\n",
      "Completed scrolling********************\n",
      "Started clicking********************\n",
      "Finished clicking********************\n",
      "extracting text **************************************\n"
     ]
    },
    {
     "name": "stderr",
     "output_type": "stream",
     "text": [
      "\r",
      " 86%|██████████████████████████████▏    | 340/394 [11:01:04<1:58:01, 131.14s/it]"
     ]
    },
    {
     "name": "stdout",
     "output_type": "stream",
     "text": [
      "Finished extracting text***********************\n",
      "போக்குவரத்து\n",
      "\n",
      "starting scraping of https://ta.quora.com/search?q=போக்குவரத்து\n",
      "***************************\n",
      "started scrolling********************\n",
      "Completed scrolling********************\n",
      "Started clicking********************\n",
      "Finished clicking********************\n",
      "extracting text **************************************\n"
     ]
    },
    {
     "name": "stderr",
     "output_type": "stream",
     "text": [
      "\r",
      " 87%|██████████████████████████████▎    | 341/394 [11:04:38<2:17:54, 156.12s/it]"
     ]
    },
    {
     "name": "stdout",
     "output_type": "stream",
     "text": [
      "Finished extracting text***********************\n",
      "நகரவியல்\n",
      "\n",
      "starting scraping of https://ta.quora.com/search?q=நகரவியல்\n",
      "***************************\n",
      "started scrolling********************\n"
     ]
    },
    {
     "name": "stderr",
     "output_type": "stream",
     "text": [
      "\r",
      " 87%|██████████████████████████████▍    | 342/394 [11:05:43<1:51:38, 128.82s/it]"
     ]
    },
    {
     "name": "stdout",
     "output_type": "stream",
     "text": [
      "Completed scrolling********************\n",
      "Started clicking********************\n",
      "Finished clicking********************\n",
      "extracting text **************************************\n",
      "Finished extracting text***********************\n",
      "அறிவியல்_பட்டியல்கள்\n",
      "\n",
      "starting scraping of https://ta.quora.com/search?q=அறிவியல் பட்டியல்கள்\n",
      "***************************\n",
      "started scrolling********************\n",
      "Completed scrolling********************\n",
      "Started clicking********************\n",
      "Finished clicking********************\n",
      "extracting text **************************************\n"
     ]
    },
    {
     "name": "stderr",
     "output_type": "stream",
     "text": [
      "\r",
      " 87%|██████████████████████████████▍    | 343/394 [11:07:03<1:37:05, 114.22s/it]"
     ]
    },
    {
     "name": "stdout",
     "output_type": "stream",
     "text": [
      "Finished extracting text***********************\n",
      "உயிரியல்\n",
      "\n",
      "starting scraping of https://ta.quora.com/search?q=உயிரியல்\n",
      "***************************\n",
      "started scrolling********************\n",
      "Completed scrolling********************\n",
      "Started clicking********************\n",
      "Finished clicking********************\n",
      "extracting text **************************************\n"
     ]
    },
    {
     "name": "stderr",
     "output_type": "stream",
     "text": [
      "\r",
      " 87%|██████████████████████████████▌    | 344/394 [11:09:13<1:39:00, 118.81s/it]"
     ]
    },
    {
     "name": "stdout",
     "output_type": "stream",
     "text": [
      "Finished extracting text***********************\n",
      "சமய_வழிபாட்டிடங்கள்\n",
      "\n",
      "starting scraping of https://ta.quora.com/search?q=சமய வழிபாட்டிடங்கள்\n",
      "***************************\n",
      "started scrolling********************\n"
     ]
    },
    {
     "name": "stderr",
     "output_type": "stream",
     "text": [
      "\r",
      " 88%|██████████████████████████████▋    | 345/394 [11:10:19<1:24:07, 103.02s/it]"
     ]
    },
    {
     "name": "stdout",
     "output_type": "stream",
     "text": [
      "Completed scrolling********************\n",
      "Started clicking********************\n",
      "Finished clicking********************\n",
      "extracting text **************************************\n",
      "Finished extracting text***********************\n",
      "சமயக்_கருத்துருக்கள்\n",
      "\n",
      "starting scraping of https://ta.quora.com/search?q=சமயக் கருத்துருக்கள்\n",
      "***************************\n",
      "started scrolling********************\n"
     ]
    },
    {
     "name": "stderr",
     "output_type": "stream",
     "text": [
      "\r",
      " 88%|███████████████████████████████▌    | 346/394 [11:11:24<1:13:10, 91.47s/it]"
     ]
    },
    {
     "name": "stdout",
     "output_type": "stream",
     "text": [
      "Completed scrolling********************\n",
      "Started clicking********************\n",
      "Finished clicking********************\n",
      "extracting text **************************************\n",
      "Finished extracting text***********************\n",
      "கலைகளில்_தணிக்கை\n",
      "\n",
      "starting scraping of https://ta.quora.com/search?q=கலைகளில் தணிக்கை\n",
      "***************************\n",
      "started scrolling********************\n",
      "Completed scrolling********************\n",
      "Started clicking********************\n"
     ]
    },
    {
     "name": "stderr",
     "output_type": "stream",
     "text": [
      "\r",
      " 88%|███████████████████████████████▋    | 347/394 [11:12:32<1:06:09, 84.46s/it]"
     ]
    },
    {
     "name": "stdout",
     "output_type": "stream",
     "text": [
      "Finished clicking********************\n",
      "extracting text **************************************\n",
      "Finished extracting text***********************\n",
      "பொருளாதாரம்\n",
      "\n",
      "starting scraping of https://ta.quora.com/search?q=பொருளாதாரம்\n",
      "***************************\n",
      "started scrolling********************\n",
      "Completed scrolling********************\n",
      "Started clicking********************\n",
      "Finished clicking********************\n",
      "extracting text **************************************\n"
     ]
    },
    {
     "name": "stderr",
     "output_type": "stream",
     "text": [
      "\r",
      " 88%|██████████████████████████████▉    | 348/394 [11:16:13<1:36:08, 125.40s/it]"
     ]
    },
    {
     "name": "stdout",
     "output_type": "stream",
     "text": [
      "Finished extracting text***********************\n",
      "நீரியல்\n",
      "\n",
      "starting scraping of https://ta.quora.com/search?q=நீரியல்\n",
      "***************************\n",
      "started scrolling********************\n",
      "Completed scrolling********************\n",
      "Started clicking********************\n",
      "Finished clicking********************\n",
      "extracting text **************************************\n"
     ]
    },
    {
     "name": "stderr",
     "output_type": "stream",
     "text": [
      "\r",
      " 89%|███████████████████████████████    | 349/394 [11:17:39<1:25:10, 113.57s/it]"
     ]
    },
    {
     "name": "stdout",
     "output_type": "stream",
     "text": [
      "Finished extracting text***********************\n",
      "மின்னணுவியல்\n",
      "\n",
      "starting scraping of https://ta.quora.com/search?q=மின்னணுவியல்\n",
      "***************************\n",
      "started scrolling********************\n",
      "Completed scrolling********************\n",
      "Started clicking********************\n",
      "Finished clicking********************\n",
      "extracting text **************************************\n"
     ]
    },
    {
     "name": "stderr",
     "output_type": "stream",
     "text": [
      "\r",
      " 89%|███████████████████████████████    | 350/394 [11:20:09<1:31:22, 124.61s/it]"
     ]
    },
    {
     "name": "stdout",
     "output_type": "stream",
     "text": [
      "Finished extracting text***********************\n",
      "அறிவியல்_தமிழ்\n",
      "\n",
      "starting scraping of https://ta.quora.com/search?q=அறிவியல் தமிழ்\n",
      "***************************\n",
      "started scrolling********************\n",
      "Completed scrolling********************\n",
      "Started clicking********************\n",
      "Finished clicking********************\n",
      "extracting text **************************************\n"
     ]
    },
    {
     "name": "stderr",
     "output_type": "stream",
     "text": [
      "\r",
      " 89%|███████████████████████████████▏   | 351/394 [11:23:07<1:40:50, 140.70s/it]"
     ]
    },
    {
     "name": "stdout",
     "output_type": "stream",
     "text": [
      "Finished extracting text***********************\n",
      "தமிழ்_ஊடகங்கள்\n",
      "\n",
      "starting scraping of https://ta.quora.com/search?q=தமிழ் ஊடகங்கள்\n",
      "***************************\n",
      "started scrolling********************\n",
      "Completed scrolling********************\n",
      "Started clicking********************\n",
      "Finished clicking********************\n",
      "extracting text **************************************\n"
     ]
    },
    {
     "name": "stderr",
     "output_type": "stream",
     "text": [
      "\r",
      " 89%|███████████████████████████████▎   | 352/394 [11:24:45<1:29:23, 127.70s/it]"
     ]
    },
    {
     "name": "stdout",
     "output_type": "stream",
     "text": [
      "Finished extracting text***********************\n",
      "வரலாற்றாளர்கள்\n",
      "\n",
      "starting scraping of https://ta.quora.com/search?q=வரலாற்றாளர்கள்\n",
      "***************************\n",
      "started scrolling********************\n",
      "Completed scrolling********************\n",
      "Started clicking********************\n",
      "Finished clicking********************\n",
      "extracting text **************************************\n"
     ]
    },
    {
     "name": "stderr",
     "output_type": "stream",
     "text": [
      "\r",
      " 90%|███████████████████████████████▎   | 353/394 [11:25:59<1:16:16, 111.62s/it]"
     ]
    },
    {
     "name": "stdout",
     "output_type": "stream",
     "text": [
      "Finished extracting text***********************\n",
      "அரசியல்_அமைப்புகள்\n",
      "\n",
      "starting scraping of https://ta.quora.com/search?q=அரசியல் அமைப்புகள்\n",
      "***************************\n",
      "started scrolling********************\n",
      "Completed scrolling********************\n",
      "Started clicking********************\n",
      "Finished clicking********************\n",
      "extracting text **************************************\n"
     ]
    },
    {
     "name": "stderr",
     "output_type": "stream",
     "text": [
      "\r",
      " 90%|███████████████████████████████▍   | 354/394 [11:28:05<1:17:17, 115.94s/it]"
     ]
    },
    {
     "name": "stdout",
     "output_type": "stream",
     "text": [
      "Finished extracting text***********************\n",
      "தமிழர்_வாழ்வியல்\n",
      "\n",
      "starting scraping of https://ta.quora.com/search?q=தமிழர் வாழ்வியல்\n",
      "***************************\n",
      "started scrolling********************\n",
      "Completed scrolling********************\n",
      "Started clicking********************\n",
      "Finished clicking********************\n",
      "extracting text **************************************\n"
     ]
    },
    {
     "name": "stderr",
     "output_type": "stream",
     "text": [
      "\r",
      " 90%|███████████████████████████████▌   | 355/394 [11:31:39<1:34:30, 145.39s/it]"
     ]
    },
    {
     "name": "stdout",
     "output_type": "stream",
     "text": [
      "Finished extracting text***********************\n",
      "மூடநம்பிக்கைகள்\n",
      "\n",
      "starting scraping of https://ta.quora.com/search?q=மூடநம்பிக்கைகள்\n",
      "***************************\n",
      "started scrolling********************\n",
      "Completed scrolling********************\n",
      "Started clicking********************\n",
      "Finished clicking********************\n",
      "extracting text **************************************\n"
     ]
    },
    {
     "name": "stderr",
     "output_type": "stream",
     "text": [
      "\r",
      " 90%|███████████████████████████████▌   | 356/394 [11:33:04<1:20:32, 127.18s/it]"
     ]
    },
    {
     "name": "stdout",
     "output_type": "stream",
     "text": [
      "Finished extracting text***********************\n",
      "வரலாற்றுக்_காலப்பகுதிகள்\n",
      "\n",
      "starting scraping of https://ta.quora.com/search?q=வரலாற்றுக் காலப்பகுதிகள்\n",
      "***************************\n",
      "started scrolling********************\n"
     ]
    },
    {
     "name": "stderr",
     "output_type": "stream",
     "text": [
      "\r",
      " 91%|███████████████████████████████▋   | 357/394 [11:34:09<1:06:55, 108.53s/it]"
     ]
    },
    {
     "name": "stdout",
     "output_type": "stream",
     "text": [
      "Completed scrolling********************\n",
      "Started clicking********************\n",
      "Finished clicking********************\n",
      "extracting text **************************************\n",
      "Finished extracting text***********************\n",
      "நகரங்கள்\n",
      "\n",
      "starting scraping of https://ta.quora.com/search?q=நகரங்கள்\n",
      "***************************\n",
      "started scrolling********************\n",
      "Completed scrolling********************\n",
      "Started clicking********************\n",
      "Finished clicking********************\n",
      "extracting text **************************************\n"
     ]
    },
    {
     "name": "stderr",
     "output_type": "stream",
     "text": [
      "\r",
      " 91%|███████████████████████████████▊   | 358/394 [11:36:23<1:09:52, 116.47s/it]"
     ]
    },
    {
     "name": "stdout",
     "output_type": "stream",
     "text": [
      "Finished extracting text***********************\n",
      "மனித_குணயியல்புகள்\n",
      "\n",
      "starting scraping of https://ta.quora.com/search?q=மனித குணயியல்புகள்\n",
      "***************************\n",
      "started scrolling********************\n"
     ]
    },
    {
     "name": "stderr",
     "output_type": "stream",
     "text": [
      "\r",
      " 91%|█████████████████████████████████▋   | 359/394 [11:37:28<58:54, 101.00s/it]"
     ]
    },
    {
     "name": "stdout",
     "output_type": "stream",
     "text": [
      "Completed scrolling********************\n",
      "Started clicking********************\n",
      "Finished clicking********************\n",
      "extracting text **************************************\n",
      "Finished extracting text***********************\n",
      "பேச்சுத்_தமிழ்\n",
      "\n",
      "starting scraping of https://ta.quora.com/search?q=பேச்சுத் தமிழ்\n",
      "***************************\n",
      "started scrolling********************\n",
      "Completed scrolling********************\n",
      "Started clicking********************\n",
      "Finished clicking********************\n",
      "extracting text **************************************\n"
     ]
    },
    {
     "name": "stderr",
     "output_type": "stream",
     "text": [
      "\r",
      " 91%|███████████████████████████████▉   | 360/394 [11:40:01<1:06:02, 116.55s/it]"
     ]
    },
    {
     "name": "stdout",
     "output_type": "stream",
     "text": [
      "Finished extracting text***********************\n",
      "கணித_மாறிலிகள்\n",
      "\n",
      "starting scraping of https://ta.quora.com/search?q=கணித மாறிலிகள்\n",
      "***************************\n",
      "started scrolling********************\n",
      "Completed scrolling********************\n",
      "Started clicking********************\n",
      "Finished clicking********************\n",
      "extracting text **************************************\n"
     ]
    },
    {
     "name": "stderr",
     "output_type": "stream",
     "text": [
      "\r",
      " 92%|█████████████████████████████████▉   | 361/394 [11:41:15<56:58, 103.60s/it]"
     ]
    },
    {
     "name": "stdout",
     "output_type": "stream",
     "text": [
      "Finished extracting text***********************\n",
      "தமிழ்_மொழிபெயர்ப்பியல்\n",
      "\n",
      "starting scraping of https://ta.quora.com/search?q=தமிழ் மொழிபெயர்ப்பியல்\n",
      "***************************\n",
      "started scrolling********************\n",
      "Completed scrolling********************\n",
      "Started clicking********************\n",
      "Finished clicking********************\n",
      "extracting text **************************************\n"
     ]
    },
    {
     "name": "stderr",
     "output_type": "stream",
     "text": [
      "\r",
      " 92%|██████████████████████████████████▉   | 362/394 [11:42:21<49:14, 92.33s/it]"
     ]
    },
    {
     "name": "stdout",
     "output_type": "stream",
     "text": [
      "Finished extracting text***********************\n",
      "வாழ்க்கை_நடைமுறைகள்\n",
      "\n",
      "starting scraping of https://ta.quora.com/search?q=வாழ்க்கை நடைமுறைகள்\n",
      "***************************\n",
      "started scrolling********************\n",
      "Completed scrolling********************\n",
      "Started clicking********************\n",
      "Finished clicking********************\n",
      "extracting text **************************************\n"
     ]
    },
    {
     "name": "stderr",
     "output_type": "stream",
     "text": [
      "\r",
      " 92%|██████████████████████████████████   | 363/394 [11:44:37<54:32, 105.58s/it]"
     ]
    },
    {
     "name": "stdout",
     "output_type": "stream",
     "text": [
      "Finished extracting text***********************\n",
      "கணிதத்_தோற்றமுரண்கள்\n",
      "\n",
      "starting scraping of https://ta.quora.com/search?q=கணிதத் தோற்றமுரண்கள்\n",
      "***************************\n",
      "started scrolling********************\n"
     ]
    },
    {
     "name": "stderr",
     "output_type": "stream",
     "text": [
      "\r",
      " 92%|███████████████████████████████████   | 364/394 [11:45:41<46:28, 92.94s/it]"
     ]
    },
    {
     "name": "stdout",
     "output_type": "stream",
     "text": [
      "Completed scrolling********************\n",
      "Started clicking********************\n",
      "Finished clicking********************\n",
      "extracting text **************************************\n",
      "Finished extracting text***********************\n",
      "சமூக_ஊடகங்கள்\n",
      "\n",
      "starting scraping of https://ta.quora.com/search?q=சமூக ஊடகங்கள்\n",
      "***************************\n",
      "started scrolling********************\n",
      "Completed scrolling********************\n",
      "Started clicking********************\n",
      "Finished clicking********************\n",
      "extracting text **************************************\n"
     ]
    },
    {
     "name": "stderr",
     "output_type": "stream",
     "text": [
      "\r",
      " 93%|██████████████████████████████████▎  | 365/394 [11:47:48<49:52, 103.21s/it]"
     ]
    },
    {
     "name": "stdout",
     "output_type": "stream",
     "text": [
      "Finished extracting text***********************\n",
      "பௌத்தம்\n",
      "\n",
      "starting scraping of https://ta.quora.com/search?q=பௌத்தம்\n",
      "***************************\n",
      "started scrolling********************\n",
      "Completed scrolling********************\n",
      "Started clicking********************\n",
      "Finished clicking********************\n",
      "extracting text **************************************\n"
     ]
    },
    {
     "name": "stderr",
     "output_type": "stream",
     "text": [
      "\r",
      " 93%|██████████████████████████████████▎  | 366/394 [11:49:37<49:01, 105.05s/it]"
     ]
    },
    {
     "name": "stdout",
     "output_type": "stream",
     "text": [
      "Finished extracting text***********************\n",
      "நேரம்\n",
      "\n",
      "starting scraping of https://ta.quora.com/search?q=நேரம்\n",
      "***************************\n",
      "started scrolling********************\n",
      "Completed scrolling********************\n",
      "Started clicking********************\n",
      "Finished clicking********************\n",
      "extracting text **************************************\n"
     ]
    },
    {
     "name": "stderr",
     "output_type": "stream",
     "text": [
      "\r",
      " 93%|██████████████████████████████▋  | 367/394 [13:04:06<10:36:25, 1414.30s/it]"
     ]
    },
    {
     "name": "stdout",
     "output_type": "stream",
     "text": [
      "Finished extracting text***********************\n",
      "பூப்பின்னல்\n",
      "\n",
      "starting scraping of https://ta.quora.com/search?q=பூப்பின்னல்\n",
      "***************************\n",
      "started scrolling********************\n"
     ]
    },
    {
     "name": "stderr",
     "output_type": "stream",
     "text": [
      "\r",
      " 93%|███████████████████████████████▊  | 368/394 [13:05:12<7:17:31, 1009.68s/it]"
     ]
    },
    {
     "name": "stdout",
     "output_type": "stream",
     "text": [
      "Completed scrolling********************\n",
      "Started clicking********************\n",
      "Finished clicking********************\n",
      "extracting text **************************************\n",
      "Finished extracting text***********************\n",
      "தமிழ்நாடு\n",
      "\n",
      "starting scraping of https://ta.quora.com/search?q=தமிழ்நாடு\n",
      "***************************\n",
      "started scrolling********************\n"
     ]
    },
    {
     "name": "stderr",
     "output_type": "stream",
     "text": [
      "\r",
      " 94%|████████████████████████████████▊  | 369/394 [13:06:27<5:03:51, 729.28s/it]"
     ]
    },
    {
     "name": "stdout",
     "output_type": "stream",
     "text": [
      "Completed scrolling********************\n",
      "Started clicking********************\n",
      "Finished clicking********************\n",
      "extracting text **************************************\n",
      "Finished extracting text***********************\n",
      "ஆசியாவில்_சமயம்\n",
      "\n",
      "starting scraping of https://ta.quora.com/search?q=ஆசியாவில் சமயம்\n",
      "***************************\n",
      "started scrolling********************\n",
      "Completed scrolling********************\n",
      "Started clicking********************\n",
      "Finished clicking********************\n",
      "extracting text **************************************\n"
     ]
    },
    {
     "name": "stderr",
     "output_type": "stream",
     "text": [
      "\r",
      " 94%|████████████████████████████████▊  | 370/394 [13:07:46<3:33:42, 534.28s/it]"
     ]
    },
    {
     "name": "stdout",
     "output_type": "stream",
     "text": [
      "Finished extracting text***********************\n",
      "மொழி\n",
      "\n",
      "starting scraping of https://ta.quora.com/search?q=மொழி\n",
      "***************************\n",
      "started scrolling********************\n",
      "Completed scrolling********************\n",
      "Started clicking********************\n",
      "Finished clicking********************\n",
      "extracting text **************************************\n"
     ]
    },
    {
     "name": "stderr",
     "output_type": "stream",
     "text": [
      "\r",
      " 94%|████████████████████████████████▉  | 371/394 [13:37:36<5:49:11, 910.92s/it]"
     ]
    },
    {
     "name": "stdout",
     "output_type": "stream",
     "text": [
      "Finished extracting text***********************\n",
      "இலக்கிய_வரலாறு\n",
      "\n",
      "starting scraping of https://ta.quora.com/search?q=இலக்கிய வரலாறு\n",
      "***************************\n",
      "started scrolling********************\n",
      "Completed scrolling********************\n",
      "Started clicking********************\n",
      "Finished clicking********************\n",
      "extracting text **************************************\n"
     ]
    },
    {
     "name": "stderr",
     "output_type": "stream",
     "text": [
      "\r",
      " 94%|█████████████████████████████████  | 372/394 [13:43:09<4:30:24, 737.48s/it]"
     ]
    },
    {
     "name": "stdout",
     "output_type": "stream",
     "text": [
      "Finished extracting text***********************\n",
      "அறிவியல்_கருவிகள்\n",
      "\n",
      "starting scraping of https://ta.quora.com/search?q=அறிவியல் கருவிகள்\n",
      "***************************\n",
      "started scrolling********************\n",
      "Completed scrolling********************\n",
      "Started clicking********************\n",
      "Finished clicking********************\n",
      "extracting text **************************************\n"
     ]
    },
    {
     "name": "stderr",
     "output_type": "stream",
     "text": [
      "\r",
      " 95%|█████████████████████████████████▏ | 373/394 [13:46:50<3:23:53, 582.55s/it]"
     ]
    },
    {
     "name": "stdout",
     "output_type": "stream",
     "text": [
      "Finished extracting text***********************\n",
      "கட்டுப்பாட்டியல்\n",
      "\n",
      "starting scraping of https://ta.quora.com/search?q=கட்டுப்பாட்டியல்\n",
      "***************************\n",
      "started scrolling********************\n"
     ]
    },
    {
     "name": "stderr",
     "output_type": "stream",
     "text": [
      "\r",
      " 95%|█████████████████████████████████▏ | 374/394 [13:47:56<2:22:35, 427.78s/it]"
     ]
    },
    {
     "name": "stdout",
     "output_type": "stream",
     "text": [
      "Completed scrolling********************\n",
      "Started clicking********************\n",
      "Finished clicking********************\n",
      "extracting text **************************************\n",
      "Finished extracting text***********************\n",
      "கைத்தொழில்\n",
      "\n",
      "starting scraping of https://ta.quora.com/search?q=கைத்தொழில்\n",
      "***************************\n",
      "started scrolling********************\n",
      "Completed scrolling********************\n",
      "Started clicking********************\n",
      "Finished clicking********************\n",
      "extracting text **************************************\n"
     ]
    },
    {
     "name": "stderr",
     "output_type": "stream",
     "text": [
      "\r",
      " 95%|█████████████████████████████████▎ | 375/394 [13:50:25<1:48:56, 344.03s/it]"
     ]
    },
    {
     "name": "stdout",
     "output_type": "stream",
     "text": [
      "Finished extracting text***********************\n",
      "தெய்வங்கள்\n",
      "\n",
      "starting scraping of https://ta.quora.com/search?q=தெய்வங்கள்\n",
      "***************************\n",
      "started scrolling********************\n",
      "Completed scrolling********************\n",
      "Started clicking********************\n",
      "Finished clicking********************\n",
      "extracting text **************************************\n"
     ]
    },
    {
     "name": "stderr",
     "output_type": "stream",
     "text": [
      "\r",
      " 95%|█████████████████████████████████▍ | 376/394 [13:52:42<1:24:34, 281.90s/it]"
     ]
    },
    {
     "name": "stdout",
     "output_type": "stream",
     "text": [
      "Finished extracting text***********************\n",
      "தமிழர்_மெய்யியல்\n",
      "\n",
      "starting scraping of https://ta.quora.com/search?q=தமிழர் மெய்யியல்\n",
      "***************************\n",
      "started scrolling********************\n",
      "Completed scrolling********************\n",
      "Started clicking********************\n",
      "Finished clicking********************\n",
      "extracting text **************************************\n"
     ]
    },
    {
     "name": "stderr",
     "output_type": "stream",
     "text": [
      "\r",
      " 96%|█████████████████████████████████▍ | 377/394 [13:54:38<1:05:46, 232.15s/it]"
     ]
    },
    {
     "name": "stdout",
     "output_type": "stream",
     "text": [
      "Finished extracting text***********************\n",
      "தமிழ்ப்_பேச்சுக்கலை\n",
      "\n",
      "starting scraping of https://ta.quora.com/search?q=தமிழ்ப் பேச்சுக்கலை\n",
      "***************************\n",
      "started scrolling********************\n"
     ]
    },
    {
     "name": "stderr",
     "output_type": "stream",
     "text": [
      "\r",
      " 96%|███████████████████████████████████▍ | 378/394 [13:55:41<48:24, 181.50s/it]"
     ]
    },
    {
     "name": "stdout",
     "output_type": "stream",
     "text": [
      "Completed scrolling********************\n",
      "Started clicking********************\n",
      "Finished clicking********************\n",
      "extracting text **************************************\n",
      "Finished extracting text***********************\n",
      "சமயமும்_சமூகமும்\n",
      "\n",
      "starting scraping of https://ta.quora.com/search?q=சமயமும் சமூகமும்\n",
      "***************************\n",
      "started scrolling********************\n",
      "Completed scrolling********************\n",
      "Started clicking********************\n",
      "Finished clicking********************\n",
      "extracting text **************************************\n"
     ]
    },
    {
     "name": "stderr",
     "output_type": "stream",
     "text": [
      "\r",
      " 96%|███████████████████████████████████▌ | 379/394 [13:56:50<36:53, 147.59s/it]"
     ]
    },
    {
     "name": "stdout",
     "output_type": "stream",
     "text": [
      "Finished extracting text***********************\n",
      "தமிழர்_அமைப்புகள்\n",
      "\n",
      "starting scraping of https://ta.quora.com/search?q=தமிழர் அமைப்புகள்\n",
      "***************************\n",
      "started scrolling********************\n",
      "Completed scrolling********************\n",
      "Started clicking********************\n",
      "Finished clicking********************\n",
      "extracting text **************************************\n"
     ]
    },
    {
     "name": "stderr",
     "output_type": "stream",
     "text": [
      "\r",
      " 96%|███████████████████████████████████▋ | 380/394 [13:59:27<35:08, 150.58s/it]"
     ]
    },
    {
     "name": "stdout",
     "output_type": "stream",
     "text": [
      "Finished extracting text***********************\n",
      "கால_வரிசைப்படி_வரலாறு\n",
      "\n",
      "starting scraping of https://ta.quora.com/search?q=கால வரிசைப்படி வரலாறு\n",
      "***************************\n",
      "started scrolling********************\n",
      "Completed scrolling********************\n",
      "Started clicking********************\n",
      "Finished clicking********************\n",
      "extracting text **************************************\n"
     ]
    },
    {
     "name": "stderr",
     "output_type": "stream",
     "text": [
      "\r",
      " 97%|███████████████████████████████████▊ | 381/394 [14:00:33<27:07, 125.19s/it]"
     ]
    },
    {
     "name": "stdout",
     "output_type": "stream",
     "text": [
      "Finished extracting text***********************\n",
      "அறிவுசார்_படைப்புகள்\n",
      "\n",
      "starting scraping of https://ta.quora.com/search?q=அறிவுசார் படைப்புகள்\n",
      "***************************\n",
      "started scrolling********************\n",
      "Completed scrolling********************\n",
      "Started clicking********************\n",
      "Finished clicking********************\n",
      "extracting text **************************************\n"
     ]
    },
    {
     "name": "stderr",
     "output_type": "stream",
     "text": [
      "\r",
      " 97%|███████████████████████████████████▊ | 382/394 [14:01:43<21:40, 108.42s/it]"
     ]
    },
    {
     "name": "stdout",
     "output_type": "stream",
     "text": [
      "Finished extracting text***********************\n",
      "ஏவூர்திகள்\n",
      "\n",
      "starting scraping of https://ta.quora.com/search?q=ஏவூர்திகள்\n",
      "***************************\n",
      "started scrolling********************\n",
      "Completed scrolling********************\n",
      "Started clicking********************\n",
      "Finished clicking********************\n",
      "extracting text **************************************\n"
     ]
    },
    {
     "name": "stderr",
     "output_type": "stream",
     "text": [
      "\r",
      " 97%|███████████████████████████████████▉ | 383/394 [14:03:05<18:26, 100.57s/it]"
     ]
    },
    {
     "name": "stdout",
     "output_type": "stream",
     "text": [
      "Finished extracting text***********************\n",
      "தமிழ்ப்_பெயர்கள்\n",
      "\n",
      "starting scraping of https://ta.quora.com/search?q=தமிழ்ப் பெயர்கள்\n",
      "***************************\n",
      "started scrolling********************\n",
      "Completed scrolling********************\n",
      "Started clicking********************\n",
      "Finished clicking********************\n",
      "extracting text **************************************\n"
     ]
    },
    {
     "name": "stderr",
     "output_type": "stream",
     "text": [
      "\r",
      " 97%|█████████████████████████████████████ | 384/394 [14:04:35<16:15, 97.51s/it]"
     ]
    },
    {
     "name": "stdout",
     "output_type": "stream",
     "text": [
      "Finished extracting text***********************\n",
      "வேதியியல்\n",
      "\n",
      "starting scraping of https://ta.quora.com/search?q=வேதியியல்\n",
      "***************************\n",
      "started scrolling********************\n",
      "Completed scrolling********************\n",
      "Started clicking********************\n",
      "Finished clicking********************\n",
      "extracting text **************************************\n"
     ]
    },
    {
     "name": "stderr",
     "output_type": "stream",
     "text": [
      "\r",
      " 98%|████████████████████████████████████▏| 385/394 [14:06:54<16:28, 109.83s/it]"
     ]
    },
    {
     "name": "stdout",
     "output_type": "stream",
     "text": [
      "Finished extracting text***********************\n",
      "கணிதம்\n",
      "\n",
      "starting scraping of https://ta.quora.com/search?q=கணிதம்\n",
      "***************************\n",
      "started scrolling********************\n",
      "Completed scrolling********************\n",
      "Started clicking********************\n",
      "Finished clicking********************\n",
      "extracting text **************************************\n"
     ]
    },
    {
     "name": "stderr",
     "output_type": "stream",
     "text": [
      "\r",
      " 98%|████████████████████████████████████▏| 386/394 [14:08:18<13:38, 102.29s/it]"
     ]
    },
    {
     "name": "stdout",
     "output_type": "stream",
     "text": [
      "Finished extracting text***********************\n",
      "புவியியல்_தொடர்பான_குறுங்கட்டுரைகள்\n",
      "\n",
      "starting scraping of https://ta.quora.com/search?q=புவியியல் தொடர்பான குறுங்கட்டுரைகள்\n",
      "***************************\n",
      "started scrolling********************\n"
     ]
    },
    {
     "name": "stderr",
     "output_type": "stream",
     "text": [
      "\r",
      " 98%|█████████████████████████████████████▎| 387/394 [14:09:26<10:42, 91.85s/it]"
     ]
    },
    {
     "name": "stdout",
     "output_type": "stream",
     "text": [
      "Completed scrolling********************\n",
      "Started clicking********************\n",
      "Finished clicking********************\n",
      "extracting text **************************************\n",
      "Finished extracting text***********************\n",
      "தொழில்நுட்ப_வரலாறு\n",
      "\n",
      "starting scraping of https://ta.quora.com/search?q=தொழில்நுட்ப வரலாறு\n",
      "***************************\n",
      "started scrolling********************\n",
      "Completed scrolling********************\n",
      "Started clicking********************\n",
      "Finished clicking********************\n",
      "extracting text **************************************\n"
     ]
    },
    {
     "name": "stderr",
     "output_type": "stream",
     "text": [
      "\r",
      " 98%|████████████████████████████████████▍| 388/394 [14:12:56<12:43, 127.22s/it]"
     ]
    },
    {
     "name": "stdout",
     "output_type": "stream",
     "text": [
      "Finished extracting text***********************\n",
      "அறிவியல்_மற்றும்_தொழில்நுட்ப_ஆய்வுகள்\n",
      "\n",
      "starting scraping of https://ta.quora.com/search?q=அறிவியல் மற்றும் தொழில்நுட்ப ஆய்வுகள்\n",
      "***************************\n",
      "started scrolling********************\n",
      "Completed scrolling********************\n",
      "Started clicking********************\n",
      "Finished clicking********************\n",
      "extracting text **************************************\n"
     ]
    },
    {
     "name": "stderr",
     "output_type": "stream",
     "text": [
      "\r",
      " 99%|████████████████████████████████████▌| 389/394 [14:14:45<10:09, 121.90s/it]"
     ]
    },
    {
     "name": "stdout",
     "output_type": "stream",
     "text": [
      "Finished extracting text***********************\n",
      "நடத்தை_அறிவியல்கள்\n",
      "\n",
      "starting scraping of https://ta.quora.com/search?q=நடத்தை அறிவியல்கள்\n",
      "***************************\n",
      "started scrolling********************\n",
      "Completed scrolling********************\n",
      "Started clicking********************\n",
      "Finished clicking********************\n",
      "extracting text **************************************\n"
     ]
    },
    {
     "name": "stderr",
     "output_type": "stream",
     "text": [
      "\r",
      " 99%|████████████████████████████████████▌| 390/394 [14:15:51<07:00, 105.02s/it]"
     ]
    },
    {
     "name": "stdout",
     "output_type": "stream",
     "text": [
      "Finished extracting text***********************\n",
      "மனித_வளர்ச்சியியல்\n",
      "\n",
      "starting scraping of https://ta.quora.com/search?q=மனித வளர்ச்சியியல்\n",
      "***************************\n",
      "started scrolling********************\n"
     ]
    },
    {
     "name": "stderr",
     "output_type": "stream",
     "text": [
      "\r",
      " 99%|█████████████████████████████████████▋| 391/394 [14:16:53<04:36, 92.13s/it]"
     ]
    },
    {
     "name": "stdout",
     "output_type": "stream",
     "text": [
      "Completed scrolling********************\n",
      "Started clicking********************\n",
      "Finished clicking********************\n",
      "extracting text **************************************\n",
      "Finished extracting text***********************\n",
      "யூதம்\n",
      "\n",
      "starting scraping of https://ta.quora.com/search?q=யூதம்\n",
      "***************************\n",
      "started scrolling********************\n",
      "Completed scrolling********************\n",
      "Started clicking********************\n",
      "Finished clicking********************\n",
      "extracting text **************************************\n"
     ]
    },
    {
     "name": "stderr",
     "output_type": "stream",
     "text": [
      "\r",
      " 99%|█████████████████████████████████████▊| 392/394 [14:18:17<02:59, 89.84s/it]"
     ]
    },
    {
     "name": "stdout",
     "output_type": "stream",
     "text": [
      "Finished extracting text***********************\n",
      "தமிழர்_புவியியல்\n",
      "\n",
      "starting scraping of https://ta.quora.com/search?q=தமிழர் புவியியல்\n",
      "***************************\n",
      "started scrolling********************\n",
      "Completed scrolling********************\n",
      "Started clicking********************\n",
      "Finished clicking********************\n",
      "extracting text **************************************\n"
     ]
    },
    {
     "name": "stderr",
     "output_type": "stream",
     "text": [
      "\r",
      "100%|█████████████████████████████████████▉| 393/394 [14:20:10<01:36, 96.58s/it]"
     ]
    },
    {
     "name": "stdout",
     "output_type": "stream",
     "text": [
      "Finished extracting text***********************\n",
      "கணிதவியலாளர்கள்\n",
      "\n",
      "starting scraping of https://ta.quora.com/search?q=கணிதவியலாளர்கள்\n",
      "***************************\n",
      "started scrolling********************\n",
      "Completed scrolling********************\n",
      "Started clicking********************\n",
      "Finished clicking********************\n",
      "extracting text **************************************\n"
     ]
    },
    {
     "name": "stderr",
     "output_type": "stream",
     "text": [
      "100%|█████████████████████████████████████| 394/394 [14:21:31<00:00, 131.20s/it]"
     ]
    },
    {
     "name": "stdout",
     "output_type": "stream",
     "text": [
      "Finished extracting text***********************\n"
     ]
    },
    {
     "name": "stderr",
     "output_type": "stream",
     "text": [
      "\n"
     ]
    }
   ],
   "source": [
    "from tqdm import tqdm\n",
    "n=0\n",
    "for i in tqdm(links):\n",
    "    n+=1\n",
    "    encoded_text = i.split('/')[-1]\n",
    "    decoded_text = urllib.parse.unquote(encoded_text)[9:].replace(' ','_')\n",
    "    print(decoded_text)\n",
    "    try:\n",
    "        file_name = '/home/aki/GPT/tamil_llm/output_topics/{}_{:04d}.json'.format(decoded_text,n)\n",
    "        extract_text_search_query(i,file_name)\n",
    "    except:\n",
    "        pass  "
   ]
  },
  {
   "cell_type": "code",
   "execution_count": null,
   "id": "4130c584",
   "metadata": {},
   "outputs": [],
   "source": []
  }
 ],
 "metadata": {
  "kernelspec": {
   "display_name": "Python 3 (ipykernel)",
   "language": "python",
   "name": "python3"
  },
  "language_info": {
   "codemirror_mode": {
    "name": "ipython",
    "version": 3
   },
   "file_extension": ".py",
   "mimetype": "text/x-python",
   "name": "python",
   "nbconvert_exporter": "python",
   "pygments_lexer": "ipython3",
   "version": "3.10.8"
  }
 },
 "nbformat": 4,
 "nbformat_minor": 5
}
