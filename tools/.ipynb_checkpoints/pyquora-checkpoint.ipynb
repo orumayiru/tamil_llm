{
 "cells": [
  {
   "cell_type": "code",
   "execution_count": 1,
   "id": "5a42d890",
   "metadata": {},
   "outputs": [],
   "source": [
    "from selenium import webdriver\n",
    "from selenium.webdriver.common.keys import Keys\n",
    "import time\n",
    "from selenium.webdriver.common.by import By\n",
    "from selenium.webdriver.support.ui import WebDriverWait\n",
    "from selenium.webdriver.support import expected_conditions as ec\n",
    "import random\n",
    "import urllib.parse\n",
    "from bs4 import BeautifulSoup\n",
    "import json"
   ]
  },
  {
   "cell_type": "code",
   "execution_count": 2,
   "id": "22a256f8",
   "metadata": {},
   "outputs": [
    {
     "name": "stdout",
     "output_type": "stream",
     "text": [
      "187\n",
      "143\n"
     ]
    }
   ],
   "source": [
    "with open('links.txt',encoding='utf-8') as f:\n",
    "    links_raw = f.readlines()\n",
    "print(len(links_raw))\n",
    "links = list(set(links_raw))\n",
    "print(len((links)))"
   ]
  },
  {
   "cell_type": "code",
   "execution_count": 7,
   "id": "9c5a1a39",
   "metadata": {},
   "outputs": [],
   "source": [
    "def scroll_to_bottom(driver):\n",
    "    last_height = driver.execute_script(\"return document.body.scrollHeight\")\n",
    "    count = 0\n",
    "    while True:\n",
    "        # Scroll down to bottom\n",
    "        driver.execute_script(\"window.scrollTo(0, document.body.scrollHeight);\")\n",
    "\n",
    "        # Wait for page to load\n",
    "        time.sleep(random.uniform(1.5, 2.5))\n",
    "\n",
    "        # Calculate new scroll height and compare with last scroll height\n",
    "        new_height = driver.execute_script(\"return document.body.scrollHeight\")\n",
    "        if new_height == last_height:\n",
    "            count += 1\n",
    "            if count == 10:\n",
    "                break\n",
    "        else:\n",
    "            last_height = new_height\n",
    "            count = 0\n",
    "\n",
    "        # Simulate human-like scrolling by scrolling in smaller increments\n",
    "        #for i in range(3):\n",
    "         #   driver.find_element_by_tag_name('body').send_keys(Keys.PAGE_DOWN)\n",
    "          #  time.sleep(random.uniform(0.5, 1))\n",
    "def extract_text(url):\n",
    "    print('starting******************wait until closing**********')\n",
    "    options = webdriver.ChromeOptions()\n",
    "    options.add_argument('--headless')\n",
    "    driver = webdriver.Chrome(options=options)    \n",
    "    driver.get(url)\n",
    "    scroll_to_bottom(driver)\n",
    "    print('scrolling completed')\n",
    "    # Find all clickable \"மேலும் காண்க\" elements\n",
    "    wait = WebDriverWait(driver, 10)\n",
    "    elements = wait.until(ec.presence_of_all_elements_located((By.XPATH, \"//*[contains(text(), 'மேலும் காண்க')]\")))\n",
    "    clickable_elements = []\n",
    "    for element in elements:\n",
    "        if element.is_displayed() and element.is_enabled():\n",
    "            clickable_elements.append(element)\n",
    "\n",
    "    # Click all the clickable \"மேலும் காண்க\" elements\n",
    "    for element in clickable_elements:\n",
    "        driver.execute_script(\"arguments[0].click();\", element)\n",
    "    print('clicking complete')\n",
    "    html = driver.page_source\n",
    "    soup = BeautifulSoup(html, 'html.parser')\n",
    "    # Find all elements with class 'qu-mb--tiny'\n",
    "    small_classes = soup.find_all(class_='qu-mb--tiny')\n",
    "    x = 0\n",
    "    # Loop over the small_classes and find the adjacent 'spacing_log_answer_content' class\n",
    "    for small_class in small_classes:\n",
    "        adjacent_class = small_class.find_next(class_='spacing_log_answer_content')\n",
    "        if adjacent_class:     \n",
    "            mydict = {}\n",
    "            question = small_class.text.strip()\n",
    "            answer = adjacent_class.text.strip()\n",
    "            if len(question)>30:\n",
    "                x = x+1\n",
    "                mydict[\"question\"] = question\n",
    "                mydict[\"answer\"] = answer\n",
    "                # Open the JSON file in append mode\n",
    "                with open(\"qna_quora.txt\", \"a\",encoding='utf-8') as f:\n",
    "                    f.write(str(mydict))\n",
    "                    f.write('\\n')\n",
    "    print('closing***********************************************')\n",
    "    driver.quit()    "
   ]
  },
  {
   "cell_type": "code",
   "execution_count": 6,
   "id": "6c5e829a",
   "metadata": {},
   "outputs": [
    {
     "name": "stdout",
     "output_type": "stream",
     "text": [
      "starting******************wait until closing**********\n",
      "scrolling completed\n",
      "clicking complete\n",
      "closing***********************************************\n"
     ]
    },
    {
     "ename": "AttributeError",
     "evalue": "'WebDriver' object has no attribute 'Quit'",
     "output_type": "error",
     "traceback": [
      "\u001b[1;31m---------------------------------------------------------------------------\u001b[0m",
      "\u001b[1;31mAttributeError\u001b[0m                            Traceback (most recent call last)",
      "Input \u001b[1;32mIn [6]\u001b[0m, in \u001b[0;36m<cell line: 1>\u001b[1;34m()\u001b[0m\n\u001b[1;32m----> 1\u001b[0m \u001b[43mextract_text\u001b[49m\u001b[43m(\u001b[49m\u001b[43mlinks\u001b[49m\u001b[43m[\u001b[49m\u001b[38;5;241;43m0\u001b[39;49m\u001b[43m]\u001b[49m\u001b[43m)\u001b[49m\n",
      "Input \u001b[1;32mIn [5]\u001b[0m, in \u001b[0;36mextract_text\u001b[1;34m(url)\u001b[0m\n\u001b[0;32m     63\u001b[0m                 f\u001b[38;5;241m.\u001b[39mwrite(\u001b[38;5;28mstr\u001b[39m(mydict))\n\u001b[0;32m     64\u001b[0m \u001b[38;5;28mprint\u001b[39m(\u001b[38;5;124m'\u001b[39m\u001b[38;5;124mclosing***********************************************\u001b[39m\u001b[38;5;124m'\u001b[39m)\n\u001b[1;32m---> 65\u001b[0m \u001b[43mdriver\u001b[49m\u001b[38;5;241;43m.\u001b[39;49m\u001b[43mQuit\u001b[49m()\n",
      "\u001b[1;31mAttributeError\u001b[0m: 'WebDriver' object has no attribute 'Quit'"
     ]
    }
   ],
   "source": [
    "extract_text(links[0])"
   ]
  },
  {
   "cell_type": "markdown",
   "id": "2b5b23cd",
   "metadata": {},
   "source": [
    "from selenium import webdriver\n",
    "from selenium.webdriver.common.keys import Keys\n",
    "import time\n",
    "from selenium.webdriver.common.by import By\n",
    "from selenium.webdriver.support.ui import WebDriverWait\n",
    "from selenium.webdriver.support import expected_conditions as ec\n",
    "import random\n",
    "import urllib.parse\n",
    "\n",
    "url_raw = 'https://ta.quora.com/topic/%E0%AE%85%E0%AE%B1%E0%AE%BF%E0%AE%B5%E0%AE%BF%E0%AE%AF%E0%AE%B2%E0%AF%8D'\n",
    "url = urllib.parse.unquote(url_raw)\n",
    "# Load the web page\n",
    "#options = webdriver.ChromeOptions()\n",
    "#options.add_argument('--headless')\n",
    "#driver = webdriver.Chrome(options=options)\n",
    "driver = webdriver.Chrome()\n",
    "driver.get(url)\n",
    "scroll_to_bottom(driver)\n",
    "print('scrolling completed')\n",
    "# Find all clickable \"மேலும் காண்க\" elements\n",
    "wait = WebDriverWait(driver, 10)\n",
    "elements = wait.until(ec.presence_of_all_elements_located((By.XPATH, \"//*[contains(text(), 'மேலும் காண்க')]\")))\n",
    "clickable_elements = []\n",
    "for element in elements:\n",
    "    if element.is_displayed() and element.is_enabled():\n",
    "        clickable_elements.append(element)\n",
    "\n",
    "# Click all the clickable \"மேலும் காண்க\" elements\n",
    "for element in clickable_elements:\n",
    "    driver.execute_script(\"arguments[0].click();\", element)\n",
    "print('clicking complete')"
   ]
  },
  {
   "cell_type": "markdown",
   "id": "f8a309b0",
   "metadata": {},
   "source": [
    "html = driver.page_source"
   ]
  },
  {
   "cell_type": "markdown",
   "id": "0b4a86e5",
   "metadata": {},
   "source": [
    "from bs4 import BeautifulSoup\n",
    "import json\n",
    "soup = BeautifulSoup(html, 'html.parser')\n",
    "\n",
    "soup = BeautifulSoup(html, 'html.parser')\n",
    "\n",
    "# Find all elements with class 'qu-mb--tiny'\n",
    "small_classes = soup.find_all(class_='qu-mb--tiny')\n",
    "x = 0\n",
    "# Loop over the small_classes and find the adjacent 'spacing_log_answer_content' class\n",
    "for small_class in small_classes:\n",
    "    adjacent_class = small_class.find_next(class_='spacing_log_answer_content')\n",
    "    if adjacent_class:     \n",
    "        mydict = {}\n",
    "        question = small_class.text.strip()\n",
    "        answer = adjacent_class.text.strip()\n",
    "        if len(question)>30:\n",
    "            x = x+1\n",
    "            mydict[\"question\"] = question\n",
    "            mydict[\"answer\"] = answer\n",
    "            # Open the JSON file in append mode\n",
    "            with open(\"qna_quora.txt\", \"a\",encoding='utf-8') as f:\n",
    "                f.write(str(mydict))          "
   ]
  },
  {
   "cell_type": "markdown",
   "id": "67211f7b",
   "metadata": {},
   "source": [
    "#finding next sibling\n",
    "from bs4 import BeautifulSoup\n",
    "# Create a BeautifulSoup object\n",
    "soup = BeautifulSoup(html, 'html.parser')\n",
    "question_elements = soup.find_all(class_='qu-mb--tiny')\n",
    "# Find all 'qu-mb--tiny' elements and iterate over each of them\n",
    "count = 0\n",
    "for question in question_elements:\n",
    "    # Find the next sibling element with class 'spacing_log_answer_content'\n",
    "    #answer = question.find_next_sibling(class_='spacing_log_answer_content')  \n",
    "    # Extract the text from both elements\n",
    "    if question:\n",
    "        #question_text = question.text(strip=True)\n",
    "        #answer_text = answer.text(strip=True)\n",
    "        # Print the question and answer\n",
    "        count+=1\n",
    "        print(count)\n",
    "        print(question.get_text().strip())\n",
    "        #print('Answer:', answer_text)\n",
    "        print('------------------------')\n"
   ]
  }
 ],
 "metadata": {
  "kernelspec": {
   "display_name": "Python 3 (ipykernel)",
   "language": "python",
   "name": "python3"
  },
  "language_info": {
   "codemirror_mode": {
    "name": "ipython",
    "version": 3
   },
   "file_extension": ".py",
   "mimetype": "text/x-python",
   "name": "python",
   "nbconvert_exporter": "python",
   "pygments_lexer": "ipython3",
   "version": "3.9.12"
  }
 },
 "nbformat": 4,
 "nbformat_minor": 5
}
