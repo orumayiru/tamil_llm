{
 "cells": [
  {
   "cell_type": "code",
   "execution_count": 1,
   "id": "497085cb",
   "metadata": {},
   "outputs": [],
   "source": [
    "tamil_subjects = [    \"தமிழ்\",    \"ஆங்கிலம்\",    \"கணிதம்\",    \"அறிவியல்\",    \"சமூக அறிவியல்\",    \"சரித்திரம்\",    \"கலையியல்\",    \"களத்தியல்\",    \"பொது அறிவு\",    \"செய்தியறிவு\",    \"மருத்துவ அறிவியல்\",    \"காரிய தமிழ்\",    \"நூலக அறிவியல்\",    \"வரலாறு\",    \"கதைகள்\",    \"படைப்பாட்டு\",    \"விருதுகள்\",    \"தமிழ் இலக்கியம்\"]\n",
    "\n",
    "science_topics = [    \"பூமியியல்\",    \"உயிரியல்\",    \"காரிய உயிரியல்\",    \"உலகம் அறிவியல்\",    \"பொருளியல்\",    \"காரிய பொருளியல்\",    \"பொருளியல் நூல்கள்\",    \"சூழலியல்\",    \"பூச்சியியல்\",    \"பின்னணியியல்\",    \"செயற்குழு நூல்கள்\",    \"காரிய செயற்குழு\",    \"பொழுதுபோக்கு அறிவியல்\",    \"கீழே காணப்படும் நூல்கள்\"]\n",
    "\n",
    "\n"
   ]
  },
  {
   "cell_type": "code",
   "execution_count": 3,
   "id": "4a3b27c2",
   "metadata": {},
   "outputs": [
    {
     "ename": "SyntaxError",
     "evalue": "invalid decimal literal (1455627514.py, line 9)",
     "output_type": "error",
     "traceback": [
      "\u001b[0;36m  Cell \u001b[0;32mIn[3], line 9\u001b[0;36m\u001b[0m\n\u001b[0;31m    url = https://ta.wikipedia.org/wiki/%E0%AE%AA%E0%AE%95%E0%AF%81%E0%AE%AA%E0%AF%8D%E0%AE%AA%E0%AF%81:%E0%AE%A4%E0%AE%AE%E0%AE%BF%E0%AE%B4%E0%AF%8D\u001b[0m\n\u001b[0m                                                                                   ^\u001b[0m\n\u001b[0;31mSyntaxError\u001b[0m\u001b[0;31m:\u001b[0m invalid decimal literal\n"
     ]
    }
   ],
   "source": [
    "from selenium import webdriver\n",
    "from selenium.webdriver.common.by import By\n",
    "from selenium.webdriver.common.keys import Keys\n",
    "from selenium.webdriver.support.ui import WebDriverWait\n",
    "from selenium.webdriver.support import expected_conditions as EC\n",
    "\n",
    "# Create a new instance of the Firefox driver\n",
    "driver = webdriver.Firefox()\n",
    "url = 'https://ta.wikipedia.org/wiki/%E0%AE%AA%E0%AE%95%E0%AF%81%E0%AE%AA%E0%AF%8D%E0%AE%AA%E0%AF%81:%E0%AE%A4%E0%AE%AE%E0%AE%BF%E0%AE%B4%E0%AF%8D'\n",
    "# Navigate to the webpage with expandable tree elements\n",
    "driver.get(url)\n",
    "\n",
    "# Find all the expandable tree elements using XPath\n",
    "tree_elements = driver.find_elements_by_xpath(\"//span[@class='CategoryTreeToggle CategoryTreeToggleHandlerAttached']\")\n",
    "\n",
    "# Loop through each tree element and toggle it to expand the tree\n",
    "for tree_element in tree_elements:\n",
    "    # Click the tree element to expand or collapse it\n",
    "    tree_element.click()\n",
    "    \n",
    "    # Wait for the tree element to finish expanding or collapsing\n",
    "    WebDriverWait(driver, 10).until(EC.staleness_of(tree_element))\n",
    "\n",
    "# Extract the text data from all the expanded tree elements\n",
    "tree_texts = []\n",
    "tree_text_elements = driver.find_elements_by_xpath(\"//div[@class='CategoryTreeToggle CategoryTreeToggleHandlerAttached']\")\n",
    "for tree_text_element in tree_text_elements:\n",
    "    tree_texts.append(tree_text_element.text)\n",
    "\n",
    "# Print the text data from all the expanded tree elements\n",
    "print(tree_texts)\n",
    "\n",
    "# Close the browser\n",
    "driver.quit()\n"
   ]
  },
  {
   "cell_type": "code",
   "execution_count": null,
   "id": "03fb6a1f",
   "metadata": {},
   "outputs": [],
   "source": []
  }
 ],
 "metadata": {
  "kernelspec": {
   "display_name": "Python 3 (ipykernel)",
   "language": "python",
   "name": "python3"
  },
  "language_info": {
   "codemirror_mode": {
    "name": "ipython",
    "version": 3
   },
   "file_extension": ".py",
   "mimetype": "text/x-python",
   "name": "python",
   "nbconvert_exporter": "python",
   "pygments_lexer": "ipython3",
   "version": "3.10.8"
  }
 },
 "nbformat": 4,
 "nbformat_minor": 5
}
