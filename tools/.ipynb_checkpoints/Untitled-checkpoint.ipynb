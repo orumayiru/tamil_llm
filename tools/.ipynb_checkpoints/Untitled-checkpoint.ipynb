{
 "cells": [
  {
   "cell_type": "code",
   "execution_count": 6,
   "id": "e387953b",
   "metadata": {},
   "outputs": [],
   "source": [
    "from selenium import webdriver\n",
    "from selenium.webdriver.common.by import By\n",
    "from selenium.webdriver.support.ui import WebDriverWait\n",
    "from selenium.webdriver.support import expected_conditions as EC\n",
    "import time"
   ]
  },
  {
   "cell_type": "code",
   "execution_count": 16,
   "id": "7257e891",
   "metadata": {},
   "outputs": [],
   "source": [
    "url = \"https://xn--clcu6av0at5becfj8m.xn--xkc2dl3a5ee0h/agriculture\""
   ]
  },
  {
   "cell_type": "code",
   "execution_count": 22,
   "id": "62636ed8",
   "metadata": {},
   "outputs": [],
   "source": [
    "from selenium import webdriver\n",
    "from selenium.webdriver.common.by import By\n",
    "from selenium.webdriver.support.ui import WebDriverWait\n",
    "from selenium.webdriver.support import expected_conditions as EC\n",
    "\n",
    "# Create a new Chrome webdriver instance\n",
    "driver = webdriver.Chrome()\n",
    "\n",
    "# Load the initial webpage\n",
    "driver.get(url)\n",
    "\n",
    "# Define a function to recursively find links and save them to a list\n",
    "def find_links(page_url, link_list):\n",
    "    # Load the page\n",
    "    driver.get(page_url)\n",
    "    # Wait for the \"folderfile_name\" links to be present\n",
    "    WebDriverWait(driver, 10).until(EC.presence_of_element_located((By.CLASS_NAME, \"folderfile_name\")))\n",
    "    # Find all the \"folderfile_name\" links on the page\n",
    "    #time.sleep(0.5)\n",
    "    folder_links = driver.find_elements(By.CSS_SELECTOR,\".folderfile_name\")\n",
    "    # If there are no \"folderfile_name\" links on the page, return the link_list\n",
    "    if not folder_links:\n",
    "        return link_list\n",
    "    # Otherwise, click each \"folderfile_name\" link and recursively find more links\n",
    "    else:\n",
    "        for folder_link in folder_links:\n",
    "            folder_link.click()\n",
    "            sub_links = driver.find_elements(By.CSS_SELECTOR,\".folderfile_name\")\n",
    "            # If there are more \"folderfile_name\" links, recursively find them\n",
    "            if sub_links:\n",
    "                find_links(driver.current_url, link_list)\n",
    "            # Otherwise, find all links on the page and add them to the link_list\n",
    "            else:\n",
    "                page_links = driver.find_elements(By.CSS_SELECTOR,\".a\")\n",
    "                for page_link in page_links:\n",
    "                    link_list.append(page_link.get_attribute(\"href\"))\n",
    "                # Go back to the previous page and continue searching for more links\n",
    "                driver.back()\n",
    "    return link_list\n",
    "\n",
    "    # Call the find_links function with the initial page URL and an empty link_list\n",
    "link_list = []\n",
    "link_list = find_links(url, link_list)\n",
    "\n",
    "\n",
    "# Save the link_list to a text file\n",
    "with open(\"links.txt\", \"w\") as f:\n",
    "    for link in link_list:\n",
    "        f.write(link + \"\\n\")\n",
    "\n",
    "# Close the webdriver instance\n",
    "driver.quit()\n"
   ]
  },
  {
   "cell_type": "code",
   "execution_count": 13,
   "id": "f413f556",
   "metadata": {},
   "outputs": [
    {
     "data": {
      "text/plain": [
       "[]"
      ]
     },
     "execution_count": 13,
     "metadata": {},
     "output_type": "execute_result"
    }
   ],
   "source": [
    "all_links"
   ]
  },
  {
   "cell_type": "code",
   "execution_count": null,
   "id": "efaddc3c",
   "metadata": {},
   "outputs": [],
   "source": []
  }
 ],
 "metadata": {
  "kernelspec": {
   "display_name": "Python 3 (ipykernel)",
   "language": "python",
   "name": "python3"
  },
  "language_info": {
   "codemirror_mode": {
    "name": "ipython",
    "version": 3
   },
   "file_extension": ".py",
   "mimetype": "text/x-python",
   "name": "python",
   "nbconvert_exporter": "python",
   "pygments_lexer": "ipython3",
   "version": "3.10.8"
  }
 },
 "nbformat": 4,
 "nbformat_minor": 5
}
