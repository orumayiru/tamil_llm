{
 "cells": [
  {
   "cell_type": "code",
   "execution_count": 5,
   "id": "3f255ba0",
   "metadata": {},
   "outputs": [
    {
     "ename": "KeyboardInterrupt",
     "evalue": "",
     "output_type": "error",
     "traceback": [
      "\u001b[1;31m---------------------------------------------------------------------------\u001b[0m",
      "\u001b[1;31mKeyboardInterrupt\u001b[0m                         Traceback (most recent call last)",
      "Input \u001b[1;32mIn [5]\u001b[0m, in \u001b[0;36m<cell line: 26>\u001b[1;34m()\u001b[0m\n\u001b[0;32m     31\u001b[0m     driver\u001b[38;5;241m.\u001b[39mexecute_script(\u001b[38;5;124m\"\u001b[39m\u001b[38;5;124marguments[0].click();\u001b[39m\u001b[38;5;124m\"\u001b[39m, link)\n\u001b[0;32m     32\u001b[0m     driver\u001b[38;5;241m.\u001b[39mexecute_script(\u001b[38;5;124m\"\u001b[39m\u001b[38;5;124marguments[0].scrollIntoView();\u001b[39m\u001b[38;5;124m\"\u001b[39m, link)\n\u001b[1;32m---> 33\u001b[0m     \u001b[43mtime\u001b[49m\u001b[38;5;241;43m.\u001b[39;49m\u001b[43msleep\u001b[49m\u001b[43m(\u001b[49m\u001b[38;5;241;43m2\u001b[39;49m\u001b[43m)\u001b[49m\n\u001b[0;32m     34\u001b[0m     z\u001b[38;5;241m+\u001b[39m\u001b[38;5;241m=\u001b[39m\u001b[38;5;241m1\u001b[39m\n\u001b[0;32m     36\u001b[0m links \u001b[38;5;241m=\u001b[39m driver\u001b[38;5;241m.\u001b[39mexecute_script(\u001b[38;5;124m\"\u001b[39m\u001b[38;5;124mreturn Array.from(document.querySelectorAll(\u001b[39m\u001b[38;5;124m'\u001b[39m\u001b[38;5;124ma\u001b[39m\u001b[38;5;124m'\u001b[39m\u001b[38;5;124m)).map(a => a.href);\u001b[39m\u001b[38;5;124m\"\u001b[39m)\n",
      "\u001b[1;31mKeyboardInterrupt\u001b[0m: "
     ]
    }
   ],
   "source": [
    "from selenium import webdriver\n",
    "from selenium.webdriver.common.by import By\n",
    "from selenium.webdriver.support.ui import WebDriverWait\n",
    "from selenium.webdriver.support import expected_conditions as EC\n",
    "import time\n",
    "import re\n",
    "# Create a new instance of the Firefox driver\n",
    "\n",
    "driver = webdriver.Firefox()\n",
    "url = 'https://www.jeyamohan.in/category/%E0%AE%B5%E0%AE%BE%E0%AE%9A%E0%AE%95%E0%AE%B0%E0%AF%8D%E0%AE%95%E0%AE%B3%E0%AF%8D/%E0%AE%95%E0%AF%87%E0%AE%B3%E0%AF%8D%E0%AE%B5%E0%AE%BF-%E0%AE%AA%E0%AE%A4%E0%AE%BF%E0%AE%B2%E0%AF%8D/'\n",
    "# Navigate to the web page\n",
    "driver.get(url)\n",
    "\n",
    "def class_select():\n",
    "    # Find the link based on class search\n",
    "    link = WebDriverWait(driver, 10).until(\n",
    "        EC.presence_of_element_located((By.CLASS_NAME, \"td_ajax_load_more\"))\n",
    "    )\n",
    "    return link\n",
    "\n",
    "def css_select():\n",
    "    link = driver.find_element_by_css_selector(\"a:contains(' மேலும் காண ' or  'மேலும் காண' )\")\n",
    "    return link\n",
    "z = 0\n",
    "while True:\n",
    "    link = class_select()\n",
    "    if link == '':\n",
    "        link = css_select()\n",
    "    if link =='':\n",
    "        break\n",
    "    driver.execute_script(\"arguments[0].click();\", link)\n",
    "    driver.execute_script(\"arguments[0].scrollIntoView();\", link)\n",
    "    time.sleep(2)\n",
    "    z+=1\n",
    "    \n",
    "links = driver.execute_script(\"return Array.from(document.querySelectorAll('a')).map(a => a.href);\")\n",
    "qa_links = []\n",
    "for i in links:\n",
    "    if re.search(r\"https://www\\.jeyamohan\\.in/\\d+/\", i):\n",
    "        qa_links.append(i)\n",
    "print(len(qa_links))\n"
   ]
  },
  {
   "cell_type": "code",
   "execution_count": 28,
   "id": "9921c098",
   "metadata": {},
   "outputs": [],
   "source": [
    "qa_links = list(set(qa_links))"
   ]
  },
  {
   "cell_type": "code",
   "execution_count": 30,
   "id": "98b4ffe5",
   "metadata": {},
   "outputs": [],
   "source": [
    "import json\n",
    " \n",
    "with open(\"my_list.json\", \"w\") as f:\n",
    "    json.dump(qa_links, f, indent=4)\n"
   ]
  },
  {
   "cell_type": "code",
   "execution_count": 80,
   "id": "d2fecd99",
   "metadata": {},
   "outputs": [
    {
     "data": {
      "text/plain": [
       "1733"
      ]
     },
     "execution_count": 80,
     "metadata": {},
     "output_type": "execute_result"
    }
   ],
   "source": [
    "import json\n",
    "path = 'jayamohan_kelvi_pathil_links.json'\n",
    "with open(path, \"r\") as f:\n",
    "    links = json.load(f)\n",
    "len(links)"
   ]
  },
  {
   "cell_type": "code",
   "execution_count": 82,
   "id": "41d49395",
   "metadata": {},
   "outputs": [
    {
     "name": "stderr",
     "output_type": "stream",
     "text": [
      "100%|█████████████████████████████████████| 1733/1733 [1:08:35<00:00,  2.37s/it]\n"
     ]
    }
   ],
   "source": [
    "import requests\n",
    "from bs4 import BeautifulSoup\n",
    "import string\n",
    "from tqdm import tqdm\n",
    "# Make a request to the webpage\n",
    "ans_ls = []\n",
    "for i in tqdm(links):\n",
    "    response = requests.get(i)\n",
    "    # Parse the HTML content using BeautifulSoup\n",
    "    soup = BeautifulSoup(response.content, 'html.parser')\n",
    "    # Find the element with the 'td-post-content' class\n",
    "    post_content = soup.find(class_='td-post-content')\n",
    "    txt = post_content.get_text()    \n",
    "    ls = txt.split('ஜெ')    \n",
    "    for i in ls:\n",
    "        my_dict = {}\n",
    "        if len(i)>20:\n",
    "            translator = str.maketrans('', '', string.punctuation)\n",
    "            i = i.replace('யமோகன்','').replace('\\n',' ').replace('\\xa0',' ').replace(\"'\",'').replace('”','').replace('–','').replace('‘','')\n",
    "            i = i.translate(translator)\n",
    "            my_dict['question'] = i.split('அன்புள்ள')[0]\n",
    "            my_dict['answer'] = i.split('அன்புள்ள')[-1]\n",
    "            if len(my_dict['question']) >25:\n",
    "                if len(my_dict['answer']) >25:\n",
    "                    if my_dict['question']!=my_dict['answer']:\n",
    "                        ans_ls.append(my_dict)        \n",
    "with open('jayamohan_qna.json', 'w',encoding='utf-8') as f:\n",
    "    json.dump(ans_ls, f, ensure_ascii=False, indent=4)"
   ]
  },
  {
   "cell_type": "code",
   "execution_count": null,
   "id": "902c1fa5",
   "metadata": {},
   "outputs": [],
   "source": []
  }
 ],
 "metadata": {
  "kernelspec": {
   "display_name": "Python 3 (ipykernel)",
   "language": "python",
   "name": "python3"
  },
  "language_info": {
   "codemirror_mode": {
    "name": "ipython",
    "version": 3
   },
   "file_extension": ".py",
   "mimetype": "text/x-python",
   "name": "python",
   "nbconvert_exporter": "python",
   "pygments_lexer": "ipython3",
   "version": "3.10.8"
  }
 },
 "nbformat": 4,
 "nbformat_minor": 5
}
