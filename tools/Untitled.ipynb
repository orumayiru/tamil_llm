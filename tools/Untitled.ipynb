{
 "cells": [
  {
   "cell_type": "code",
   "execution_count": 6,
   "id": "8ec9023a",
   "metadata": {},
   "outputs": [],
   "source": [
    "from selenium import webdriver\n",
    "from selenium.webdriver.common.by import By\n",
    "from selenium.webdriver.support.ui import WebDriverWait\n",
    "from selenium.webdriver.support import expected_conditions as EC\n",
    "import time"
   ]
  },
  {
   "cell_type": "code",
   "execution_count": 16,
   "id": "97c616a5",
   "metadata": {},
   "outputs": [],
   "source": [
    "url = \"https://xn--clcu6av0at5becfj8m.xn--xkc2dl3a5ee0h/agriculture\""
   ]
  },
  {
   "cell_type": "code",
   "execution_count": 24,
   "id": "be74da23",
   "metadata": {},
   "outputs": [
    {
     "ename": "StaleElementReferenceException",
     "evalue": "Message: stale element reference: element is not attached to the page document\n  (Session info: chrome=112.0.5615.165)\nStacktrace:\n#0 0x55b82addac64 <unknown>\n#1 0x55b82ab42e32 <unknown>\n#2 0x55b82ab469e4 <unknown>\n#3 0x55b82ab46717 <unknown>\n#4 0x55b82ab46a64 <unknown>\n#5 0x55b82ab7f946 <unknown>\n#6 0x55b82ab73f4a <unknown>\n#7 0x55b82ab9f4d2 <unknown>\n#8 0x55b82ab73a39 <unknown>\n#9 0x55b82ab9f74e <unknown>\n#10 0x55b82abb6db0 <unknown>\n#11 0x55b82ab9f273 <unknown>\n#12 0x55b82ab71a4f <unknown>\n#13 0x55b82ab730a3 <unknown>\n#14 0x55b82ada81fb <unknown>\n#15 0x55b82adaae92 <unknown>\n#16 0x55b82adaa852 <unknown>\n#17 0x55b82adab615 <unknown>\n#18 0x55b82adb1ff7 <unknown>\n#19 0x55b82adaba00 <unknown>\n#20 0x55b82ad8978e <unknown>\n#21 0x55b82adc7017 <unknown>\n#22 0x55b82adc71e6 <unknown>\n#23 0x55b82add4dfd <unknown>\n#24 0x7fe56edb6bb5 <unknown>\n",
     "output_type": "error",
     "traceback": [
      "\u001b[0;31m---------------------------------------------------------------------------\u001b[0m",
      "\u001b[0;31mStaleElementReferenceException\u001b[0m            Traceback (most recent call last)",
      "Cell \u001b[0;32mIn[24], line 43\u001b[0m\n\u001b[1;32m     41\u001b[0m     \u001b[38;5;66;03m# Call the find_links function with the initial page URL and an empty link_list\u001b[39;00m\n\u001b[1;32m     42\u001b[0m link_list \u001b[38;5;241m=\u001b[39m []\n\u001b[0;32m---> 43\u001b[0m link_list \u001b[38;5;241m=\u001b[39m \u001b[43mfind_links\u001b[49m\u001b[43m(\u001b[49m\u001b[43murl\u001b[49m\u001b[43m,\u001b[49m\u001b[43m \u001b[49m\u001b[43mlink_list\u001b[49m\u001b[43m)\u001b[49m\n\u001b[1;32m     46\u001b[0m \u001b[38;5;66;03m# Save the link_list to a text file\u001b[39;00m\n\u001b[1;32m     47\u001b[0m \u001b[38;5;28;01mwith\u001b[39;00m \u001b[38;5;28mopen\u001b[39m(\u001b[38;5;124m\"\u001b[39m\u001b[38;5;124mlinks.txt\u001b[39m\u001b[38;5;124m\"\u001b[39m, \u001b[38;5;124m\"\u001b[39m\u001b[38;5;124mw\u001b[39m\u001b[38;5;124m\"\u001b[39m) \u001b[38;5;28;01mas\u001b[39;00m f:\n",
      "Cell \u001b[0;32mIn[24], line 27\u001b[0m, in \u001b[0;36mfind_links\u001b[0;34m(page_url, link_list)\u001b[0m\n\u001b[1;32m     24\u001b[0m \u001b[38;5;66;03m# Otherwise, click each \"folderfile_name\" link and recursively find more links\u001b[39;00m\n\u001b[1;32m     25\u001b[0m \u001b[38;5;28;01melse\u001b[39;00m:\n\u001b[1;32m     26\u001b[0m     \u001b[38;5;28;01mfor\u001b[39;00m folder_link \u001b[38;5;129;01min\u001b[39;00m folder_links:\n\u001b[0;32m---> 27\u001b[0m         \u001b[43mfolder_link\u001b[49m\u001b[38;5;241;43m.\u001b[39;49m\u001b[43mclick\u001b[49m\u001b[43m(\u001b[49m\u001b[43m)\u001b[49m\n\u001b[1;32m     28\u001b[0m         sub_links \u001b[38;5;241m=\u001b[39m driver\u001b[38;5;241m.\u001b[39mfind_elements(By\u001b[38;5;241m.\u001b[39mCSS_SELECTOR,\u001b[38;5;124m\"\u001b[39m\u001b[38;5;124m.folderfile_name\u001b[39m\u001b[38;5;124m\"\u001b[39m)\n\u001b[1;32m     29\u001b[0m         \u001b[38;5;66;03m# If there are more \"folderfile_name\" links, recursively find them\u001b[39;00m\n",
      "File \u001b[0;32m~/anaconda3/envs/st/lib/python3.10/site-packages/selenium/webdriver/remote/webelement.py:93\u001b[0m, in \u001b[0;36mWebElement.click\u001b[0;34m(self)\u001b[0m\n\u001b[1;32m     91\u001b[0m \u001b[38;5;28;01mdef\u001b[39;00m \u001b[38;5;21mclick\u001b[39m(\u001b[38;5;28mself\u001b[39m) \u001b[38;5;241m-\u001b[39m\u001b[38;5;241m>\u001b[39m \u001b[38;5;28;01mNone\u001b[39;00m:\n\u001b[1;32m     92\u001b[0m     \u001b[38;5;124;03m\"\"\"Clicks the element.\"\"\"\u001b[39;00m\n\u001b[0;32m---> 93\u001b[0m     \u001b[38;5;28;43mself\u001b[39;49m\u001b[38;5;241;43m.\u001b[39;49m\u001b[43m_execute\u001b[49m\u001b[43m(\u001b[49m\u001b[43mCommand\u001b[49m\u001b[38;5;241;43m.\u001b[39;49m\u001b[43mCLICK_ELEMENT\u001b[49m\u001b[43m)\u001b[49m\n",
      "File \u001b[0;32m~/anaconda3/envs/st/lib/python3.10/site-packages/selenium/webdriver/remote/webelement.py:403\u001b[0m, in \u001b[0;36mWebElement._execute\u001b[0;34m(self, command, params)\u001b[0m\n\u001b[1;32m    401\u001b[0m     params \u001b[38;5;241m=\u001b[39m {}\n\u001b[1;32m    402\u001b[0m params[\u001b[38;5;124m\"\u001b[39m\u001b[38;5;124mid\u001b[39m\u001b[38;5;124m\"\u001b[39m] \u001b[38;5;241m=\u001b[39m \u001b[38;5;28mself\u001b[39m\u001b[38;5;241m.\u001b[39m_id\n\u001b[0;32m--> 403\u001b[0m \u001b[38;5;28;01mreturn\u001b[39;00m \u001b[38;5;28;43mself\u001b[39;49m\u001b[38;5;241;43m.\u001b[39;49m\u001b[43m_parent\u001b[49m\u001b[38;5;241;43m.\u001b[39;49m\u001b[43mexecute\u001b[49m\u001b[43m(\u001b[49m\u001b[43mcommand\u001b[49m\u001b[43m,\u001b[49m\u001b[43m \u001b[49m\u001b[43mparams\u001b[49m\u001b[43m)\u001b[49m\n",
      "File \u001b[0;32m~/anaconda3/envs/st/lib/python3.10/site-packages/selenium/webdriver/remote/webdriver.py:440\u001b[0m, in \u001b[0;36mWebDriver.execute\u001b[0;34m(self, driver_command, params)\u001b[0m\n\u001b[1;32m    438\u001b[0m response \u001b[38;5;241m=\u001b[39m \u001b[38;5;28mself\u001b[39m\u001b[38;5;241m.\u001b[39mcommand_executor\u001b[38;5;241m.\u001b[39mexecute(driver_command, params)\n\u001b[1;32m    439\u001b[0m \u001b[38;5;28;01mif\u001b[39;00m response:\n\u001b[0;32m--> 440\u001b[0m     \u001b[38;5;28;43mself\u001b[39;49m\u001b[38;5;241;43m.\u001b[39;49m\u001b[43merror_handler\u001b[49m\u001b[38;5;241;43m.\u001b[39;49m\u001b[43mcheck_response\u001b[49m\u001b[43m(\u001b[49m\u001b[43mresponse\u001b[49m\u001b[43m)\u001b[49m\n\u001b[1;32m    441\u001b[0m     response[\u001b[38;5;124m\"\u001b[39m\u001b[38;5;124mvalue\u001b[39m\u001b[38;5;124m\"\u001b[39m] \u001b[38;5;241m=\u001b[39m \u001b[38;5;28mself\u001b[39m\u001b[38;5;241m.\u001b[39m_unwrap_value(response\u001b[38;5;241m.\u001b[39mget(\u001b[38;5;124m\"\u001b[39m\u001b[38;5;124mvalue\u001b[39m\u001b[38;5;124m\"\u001b[39m, \u001b[38;5;28;01mNone\u001b[39;00m))\n\u001b[1;32m    442\u001b[0m     \u001b[38;5;28;01mreturn\u001b[39;00m response\n",
      "File \u001b[0;32m~/anaconda3/envs/st/lib/python3.10/site-packages/selenium/webdriver/remote/errorhandler.py:245\u001b[0m, in \u001b[0;36mErrorHandler.check_response\u001b[0;34m(self, response)\u001b[0m\n\u001b[1;32m    243\u001b[0m         alert_text \u001b[38;5;241m=\u001b[39m value[\u001b[38;5;124m\"\u001b[39m\u001b[38;5;124malert\u001b[39m\u001b[38;5;124m\"\u001b[39m]\u001b[38;5;241m.\u001b[39mget(\u001b[38;5;124m\"\u001b[39m\u001b[38;5;124mtext\u001b[39m\u001b[38;5;124m\"\u001b[39m)\n\u001b[1;32m    244\u001b[0m     \u001b[38;5;28;01mraise\u001b[39;00m exception_class(message, screen, stacktrace, alert_text)  \u001b[38;5;66;03m# type: ignore[call-arg]  # mypy is not smart enough here\u001b[39;00m\n\u001b[0;32m--> 245\u001b[0m \u001b[38;5;28;01mraise\u001b[39;00m exception_class(message, screen, stacktrace)\n",
      "\u001b[0;31mStaleElementReferenceException\u001b[0m: Message: stale element reference: element is not attached to the page document\n  (Session info: chrome=112.0.5615.165)\nStacktrace:\n#0 0x55b82addac64 <unknown>\n#1 0x55b82ab42e32 <unknown>\n#2 0x55b82ab469e4 <unknown>\n#3 0x55b82ab46717 <unknown>\n#4 0x55b82ab46a64 <unknown>\n#5 0x55b82ab7f946 <unknown>\n#6 0x55b82ab73f4a <unknown>\n#7 0x55b82ab9f4d2 <unknown>\n#8 0x55b82ab73a39 <unknown>\n#9 0x55b82ab9f74e <unknown>\n#10 0x55b82abb6db0 <unknown>\n#11 0x55b82ab9f273 <unknown>\n#12 0x55b82ab71a4f <unknown>\n#13 0x55b82ab730a3 <unknown>\n#14 0x55b82ada81fb <unknown>\n#15 0x55b82adaae92 <unknown>\n#16 0x55b82adaa852 <unknown>\n#17 0x55b82adab615 <unknown>\n#18 0x55b82adb1ff7 <unknown>\n#19 0x55b82adaba00 <unknown>\n#20 0x55b82ad8978e <unknown>\n#21 0x55b82adc7017 <unknown>\n#22 0x55b82adc71e6 <unknown>\n#23 0x55b82add4dfd <unknown>\n#24 0x7fe56edb6bb5 <unknown>\n"
     ]
    }
   ],
   "source": [
    "from selenium import webdriver\n",
    "from selenium.webdriver.common.by import By\n",
    "from selenium.webdriver.support.ui import WebDriverWait\n",
    "from selenium.webdriver.support import expected_conditions as EC\n",
    "\n",
    "# Create a new Chrome webdriver instance\n",
    "driver = webdriver.Chrome()\n",
    "\n",
    "# Load the initial webpage\n",
    "driver.get(url)\n",
    "\n",
    "# Define a function to recursively find links and save them to a list\n",
    "def find_links(page_url, link_list):\n",
    "    # Load the page\n",
    "    driver.get(page_url)\n",
    "    # Wait for the \"folderfile_name\" links to be present\n",
    "    WebDriverWait(driver, 10).until(EC.presence_of_element_located((By.CLASS_NAME, \"folderfile_name\")))\n",
    "    # Find all the \"folderfile_name\" links on the page\n",
    "    time.sleep(0.5)\n",
    "    folder_links = driver.find_elements(By.CSS_SELECTOR,\".folderfile_name\")\n",
    "    # If there are no \"folderfile_name\" links on the page, return the link_list\n",
    "    if not folder_links:\n",
    "        return link_list\n",
    "    # Otherwise, click each \"folderfile_name\" link and recursively find more links\n",
    "    else:\n",
    "        for folder_link in folder_links:\n",
    "            folder_link.click()\n",
    "            sub_links = driver.find_elements(By.CSS_SELECTOR,\".folderfile_name\")\n",
    "            # If there are more \"folderfile_name\" links, recursively find them\n",
    "            if sub_links:\n",
    "                find_links(driver.current_url, link_list)\n",
    "            # Otherwise, find all links on the page and add them to the link_list\n",
    "            else:\n",
    "                page_links = driver.find_elements(By.CSS_SELECTOR,\".a\")\n",
    "                for page_link in page_links:\n",
    "                    link_list.append(page_link.get_attribute(\"href\"))\n",
    "                # Go back to the previous page and continue searching for more links\n",
    "                driver.back()\n",
    "    return link_list\n",
    "\n",
    "    # Call the find_links function with the initial page URL and an empty link_list\n",
    "link_list = []\n",
    "link_list = find_links(url, link_list)\n",
    "\n",
    "\n",
    "# Save the link_list to a text file\n",
    "with open(\"links.txt\", \"w\") as f:\n",
    "    for link in link_list:\n",
    "        f.write(link + \"\\n\")\n",
    "\n",
    "# Close the webdriver instance\n",
    "driver.quit()\n"
   ]
  },
  {
   "cell_type": "code",
   "execution_count": 13,
   "id": "44fbef4d",
   "metadata": {},
   "outputs": [
    {
     "data": {
      "text/plain": [
       "[]"
      ]
     },
     "execution_count": 13,
     "metadata": {},
     "output_type": "execute_result"
    }
   ],
   "source": [
    "all_links"
   ]
  },
  {
   "cell_type": "code",
   "execution_count": null,
   "id": "47f27b4a",
   "metadata": {},
   "outputs": [],
   "source": []
  }
 ],
 "metadata": {
  "kernelspec": {
   "display_name": "Python 3 (ipykernel)",
   "language": "python",
   "name": "python3"
  },
  "language_info": {
   "codemirror_mode": {
    "name": "ipython",
    "version": 3
   },
   "file_extension": ".py",
   "mimetype": "text/x-python",
   "name": "python",
   "nbconvert_exporter": "python",
   "pygments_lexer": "ipython3",
   "version": "3.10.8"
  }
 },
 "nbformat": 4,
 "nbformat_minor": 5
}
