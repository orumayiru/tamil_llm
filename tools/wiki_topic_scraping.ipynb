{
 "cells": [
  {
   "cell_type": "code",
   "execution_count": 4,
   "id": "acbe7c4a",
   "metadata": {},
   "outputs": [],
   "source": [
    "import scrapy\n",
    "\n",
    "class CardBodySpider(scrapy.Spider):\n",
    "    name = \"card-body-spider\"\n",
    "    url=\"https://www.hindutamil.in/news/india/1\"\n",
    "    start_urls = [url]  # replace with your desired URL\n",
    "\n",
    "    def parse(self, response):\n",
    "        for card_body in response.css(\".card-body\"):\n",
    "            yield {\"class_name\": card_body.attrib[\"class\"]}\n"
   ]
  },
  {
   "cell_type": "code",
   "execution_count": null,
   "id": "dec8d765",
   "metadata": {},
   "outputs": [],
   "source": []
  }
 ],
 "metadata": {
  "kernelspec": {
   "display_name": "Python 3 (ipykernel)",
   "language": "python",
   "name": "python3"
  },
  "language_info": {
   "codemirror_mode": {
    "name": "ipython",
    "version": 3
   },
   "file_extension": ".py",
   "mimetype": "text/x-python",
   "name": "python",
   "nbconvert_exporter": "python",
   "pygments_lexer": "ipython3",
   "version": "3.10.8"
  }
 },
 "nbformat": 4,
 "nbformat_minor": 5
}
