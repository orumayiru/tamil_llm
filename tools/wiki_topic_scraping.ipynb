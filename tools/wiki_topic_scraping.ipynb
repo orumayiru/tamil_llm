{
 "cells": [
  {
   "cell_type": "code",
   "execution_count": 11,
   "id": "4056a067",
   "metadata": {},
   "outputs": [],
   "source": [
    "from selenium import webdriver\n",
    "from selenium.webdriver.common.by import By\n",
    "from selenium.webdriver.support.ui import WebDriverWait\n",
    "from selenium.webdriver.support import expected_conditions as EC\n",
    "from selenium.common.exceptions import ElementNotInteractableException, StaleElementReferenceException,ElementClickInterceptedException\n",
    "import time"
   ]
  },
  {
   "cell_type": "code",
   "execution_count": 88,
   "id": "6231294c",
   "metadata": {},
   "outputs": [],
   "source": [
    "url = 'https://ta.wikipedia.org/wiki/%E0%AE%AA%E0%AE%95%E0%AF%81%E0%AE%AA%E0%AF%8D%E0%AE%AA%E0%AF%81:%E0%AE%A4%E0%AE%AE%E0%AE%BF%E0%AE%B4%E0%AF%8D'\n",
    "driver = webdriver.Chrome()\n",
    "# Load the webpage\n",
    "driver.get(url)\n",
    "\n",
    "def find_d(block):\n",
    "    blocks = driver.find_elements(By.CSS_SELECTOR, \".{}\".format(block))\n",
    "    return blocks\n",
    "def find(section,block):\n",
    "    blocks = eval('{}.find_elements(By.CSS_SELECTOR, \\\".{}\\\")'.format(section,block))\n",
    "    return blocks"
   ]
  },
  {
   "cell_type": "code",
   "execution_count": 99,
   "id": "6d43bd53",
   "metadata": {},
   "outputs": [
    {
     "name": "stdout",
     "output_type": "stream",
     "text": [
      "46\n"
     ]
    }
   ],
   "source": [
    "sections = find('driver','CategoryTreeSection')\n",
    "first = sections[0]\n",
    "toggles = find('first','CategoryTreeToggle')\n",
    "print(len(toggles))\n",
    "for toggle in toggles:\n",
    "    if toggle.get_attribute('data-ct-state')==\"collapsed\":\n",
    "        try:\n",
    "            time.sleep(0.1)\n",
    "            toggle.click()\n",
    "        except (ElementNotInteractableException, StaleElementReferenceException,ElementClickInterceptedException):\n",
    "            pass\n",
    "    "
   ]
  },
  {
   "cell_type": "code",
   "execution_count": 101,
   "id": "376a34dd",
   "metadata": {},
   "outputs": [
    {
     "name": "stdout",
     "output_type": "stream",
     "text": [
      "116\n",
      "120\n",
      "123\n",
      "127\n",
      "134\n",
      "141\n",
      "146\n",
      "149\n"
     ]
    }
   ],
   "source": [
    "count=0\n",
    "while count <1000:\n",
    "    toggles = find('first','CategoryTreeToggle')\n",
    "    print(len(toggles))\n",
    "    for toggle in toggles:\n",
    "        if toggle.get_attribute('data-ct-state')==\"collapsed\":\n",
    "            try:\n",
    "                toggle.click()\n",
    "            except (ElementNotInteractableException, StaleElementReferenceException,ElementClickInterceptedException):\n",
    "                pass\n",
    "        count+=1\n",
    "            "
   ]
  },
  {
   "cell_type": "code",
   "execution_count": 92,
   "id": "02d4981d",
   "metadata": {},
   "outputs": [
    {
     "ename": "SyntaxError",
     "evalue": "invalid syntax (1674125764.py, line 6)",
     "output_type": "error",
     "traceback": [
      "\u001b[0;36m  Cell \u001b[0;32mIn[92], line 6\u001b[0;36m\u001b[0m\n\u001b[0;31m    data-ct-state expanded collapsed\u001b[0m\n\u001b[0m                  ^\u001b[0m\n\u001b[0;31mSyntaxError\u001b[0m\u001b[0;31m:\u001b[0m invalid syntax\n"
     ]
    }
   ],
   "source": [
    "CategoryTreeSection\n",
    "CategoryTreeToggle \n",
    "CategoryTreeBullet\n",
    "CategoryTreeChildren\n",
    "CategoryTreeEmptyBullet\n",
    "data-ct-state expanded collapsed"
   ]
  },
  {
   "cell_type": "code",
   "execution_count": null,
   "id": "ad8f2722",
   "metadata": {},
   "outputs": [],
   "source": []
  },
  {
   "cell_type": "code",
   "execution_count": null,
   "id": "8dbb24e7",
   "metadata": {},
   "outputs": [],
   "source": []
  },
  {
   "cell_type": "code",
   "execution_count": null,
   "id": "26720335",
   "metadata": {},
   "outputs": [],
   "source": []
  }
 ],
 "metadata": {
  "kernelspec": {
   "display_name": "Python 3 (ipykernel)",
   "language": "python",
   "name": "python3"
  },
  "language_info": {
   "codemirror_mode": {
    "name": "ipython",
    "version": 3
   },
   "file_extension": ".py",
   "mimetype": "text/x-python",
   "name": "python",
   "nbconvert_exporter": "python",
   "pygments_lexer": "ipython3",
   "version": "3.10.8"
  }
 },
 "nbformat": 4,
 "nbformat_minor": 5
}
