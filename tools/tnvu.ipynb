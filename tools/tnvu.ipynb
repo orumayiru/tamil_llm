{
 "cells": [
  {
   "cell_type": "code",
   "execution_count": 1,
   "id": "852f3212",
   "metadata": {},
   "outputs": [],
   "source": []
  },
  {
   "cell_type": "code",
   "execution_count": 17,
   "id": "a5188e20",
   "metadata": {},
   "outputs": [],
   "source": [
    "import scrapy\n",
    "url_base = \"https://ta.quora.com/search?q=\"\n",
    "query = \"மு.கருணாநிதி\"\n",
    "url = url_base + query\n",
    "\n",
    "\n",
    "class MySpider(scrapy.Spider):\n",
    "    name = 'my_spider'\n",
    "    start_urls = [url]\n",
    "\n",
    "    def parse(self, response):\n",
    "        tiny_elements = response.css('.qu-pb--tiny')\n",
    "        num_tiny_elements = len(tiny_elements)\n",
    "        print(f'Number of \"qu-pb--tiny\" elements: {num_tiny_elements}')"
   ]
  },
  {
   "cell_type": "code",
   "execution_count": null,
   "id": "f2404c68",
   "metadata": {},
   "outputs": [],
   "source": [
    "puppeteer_test_question_title spacing_log_answer_content puppeteer_test_answer_content"
   ]
  },
  {
   "cell_type": "code",
   "execution_count": null,
   "id": "80ed9f52",
   "metadata": {},
   "outputs": [],
   "source": [
    " .qt_read_more  qu-pb--tiny puppeteer_test_question_title puppeteer_test_answer_content"
   ]
  }
 ],
 "metadata": {
  "kernelspec": {
   "display_name": "Python 3 (ipykernel)",
   "language": "python",
   "name": "python3"
  },
  "language_info": {
   "codemirror_mode": {
    "name": "ipython",
    "version": 3
   },
   "file_extension": ".py",
   "mimetype": "text/x-python",
   "name": "python",
   "nbconvert_exporter": "python",
   "pygments_lexer": "ipython3",
   "version": "3.10.8"
  }
 },
 "nbformat": 4,
 "nbformat_minor": 5
}
