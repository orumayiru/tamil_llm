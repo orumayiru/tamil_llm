{
 "cells": [
  {
   "cell_type": "code",
   "execution_count": 5,
   "id": "11f3d111",
   "metadata": {},
   "outputs": [],
   "source": [
    "import os\n",
    "import subprocess\n",
    "from bs4 import BeautifulSoup\n",
    "import urllib.request\n",
    "from tqdm import tqdm\n",
    "# load the webpage and create a BeautifulSoup object\n",
    "url = \"https://www.tamilvu.org/sites/default/files/library/soladaivu/First%20index.html\" # replace with the URL of the webpage you want to load\n",
    "headers = {\n",
    "    \"User-Agent\": \"Mozilla/5.0 (Windows NT 10.0; Win64; x64) AppleWebKit/537.36 (KHTML, like Gecko) Chrome/58.0.3029.110 Safari/537.3\"\n",
    "}\n",
    "\n",
    "req = urllib.request.Request(url, headers=headers)\n",
    "response = urllib.request.urlopen(req)\n",
    "html = response.read()\n",
    "soup = BeautifulSoup(html, \"html.parser\")"
   ]
  },
  {
   "cell_type": "code",
   "execution_count": null,
   "id": "f0b730d1",
   "metadata": {},
   "outputs": [
    {
     "name": "stderr",
     "output_type": "stream",
     "text": [
      "  0%|                                                                                                  | 0/53 [00:00<?, ?it/s]--2023-04-20 07:35:02--  http://xn--4kco3aaza5r6bqzd/NOTEPAD/0001-akam.txt\n",
      "Resolving xn--4kco3aaza5r6bqzd (xn--4kco3aaza5r6bqzd)... failed: Name or service not known.\n",
      "wget: unable to resolve host address ‘xn--4kco3aaza5r6bqzd’\n",
      "  2%|█▋                                                                                        | 1/53 [00:03<03:10,  3.66s/it]--2023-04-20 07:35:06--  http://xn--4kco3aaza5r6bqzd/NOTEPAD/0002-aigk.txt\n",
      "Resolving xn--4kco3aaza5r6bqzd (xn--4kco3aaza5r6bqzd)... failed: Name or service not known.\n",
      "wget: unable to resolve host address ‘xn--4kco3aaza5r6bqzd’\n",
      "  4%|███▍                                                                                      | 2/53 [00:07<03:16,  3.86s/it]--2023-04-20 07:35:10--  http://xn--4kco3aaza5r6bqzd/NOTEPAD/0003-kuruntokai.txt\n",
      "Resolving xn--4kco3aaza5r6bqzd (xn--4kco3aaza5r6bqzd)... failed: Name or service not known.\n",
      "wget: unable to resolve host address ‘xn--4kco3aaza5r6bqzd’\n",
      "  6%|█████                                                                                     | 3/53 [00:11<03:16,  3.92s/it]--2023-04-20 07:35:14--  http://xn--4kco3aaza5r6bqzd/NOTEPAD/0004-narrinai.txt\n",
      "Resolving xn--4kco3aaza5r6bqzd (xn--4kco3aaza5r6bqzd)... failed: Name or service not known.\n",
      "wget: unable to resolve host address ‘xn--4kco3aaza5r6bqzd’\n",
      "  8%|██████▊                                                                                   | 4/53 [00:15<03:13,  3.95s/it]--2023-04-20 07:35:18--  http://xn--4kco3aaza5r6bqzd/NOTEPAD/0005-kalittokai.txt\n",
      "Resolving xn--4kco3aaza5r6bqzd (xn--4kco3aaza5r6bqzd)... failed: Name or service not known.\n",
      "wget: unable to resolve host address ‘xn--4kco3aaza5r6bqzd’\n",
      "  9%|████████▍                                                                                 | 5/53 [00:19<03:10,  3.97s/it]--2023-04-20 07:35:22--  http://xn--4kco3aaza5r6bqzd/NOTEPAD/0006-puram.txt\n",
      "Resolving xn--4kco3aaza5r6bqzd (xn--4kco3aaza5r6bqzd)... failed: Name or service not known.\n",
      "wget: unable to resolve host address ‘xn--4kco3aaza5r6bqzd’\n",
      " 11%|██████████▏                                                                               | 6/53 [00:23<03:03,  3.90s/it]--2023-04-20 07:35:26--  http://xn--4kco3aaza5r6bqzd/NOTEPAD/0007-patirruppattu.txt\n",
      "Resolving xn--4kco3aaza5r6bqzd (xn--4kco3aaza5r6bqzd)... failed: Name or service not known.\n",
      "wget: unable to resolve host address ‘xn--4kco3aaza5r6bqzd’\n",
      " 13%|███████████▉                                                                              | 7/53 [00:27<03:00,  3.93s/it]--2023-04-20 07:35:30--  http://xn--4kco3aaza5r6bqzd/NOTEPAD/0008-pari.txt\n",
      "Resolving xn--4kco3aaza5r6bqzd (xn--4kco3aaza5r6bqzd)... failed: Name or service not known.\n",
      "wget: unable to resolve host address ‘xn--4kco3aaza5r6bqzd’\n",
      " 15%|█████████████▌                                                                            | 8/53 [00:31<02:57,  3.95s/it]--2023-04-20 07:35:34--  http://xn--mlcana2aca4nyaf8jdd/NOTEPAD/0001-%20thirumuruga.txt\n",
      "Resolving xn--mlcana2aca4nyaf8jdd (xn--mlcana2aca4nyaf8jdd)... failed: Name or service not known.\n",
      "wget: unable to resolve host address ‘xn--mlcana2aca4nyaf8jdd’\n",
      " 17%|███████████████▎                                                                          | 9/53 [00:35<02:51,  3.89s/it]--2023-04-20 07:35:37--  http://xn--mlcana2aca4nyaf8jdd/NOTEPAD/0002%20-%20porunar.txt\n",
      "Resolving xn--mlcana2aca4nyaf8jdd (xn--mlcana2aca4nyaf8jdd)... failed: Name or service not known.\n",
      "wget: unable to resolve host address ‘xn--mlcana2aca4nyaf8jdd’\n",
      " 19%|████████████████▊                                                                        | 10/53 [00:38<02:45,  3.85s/it]--2023-04-20 07:35:41--  http://xn--mlcana2aca4nyaf8jdd/NOTEPAD/0003%20-%20cirupan.txt\n",
      "Resolving xn--mlcana2aca4nyaf8jdd (xn--mlcana2aca4nyaf8jdd)... failed: Name or service not known.\n",
      "wget: unable to resolve host address ‘xn--mlcana2aca4nyaf8jdd’\n",
      " 21%|██████████████████▍                                                                      | 11/53 [00:42<02:39,  3.79s/it]--2023-04-20 07:35:45--  http://xn--mlcana2aca4nyaf8jdd/NOTEPAD/0004%20-%20perumpan.txt\n",
      "Resolving xn--mlcana2aca4nyaf8jdd (xn--mlcana2aca4nyaf8jdd)... failed: Name or service not known.\n",
      "wget: unable to resolve host address ‘xn--mlcana2aca4nyaf8jdd’\n",
      " 23%|████████████████████▏                                                                    | 12/53 [00:46<02:32,  3.73s/it]--2023-04-20 07:35:48--  http://xn--mlcana2aca4nyaf8jdd/NOTEPAD/0005%20-%20mullaippattu.txt\n",
      "Resolving xn--mlcana2aca4nyaf8jdd (xn--mlcana2aca4nyaf8jdd)... "
     ]
    }
   ],
   "source": [
    "# find all links on the page\n",
    "links = soup.find_all(\"a\")\n",
    "\n",
    "# find all links on the page that point to text files\n",
    "links = soup.find_all(\"a\", href=lambda href: href.endswith(\".txt\"))\n",
    "\n",
    "# loop over the links and download the files using wget\n",
    "for link in tqdm(links):\n",
    "    url = link.get(\"href\")\n",
    "    if url:\n",
    "        subprocess.call([\"wget\", url])\n"
   ]
  },
  {
   "cell_type": "code",
   "execution_count": null,
   "id": "439cc9bb",
   "metadata": {},
   "outputs": [],
   "source": []
  }
 ],
 "metadata": {
  "kernelspec": {
   "display_name": "Python 3 (ipykernel)",
   "language": "python",
   "name": "python3"
  },
  "language_info": {
   "codemirror_mode": {
    "name": "ipython",
    "version": 3
   },
   "file_extension": ".py",
   "mimetype": "text/x-python",
   "name": "python",
   "nbconvert_exporter": "python",
   "pygments_lexer": "ipython3",
   "version": "3.10.8"
  }
 },
 "nbformat": 4,
 "nbformat_minor": 5
}
